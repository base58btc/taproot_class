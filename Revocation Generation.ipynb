{
 "cells": [
  {
   "cell_type": "markdown",
   "id": "dfc19aa6-bf21-462f-b10e-5b682821789c",
   "metadata": {},
   "source": [
    "Let's implement the per-commitment secret generator!\n",
    "\n",
    "```python\n",
    "generate_from_seed(seed, I):\n",
    "    P = seed\n",
    "    for B in 47 down to 0:\n",
    "        if B set in I:\n",
    "            flip(B) in P\n",
    "            P = SHA256(P)\n",
    "    return P\n",
    "```"
   ]
  },
  {
   "cell_type": "code",
   "execution_count": 48,
   "id": "c961c461-f930-4cf1-9ad3-5a6bb577c050",
   "metadata": {},
   "outputs": [],
   "source": [
    "def flip(bites, bit):\n",
    "    blist = list(bites)\n",
    "    flip_which_byte = bit // 8\n",
    "    flip_which_bit = bit % 8\n",
    "    blist[flip_which_byte] ^= 1 << flip_which_bit\n",
    "    return bytes(blist)\n",
    "    \n",
    "def to_b(hex):\n",
    "    return bytes.fromhex(hex)"
   ]
  },
  {
   "cell_type": "code",
   "execution_count": 103,
   "id": "148fec61-206c-423d-8a4e-cb453b619b43",
   "metadata": {},
   "outputs": [
    {
     "name": "stdout",
     "output_type": "stream",
     "text": [
      "72cd6e8422c407fb6d098690f1130b7ded7ec2f7f5e1d30bd9d521f015363793\n"
     ]
    }
   ],
   "source": [
    "from hashlib import sha256\n",
    "\n",
    "\n",
    "def generate_from_seed(seed_bytes, commit_idx):\n",
    "    P_bytes = seed_bytes\n",
    "    assert commit_idx < 2 ** 48 and commit_idx > 0\n",
    "    for bit in range(47, -1, -1):\n",
    "        if (commit_idx >> bit) % 2 == 1:\n",
    "            flip(P_bytes, bit)\n",
    "            P_bytes = sha256(P_bytes).digest()\n",
    "            \n",
    "    return P_bytes\n",
    "\n",
    "secret = generate_from_seed(bytes.fromhex('0101010101010101010101010101010101010101010101010101010101010101'), 2)\n",
    "print(secret.hex())"
   ]
  },
  {
   "cell_type": "markdown",
   "id": "cd430633-ba23-4487-a534-7911bfeb3d63",
   "metadata": {},
   "source": [
    "TODO: make these tests pass\n",
    "\n",
    "name: generate_from_seed 0 final node\n",
    "seed: 0x0000000000000000000000000000000000000000000000000000000000000000\n",
    "I: 281474976710655\n",
    "output: 0x02a40c85b6f28da08dfdbe0926c53fab2de6d28c10301f8f7c4073d5e42e3148\n",
    "\n",
    "name: generate_from_seed FF final node\n",
    "seed: 0xFFFFFFFFFFFFFFFFFFFFFFFFFFFFFFFFFFFFFFFFFFFFFFFFFFFFFFFFFFFFFFFF\n",
    "I: 281474976710655\n",
    "output: 0x7cc854b54e3e0dcdb010d7a3fee464a9687be6e8db3be6854c475621e007a5dc\n",
    "\n",
    "name: generate_from_seed FF alternate bits 1\n",
    "seed: 0xFFFFFFFFFFFFFFFFFFFFFFFFFFFFFFFFFFFFFFFFFFFFFFFFFFFFFFFFFFFFFFFF\n",
    "I: 0xaaaaaaaaaaa\n",
    "output: 0x56f4008fb007ca9acf0e15b054d5c9fd12ee06cea347914ddbaed70d1c13a528\n",
    "\n",
    "name: generate_from_seed FF alternate bits 2\n",
    "seed: 0xFFFFFFFFFFFFFFFFFFFFFFFFFFFFFFFFFFFFFFFFFFFFFFFFFFFFFFFFFFFFFFFF\n",
    "I: 0x555555555555\n",
    "output: 0x9015daaeb06dba4ccc05b91b2f73bd54405f2be9f217fbacd3c5ac2e62327d31\n",
    "\n",
    "name: generate_from_seed 01 last nontrivial node\n",
    "seed: 0x0101010101010101010101010101010101010101010101010101010101010101\n",
    "I: 1\n",
    "output: 0x915c75942a26bb3a433a8ce2cb0427c29ec6c1775cfc78328b57f6ba7bfeaa9c"
   ]
  },
  {
   "cell_type": "markdown",
   "id": "ab94456f-27ca-480d-960c-66d9178715eb",
   "metadata": {},
   "source": [
    "## Writing the Commitment Index to the Transaction\n",
    "\n",
    "Step 1: what's your commitment index?\n",
    "    A: 32\n",
    "    "
   ]
  },
  {
   "cell_type": "code",
   "execution_count": 83,
   "id": "4e89f379-e480-48f1-9aaf-5dae7d1d706b",
   "metadata": {},
   "outputs": [],
   "source": [
    "# Step 2: what's your payment_basepoint?\n",
    "# A: 666 -> 037f75c66c45a52c35ead5970bbfaafdfba626a6ddceabc14e0f8a8c7d88a5772b\n",
    "import coincurve\n",
    "\n",
    "my_payment_basepoint = coincurve.PrivateKey.from_int(666).public_key\n",
    "my_payment_basepoint.format().hex()\n",
    "my_payment_basepoint = bytes.fromhex('034f355bdcb7cc0af728ef3cceb9615d90684bb5b2ca5f859ab0f0b704075871aa')"
   ]
  },
  {
   "cell_type": "code",
   "execution_count": 85,
   "id": "96b9a013-7ba8-4f76-a714-9340ad04de2f",
   "metadata": {},
   "outputs": [],
   "source": [
    "# Step 3: what's peer's payment_basepoint\n",
    "# A: 777 -> 03e1fe434d345bf33083abb6280f4f44ac5fb22934977813c20c015f2b43d3fab8\n",
    "\n",
    "peer_payment_basepoint = coincurve.PrivateKey.from_int(777).public_key\n",
    "peer_payment_basepoint.format().hex()\n",
    "peer_payment_basepoint = bytes.fromhex('032c0b7cf95324a07d05398b240174dc0c2be444d96b159aa6c7f7b1e668680991')"
   ]
  },
  {
   "cell_type": "code",
   "execution_count": 87,
   "id": "43141cbf-fd5b-4609-891e-21f5c62eab89",
   "metadata": {},
   "outputs": [
    {
     "data": {
      "text/plain": [
       "'c8bfea84214b45899482a4bad1d85c42130743ed78ba3711f5532bb038521914'"
      ]
     },
     "execution_count": 87,
     "metadata": {},
     "output_type": "execute_result"
    }
   ],
   "source": [
    "obscuring_data = sha256(my_payment_basepoint + peer_payment_basepoint).digest()\n",
    "obscuring_data.hex()"
   ]
  },
  {
   "cell_type": "code",
   "execution_count": 88,
   "id": "ce5306c4-cee3-42dc-b3f7-d974cdfe85b7",
   "metadata": {},
   "outputs": [
    {
     "data": {
      "text/plain": [
       "'00000000002a'"
      ]
     },
     "execution_count": 88,
     "metadata": {},
     "output_type": "execute_result"
    }
   ],
   "source": [
    "commitment_index = (42).to_bytes(48 // 8, 'big')\n",
    "commitment_index.hex()"
   ]
  },
  {
   "cell_type": "code",
   "execution_count": 90,
   "id": "f3ac922f-7fab-4036-9322-bbe4c34efb67",
   "metadata": {},
   "outputs": [
    {
     "name": "stdout",
     "output_type": "stream",
     "text": [
      "00000000002a 2bb038521914 2bb03852193e\n"
     ]
    }
   ],
   "source": [
    "obscure_commit_idx = bytes([ x ^ y for x, y in zip(list(obscuring_data[-6:]), list(commitment_index))])\n",
    "\n",
    "print(commitment_index.hex(), obscuring_data[-6:].hex(), obscure_commit_idx.hex())"
   ]
  },
  {
   "cell_type": "code",
   "execution_count": 91,
   "id": "6f517482-e593-4f9c-b2ab-e3b2bce3a163",
   "metadata": {},
   "outputs": [],
   "source": [
    "locktime = bytes([0x20]) + obscure_commit_idx[3:]\n",
    "sequence = bytes([0x80]) + obscure_commit_idx[:3]"
   ]
  },
  {
   "cell_type": "code",
   "execution_count": 92,
   "id": "95517dc8-8a2e-4192-b9af-4898fd1a2a33",
   "metadata": {},
   "outputs": [
    {
     "name": "stdout",
     "output_type": "stream",
     "text": [
      "802bb038\n",
      "2052193e\n"
     ]
    }
   ],
   "source": [
    "print(sequence.hex())\n",
    "print(locktime.hex())"
   ]
  },
  {
   "cell_type": "code",
   "execution_count": null,
   "id": "5bdc56e6-7945-4c2f-a086-30c2f0330f7f",
   "metadata": {},
   "outputs": [],
   "source": []
  }
 ],
 "metadata": {
  "kernelspec": {
   "display_name": "Python 3 (ipykernel)",
   "language": "python",
   "name": "python3"
  },
  "language_info": {
   "codemirror_mode": {
    "name": "ipython",
    "version": 3
   },
   "file_extension": ".py",
   "mimetype": "text/x-python",
   "name": "python",
   "nbconvert_exporter": "python",
   "pygments_lexer": "ipython3",
   "version": "3.11.5"
  }
 },
 "nbformat": 4,
 "nbformat_minor": 5
}
