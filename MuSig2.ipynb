{
 "cells": [
  {
   "cell_type": "markdown",
   "id": "c5a46884",
   "metadata": {},
   "source": [
    "# Taproot: MuSig2 + Tapscript Spends"
   ]
  },
  {
   "cell_type": "markdown",
   "id": "d690f60b",
   "metadata": {},
   "source": [
    "In this module we'll be making a series of MuSig2 scripts.\n",
    "\n",
    "We'll then build a MAST of the scripts, and lock up some bitcoin to them. \n",
    "Finally we'll practice unlocking the script using a tapscript spend."
   ]
  },
  {
   "cell_type": "markdown",
   "id": "b2ad266e",
   "metadata": {},
   "source": [
    "## Picking our private keys"
   ]
  },
  {
   "cell_type": "markdown",
   "id": "ce9c0773",
   "metadata": {},
   "source": [
    "We'll need three private keys. Pick three keys (integers) that are greater than 1 and less than `n`,\n",
    "\n",
    "`n = 115792089237316195423570985008687907852837564279074904382605163141518161494337`"
   ]
  },
  {
   "cell_type": "code",
   "execution_count": 1,
   "id": "49400cbc",
   "metadata": {},
   "outputs": [],
   "source": [
    "privkeys = [444, 555, 666]"
   ]
  },
  {
   "cell_type": "code",
   "execution_count": 2,
   "id": "7f5d8799",
   "metadata": {},
   "outputs": [],
   "source": [
    "from coincurve import PrivateKey\n",
    "\n",
    "pubkeys = [ PrivateKey.from_int(x).public_key for x in privkeys ]"
   ]
  },
  {
   "cell_type": "code",
   "execution_count": 3,
   "id": "0ec2d9cd",
   "metadata": {},
   "outputs": [
    {
     "data": {
      "text/plain": [
       "['039e6d1d11b101055620cbf7a8bfda75ac1fac813a96608f9c59eac485c16b9f1f',\n",
       " '03d811d8c4323b43702607c25ade936c0ac2e4a44b2ba51f8320c5179e745a7e29',\n",
       " '037f75c66c45a52c35ead5970bbfaafdfba626a6ddceabc14e0f8a8c7d88a5772b']"
      ]
     },
     "execution_count": 3,
     "metadata": {},
     "output_type": "execute_result"
    }
   ],
   "source": [
    "[ x.format().hex() for x in pubkeys ]"
   ]
  },
  {
   "cell_type": "markdown",
   "id": "f031142e",
   "metadata": {},
   "source": [
    "One thing to know about MuSig2 is that it is NOT a threshold signature scheme.\n",
    "\n",
    "```\n",
    "N of N\n",
    "\n",
    "2 of 2 || 3 of 3\n",
    "\n",
    "2 of 3 with MuSig2  -> BitGo\n",
    "\n",
    "Keys: 444, 555, 666\n",
    "\n",
    "\"Aggregate key\". \n",
    "    444 + 555 -> 999\n",
    "\n",
    "Three scripts to spend:\n",
    "444 + 555:     <pubkey999> OP_CHECKSIG\n",
    "444 + 666:     <pubkey1110> OP_CHECKSIG\n",
    "555 + 666:     <pubkey1221> OP_CHECKSIG\n",
    "```"
   ]
  },
  {
   "cell_type": "code",
   "execution_count": 4,
   "id": "048f651d",
   "metadata": {},
   "outputs": [
    {
     "data": {
      "text/plain": [
       "'92a5bec4caef9f87d22dcbcd61b372a3cb84c42192d1314cb327a02fe1a77d64'"
      ]
     },
     "execution_count": 4,
     "metadata": {},
     "output_type": "execute_result"
    }
   ],
   "source": [
    "from bip327 import individual_pk, get_xonly_pk, key_agg_and_tweak\n",
    "\n",
    "pk444 = individual_pk((444).to_bytes(32, 'big'))\n",
    "pk555 = individual_pk((555).to_bytes(32, 'big'))\n",
    "pk666 = individual_pk((666).to_bytes(32, 'big'))\n",
    "\n",
    "pubkey999 = get_xonly_pk(key_agg_and_tweak([pk444, pk555], [], []))\n",
    "pubkey999.hex()"
   ]
  },
  {
   "cell_type": "code",
   "execution_count": 5,
   "id": "471c872d",
   "metadata": {},
   "outputs": [
    {
     "data": {
      "text/plain": [
       "'2092a5bec4caef9f87d22dcbcd61b372a3cb84c42192d1314cb327a02fe1a77d64ac'"
      ]
     },
     "execution_count": 5,
     "metadata": {},
     "output_type": "execute_result"
    }
   ],
   "source": [
    "leaf_999 = '20' + pubkey999.hex() + 'ac'\n",
    "leaf_999"
   ]
  },
  {
   "cell_type": "code",
   "execution_count": 6,
   "id": "8b94aed8",
   "metadata": {},
   "outputs": [
    {
     "name": "stdout",
     "output_type": "stream",
     "text": [
      "{\r\n",
      "  \"asm\": \"92a5bec4caef9f87d22dcbcd61b372a3cb84c42192d1314cb327a02fe1a77d64 OP_CHECKSIG\",\r\n",
      "  \"desc\": \"raw(2092a5bec4caef9f87d22dcbcd61b372a3cb84c42192d1314cb327a02fe1a77d64ac)#mas5yvjn\",\r\n",
      "  \"type\": \"nonstandard\",\r\n",
      "  \"p2sh\": \"2Mx526JTk4AtyTQDTrtdd6nsL1SGndRwwdM\",\r\n",
      "  \"segwit\": {\r\n",
      "    \"asm\": \"0 650b8cba98baafa172f4e3b10995e82eb5cfbc3376fcbd8d0f859beb53d5f63b\",\r\n",
      "    \"desc\": \"addr(bcrt1qv59cew5ch2h6zuh5uwcsn90g966ul0pnwm7tmrg0skd7k5747casvpt6ca)#6f7gpf9c\",\r\n",
      "    \"hex\": \"0020650b8cba98baafa172f4e3b10995e82eb5cfbc3376fcbd8d0f859beb53d5f63b\",\r\n",
      "    \"address\": \"bcrt1qv59cew5ch2h6zuh5uwcsn90g966ul0pnwm7tmrg0skd7k5747casvpt6ca\",\r\n",
      "    \"type\": \"witness_v0_scripthash\",\r\n",
      "    \"p2sh-segwit\": \"2N8KMAwwwAvBBDKhm7PLMu21aS8R8yCGBM1\"\r\n",
      "  }\r\n",
      "}\r\n"
     ]
    }
   ],
   "source": [
    "!bitcoin-cli -regtest decodescript \"$leaf_999\""
   ]
  },
  {
   "cell_type": "code",
   "execution_count": 7,
   "id": "6659e54f",
   "metadata": {},
   "outputs": [],
   "source": [
    "pubkey1110 = get_xonly_pk(key_agg_and_tweak([pk444, pk666], [], []))\n",
    "leaf_1110 = '20' + pubkey1110.hex() + 'ac'"
   ]
  },
  {
   "cell_type": "code",
   "execution_count": 8,
   "id": "e2b6e272",
   "metadata": {},
   "outputs": [],
   "source": [
    "pubkey1221 = get_xonly_pk(key_agg_and_tweak([pk555, pk666], [], []))\n",
    "leaf_1221 = '20' + pubkey1221.hex() + 'ac'"
   ]
  },
  {
   "cell_type": "code",
   "execution_count": 9,
   "id": "9cb15784",
   "metadata": {},
   "outputs": [],
   "source": [
    "tree = [ [ leaf_999, leaf_1110 ], leaf_1221 ]"
   ]
  },
  {
   "cell_type": "code",
   "execution_count": 10,
   "id": "4e4b893e",
   "metadata": {},
   "outputs": [],
   "source": [
    "from codes import size_compact_size\n",
    "from hashlib import sha256\n",
    "\n",
    "def tag_hash(tag, data_bytes):\n",
    "    taghash = sha256(tag).digest()\n",
    "    return sha256(taghash + taghash + data_bytes).digest()\n",
    "\n",
    "def make_leaf(script_bytes):\n",
    "    leaf_version = 0xc0\n",
    "    # leaf version + len script + script\n",
    "    data = bytes([leaf_version]) + size_compact_size(len(script_bytes)) + script_bytes\n",
    "    return tag_hash(b'TapLeaf', data)\n",
    "\n",
    "def taptree_builder(tree):\n",
    "    if isinstance(tree, str):\n",
    "        script_bytes = bytes.fromhex(tree)\n",
    "        leaf_hash = make_leaf(script_bytes)\n",
    "        print(\"leaf:\", leaf_hash.hex())\n",
    "        return leaf_hash\n",
    "    \n",
    "    # calculate the branch hash. \n",
    "    assert len(tree) == 2\n",
    "    left = taptree_builder(tree[0])\n",
    "    right = taptree_builder(tree[1])\n",
    "    \n",
    "    # we have to order the left + right \"alphabetically\"\n",
    "    # thank you arik :)\n",
    "    if left > right:\n",
    "        right, left = left, right\n",
    "    \n",
    "    branch_hash = tag_hash(b'TapBranch', left + right)\n",
    "    print(\"branch:\", branch_hash.hex())\n",
    "    return branch_hash"
   ]
  },
  {
   "cell_type": "code",
   "execution_count": 11,
   "id": "4a0456d3",
   "metadata": {},
   "outputs": [
    {
     "name": "stdout",
     "output_type": "stream",
     "text": [
      "leaf: 91def8beb088933ea25ddb1ba3dcd3460d6bc44192bf9eef3582f56e8bde72b4\n",
      "leaf: 4c37fa27ed43a8887485ad6df68ffa83dc7e6425ba1ff6f679ec2a8631adec1e\n",
      "branch: 7de9f7a96c98b4e30a2678d59f139a0ab39f17df4d69cb17db055282e444e3eb\n",
      "leaf: 2225fa3caf3e513ecf704ffadaf4836f87e48770370df229fc260b1e715f0a3d\n",
      "branch: c01e60f54cf8e47bf0ecbb6fceac7bdb7de13576fe364f0242ea2aa85b35dbf6\n"
     ]
    },
    {
     "data": {
      "text/plain": [
       "'c01e60f54cf8e47bf0ecbb6fceac7bdb7de13576fe364f0242ea2aa85b35dbf6'"
      ]
     },
     "execution_count": 11,
     "metadata": {},
     "output_type": "execute_result"
    }
   ],
   "source": [
    "root = taptree_builder(tree)\n",
    "root.hex()"
   ]
  },
  {
   "cell_type": "code",
   "execution_count": 12,
   "id": "522d1903",
   "metadata": {},
   "outputs": [
    {
     "name": "stdout",
     "output_type": "stream",
     "text": [
      "lifting y\n"
     ]
    },
    {
     "data": {
      "text/plain": [
       "'0250929b74c1a04954b78b4b6035e97a5e078a5a0f28ec96d547bfee9ace803ac0'"
      ]
     },
     "execution_count": 12,
     "metadata": {},
     "output_type": "execute_result"
    }
   ],
   "source": [
    "from codes import nums_point\n",
    "\n",
    "internal_pubkey = nums_point()\n",
    "internal_pubkey.format().hex()"
   ]
  },
  {
   "cell_type": "code",
   "execution_count": 13,
   "id": "bfc1ce52",
   "metadata": {},
   "outputs": [
    {
     "name": "stdout",
     "output_type": "stream",
     "text": [
      "lifting y\n"
     ]
    },
    {
     "data": {
      "text/plain": [
       "'02a14e12a29723b933e9d55a9493a7599a00a8a4f3af2cb84095e49e1d5d121689'"
      ]
     },
     "execution_count": 13,
     "metadata": {},
     "output_type": "execute_result"
    }
   ],
   "source": [
    "from codes import make_tweak_pubkey, make_external_pubkey\n",
    "pubkey_bytes = internal_pubkey.point()[0].to_bytes(32, 'big')\n",
    "tweak_pubkey = make_tweak_pubkey(pubkey_bytes, root)\n",
    "Q = make_external_pubkey(pubkey_bytes, tweak_pubkey)\n",
    "\n",
    "Q.format().hex()"
   ]
  },
  {
   "cell_type": "code",
   "execution_count": 14,
   "id": "552806b0",
   "metadata": {},
   "outputs": [],
   "source": [
    "def make_p2tr(Q):\n",
    "    Qx_bytes = Q.point()[0].to_bytes(32, 'big')\n",
    "    witness_version = 0x51\n",
    "    return bytes([witness_version]) + size_compact_size(len(Qx_bytes)) + Qx_bytes"
   ]
  },
  {
   "cell_type": "code",
   "execution_count": 15,
   "id": "ca475ec8",
   "metadata": {},
   "outputs": [
    {
     "data": {
      "text/plain": [
       "'5120a14e12a29723b933e9d55a9493a7599a00a8a4f3af2cb84095e49e1d5d121689'"
      ]
     },
     "execution_count": 15,
     "metadata": {},
     "output_type": "execute_result"
    }
   ],
   "source": [
    "scriptpubkey = make_p2tr(Q).hex()\n",
    "scriptpubkey"
   ]
  },
  {
   "cell_type": "code",
   "execution_count": 16,
   "id": "c3edee0a",
   "metadata": {},
   "outputs": [
    {
     "data": {
      "text/plain": [
       "'bcrt1p598p9g5hywun86w4t22f8f6engq23f8n4uktssy4uj0p6hgjz6ys0nghzr'"
      ]
     },
     "execution_count": 16,
     "metadata": {},
     "output_type": "execute_result"
    }
   ],
   "source": [
    "send_to_addr = !bitcoin-cli -regtest decodescript \"$scriptpubkey\" | jq -r .address\n",
    "send_to_addr = send_to_addr[0]\n",
    "send_to_addr"
   ]
  },
  {
   "cell_type": "code",
   "execution_count": 17,
   "id": "e028a845",
   "metadata": {},
   "outputs": [],
   "source": [
    "txid_to_spend = !bitcoin-cli -regtest sendtoaddress \"$send_to_addr\" 1.0\n",
    "txid_to_spend = txid_to_spend[0]"
   ]
  },
  {
   "cell_type": "code",
   "execution_count": 18,
   "id": "8e4e66fa",
   "metadata": {},
   "outputs": [
    {
     "data": {
      "text/plain": [
       "'75ff5fc7edd053a3ce24b4270d9716b122a861f111bc1bd944585d8764c98706'"
      ]
     },
     "execution_count": 18,
     "metadata": {},
     "output_type": "execute_result"
    }
   ],
   "source": [
    "txid_to_spend"
   ]
  },
  {
   "cell_type": "code",
   "execution_count": 19,
   "id": "82e33750",
   "metadata": {},
   "outputs": [
    {
     "name": "stdout",
     "output_type": "stream",
     "text": [
      "\u001b[1;39m[\r\n",
      "  \u001b[1;39m{\r\n",
      "    \u001b[0m\u001b[34;1m\"value\"\u001b[0m\u001b[1;39m: \u001b[0m\u001b[0;39m1\u001b[0m\u001b[1;39m,\r\n",
      "    \u001b[0m\u001b[34;1m\"n\"\u001b[0m\u001b[1;39m: \u001b[0m\u001b[0;39m0\u001b[0m\u001b[1;39m,\r\n",
      "    \u001b[0m\u001b[34;1m\"scriptPubKey\"\u001b[0m\u001b[1;39m: \u001b[0m\u001b[1;39m{\r\n",
      "      \u001b[0m\u001b[34;1m\"asm\"\u001b[0m\u001b[1;39m: \u001b[0m\u001b[0;32m\"1 a14e12a29723b933e9d55a9493a7599a00a8a4f3af2cb84095e49e1d5d121689\"\u001b[0m\u001b[1;39m,\r\n",
      "      \u001b[0m\u001b[34;1m\"desc\"\u001b[0m\u001b[1;39m: \u001b[0m\u001b[0;32m\"addr(bcrt1p598p9g5hywun86w4t22f8f6engq23f8n4uktssy4uj0p6hgjz6ys0nghzr)#fq4fatm9\"\u001b[0m\u001b[1;39m,\r\n",
      "      \u001b[0m\u001b[34;1m\"hex\"\u001b[0m\u001b[1;39m: \u001b[0m\u001b[0;32m\"5120a14e12a29723b933e9d55a9493a7599a00a8a4f3af2cb84095e49e1d5d121689\"\u001b[0m\u001b[1;39m,\r\n",
      "      \u001b[0m\u001b[34;1m\"address\"\u001b[0m\u001b[1;39m: \u001b[0m\u001b[0;32m\"bcrt1p598p9g5hywun86w4t22f8f6engq23f8n4uktssy4uj0p6hgjz6ys0nghzr\"\u001b[0m\u001b[1;39m,\r\n",
      "      \u001b[0m\u001b[34;1m\"type\"\u001b[0m\u001b[1;39m: \u001b[0m\u001b[0;32m\"witness_v1_taproot\"\u001b[0m\u001b[1;39m\r\n",
      "    \u001b[1;39m}\u001b[0m\u001b[1;39m\r\n",
      "  \u001b[1;39m}\u001b[0m\u001b[1;39m,\r\n",
      "  \u001b[1;39m{\r\n",
      "    \u001b[0m\u001b[34;1m\"value\"\u001b[0m\u001b[1;39m: \u001b[0m\u001b[0;39m10.49999681\u001b[0m\u001b[1;39m,\r\n",
      "    \u001b[0m\u001b[34;1m\"n\"\u001b[0m\u001b[1;39m: \u001b[0m\u001b[0;39m1\u001b[0m\u001b[1;39m,\r\n",
      "    \u001b[0m\u001b[34;1m\"scriptPubKey\"\u001b[0m\u001b[1;39m: \u001b[0m\u001b[1;39m{\r\n",
      "      \u001b[0m\u001b[34;1m\"asm\"\u001b[0m\u001b[1;39m: \u001b[0m\u001b[0;32m\"1 70d43eff65ba268ce7895fe22f22a411b37975dac16eaa9410981ec0804783d6\"\u001b[0m\u001b[1;39m,\r\n",
      "      \u001b[0m\u001b[34;1m\"desc\"\u001b[0m\u001b[1;39m: \u001b[0m\u001b[0;32m\"addr(bcrt1pwr2ralm9hgngeeuftl3z7g4yzxehjaw6c9h249qsnq0vpqz8s0tqmdx64q)#t5mwcaam\"\u001b[0m\u001b[1;39m,\r\n",
      "      \u001b[0m\u001b[34;1m\"hex\"\u001b[0m\u001b[1;39m: \u001b[0m\u001b[0;32m\"512070d43eff65ba268ce7895fe22f22a411b37975dac16eaa9410981ec0804783d6\"\u001b[0m\u001b[1;39m,\r\n",
      "      \u001b[0m\u001b[34;1m\"address\"\u001b[0m\u001b[1;39m: \u001b[0m\u001b[0;32m\"bcrt1pwr2ralm9hgngeeuftl3z7g4yzxehjaw6c9h249qsnq0vpqz8s0tqmdx64q\"\u001b[0m\u001b[1;39m,\r\n",
      "      \u001b[0m\u001b[34;1m\"type\"\u001b[0m\u001b[1;39m: \u001b[0m\u001b[0;32m\"witness_v1_taproot\"\u001b[0m\u001b[1;39m\r\n",
      "    \u001b[1;39m}\u001b[0m\u001b[1;39m\r\n",
      "  \u001b[1;39m}\u001b[0m\u001b[1;39m\r\n",
      "\u001b[1;39m]\u001b[0m\r\n"
     ]
    }
   ],
   "source": [
    "!bitcoin-cli -regtest getrawtransaction \"$txid_to_spend\" true | jq .vout"
   ]
  },
  {
   "cell_type": "code",
   "execution_count": 20,
   "id": "65016d44",
   "metadata": {},
   "outputs": [],
   "source": [
    "vout = 0\n",
    "\n",
    "unlock_tx_stuffs = f\"\"\"\n",
    "version: 0200 0000\n",
    "inputs: 01\n",
    "    txid: {bytes.fromhex(txid_to_spend)[::-1].hex()}\n",
    "    vout: {vout.to_bytes(4, 'little').hex()}\n",
    "    scriptSig: 00\n",
    "    sequence: ffff ffff\n",
    "outputs: 01\n",
    "    amount: {(1 * 10 ** 8 - 400).to_bytes(8, 'little').hex()}\n",
    "    spk: 22 {scriptpubkey}\n",
    "locktime: 0000 0000\n",
    "\"\"\""
   ]
  },
  {
   "cell_type": "code",
   "execution_count": 21,
   "id": "a0b4f7d6",
   "metadata": {},
   "outputs": [],
   "source": [
    "import re\n",
    "def cleanup_tx(hmn_read_tx):\n",
    "    \"\"\" Given a block of text, strip out everything except \n",
    "        the hex strings\n",
    "    \"\"\"\n",
    "    ret_val = []\n",
    "    lines = hmn_read_tx.split('\\n')\n",
    "    for line in lines:\n",
    "        substr = line.split(':')[-1]  # suggested-by @chrisguida + @macaki\n",
    "        ret_val += re.findall(r'[0-9a-fA-F]{2}', substr)\n",
    "    return ''.join(ret_val)"
   ]
  },
  {
   "cell_type": "code",
   "execution_count": 22,
   "id": "a182a8d3",
   "metadata": {},
   "outputs": [
    {
     "data": {
      "text/plain": [
       "'02000000010687c964875d5844d91bbc11f161a822b116970d27b424cea353d0edc75fff750000000000ffffffff0170dff50500000000225120a14e12a29723b933e9d55a9493a7599a00a8a4f3af2cb84095e49e1d5d12168900000000'"
      ]
     },
     "execution_count": 22,
     "metadata": {},
     "output_type": "execute_result"
    }
   ],
   "source": [
    "unlock_tx = cleanup_tx(unlock_tx_stuffs)\n",
    "unlock_tx"
   ]
  },
  {
   "cell_type": "code",
   "execution_count": 23,
   "id": "7eeb4a39",
   "metadata": {},
   "outputs": [
    {
     "name": "stdout",
     "output_type": "stream",
     "text": [
      "{\r\n",
      "  \"txid\": \"2660de6b261b73b1377e0979e80d747e763a3423ba2e901fa25c992a8e6d400c\",\r\n",
      "  \"hash\": \"2660de6b261b73b1377e0979e80d747e763a3423ba2e901fa25c992a8e6d400c\",\r\n",
      "  \"version\": 2,\r\n",
      "  \"size\": 94,\r\n",
      "  \"vsize\": 94,\r\n",
      "  \"weight\": 376,\r\n",
      "  \"locktime\": 0,\r\n",
      "  \"vin\": [\r\n",
      "    {\r\n",
      "      \"txid\": \"75ff5fc7edd053a3ce24b4270d9716b122a861f111bc1bd944585d8764c98706\",\r\n",
      "      \"vout\": 0,\r\n",
      "      \"scriptSig\": {\r\n",
      "        \"asm\": \"\",\r\n",
      "        \"hex\": \"\"\r\n",
      "      },\r\n",
      "      \"sequence\": 4294967295\r\n",
      "    }\r\n",
      "  ],\r\n",
      "  \"vout\": [\r\n",
      "    {\r\n",
      "      \"value\": 0.99999600,\r\n",
      "      \"n\": 0,\r\n",
      "      \"scriptPubKey\": {\r\n",
      "        \"asm\": \"1 a14e12a29723b933e9d55a9493a7599a00a8a4f3af2cb84095e49e1d5d121689\",\r\n",
      "        \"desc\": \"addr(bcrt1p598p9g5hywun86w4t22f8f6engq23f8n4uktssy4uj0p6hgjz6ys0nghzr)#fq4fatm9\",\r\n",
      "        \"hex\": \"5120a14e12a29723b933e9d55a9493a7599a00a8a4f3af2cb84095e49e1d5d121689\",\r\n",
      "        \"address\": \"bcrt1p598p9g5hywun86w4t22f8f6engq23f8n4uktssy4uj0p6hgjz6ys0nghzr\",\r\n",
      "        \"type\": \"witness_v1_taproot\"\r\n",
      "      }\r\n",
      "    }\r\n",
      "  ]\r\n",
      "}\r\n"
     ]
    }
   ],
   "source": [
    "!bitcoin-cli -regtest decoderawtransaction \"$unlock_tx\""
   ]
  },
  {
   "cell_type": "code",
   "execution_count": 24,
   "id": "5ac22090",
   "metadata": {},
   "outputs": [],
   "source": [
    "from codes import parse_compact_size, parse_input_bytes, parse_output_bytes\n",
    "\n",
    "def parse_witness_bytes(data):\n",
    "    count, size = parse_compact_size(data)\n",
    "    ptr = size\n",
    "    witnesses = []\n",
    "    for _ in range(0, count):\n",
    "        witlen, size = parse_compact_size(data[ptr:])\n",
    "        ptr += size\n",
    "        witnesses.append(data[ptr:ptr+witlen])\n",
    "        ptr += witlen\n",
    "\n",
    "    return witnesses, ptr\n",
    "\n",
    "def parse_tx_bytes_mine(tx_hex):\n",
    "  tx_bytes = bytes.fromhex(tx_hex)\n",
    "  tx = {}\n",
    "  ptr = 0\n",
    "  tx['version'] = tx_bytes[0:4]\n",
    "  ptr += 4\n",
    "\n",
    "  if tx_bytes[ptr] == 0x00:\n",
    "    assert tx_bytes[ptr+1] == 0x01\n",
    "    tx['marker_flag'] = bytes([0x00, 0x01])\n",
    "    ptr += 2\n",
    "\n",
    "  count, size = parse_compact_size(tx_bytes[ptr:])\n",
    "  ptr += size \n",
    "  tx['inputs'] = []\n",
    "  for _ in range(0, count):\n",
    "    inputx, size = parse_input_bytes(tx_bytes[ptr:])\n",
    "    ptr += size\n",
    "    tx['inputs'].append(inputx)\n",
    " \n",
    "  count, size = parse_compact_size(tx_bytes[ptr:])\n",
    "  ptr += size\n",
    "  tx['outputs'] = []\n",
    "  for _ in range(0, count):\n",
    "    outputx, size = parse_output_bytes(tx_bytes[ptr:])\n",
    "    ptr += size\n",
    "    tx['outputs'].append(outputx)\n",
    "\n",
    "  if 'marker_flag' in tx:\n",
    "    tx['witnesses'] = []\n",
    "    for _ in range(0, len(tx['inputs'])):\n",
    "        witness, size = parse_witness_bytes(tx_bytes[ptr:])\n",
    "        ptr += size\n",
    "        tx['witnesses'].append(witness)\n",
    "\n",
    "  tx['locktime'] = tx_bytes[ptr:]\n",
    "  return tx"
   ]
  },
  {
   "cell_type": "code",
   "execution_count": 25,
   "id": "71e3d677",
   "metadata": {},
   "outputs": [],
   "source": [
    "from hashlib import sha256\n",
    "from codes import size_compact_size\n",
    "\n",
    "def sigmsg_default(tx_hex, input_index, annex_bytes, amounts_bytes, scriptpubkeys_bytes, ext_flag):\n",
    "    txdata = parse_tx_bytes_mine(tx_hex)\n",
    "    \n",
    "    result = b''\n",
    "    result += bytes([0x00]) # sighash_flag\n",
    "    result += txdata['version']\n",
    "    result += txdata['locktime']\n",
    "\n",
    "    all_input_outpoints = b''\n",
    "    for inp in txdata['inputs']:\n",
    "        # txid || vout\n",
    "        all_input_outpoints += inp['txid'] + inp['vout']    \n",
    "    sha_prevouts = sha256(all_input_outpoints).digest()\n",
    "    result += sha_prevouts\n",
    "    \n",
    "    sha_amounts = sha256(b''.join(amounts_bytes)).digest()        \n",
    "    result += sha_amounts\n",
    "    \n",
    "    spks = b''\n",
    "    for spk in scriptpubkeys_bytes:\n",
    "        spks += size_compact_size(len(spk)) + spk\n",
    "    sha_scriptpubkeys = sha256(spks).digest()\n",
    "    result += sha_scriptpubkeys\n",
    "    \n",
    "    all_sequences = [ i['sequence'] for i in txdata['inputs'] ]\n",
    "    sha_sequences = sha256(b''.join(all_sequences)).digest()\n",
    "    result += sha_sequences\n",
    "    \n",
    "    all_outputs = b''\n",
    "    for o in txdata['outputs']:\n",
    "        # amount || compact_size(scriptpubkey) || scriptpubkey\n",
    "        all_outputs += o['amount']\n",
    "        all_outputs += size_compact_size(len(o['scriptPubKey']))\n",
    "        all_outputs += o['scriptPubKey']\n",
    "    sha_outputs = sha256(all_outputs).digest()\n",
    "    result += sha_outputs\n",
    "    \n",
    "    # data about this input\n",
    "    annex_present = 1 if annex_bytes else 0\n",
    "    spend_type = 2 * ext_flag + annex_present\n",
    "    result += (spend_type).to_bytes(1, 'little')\n",
    "    result += (input_index).to_bytes(4, 'little')\n",
    "    \n",
    "    if (annex_bytes):\n",
    "        size_bytes = size_compact_size(len(annex_bytes))\n",
    "        sha_annex = sha256(size_bytes + annex_bytes).digest()\n",
    "        result += sha_annex\n",
    "    \n",
    "    # data about this output\n",
    "    # noop for SIGHASH_DEFAULT\n",
    "    \n",
    "    assert len(result) <= 206\n",
    "    return result"
   ]
  },
  {
   "cell_type": "code",
   "execution_count": 26,
   "id": "0b185942",
   "metadata": {},
   "outputs": [],
   "source": [
    "from codes import parse_tx_bytes\n",
    "prev_tx = !bitcoin-cli -regtest getrawtransaction \"$txid_to_spend\"\n",
    "spent_from_tx = parse_tx_bytes_mine(prev_tx[0])"
   ]
  },
  {
   "cell_type": "code",
   "execution_count": 27,
   "id": "a749a23d",
   "metadata": {},
   "outputs": [
    {
     "data": {
      "text/plain": [
       "'91def8beb088933ea25ddb1ba3dcd3460d6bc44192bf9eef3582f56e8bde72b400ffffffff'"
      ]
     },
     "execution_count": 27,
     "metadata": {},
     "output_type": "execute_result"
    }
   ],
   "source": [
    "tapleaf_hash = make_leaf(bytes.fromhex(leaf_999))\n",
    "key_version = bytes([0x00])\n",
    "codesep_position = bytes([0xff, 0xff, 0xff, 0xff])\n",
    "\n",
    "extension_data = tapleaf_hash + key_version + codesep_position\n",
    "extension_data.hex()"
   ]
  },
  {
   "cell_type": "code",
   "execution_count": 28,
   "id": "747f5600",
   "metadata": {},
   "outputs": [
    {
     "name": "stdout",
     "output_type": "stream",
     "text": [
      "amounts: ['00e1f50500000000']\n",
      "scriptpubkeys: ['5120a14e12a29723b933e9d55a9493a7599a00a8a4f3af2cb84095e49e1d5d121689'] \n",
      "\n"
     ]
    },
    {
     "data": {
      "text/plain": [
       "'a8b67220bf0fb716e9dc4252f7c727e49a8236721558b9f7b2bd59d0321f02bf'"
      ]
     },
     "execution_count": 28,
     "metadata": {},
     "output_type": "execute_result"
    }
   ],
   "source": [
    "amounts_bytes = [spent_from_tx['outputs'][vout]['amount']]\n",
    "print(\"amounts:\", [x.hex() for x in amounts_bytes])\n",
    "\n",
    "scriptpubkeys_bytes = [spent_from_tx['outputs'][vout]['scriptPubKey']]\n",
    "print(\"scriptpubkeys:\", [x.hex() for x in scriptpubkeys_bytes], \"\\n\")\n",
    "\n",
    "ext_flag = 1 if extension_data else 0\n",
    "annex_bytes = None\n",
    "input_index = 0\n",
    "\n",
    "sigmsg = sigmsg_default(unlock_tx, input_index, annex_bytes, amounts_bytes, scriptpubkeys_bytes, ext_flag)\n",
    "\n",
    "# add extension data to end of what's passed into tag_hash\n",
    "sighash = tag_hash(b'TapSighash', bytes([0x00]) + sigmsg + extension_data)\n",
    "sighash.hex()"
   ]
  },
  {
   "cell_type": "code",
   "execution_count": 29,
   "id": "8fcd51fb",
   "metadata": {},
   "outputs": [],
   "source": [
    "from bip327 import nonce_gen, nonce_agg, SessionContext, sign, partial_sig_agg\n",
    "\n",
    "privkey444 = (444).to_bytes(32, 'big')\n",
    "privkey555 = (555).to_bytes(32, 'big')\n",
    "\n",
    "sec444, pub444 = nonce_gen(privkey444, pk444, pubkey999, sighash, b'')\n",
    "sec555, pub555 = nonce_gen(privkey555, pk555, pubkey999, sighash, b'')\n",
    "pubnonces = [pub444, pub555]\n",
    "aggnonce = nonce_agg(pubnonces)"
   ]
  },
  {
   "cell_type": "code",
   "execution_count": 30,
   "id": "f741f026",
   "metadata": {},
   "outputs": [],
   "source": [
    "sesh = SessionContext(aggnonce, [pk444, pk555], [], [], sighash)\n",
    "\n",
    "partial_sig444 = sign(sec444, privkey444, sesh)\n",
    "partial_sig555 = sign(sec555, privkey555, sesh)\n",
    "sig = partial_sig_agg([partial_sig444, partial_sig555], sesh)"
   ]
  },
  {
   "cell_type": "code",
   "execution_count": 31,
   "id": "693a681e",
   "metadata": {},
   "outputs": [
    {
     "data": {
      "text/plain": [
       "'2092a5bec4caef9f87d22dcbcd61b372a3cb84c42192d1314cb327a02fe1a77d64ac'"
      ]
     },
     "execution_count": 31,
     "metadata": {},
     "output_type": "execute_result"
    }
   ],
   "source": [
    "leaf_script = bytes.fromhex(leaf_999)\n",
    "leaf_999"
   ]
  },
  {
   "cell_type": "code",
   "execution_count": 32,
   "id": "bd989e4f",
   "metadata": {},
   "outputs": [],
   "source": [
    "def control_block_version_byte(Q):\n",
    "    val = 0xc0\n",
    "    if Q.point()[1] % 2 != 0:\n",
    "        val += 1\n",
    "    return bytes([val])"
   ]
  },
  {
   "cell_type": "code",
   "execution_count": 33,
   "id": "ad96d08e",
   "metadata": {},
   "outputs": [],
   "source": [
    "def build_proof_of_inclusion(tree, script):\n",
    "    if isinstance(tree, str):\n",
    "        script_bytes = bytes.fromhex(tree)\n",
    "        leaf_hash = make_leaf(script_bytes)\n",
    "        return leaf_hash, [], script == tree\n",
    "    \n",
    "    # calculate the branch hash. \n",
    "    assert len(tree) == 2\n",
    "    left_hash, left_proof, left_target = build_proof_of_inclusion(tree[0], script)\n",
    "    right_hash, right_proof, right_target = build_proof_of_inclusion(tree[1], script)\n",
    "    \n",
    "    proof = []\n",
    "    if left_target:\n",
    "        left_proof.append(right_hash)\n",
    "        proof = left_proof\n",
    "    elif right_target:\n",
    "        right_proof.append(left_hash)\n",
    "        proof = right_proof\n",
    "        \n",
    "    # we have to order the left + right \"alphabetically\"\n",
    "    # thank you arik :)\n",
    "    if left_hash > right_hash:\n",
    "        right_hash, left_hash = left_hash, right_hash\n",
    "    branch_hash = tag_hash(b'TapBranch', left_hash + right_hash)\n",
    "    return branch_hash, proof, left_target or right_target"
   ]
  },
  {
   "cell_type": "code",
   "execution_count": 34,
   "id": "9ac08aa8",
   "metadata": {},
   "outputs": [
    {
     "data": {
      "text/plain": [
       "'c050929b74c1a04954b78b4b6035e97a5e078a5a0f28ec96d547bfee9ace803ac04c37fa27ed43a8887485ad6df68ffa83dc7e6425ba1ff6f679ec2a8631adec1e2225fa3caf3e513ecf704ffadaf4836f87e48770370df229fc260b1e715f0a3d'"
      ]
     },
     "execution_count": 34,
     "metadata": {},
     "output_type": "execute_result"
    }
   ],
   "source": [
    "_, proof_of_inclusion, _ = build_proof_of_inclusion(tree, leaf_999)\n",
    "control_block = control_block_version_byte(Q) + internal_pubkey.format()[1:] + b''.join(proof_of_inclusion)\n",
    "control_block.hex()"
   ]
  },
  {
   "cell_type": "code",
   "execution_count": 35,
   "id": "52855f0a",
   "metadata": {},
   "outputs": [],
   "source": [
    "witnesses = [\n",
    "    sig,\n",
    "    leaf_script,\n",
    "    control_block\n",
    "]"
   ]
  },
  {
   "cell_type": "code",
   "execution_count": 36,
   "id": "baccfcc8",
   "metadata": {},
   "outputs": [],
   "source": [
    "def build_witness_str(wits):\n",
    "    wit_str = size_compact_size(len(wits)).hex()\n",
    "    for witness in wits:\n",
    "        wit_str += size_compact_size(len(witness)).hex() + witness.hex()\n",
    "    return wit_str"
   ]
  },
  {
   "cell_type": "code",
   "execution_count": 37,
   "id": "4bfd37b8",
   "metadata": {},
   "outputs": [],
   "source": [
    "signed_tx_stuffs = f\"\"\"\n",
    "version: 0200 0000\n",
    "marker + flag: 0001\n",
    "inputs: 01\n",
    "    txid: {bytes.fromhex(txid_to_spend)[::-1].hex()}\n",
    "    vout: {vout.to_bytes(4, 'little').hex()}\n",
    "    scriptSig: 00\n",
    "    sequence: ffff ffff\n",
    "outputs: 01\n",
    "    amount: {(1 * 10 ** 8 - 400).to_bytes(8, 'little').hex()}\n",
    "    spk: 22 {scriptpubkey}\n",
    "witnesses:\n",
    "    {build_witness_str(witnesses)}\n",
    "locktime: 0000 0000\n",
    "\"\"\"\n",
    "\n",
    "signed_tx = cleanup_tx(signed_tx_stuffs)"
   ]
  },
  {
   "cell_type": "code",
   "execution_count": 38,
   "id": "13727909",
   "metadata": {},
   "outputs": [
    {
     "name": "stdout",
     "output_type": "stream",
     "text": [
      "\u001b[1;39m[\r\n",
      "  \u001b[0;32m\"9b0f28e4b3aa83acfc0c42860acdfff297efb3f9e4ce46cb7aa95dae8a33dd8617a7addb51b1a90638345f0b96732e17e90fbe1c01d093d9f3649878d2599849\"\u001b[0m\u001b[1;39m,\r\n",
      "  \u001b[0;32m\"2092a5bec4caef9f87d22dcbcd61b372a3cb84c42192d1314cb327a02fe1a77d64ac\"\u001b[0m\u001b[1;39m,\r\n",
      "  \u001b[0;32m\"c050929b74c1a04954b78b4b6035e97a5e078a5a0f28ec96d547bfee9ace803ac04c37fa27ed43a8887485ad6df68ffa83dc7e6425ba1ff6f679ec2a8631adec1e2225fa3caf3e513ecf704ffadaf4836f87e48770370df229fc260b1e715f0a3d\"\u001b[0m\u001b[1;39m\r\n",
      "\u001b[1;39m]\u001b[0m\r\n"
     ]
    }
   ],
   "source": [
    "!bitcoin-cli -regtest decoderawtransaction \"$signed_tx\" | jq .vin[].txinwitness"
   ]
  },
  {
   "cell_type": "code",
   "execution_count": 39,
   "id": "5cc22a7e",
   "metadata": {},
   "outputs": [
    {
     "name": "stdout",
     "output_type": "stream",
     "text": [
      "[\r\n",
      "  {\r\n",
      "    \"txid\": \"2660de6b261b73b1377e0979e80d747e763a3423ba2e901fa25c992a8e6d400c\",\r\n",
      "    \"wtxid\": \"c62fa4021c05ba59fb92d76de524387f094b561f7f9777e8dae449f6c6705224\",\r\n",
      "    \"allowed\": true,\r\n",
      "    \"vsize\": 145,\r\n",
      "    \"fees\": {\r\n",
      "      \"base\": 0.00000400\r\n",
      "    }\r\n",
      "  }\r\n",
      "]\r\n"
     ]
    }
   ],
   "source": [
    "!bitcoin-cli -regtest testmempoolaccept '[\"'\"$signed_tx\"'\"]'"
   ]
  },
  {
   "cell_type": "markdown",
   "id": "24f7e295",
   "metadata": {},
   "source": [
    "## Using FROST for Threshold Signatures\n",
    "\n",
    "FROST is a threshold aggregated signature protocol. This lets you produce 2/3 threshold sigs in a single signature.\n",
    "\n",
    "It uses Lagrangian coefficients to compute key shares, and shamir secret sharing to then reconstruct N shares at signing time (the threshold quorum).\n",
    "\n",
    "For this we're going to use a toy implementation of FROST that's (nominally) BIP340 compatible, written by \n",
    "@jesseposner.\n",
    "\n",
    "Except with a few ~untested edits by @niftynei to allow a tweak."
   ]
  },
  {
   "cell_type": "code",
   "execution_count": 41,
   "id": "9653e4ef",
   "metadata": {},
   "outputs": [
    {
     "data": {
      "text/plain": [
       "X: 0xb0fb55556b10c6191b1e0e44f8ff3426965ccf4acc537a68eea20619fa8faf3c\n",
       "Y: 0xe2993ef9a33acbb43653e460b63204154afc81cba302d61bcfd1ec9f2ddcff9b"
      ]
     },
     "execution_count": 41,
     "metadata": {},
     "output_type": "execute_result"
    }
   ],
   "source": [
    "from frost_niftys_version import FROST\n",
    "\n",
    "p1 = FROST.Participant(index=1, threshold=2, participants=3)\n",
    "p2 = FROST.Participant(index=2, threshold=2, participants=3)\n",
    "p3 = FROST.Participant(index=3, threshold=2, participants=3)\n",
    "\n",
    "p1.init_keygen()\n",
    "p2.init_keygen()\n",
    "p3.init_keygen()\n",
    "\n",
    "p1.generate_shares()\n",
    "p2.generate_shares()\n",
    "p3.generate_shares()\n",
    "\n",
    "p1.aggregate_shares([p2.shares[p1.index-1], p3.shares[p1.index-1]])\n",
    "p2.aggregate_shares([p1.shares[p2.index-1], p3.shares[p2.index-1]])\n",
    "p3.aggregate_shares([p1.shares[p3.index-1], p2.shares[p3.index-1]])\n",
    "\n",
    "pubkey = p1.derive_public_key([p2.coefficient_commitments[0], p3.coefficient_commitments[0]])\n",
    "p2.derive_public_key([p1.coefficient_commitments[0], p3.coefficient_commitments[0]])\n",
    "p3.derive_public_key([p1.coefficient_commitments[0], p2.coefficient_commitments[0]])\n",
    "\n",
    "\n",
    "pubkey"
   ]
  },
  {
   "cell_type": "code",
   "execution_count": 59,
   "id": "d9f78912",
   "metadata": {},
   "outputs": [
    {
     "data": {
      "text/plain": [
       "'60af4579e4ae37eecb56de6b79a90b15abb4ddd4cf61749f2accf3a876337980'"
      ]
     },
     "execution_count": 59,
     "metadata": {},
     "output_type": "execute_result"
    }
   ],
   "source": [
    "spk = '5120' + pubkey.xonly_serialize().hex()\n",
    "addr = !bitcoin-cli -regtest decodescript \"$spk\" | jq .address\n",
    "addr = addr[0]\n",
    "spend_txid = !bitcoin-cli -regtest sendtoaddress \"$addr\" 1.0\n",
    "spend_txid = spend_txid[0]\n",
    "spend_txid"
   ]
  },
  {
   "cell_type": "code",
   "execution_count": 62,
   "id": "6da87b1d",
   "metadata": {},
   "outputs": [
    {
     "data": {
      "text/plain": [
       "0"
      ]
     },
     "execution_count": 62,
     "metadata": {},
     "output_type": "execute_result"
    }
   ],
   "source": [
    "spend_tx = !bitcoin-cli -regtest getrawtransaction \"$spend_txid\"\n",
    "spend_tx = spend_tx[0]\n",
    "spend_tx_parsed = parse_tx_bytes_mine(spend_tx)\n",
    "outs = [ int.from_bytes(x['amount'], 'little') for x in spend_tx_parsed['outputs']]\n",
    "vout = outs.index(1 * 10 ** 8)\n",
    "vout"
   ]
  },
  {
   "cell_type": "code",
   "execution_count": 63,
   "id": "10f2532e",
   "metadata": {},
   "outputs": [],
   "source": [
    "unlock_tx_stuffs = f\"\"\"\n",
    "version: 0200 0000\n",
    "marker+flag: 0001\n",
    "inputs: 01\n",
    "    txid: {bytes.fromhex(spend_txid)[::-1].hex()}\n",
    "    vout: {vout.to_bytes(4, 'little').hex()}\n",
    "    scriptSig: 00\n",
    "    sequence: ffff ffff\n",
    "outputs: 01\n",
    "    amount: {(1 * 10 ** 8 - 400).to_bytes(8, 'little').hex()}\n",
    "    spk: 22 {spk}\n",
    "witnesses: 00\n",
    "locktime: 0000 0000\n",
    "\"\"\"\n",
    "\n",
    "unlock_tx = cleanup_tx(unlock_tx_stuffs)"
   ]
  },
  {
   "cell_type": "code",
   "execution_count": 64,
   "id": "9e94ab5f",
   "metadata": {},
   "outputs": [
    {
     "name": "stdout",
     "output_type": "stream",
     "text": [
      "00e1f50500000000\n",
      "5120b0fb55556b10c6191b1e0e44f8ff3426965ccf4acc537a68eea20619fa8faf3c\n"
     ]
    },
    {
     "data": {
      "text/plain": [
       "'ce1ec9d6102cfa65ea5aff6ca232f02f8dd3db82d8270b92b8a5830ed382779b'"
      ]
     },
     "execution_count": 64,
     "metadata": {},
     "output_type": "execute_result"
    }
   ],
   "source": [
    "extension_data = b''\n",
    "amounts_bytes = [spend_tx_parsed['outputs'][vout]['amount']]\n",
    "scriptpubkeys_bytes = [spend_tx_parsed['outputs'][vout]['scriptPubKey']]\n",
    "print(amounts_bytes[0].hex())\n",
    "print(scriptpubkeys_bytes[0].hex())\n",
    "\n",
    "ext_flag = 1 if extension_data else 0\n",
    "annex_bytes = None\n",
    "input_index = 0\n",
    "\n",
    "sigmsg = sigmsg_default(unlock_tx, input_index, annex_bytes, amounts_bytes, scriptpubkeys_bytes, ext_flag)\n",
    "\n",
    "# add extension data to end of what's passed into tag_hash\n",
    "sighash = tag_hash(b'TapSighash', bytes([0x00]) + sigmsg + extension_data)\n",
    "sighash.hex()"
   ]
  },
  {
   "cell_type": "code",
   "execution_count": 65,
   "id": "ff5bd393",
   "metadata": {},
   "outputs": [
    {
     "data": {
      "text/plain": [
       "b'1\\xdaZ\\xae\\xae\\xc9B\\xfd4\\xbd:[x\\xdaf\\x96\\xbd7\\x0eH\\xd3\"\"\\xaa\\xff\\x7f5\\xe9V\\x19\\xf2\\x9f\\xf3\\xce\\xf8];2w\\x8c^\\xa1\\xd8(\\xaa\\xde\\x0e\\x0b\\x17\\xb6\\x9ddhM-s`n\\xc0\\xfcM=\\x88\\x9f'"
      ]
     },
     "execution_count": 65,
     "metadata": {},
     "output_type": "execute_result"
    }
   ],
   "source": [
    "# NonceGen\n",
    "p1.generate_nonces(1)\n",
    "p2.generate_nonces(1)\n",
    "p3.generate_nonces(1)\n",
    "\n",
    "# Sign\n",
    "participant_indexes = [2, 3]\n",
    "agg = FROST.Aggregator(pubkey, sighash, [None, p2.nonce_commitment_pairs, p3.nonce_commitment_pairs], participant_indexes)\n",
    "message, nonce_commitment_pairs = agg.signing_inputs()\n",
    "assert message == sighash\n",
    "\n",
    "s1 = p2.sign(sighash, nonce_commitment_pairs, participant_indexes)\n",
    "s2 = p3.sign(sighash, nonce_commitment_pairs, participant_indexes)\n",
    "\n",
    "# σ = (R, z)\n",
    "from codes import p, n\n",
    "sig = bytes.fromhex(agg.signature([s1, s2]))\n",
    "#sig = nonce_commitment.x.to_bytes(32, 'big') + (s % n).to_bytes(32, 'big')\n",
    "\n",
    "# verify\n",
    "sig"
   ]
  },
  {
   "cell_type": "code",
   "execution_count": 66,
   "id": "e57f08cf",
   "metadata": {},
   "outputs": [],
   "source": [
    "witnesses = [\n",
    "    sig\n",
    "]"
   ]
  },
  {
   "cell_type": "code",
   "execution_count": 67,
   "id": "34cab77a",
   "metadata": {},
   "outputs": [],
   "source": [
    "signed_tx = cleanup_tx(f\"\"\"\n",
    "version: 0200 0000\n",
    "marker+flag: 0001\n",
    "inputs: 01\n",
    "    txid: {bytes.fromhex(spend_txid)[::-1].hex()}\n",
    "    vout: {vout.to_bytes(4, 'little').hex()}\n",
    "    scriptSig: 00\n",
    "    sequence: ffff ffff\n",
    "outputs: 01\n",
    "    amount: {(1 * 10 ** 8 - 400).to_bytes(8, 'little').hex()}\n",
    "    spk: 22 {spk}\n",
    "witness:\n",
    "    {build_witness_str(witnesses)}\n",
    "locktime: 0000 0000\n",
    "\"\"\")"
   ]
  },
  {
   "cell_type": "code",
   "execution_count": 68,
   "id": "bb44051d",
   "metadata": {
    "scrolled": false
   },
   "outputs": [
    {
     "name": "stdout",
     "output_type": "stream",
     "text": [
      "[\r\n",
      "  {\r\n",
      "    \"txid\": \"7b67e29b3b0d053ece4519ca4ea78e3e990941c482a4def30738849a87ca5cbb\",\r\n",
      "    \"wtxid\": \"531aee788b5b14acf92182f0c9e3925bb1217881049a25fc7c62a9c1f7c67930\",\r\n",
      "    \"allowed\": true,\r\n",
      "    \"vsize\": 111,\r\n",
      "    \"fees\": {\r\n",
      "      \"base\": 0.00000400\r\n",
      "    }\r\n",
      "  }\r\n",
      "]\r\n"
     ]
    }
   ],
   "source": [
    "!bitcoin-cli -regtest testmempoolaccept '[\"'\"$signed_tx\"'\"]'"
   ]
  },
  {
   "cell_type": "code",
   "execution_count": 69,
   "id": "95902789",
   "metadata": {},
   "outputs": [
    {
     "name": "stdout",
     "output_type": "stream",
     "text": [
      "7b67e29b3b0d053ece4519ca4ea78e3e990941c482a4def30738849a87ca5cbb\r\n"
     ]
    }
   ],
   "source": [
    "!bitcoin-cli -regtest sendrawtransaction \"$signed_tx\""
   ]
  },
  {
   "cell_type": "code",
   "execution_count": null,
   "id": "ccd741f3",
   "metadata": {},
   "outputs": [],
   "source": []
  }
 ],
 "metadata": {
  "kernelspec": {
   "display_name": "Python 3 (ipykernel)",
   "language": "python",
   "name": "python3"
  },
  "language_info": {
   "codemirror_mode": {
    "name": "ipython",
    "version": 3
   },
   "file_extension": ".py",
   "mimetype": "text/x-python",
   "name": "python",
   "nbconvert_exporter": "python",
   "pygments_lexer": "ipython3",
   "version": "3.10.5"
  }
 },
 "nbformat": 4,
 "nbformat_minor": 5
}
