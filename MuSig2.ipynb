{
 "cells": [
  {
   "cell_type": "markdown",
   "id": "c5a46884",
   "metadata": {},
   "source": [
    "# Taproot: MuSig2 + Tapscript Spends"
   ]
  },
  {
   "cell_type": "markdown",
   "id": "d690f60b",
   "metadata": {},
   "source": [
    "In this module we'll be making a series of MuSig2 scripts.\n",
    "\n",
    "We'll then build a MAST of the scripts, and lock up some bitcoin to them. \n",
    "Finally we'll practice unlocking the script using a tapscript spend."
   ]
  },
  {
   "cell_type": "markdown",
   "id": "b2ad266e",
   "metadata": {},
   "source": [
    "## Picking our private keys"
   ]
  },
  {
   "cell_type": "markdown",
   "id": "ce9c0773",
   "metadata": {},
   "source": [
    "We'll need three private keys. Pick three keys (integers) that are greater than 1 and less than `n`,\n",
    "\n",
    "`n = 115792089237316195423570985008687907852837564279074904382605163141518161494337`"
   ]
  },
  {
   "cell_type": "code",
   "execution_count": null,
   "id": "49400cbc",
   "metadata": {},
   "outputs": [],
   "source": [
    "sk1 = "
   ]
  },
  {
   "cell_type": "code",
   "execution_count": 1,
   "id": "2e8ff26e",
   "metadata": {},
   "outputs": [],
   "source": [
    "!mkdir class-node"
   ]
  },
  {
   "cell_type": "code",
   "execution_count": 2,
   "id": "af9628fb",
   "metadata": {},
   "outputs": [
    {
     "name": "stdout",
     "output_type": "stream",
     "text": [
      "Bitcoin Core starting\r\n"
     ]
    }
   ],
   "source": [
    "!bitcoind -regtest -datadir=$(pwd)/class-node -fallbackfee=0.00000012 -daemon "
   ]
  },
  {
   "cell_type": "code",
   "execution_count": 5,
   "id": "e7da5ea1",
   "metadata": {},
   "outputs": [],
   "source": [
    "!alias bcli=\"bitcoin-cli -regtest -datadir=$(pwd)/class-node\""
   ]
  },
  {
   "cell_type": "code",
   "execution_count": 8,
   "id": "d8fff4d7",
   "metadata": {},
   "outputs": [
    {
     "name": "stdout",
     "output_type": "stream",
     "text": [
      "error: Could not locate RPC credentials. No authentication cookie could be found, and RPC password is not set.  See -rpcpassword and -stdinrpcpass.  Configuration file: (/home/niftynei/dev/taproots/jupyter/class-node/bitcoin.conf)\r\n"
     ]
    }
   ],
   "source": [
    "!bitcoin-cli -regtest -datadir=\"$(pwd)/class-node\" createwallet base58"
   ]
  },
  {
   "cell_type": "code",
   "execution_count": null,
   "id": "7f5d8799",
   "metadata": {},
   "outputs": [],
   "source": []
  }
 ],
 "metadata": {
  "kernelspec": {
   "display_name": "Python 3 (ipykernel)",
   "language": "python",
   "name": "python3"
  },
  "language_info": {
   "codemirror_mode": {
    "name": "ipython",
    "version": 3
   },
   "file_extension": ".py",
   "mimetype": "text/x-python",
   "name": "python",
   "nbconvert_exporter": "python",
   "pygments_lexer": "ipython3",
   "version": "3.10.5"
  }
 },
 "nbformat": 4,
 "nbformat_minor": 5
}
