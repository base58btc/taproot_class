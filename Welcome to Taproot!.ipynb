{
 "cells": [
  {
   "cell_type": "markdown",
   "id": "2afb669f",
   "metadata": {},
   "source": [
    "# Background on Taproot\n",
    "\n",
    "## Where does \"taproot\" come from?\n",
    "\n",
    "Taproot is a series of bitcoin BIPS (bitcoin improvement proposals) that were merged into bitcoin-core in 2021.\n",
    "\n",
    "It was most recent bitcoin soft-fork and it went live in November 2021.\n",
    "\n",
    "The BIPS can be found on github. They are as follows:\n",
    "\n",
    "- BIP340, Schnorr Signatures https://github.com/bitcoin/bips/blob/master/bip-0340.mediawiki\n",
    "- BIP341, Taproot Segwit v1 https://github.com/bitcoin/bips/blob/master/bip-0341.mediawiki\n",
    "- BIP342, Validating Taproot Spends https://github.com/bitcoin/bips/blob/master/bip-0342.mediawiki\n",
    "- BIP350, Bech32m https://github.com/bitcoin/bips/blob/master/bip-0350.mediawiki"
   ]
  },
  {
   "cell_type": "markdown",
   "id": "14a02606",
   "metadata": {},
   "source": [
    "## What did \"taproot\" change?\n",
    "\n",
    "Taproot added and modified many things in bitcoin. Including\n",
    "\n",
    "- A new signature algorithm (Schnorr)\n",
    "- A new version of Script opcodes (Segwit v1)\n",
    "- A new bitcoin address checksum (bech32m)\n",
    "- Removed some opcodes we know and love (OP_CHECKMULTISIG)\n",
    "- Added a new opcode (OP_CHECKSIGADD)\n",
    "- Added a new scripthash algorithm"
   ]
  },
  {
   "cell_type": "markdown",
   "id": "59c11a6f",
   "metadata": {},
   "source": [
    "# Finding Taproot in the Wild\n",
    "\n",
    "Let's go to mempool.space and find some taproot addresses in the wild!\n",
    "\n",
    "\n",
    "\n",
    "## How to spot a taproot address\n",
    "\n",
    "The bech32 address has a `p` immediately following the `1`\n",
    "\n",
    "Find a taproot address on mempool dot space.\n",
    "\n",
    "What's the \"Type\" for this address?\n",
    "\n",
    "\n",
    "Copy paste the \"ScriptPubKey (HEX)\" for the address you found into the pyblock below."
   ]
  },
  {
   "cell_type": "code",
   "execution_count": 1,
   "id": "1fbc845c",
   "metadata": {},
   "outputs": [],
   "source": [
    "scriptpubkey = \"51203905d81b457b42e8d5eb1ae5280c83c74fbdd20a2e401c0077bce5417909c953\""
   ]
  },
  {
   "cell_type": "code",
   "execution_count": 3,
   "id": "a482867e",
   "metadata": {},
   "outputs": [
    {
     "name": "stdout",
     "output_type": "stream",
     "text": [
      "51203905d81b457b42e8d5eb1ae5280c83c74fbdd20a2e401c0077bce5417909c953\n"
     ]
    }
   ],
   "source": [
    "print(scriptpubkey)"
   ]
  },
  {
   "cell_type": "code",
   "execution_count": 9,
   "id": "9576aa40",
   "metadata": {},
   "outputs": [
    {
     "data": {
      "text/plain": [
       "34"
      ]
     },
     "execution_count": 9,
     "metadata": {},
     "output_type": "execute_result"
    }
   ],
   "source": [
    "len(scriptpubkey) // 2"
   ]
  },
  {
   "cell_type": "markdown",
   "id": "b3faafb0",
   "metadata": {},
   "source": [
    "This is a series of opcodes. If you pass this to `bitcoin-cli decodescript` what does it print back as the asm?"
   ]
  },
  {
   "cell_type": "code",
   "execution_count": 31,
   "id": "d0ae6734",
   "metadata": {},
   "outputs": [
    {
     "name": "stdout",
     "output_type": "stream",
     "text": [
      "{\r\n",
      "  \"asm\": \"1 3905d81b457b42e8d5eb1ae5280c83c74fbdd20a2e401c0077bce5417909c953\",\r\n",
      "  \"desc\": \"addr(bcrt1p8yzasx690dpw340trtjjsryrca8mm5s29eqpcqrhhnj5z7gfe9fsysf0jl)#95u636fj\",\r\n",
      "  \"address\": \"bcrt1p8yzasx690dpw340trtjjsryrca8mm5s29eqpcqrhhnj5z7gfe9fsysf0jl\",\r\n",
      "  \"type\": \"witness_v1_taproot\"\r\n",
      "}\r\n"
     ]
    }
   ],
   "source": [
    "!bitcoin-cli -regtest decodescript 51203905d81b457b42e8d5eb1ae5280c83c74fbdd20a2e401c0077bce5417909c953"
   ]
  },
  {
   "cell_type": "code",
   "execution_count": 33,
   "id": "bc473f18",
   "metadata": {},
   "outputs": [],
   "source": [
    "output = {\n",
    "  \"asm\": \"1 3905d81b457b42e8d5eb1ae5280c83c74fbdd20a2e401c0077bce5417909c953\",\n",
    "  \"desc\": \"addr(bcrt1p8yzasx690dpw340trtjjsryrca8mm5s29eqpcqrhhnj5z7gfe9fsysf0jl)#95u636fj\",\n",
    "  \"address\": \"bcrt1p8yzasx690dpw340trtjjsryrca8mm5s29eqpcqrhhnj5z7gfe9fsysf0jl\",\n",
    "  \"type\": \"witness_v1_taproot\"\n",
    "}"
   ]
  },
  {
   "cell_type": "code",
   "execution_count": 34,
   "id": "87353851",
   "metadata": {},
   "outputs": [
    {
     "name": "stdout",
     "output_type": "stream",
     "text": [
      "1 3905d81b457b42e8d5eb1ae5280c83c74fbdd20a2e401c0077bce5417909c953\n"
     ]
    }
   ],
   "source": [
    "print(output['asm'])"
   ]
  },
  {
   "cell_type": "code",
   "execution_count": 36,
   "id": "0501c7e3",
   "metadata": {},
   "outputs": [
    {
     "data": {
      "text/plain": [
       "['1', '3905d81b457b42e8d5eb1ae5280c83c74fbdd20a2e401c0077bce5417909c953']"
      ]
     },
     "execution_count": 36,
     "metadata": {},
     "output_type": "execute_result"
    }
   ],
   "source": [
    "output['asm'].split(\" \")"
   ]
  },
  {
   "cell_type": "code",
   "execution_count": 37,
   "id": "7c26788b",
   "metadata": {},
   "outputs": [
    {
     "data": {
      "text/plain": [
       "32"
      ]
     },
     "execution_count": 37,
     "metadata": {},
     "output_type": "execute_result"
    }
   ],
   "source": [
    "len(output['asm'].split(\" \")[1]) // 2"
   ]
  },
  {
   "cell_type": "code",
   "execution_count": 38,
   "id": "c6b080c6",
   "metadata": {
    "scrolled": true
   },
   "outputs": [
    {
     "name": "stdout",
     "output_type": "stream",
     "text": [
      "witness_v1_taproot\n"
     ]
    }
   ],
   "source": [
    "print(output['type'])"
   ]
  },
  {
   "cell_type": "code",
   "execution_count": 131,
   "id": "271d89d2",
   "metadata": {},
   "outputs": [
    {
     "name": "stdout",
     "output_type": "stream",
     "text": [
      "hex:\t\t 3905d81b457b42e8d5eb1ae5280c83c74fbdd20a2e401c0077bce5417909c953\n",
      "int val:\t 25792158117016797743484614046835601668965634494428223733945610235101691103571\n"
     ]
    }
   ],
   "source": [
    "x_bytes = bytes.fromhex(output['asm'].split(' ')[1])\n",
    "print('hex:\\t\\t', x_bytes.hex())\n",
    "\n",
    "x_val = int.from_bytes(x_bytes, 'big')\n",
    "print('int val:\\t', x_val)"
   ]
  },
  {
   "cell_type": "markdown",
   "id": "2d05ced0",
   "metadata": {},
   "source": [
    "## Finding the secp256k1 pubkey from a P2TR address\n",
    "\n",
    "Now that we have the x-only pubkey, let's figure out what point that is on the secp256k1 curve.\n",
    "\n",
    "We can do that using `lift_x_pubkey`. This takes an integer and returns a point.\n",
    "\n",
    "In my case, I'll use `coincurve`, a python library for expressing + doing math with public keys."
   ]
  },
  {
   "cell_type": "code",
   "execution_count": 40,
   "id": "4344e1f7",
   "metadata": {},
   "outputs": [],
   "source": [
    "p = 115792089237316195423570985008687907853269984665640564039457584007908834671663\n",
    "def lift_x(x_value):\n",
    "    assert x_value < p\n",
    "    # find y squared (y2 = x^3 + 7)\n",
    "    y2 = (x_value ** 3 + 7) % p\n",
    "    # find the square root of y\n",
    "    y = pow(y2, (p+1)//4, p)\n",
    "    assert (y ** 2 % p) == y2\n",
    "    # if y is odd, find even y\n",
    "    if y % 2 != 0:\n",
    "        y = p - y\n",
    "    return coincurve.PublicKey.from_point(x_value, y)"
   ]
  },
  {
   "cell_type": "code",
   "execution_count": 41,
   "id": "759f7fdc",
   "metadata": {},
   "outputs": [
    {
     "name": "stdout",
     "output_type": "stream",
     "text": [
      "023905d81b457b42e8d5eb1ae5280c83c74fbdd20a2e401c0077bce5417909c953\n",
      "(25792158117016797743484614046835601668965634494428223733945610235101691103571, 4191453718700008539754125939901750860298491226938149986069530358203844164198)\n"
     ]
    }
   ],
   "source": [
    "import coincurve\n",
    "\n",
    "point = lift_x(x_val)\n",
    "print(point.format().hex())\n",
    "print(point.point())"
   ]
  },
  {
   "cell_type": "markdown",
   "id": "f1993a06",
   "metadata": {},
   "source": [
    "## Let's Get Familiar With The Tools!"
   ]
  },
  {
   "cell_type": "code",
   "execution_count": 61,
   "id": "7981b44b",
   "metadata": {},
   "outputs": [],
   "source": [
    "from codes import parse_tx_bytes\n",
    "\n",
    "tx = \"020000000001013c29211e2e6b9a594f28fd9e8b650dd2f64e7024d398fbc4c98f3b8800cef1350000000000ffffffff0358020000000000002251203905d81b457b42e8d5eb1ae5280c83c74fbdd20a2e401c0077bce5417909c95358020000000000002251203905d81b457b42e8d5eb1ae5280c83c74fbdd20a2e401c0077bce5417909c953eba60d00000000002251203905d81b457b42e8d5eb1ae5280c83c74fbdd20a2e401c0077bce5417909c9530140bc93e2b4ae198c6326737b3e1525715109b6fa65cac52be9c1889408ba2d3ddeac9af8c944513905275280c9e8ac5fb6c83a7100137173c3e6a402857cb4c6de00000000\""
   ]
  },
  {
   "cell_type": "code",
   "execution_count": 62,
   "id": "a707117c",
   "metadata": {},
   "outputs": [
    {
     "ename": "AssertionError",
     "evalue": "",
     "output_type": "error",
     "traceback": [
      "\u001b[0;31m---------------------------------------------------------------------------\u001b[0m",
      "\u001b[0;31mAssertionError\u001b[0m                            Traceback (most recent call last)",
      "Input \u001b[0;32mIn [62]\u001b[0m, in \u001b[0;36m<cell line: 1>\u001b[0;34m()\u001b[0m\n\u001b[0;32m----> 1\u001b[0m \u001b[38;5;28mprint\u001b[39m(parse_tx_bytes(tx))\n",
      "File \u001b[0;32m~/dev/scratch/taproot_class/codes.py:94\u001b[0m, in \u001b[0;36mparse_tx_bytes\u001b[0;34m(tx_hex)\u001b[0m\n\u001b[1;32m     90\u001b[0m   tx[\u001b[38;5;124m'\u001b[39m\u001b[38;5;124moutputs\u001b[39m\u001b[38;5;124m'\u001b[39m]\u001b[38;5;241m.\u001b[39mappend(outputx)\n\u001b[1;32m     92\u001b[0m \u001b[38;5;28;01mif\u001b[39;00m \u001b[38;5;124m'\u001b[39m\u001b[38;5;124mmarker_flag\u001b[39m\u001b[38;5;124m'\u001b[39m \u001b[38;5;129;01min\u001b[39;00m tx:\n\u001b[1;32m     93\u001b[0m   \u001b[38;5;66;03m# todo, this\u001b[39;00m\n\u001b[0;32m---> 94\u001b[0m   \u001b[38;5;28;01massert\u001b[39;00m \u001b[38;5;28;01mFalse\u001b[39;00m\n\u001b[1;32m     96\u001b[0m tx[\u001b[38;5;124m'\u001b[39m\u001b[38;5;124mlocktime\u001b[39m\u001b[38;5;124m'\u001b[39m] \u001b[38;5;241m=\u001b[39m tx_bytes[ptr:]\n\u001b[1;32m     97\u001b[0m \u001b[38;5;28;01mreturn\u001b[39;00m tx\n",
      "\u001b[0;31mAssertionError\u001b[0m: "
     ]
    }
   ],
   "source": [
    "print(parse_tx_bytes(tx))"
   ]
  },
  {
   "cell_type": "code",
   "execution_count": 63,
   "id": "60495adf",
   "metadata": {},
   "outputs": [],
   "source": [
    "from pprint import pprint"
   ]
  },
  {
   "cell_type": "code",
   "execution_count": 64,
   "id": "e2483209",
   "metadata": {},
   "outputs": [
    {
     "ename": "AssertionError",
     "evalue": "",
     "output_type": "error",
     "traceback": [
      "\u001b[0;31m---------------------------------------------------------------------------\u001b[0m",
      "\u001b[0;31mAssertionError\u001b[0m                            Traceback (most recent call last)",
      "Input \u001b[0;32mIn [64]\u001b[0m, in \u001b[0;36m<cell line: 1>\u001b[0;34m()\u001b[0m\n\u001b[0;32m----> 1\u001b[0m pprint(parse_tx_bytes(tx))\n",
      "File \u001b[0;32m~/dev/scratch/taproot_class/codes.py:94\u001b[0m, in \u001b[0;36mparse_tx_bytes\u001b[0;34m(tx_hex)\u001b[0m\n\u001b[1;32m     90\u001b[0m   tx[\u001b[38;5;124m'\u001b[39m\u001b[38;5;124moutputs\u001b[39m\u001b[38;5;124m'\u001b[39m]\u001b[38;5;241m.\u001b[39mappend(outputx)\n\u001b[1;32m     92\u001b[0m \u001b[38;5;28;01mif\u001b[39;00m \u001b[38;5;124m'\u001b[39m\u001b[38;5;124mmarker_flag\u001b[39m\u001b[38;5;124m'\u001b[39m \u001b[38;5;129;01min\u001b[39;00m tx:\n\u001b[1;32m     93\u001b[0m   \u001b[38;5;66;03m# todo, this\u001b[39;00m\n\u001b[0;32m---> 94\u001b[0m   \u001b[38;5;28;01massert\u001b[39;00m \u001b[38;5;28;01mFalse\u001b[39;00m\n\u001b[1;32m     96\u001b[0m tx[\u001b[38;5;124m'\u001b[39m\u001b[38;5;124mlocktime\u001b[39m\u001b[38;5;124m'\u001b[39m] \u001b[38;5;241m=\u001b[39m tx_bytes[ptr:]\n\u001b[1;32m     97\u001b[0m \u001b[38;5;28;01mreturn\u001b[39;00m tx\n",
      "\u001b[0;31mAssertionError\u001b[0m: "
     ]
    }
   ],
   "source": [
    "pprint(parse_tx_bytes(tx))"
   ]
  },
  {
   "cell_type": "markdown",
   "id": "ee733acc",
   "metadata": {},
   "source": [
    "First things first, let's update the `parse_tx_bytes` method to be able to handle segwit (any version) transactions."
   ]
  },
  {
   "cell_type": "code",
   "execution_count": 65,
   "id": "020ab911",
   "metadata": {},
   "outputs": [],
   "source": [
    "from codes import parse_compact_size, parse_input_bytes, parse_output_bytes\n",
    "\n",
    "def parse_tx_bytes_mine(tx_hex):\n",
    "  tx_bytes = bytes.fromhex(tx_hex)\n",
    "\n",
    "  tx = {}\n",
    "  ptr = 0\n",
    "  tx['version'] = tx_bytes[0:4]\n",
    "  ptr += 4\n",
    "\n",
    "  if tx_bytes[ptr] == 0x00:\n",
    "    assert tx_bytes[ptr+1] == 0x01\n",
    "    tx['marker_flag'] = bytes([0x00, 0x01])\n",
    "    ptr += 2\n",
    "\n",
    "  count, size = parse_compact_size(tx_bytes[ptr:])\n",
    "  ptr += size \n",
    "  tx['inputs'] = []\n",
    "  for _ in range(0, count):\n",
    "    inputx, size = parse_input_bytes(tx_bytes[ptr:])\n",
    "    ptr += size\n",
    "    tx['inputs'].append(inputx)\n",
    " \n",
    "  count, size = parse_compact_size(tx_bytes[ptr:])\n",
    "  ptr += size\n",
    "  tx['outputs'] = []\n",
    "  for _ in range(0, count):\n",
    "    outputx, size = parse_output_bytes(tx_bytes[ptr:])\n",
    "    ptr += size\n",
    "    tx['outputs'].append(outputx)\n",
    "\n",
    "  if 'marker_flag' in tx:\n",
    "    tx['witnesses'] = []\n",
    "    for _ in range(0, len(tx['inputs'])):\n",
    "        witness, size = parse_witness_bytes(tx_bytes[ptr:])\n",
    "        ptr += size\n",
    "        tx['witnesses'].append(witness)\n",
    "\n",
    "  tx['locktime'] = tx_bytes[ptr:]\n",
    "  return tx"
   ]
  },
  {
   "cell_type": "code",
   "execution_count": 66,
   "id": "9ece766e",
   "metadata": {},
   "outputs": [
    {
     "name": "stdout",
     "output_type": "stream",
     "text": [
      "020000000001013c29211e2e6b9a594f28fd9e8b650dd2f64e7024d398fbc4c98f3b8800cef1350000000000ffffffff0358020000000000002251203905d81b457b42e8d5eb1ae5280c83c74fbdd20a2e401c0077bce5417909c95358020000000000002251203905d81b457b42e8d5eb1ae5280c83c74fbdd20a2e401c0077bce5417909c953eba60d00000000002251203905d81b457b42e8d5eb1ae5280c83c74fbdd20a2e401c0077bce5417909c9530140bc93e2b4ae198c6326737b3e1525715109b6fa65cac52be9c1889408ba2d3ddeac9af8c944513905275280c9e8ac5fb6c83a7100137173c3e6a402857cb4c6de00000000\n",
      "0001013c29211e2e6b9a594f28fd9e8b650dd2f64e7024d398fbc4c98f3b8800cef1350000000000ffffffff0358020000000000002251203905d81b457b42e8d5eb1ae5280c83c74fbdd20a2e401c0077bce5417909c95358020000000000002251203905d81b457b42e8d5eb1ae5280c83c74fbdd20a2e401c0077bce5417909c953eba60d00000000002251203905d81b457b42e8d5eb1ae5280c83c74fbdd20a2e401c0077bce5417909c9530140bc93e2b4ae198c6326737b3e1525715109b6fa65cac52be9c1889408ba2d3ddeac9af8c944513905275280c9e8ac5fb6c83a7100137173c3e6a402857cb4c6de00000000\n"
     ]
    }
   ],
   "source": [
    "tx_bytes = bytes.fromhex(tx)\n",
    "ptr = 4\n",
    "print(tx_bytes.hex())\n",
    "print(tx_bytes[ptr:].hex())"
   ]
  },
  {
   "cell_type": "code",
   "execution_count": 107,
   "id": "e1f2fc42",
   "metadata": {
    "scrolled": true
   },
   "outputs": [
    {
     "name": "stdout",
     "output_type": "stream",
     "text": [
      "{'inputs': [{'scriptSig': b'',\n",
      "             'sequence': b'\\xff\\xff\\xff\\xff',\n",
      "             'txid': b'<)!\\x1e.k\\x9aYO(\\xfd\\x9e\\x8be\\r\\xd2\\xf6Np$'\n",
      "                     b'\\xd3\\x98\\xfb\\xc4\\xc9\\x8f;\\x88\\x00\\xce\\xf15',\n",
      "             'vout': b'\\x00\\x00\\x00\\x00'}],\n",
      " 'locktime': b'\\x00\\x00\\x00\\x00',\n",
      " 'marker_flag': b'\\x00\\x01',\n",
      " 'outputs': [{'amount': b'X\\x02\\x00\\x00\\x00\\x00\\x00\\x00',\n",
      "              'scriptPubKey': b'Q 9\\x05\\xd8\\x1bE{B\\xe8\\xd5\\xeb\\x1a\\xe5(\\x0c'\n",
      "                              b'\\x83\\xc7O\\xbd\\xd2\\n.@\\x1c\\x00w\\xbc\\xe5Ay\\t'\n",
      "                              b'\\xc9S'},\n",
      "             {'amount': b'X\\x02\\x00\\x00\\x00\\x00\\x00\\x00',\n",
      "              'scriptPubKey': b'Q 9\\x05\\xd8\\x1bE{B\\xe8\\xd5\\xeb\\x1a\\xe5(\\x0c'\n",
      "                              b'\\x83\\xc7O\\xbd\\xd2\\n.@\\x1c\\x00w\\xbc\\xe5Ay\\t'\n",
      "                              b'\\xc9S'},\n",
      "             {'amount': b'\\xeb\\xa6\\r\\x00\\x00\\x00\\x00\\x00',\n",
      "              'scriptPubKey': b'Q 9\\x05\\xd8\\x1bE{B\\xe8\\xd5\\xeb\\x1a\\xe5(\\x0c'\n",
      "                              b'\\x83\\xc7O\\xbd\\xd2\\n.@\\x1c\\x00w\\xbc\\xe5Ay\\t'\n",
      "                              b'\\xc9S'}],\n",
      " 'version': b'\\x02\\x00\\x00\\x00',\n",
      " 'witnesses': [[b'\\xbc\\x93\\xe2\\xb4\\xae\\x19\\x8cc&s{>\\x15%qQ\\t\\xb6\\xfae'\n",
      "                b'\\xca\\xc5+\\xe9\\xc1\\x88\\x94\\x08\\xba-=\\xde\\xac\\x9a\\xf8\\xc9'\n",
      "                b\"DQ9\\x05'R\\x80\\xc9\\xe8\\xac_\\xb6\\xc8:q\\x00\\x13qs\\xc3\"\n",
      "                b'\\xe6\\xa4\\x02\\x85|\\xb4\\xc6\\xde']]}\n"
     ]
    }
   ],
   "source": [
    "pprint(parse_tx_bytes_mine(tx))"
   ]
  },
  {
   "cell_type": "code",
   "execution_count": 68,
   "id": "1bd41d00",
   "metadata": {
    "scrolled": false
   },
   "outputs": [],
   "source": [
    "def parse_witness_bytes(data):\n",
    "    count, size = parse_compact_size(data)\n",
    "    ptr = size\n",
    "    witnesses = []\n",
    "    for _ in range(0, count):\n",
    "        witlen, size = parse_compact_size(data[ptr:])\n",
    "        ptr += size\n",
    "        witnesses.append(data[ptr:ptr+witlen])\n",
    "        ptr += witlen\n",
    "\n",
    "    return witnesses, ptr"
   ]
  },
  {
   "cell_type": "code",
   "execution_count": 69,
   "id": "f4c31597",
   "metadata": {},
   "outputs": [],
   "source": [
    "txdata = parse_tx_bytes_mine(tx)"
   ]
  },
  {
   "cell_type": "code",
   "execution_count": 133,
   "id": "33cabf50",
   "metadata": {},
   "outputs": [],
   "source": [
    "assert len(txdata['witnesses'][0]) == 1"
   ]
  },
  {
   "cell_type": "code",
   "execution_count": 71,
   "id": "fb578b55",
   "metadata": {},
   "outputs": [
    {
     "name": "stdout",
     "output_type": "stream",
     "text": [
      "bc93e2b4ae198c6326737b3e1525715109b6fa65cac52be9c1889408ba2d3ddeac9af8c944513905275280c9e8ac5fb6c83a7100137173c3e6a402857cb4c6de\n"
     ]
    }
   ],
   "source": [
    "print(txdata['witnesses'][0][0].hex())"
   ]
  },
  {
   "cell_type": "code",
   "execution_count": 215,
   "id": "f247319d",
   "metadata": {},
   "outputs": [],
   "source": [
    "sig = txdata['witnesses'][0][0]"
   ]
  },
  {
   "cell_type": "code",
   "execution_count": 73,
   "id": "f7cdf944",
   "metadata": {},
   "outputs": [
    {
     "name": "stdout",
     "output_type": "stream",
     "text": [
      "bc93e2b4ae198c6326737b3e1525715109b6fa65cac52be9c1889408ba2d3ddeac9af8c944513905275280c9e8ac5fb6c83a7100137173c3e6a402857cb4c6de\n"
     ]
    }
   ],
   "source": [
    "print(sig.hex())"
   ]
  },
  {
   "cell_type": "code",
   "execution_count": 76,
   "id": "ef388ecf",
   "metadata": {},
   "outputs": [
    {
     "name": "stdout",
     "output_type": "stream",
     "text": [
      "64\n"
     ]
    }
   ],
   "source": [
    "print(len(sig))"
   ]
  },
  {
   "cell_type": "markdown",
   "id": "1196a6e6",
   "metadata": {},
   "source": [
    "## Validating a Signature\n",
    "\n",
    "What message did this signature sign?\n",
    "\n",
    "Finding the \"sighash\" of that message. \n",
    "\n",
    "Take the bitcoin transaction that the signature was embedded into. From this transaction, we'll create a hash.\n",
    "\n",
    "That hash of the bitcoin transaction \"message digest\" which is the hash that the signature \"signed\"."
   ]
  },
  {
   "cell_type": "code",
   "execution_count": 74,
   "id": "239c41e7",
   "metadata": {},
   "outputs": [
    {
     "name": "stdout",
     "output_type": "stream",
     "text": [
      "020000000001013c29211e2e6b9a594f28fd9e8b650dd2f64e7024d398fbc4c98f3b8800cef1350000000000ffffffff0358020000000000002251203905d81b457b42e8d5eb1ae5280c83c74fbdd20a2e401c0077bce5417909c95358020000000000002251203905d81b457b42e8d5eb1ae5280c83c74fbdd20a2e401c0077bce5417909c953eba60d00000000002251203905d81b457b42e8d5eb1ae5280c83c74fbdd20a2e401c0077bce5417909c9530140bc93e2b4ae198c6326737b3e1525715109b6fa65cac52be9c1889408ba2d3ddeac9af8c944513905275280c9e8ac5fb6c83a7100137173c3e6a402857cb4c6de00000000\n"
     ]
    }
   ],
   "source": [
    "print(tx)"
   ]
  },
  {
   "cell_type": "code",
   "execution_count": 75,
   "id": "d3cbd894",
   "metadata": {},
   "outputs": [
    {
     "name": "stdout",
     "output_type": "stream",
     "text": [
      "{'inputs': [{'scriptSig': b'',\n",
      "             'sequence': b'\\xff\\xff\\xff\\xff',\n",
      "             'txid': b'<)!\\x1e.k\\x9aYO(\\xfd\\x9e\\x8be\\r\\xd2\\xf6Np$'\n",
      "                     b'\\xd3\\x98\\xfb\\xc4\\xc9\\x8f;\\x88\\x00\\xce\\xf15',\n",
      "             'vout': b'\\x00\\x00\\x00\\x00'}],\n",
      " 'locktime': b'\\x00\\x00\\x00\\x00',\n",
      " 'marker_flag': b'\\x00\\x01',\n",
      " 'outputs': [{'amount': b'X\\x02\\x00\\x00\\x00\\x00\\x00\\x00',\n",
      "              'scriptPubKey': b'Q 9\\x05\\xd8\\x1bE{B\\xe8\\xd5\\xeb\\x1a\\xe5(\\x0c'\n",
      "                              b'\\x83\\xc7O\\xbd\\xd2\\n.@\\x1c\\x00w\\xbc\\xe5Ay\\t'\n",
      "                              b'\\xc9S'},\n",
      "             {'amount': b'X\\x02\\x00\\x00\\x00\\x00\\x00\\x00',\n",
      "              'scriptPubKey': b'Q 9\\x05\\xd8\\x1bE{B\\xe8\\xd5\\xeb\\x1a\\xe5(\\x0c'\n",
      "                              b'\\x83\\xc7O\\xbd\\xd2\\n.@\\x1c\\x00w\\xbc\\xe5Ay\\t'\n",
      "                              b'\\xc9S'},\n",
      "             {'amount': b'\\xeb\\xa6\\r\\x00\\x00\\x00\\x00\\x00',\n",
      "              'scriptPubKey': b'Q 9\\x05\\xd8\\x1bE{B\\xe8\\xd5\\xeb\\x1a\\xe5(\\x0c'\n",
      "                              b'\\x83\\xc7O\\xbd\\xd2\\n.@\\x1c\\x00w\\xbc\\xe5Ay\\t'\n",
      "                              b'\\xc9S'}],\n",
      " 'version': b'\\x02\\x00\\x00\\x00',\n",
      " 'witnesses': [[b'\\xbc\\x93\\xe2\\xb4\\xae\\x19\\x8cc&s{>\\x15%qQ\\t\\xb6\\xfae'\n",
      "                b'\\xca\\xc5+\\xe9\\xc1\\x88\\x94\\x08\\xba-=\\xde\\xac\\x9a\\xf8\\xc9'\n",
      "                b\"DQ9\\x05'R\\x80\\xc9\\xe8\\xac_\\xb6\\xc8:q\\x00\\x13qs\\xc3\"\n",
      "                b'\\xe6\\xa4\\x02\\x85|\\xb4\\xc6\\xde']]}\n"
     ]
    }
   ],
   "source": [
    "pprint(txdata)"
   ]
  },
  {
   "cell_type": "markdown",
   "id": "2392d3d6",
   "metadata": {},
   "source": [
    "## Find the SigMsg for a transaction\n",
    "\n",
    "Here we use the BIP341 Signature Validation Rules (https://github.com/bitcoin/bips/blob/master/bip-0341.mediawiki#user-content-Common_signature_message) Common signature message definition to calculate the SIGHASH_DEFAULT for a given transaction.\n",
    "\n",
    "We'll use this to compute the sighash for this input, which we need to validate the signature."
   ]
  },
  {
   "cell_type": "code",
   "execution_count": 104,
   "id": "72d626d1",
   "metadata": {},
   "outputs": [],
   "source": [
    "from hashlib import sha256\n",
    "from codes import size_compact_size\n",
    "\n",
    "def sigmsg_default(tx_hex, input_index, annex_bytes, amounts_bytes, scriptpubkeys_bytes, ext_flag):\n",
    "    txdata = parse_tx_bytes_mine(tx_hex)\n",
    "    \n",
    "    result = b''\n",
    "    result += bytes([0x00]) # sighash_flag\n",
    "    result += txdata['version']\n",
    "    result += txdata['locktime']\n",
    "\n",
    "    all_input_outpoints = b''\n",
    "    for inp in txdata['inputs']:\n",
    "        # txid || vout\n",
    "        all_input_outpoints += inp['txid'] + inp['vout']    \n",
    "    sha_prevouts = sha256(all_input_outpoints).digest()\n",
    "    result += sha_prevouts\n",
    "    \n",
    "    sha_amounts = sha256(b''.join(amounts_bytes)).digest()        \n",
    "    result += sha_amounts\n",
    "    \n",
    "    spks = b''\n",
    "    for spk in scriptpubkeys_bytes:\n",
    "        spks += size_compact_size(len(spk)) + spk\n",
    "    sha_scriptpubkeys = sha256(spks).digest()\n",
    "    result += sha_scriptpubkeys\n",
    "    \n",
    "    all_sequences = [ i['sequence'] for i in txdata['inputs'] ]\n",
    "    sha_sequences = sha256(b''.join(all_sequences)).digest()\n",
    "    result += sha_sequences\n",
    "    \n",
    "    all_outputs = b''\n",
    "    for o in txdata['outputs']:\n",
    "        # amount || compact_size(scriptpubkey) || scriptpubkey\n",
    "        all_outputs += o['amount']\n",
    "        all_outputs += size_compact_size(len(o['scriptPubKey']))\n",
    "        all_outputs += o['scriptPubKey']\n",
    "    sha_outputs = sha256(all_outputs).digest()\n",
    "    result += sha_outputs\n",
    "    \n",
    "    # data about this input\n",
    "    annex_present = 1 if annex_bytes else 0\n",
    "    spend_type = 2 * ext_flag + annex_present\n",
    "    result += (spend_type).to_bytes(1, 'little')\n",
    "    result += (input_index).to_bytes(4, 'little')\n",
    "    \n",
    "    if (annex_bytes):\n",
    "        size_bytes = size_compact_size(len(annex_bytes))\n",
    "        sha_annex = sha256(size_bytes + annex_bytes).digest()\n",
    "        result += sha_annex\n",
    "    \n",
    "    # data about this output\n",
    "    # noop for SIGHASH_DEFAULT\n",
    "    \n",
    "    assert len(result) <= 206\n",
    "    return result"
   ]
  },
  {
   "cell_type": "code",
   "execution_count": 98,
   "id": "ee7cca7f",
   "metadata": {},
   "outputs": [
    {
     "name": "stdout",
     "output_type": "stream",
     "text": [
      "{'amount': b'\\xdc\\xab\\x0e\\x00\\x00\\x00\\x00\\x00', 'scriptPubKey': b'Q 9\\x05\\xd8\\x1bE{B\\xe8\\xd5\\xeb\\x1a\\xe5(\\x0c\\x83\\xc7O\\xbd\\xd2\\n.@\\x1c\\x00w\\xbc\\xe5Ay\\t\\xc9S'}\n"
     ]
    }
   ],
   "source": [
    "spent_from_tx = parse_tx_bytes_mine(\"02000000000101d79ca7455775b3fc7bf65eae536faa22e6248b863247cee30765fabb4fafadb80100000000ffffffff02dcab0e00000000002251203905d81b457b42e8d5eb1ae5280c83c74fbdd20a2e401c0077bce5417909c953944be70400000000225120dc2e293b7717ece7898fefc8fd7f6da13e8fb56efac0bc3bd75183304da6ad1701409dab8ddd9c703d1acb6736bc5260b23e64999cb130b9b3ca6c2e69aa084073302b66f0ecb5b4a191618951c022da2c429ac3638613c43bbb88a761634c2cb85300000000\")\n",
    "\n",
    "print(spent_from_tx['outputs'][0])"
   ]
  },
  {
   "cell_type": "code",
   "execution_count": 105,
   "id": "2a09786e",
   "metadata": {},
   "outputs": [
    {
     "name": "stdout",
     "output_type": "stream",
     "text": [
      "amounts: ['dcab0e0000000000']\n",
      "scriptpubkeys: ['51203905d81b457b42e8d5eb1ae5280c83c74fbdd20a2e401c0077bce5417909c953'] \n",
      "\n",
      "sigmsg: 000200000000000000002b9b64a25d11192d251c2e088e7cbc65889963ff67244102b5fc7cb1b4feb51c4eb25d1adc8a44ed6dd54bca7d3d790a7b9e66ef9a8416836882124ad71bb507d41f17121f975dfae4cb8a052b3e34576e1c272bf7e17dfe484be8d1f96317ad95131bc0b799c0b1af477fb14fcf26a6a9f76079e48bf090acb7e8367bfd0e5cdaded8d0fdd6bcb42703ac71156c5d658a47acaa0b90924087e48059d5f1c30000000000\n"
     ]
    }
   ],
   "source": [
    "amounts_bytes = [spent_from_tx['outputs'][0]['amount']]\n",
    "print(\"amounts:\", [x.hex() for x in amounts_bytes])\n",
    "\n",
    "scriptpubkeys_bytes = [spent_from_tx['outputs'][0]['scriptPubKey']]\n",
    "print(\"scriptpubkeys:\", [x.hex() for x in scriptpubkeys_bytes], \"\\n\")\n",
    "\n",
    "ext_flag = 0\n",
    "annex_bytes = None\n",
    "input_index = 0\n",
    "\n",
    "sigmsg = sigmsg_default(tx, input_index, annex_bytes, amounts_bytes, scriptpubkeys_bytes, ext_flag)\n",
    "\n",
    "print(\"sigmsg:\", sigmsg.hex())"
   ]
  },
  {
   "cell_type": "markdown",
   "id": "47d1da59",
   "metadata": {},
   "source": [
    "## Computing the Sighash\n",
    "\n",
    "Now that we have the sighash message, we can calculate the actual \"sighash\" for the signature.\n",
    "\n",
    "The `sighash` for Taproot key path spending signature valdiation is as follows:\n",
    "\n",
    "```\n",
    "sighash = tag_hash(b'TapSighash', bytes([0x00]) + sigmsg)\n",
    "```\n",
    "\n",
    "We'll need to implement the `tag_hash` function, then pass our `sigmsg` into this to find the `sighash`."
   ]
  },
  {
   "cell_type": "code",
   "execution_count": 126,
   "id": "ed4d48f4",
   "metadata": {},
   "outputs": [],
   "source": [
    "from hashlib import sha256\n",
    "\n",
    "def tag_hash(tag, data_bytes):\n",
    "    taghash = sha256(tag).digest()\n",
    "    return sha256(taghash + taghash + data_bytes).digest()"
   ]
  },
  {
   "cell_type": "code",
   "execution_count": 127,
   "id": "82cce04a",
   "metadata": {},
   "outputs": [
    {
     "name": "stdout",
     "output_type": "stream",
     "text": [
      "c09a12ac690db9c044c0df972aec9f574cf12677b80b1b82e910bf9e16f3b115\n"
     ]
    }
   ],
   "source": [
    "sighash = tag_hash(b'TapSighash', bytes([0x00]) + sigmsg)\n",
    "print(sighash.hex())"
   ]
  },
  {
   "cell_type": "markdown",
   "id": "84d5158d",
   "metadata": {},
   "source": [
    "## Verifying the Sighash\n",
    "\n",
    "Now that we've got the `sighash` we're finally ready to verify the signature.\n",
    "\n",
    "For this, we'll need the `verify` function, which is defined in BIP340."
   ]
  },
  {
   "cell_type": "code",
   "execution_count": 134,
   "id": "f7bac652",
   "metadata": {},
   "outputs": [
    {
     "name": "stdout",
     "output_type": "stream",
     "text": [
      "25792158117016797743484614046835601668965634494428223733945610235101691103571\n"
     ]
    }
   ],
   "source": [
    "# there are three inputs to the verify function: pubkey, message, signature\n",
    "pk = x_val\n",
    "m = sighash\n",
    "sig = sig\n",
    "\n",
    "print(x_val)"
   ]
  },
  {
   "cell_type": "code",
   "execution_count": 219,
   "id": "1d0470e4",
   "metadata": {},
   "outputs": [],
   "source": [
    "from codes import n\n",
    "\n",
    "def verify(x_val, m, sig):\n",
    "    P = lift_x(x_val)\n",
    "    assert len(sig) == 64\n",
    "    r = int.from_bytes(sig[:32], 'big')\n",
    "    if r >= p:\n",
    "        return False\n",
    "    s = int.from_bytes(sig[32:], 'big')\n",
    "    if s >= n:\n",
    "        return False\n",
    "    \n",
    "    P_bytes = (x_val).to_bytes(32, 'big')\n",
    "    challenge_hash = tag_hash(b'BIP0340/challenge', sig[:32] + P_bytes + m)\n",
    "    e = int.from_bytes(challenge_hash, 'big') % n\n",
    "    \n",
    "    # e * P\n",
    "    eP = P.multiply(e.to_bytes(32, 'big'))\n",
    "    # s * G\n",
    "    sG = coincurve.PrivateKey.from_int(s).public_key\n",
    "    neg_eP = invert_point(eP)\n",
    "    \n",
    "    # R = sG - eP = sG + -eP\n",
    "    R = coincurve.PublicKey.combine_keys([sG, neg_eP])\n",
    "    \n",
    "    if not has_even_y(R):\n",
    "        return False\n",
    "    \n",
    "    return R.point()[0] == r"
   ]
  },
  {
   "cell_type": "code",
   "execution_count": 209,
   "id": "67aebbc6",
   "metadata": {},
   "outputs": [],
   "source": [
    "def invert_point(pt):\n",
    "    x, y = pt.point()\n",
    "    yneg = p - y\n",
    "    return coincurve.PublicKey.from_point(x, yneg)"
   ]
  },
  {
   "cell_type": "code",
   "execution_count": 210,
   "id": "23ccac8d",
   "metadata": {},
   "outputs": [],
   "source": [
    "def has_even_y(pt):\n",
    "    return pt.point()[1] % 2 == 0"
   ]
  },
  {
   "cell_type": "code",
   "execution_count": 220,
   "id": "a0cccf83",
   "metadata": {},
   "outputs": [
    {
     "data": {
      "text/plain": [
       "True"
      ]
     },
     "execution_count": 220,
     "metadata": {},
     "output_type": "execute_result"
    }
   ],
   "source": [
    "sig = txdata['witnesses'][0][0]\n",
    "verify(x_val, m, sig)"
   ]
  },
  {
   "cell_type": "markdown",
   "id": "a6678a0c",
   "metadata": {},
   "source": [
    "## Signing a message\n",
    "\n",
    "Now that we've been able to successfully verify a message, let's finish implementing the second method for Schnorr: the Sign method.\n",
    "\n",
    "This takes a private key and a message and returns a valid signature.\n",
    "\n",
    "```\n",
    "sig = Sign(privkey, msg)\n",
    "```"
   ]
  },
  {
   "cell_type": "code",
   "execution_count": 224,
   "id": "148a3819",
   "metadata": {},
   "outputs": [],
   "source": [
    "def scalar_to_pubkey(scalar_val):\n",
    "    assert scalar_val != 0 and scalar_val < n\n",
    "    P = coincurve.PrivateKey.from_int(scalar_val).public_key\n",
    "    result = scalar_val if has_even_y(P) else n - scalar_val\n",
    "    \n",
    "    return result, P\n",
    "\n",
    "\n",
    "def sign_msg(privkey_int, msg, nonce_int):\n",
    "    d, P = scalar_to_pubkey(privkey_int)\n",
    "    k, R = scalar_to_pubkey(nonce_int)\n",
    "    \n",
    "    bytes_R = (R.point()[0].to_bytes(32, 'big'))\n",
    "    bytes_P = (P.point()[0].to_bytes(32, 'big'))\n",
    "    challenge_hash = tag_hash(b'BIP0340/challenge', bytes_R + bytes_P + msg)\n",
    "    e = int.from_bytes(challenge_hash, 'big') % n\n",
    "    \n",
    "    # ~~~BEGIN SCHNORR PART~~~\n",
    "    s = (k + e * d) % n\n",
    "    # ~~~ END SCHNORR PART ~~~\n",
    "    \n",
    "    sig = bytes_R + s.to_bytes(32, 'big')\n",
    "    assert verify(P.point()[0], m, sig)\n",
    "    return sig"
   ]
  },
  {
   "cell_type": "code",
   "execution_count": 225,
   "id": "35c80e57",
   "metadata": {},
   "outputs": [
    {
     "name": "stdout",
     "output_type": "stream",
     "text": [
      "2f8bde4d1a07209355b4a7250a5c5128e88b84bddc619ab7cba8d569b240efe4de48d2d7d8f794b7e45e4701c5385b94d87543365be474d9941f15d4ecf211a2\n"
     ]
    }
   ],
   "source": [
    "privkey = 10\n",
    "nonce = 5\n",
    "sig = sign_msg(privkey, m, nonce)\n",
    "\n",
    "print(sig.hex())"
   ]
  }
 ],
 "metadata": {
  "kernelspec": {
   "display_name": "Python 3 (ipykernel)",
   "language": "python",
   "name": "python3"
  },
  "language_info": {
   "codemirror_mode": {
    "name": "ipython",
    "version": 3
   },
   "file_extension": ".py",
   "mimetype": "text/x-python",
   "name": "python",
   "nbconvert_exporter": "python",
   "pygments_lexer": "ipython3",
   "version": "3.10.5"
  }
 },
 "nbformat": 4,
 "nbformat_minor": 5
}
