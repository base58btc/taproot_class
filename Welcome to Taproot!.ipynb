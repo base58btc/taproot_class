{
 "cells": [
  {
   "cell_type": "markdown",
   "id": "2afb669f",
   "metadata": {},
   "source": [
    "# Background on Taproot\n",
    "\n",
    "## Where does \"taproot\" come from?\n",
    "\n",
    "Taproot is a series of bitcoin BIPS (bitcoin improvement proposals) that were merged into bitcoin-core in 2021.\n",
    "\n",
    "It was most recent bitcoin soft-fork and it went live in November 2021.\n",
    "\n",
    "The BIPS can be found on github. They are as follows:\n",
    "\n",
    "- BIP340, Schnorr Signatures https://github.com/bitcoin/bips/blob/master/bip-0340.mediawiki\n",
    "- BIP341, Taproot Segwit v1 https://github.com/bitcoin/bips/blob/master/bip-0341.mediawiki\n",
    "- BIP342, Validating Taproot Spends https://github.com/bitcoin/bips/blob/master/bip-0342.mediawiki\n",
    "- BIP350, Bech32m https://github.com/bitcoin/bips/blob/master/bip-0350.mediawiki"
   ]
  },
  {
   "cell_type": "markdown",
   "id": "14a02606",
   "metadata": {},
   "source": [
    "## What did \"taproot\" change?\n",
    "\n",
    "Taproot added and modified many things in bitcoin. Including\n",
    "\n",
    "- A new signature algorithm (Schnorr)\n",
    "- A new version of Script opcodes (Segwit v1)\n",
    "- A new bitcoin address checksum (bech32m)\n",
    "- Removed some opcodes we know and love (OP_CHECKMULTISIG)\n",
    "- Added a new opcode (OP_CHECKSIGADD)\n",
    "- Added a new scripthash algorithm"
   ]
  },
  {
   "cell_type": "markdown",
   "id": "59c11a6f",
   "metadata": {},
   "source": [
    "# Finding Taproot in the Wild\n",
    "\n",
    "Let's go to mempool.space and find some taproot addresses in the wild!\n",
    "\n",
    "\n",
    "\n",
    "## How to spot a taproot address\n",
    "\n",
    "The bech32 address has a `p` immediately following the `1`\n",
    "\n",
    "Find a taproot address on mempool dot space.\n",
    "\n",
    "What's the \"Type\" for this address?\n",
    "\n",
    "\n",
    "Copy paste the \"ScriptPubKey (HEX)\" for the address you found into the pyblock below."
   ]
  },
  {
   "cell_type": "code",
   "execution_count": 5,
   "id": "1fbc845c",
   "metadata": {},
   "outputs": [],
   "source": [
    "scriptpubkey = \"51203905d81b457b42e8d5eb1ae5280c83c74fbdd20a2e401c0077bce5417909c953\""
   ]
  },
  {
   "cell_type": "code",
   "execution_count": 6,
   "id": "a482867e",
   "metadata": {},
   "outputs": [
    {
     "name": "stdout",
     "output_type": "stream",
     "text": [
      "51203905d81b457b42e8d5eb1ae5280c83c74fbdd20a2e401c0077bce5417909c953\n"
     ]
    }
   ],
   "source": [
    "print(scriptpubkey)"
   ]
  },
  {
   "cell_type": "code",
   "execution_count": 7,
   "id": "9576aa40",
   "metadata": {},
   "outputs": [
    {
     "data": {
      "text/plain": [
       "34"
      ]
     },
     "execution_count": 7,
     "metadata": {},
     "output_type": "execute_result"
    }
   ],
   "source": [
    "len(scriptpubkey) // 2"
   ]
  },
  {
   "cell_type": "markdown",
   "id": "b3faafb0",
   "metadata": {},
   "source": [
    "This is a series of opcodes. If you pass this to `bitcoin-cli decodescript` what does it print back as the asm?"
   ]
  },
  {
   "cell_type": "code",
   "execution_count": 8,
   "id": "d0ae6734",
   "metadata": {},
   "outputs": [
    {
     "name": "stdout",
     "output_type": "stream",
     "text": [
      "{\r\n",
      "  \"asm\": \"1 3905d81b457b42e8d5eb1ae5280c83c74fbdd20a2e401c0077bce5417909c953\",\r\n",
      "  \"desc\": \"addr(bcrt1p8yzasx690dpw340trtjjsryrca8mm5s29eqpcqrhhnj5z7gfe9fsysf0jl)#95u636fj\",\r\n",
      "  \"address\": \"bcrt1p8yzasx690dpw340trtjjsryrca8mm5s29eqpcqrhhnj5z7gfe9fsysf0jl\",\r\n",
      "  \"type\": \"witness_v1_taproot\"\r\n",
      "}\r\n"
     ]
    }
   ],
   "source": [
    "!bitcoin-cli -regtest decodescript 51203905d81b457b42e8d5eb1ae5280c83c74fbdd20a2e401c0077bce5417909c953"
   ]
  },
  {
   "cell_type": "code",
   "execution_count": 9,
   "id": "bc473f18",
   "metadata": {},
   "outputs": [],
   "source": [
    "output = {\n",
    "  \"asm\": \"1 3905d81b457b42e8d5eb1ae5280c83c74fbdd20a2e401c0077bce5417909c953\",\n",
    "  \"desc\": \"addr(bcrt1p8yzasx690dpw340trtjjsryrca8mm5s29eqpcqrhhnj5z7gfe9fsysf0jl)#95u636fj\",\n",
    "  \"address\": \"bcrt1p8yzasx690dpw340trtjjsryrca8mm5s29eqpcqrhhnj5z7gfe9fsysf0jl\",\n",
    "  \"type\": \"witness_v1_taproot\"\n",
    "}"
   ]
  },
  {
   "cell_type": "code",
   "execution_count": 10,
   "id": "87353851",
   "metadata": {},
   "outputs": [
    {
     "name": "stdout",
     "output_type": "stream",
     "text": [
      "1 3905d81b457b42e8d5eb1ae5280c83c74fbdd20a2e401c0077bce5417909c953\n"
     ]
    }
   ],
   "source": [
    "print(output['asm'])"
   ]
  },
  {
   "cell_type": "code",
   "execution_count": 11,
   "id": "0501c7e3",
   "metadata": {},
   "outputs": [
    {
     "data": {
      "text/plain": [
       "['1', '3905d81b457b42e8d5eb1ae5280c83c74fbdd20a2e401c0077bce5417909c953']"
      ]
     },
     "execution_count": 11,
     "metadata": {},
     "output_type": "execute_result"
    }
   ],
   "source": [
    "output['asm'].split(\" \")"
   ]
  },
  {
   "cell_type": "code",
   "execution_count": 12,
   "id": "7c26788b",
   "metadata": {},
   "outputs": [
    {
     "data": {
      "text/plain": [
       "32"
      ]
     },
     "execution_count": 12,
     "metadata": {},
     "output_type": "execute_result"
    }
   ],
   "source": [
    "len(output['asm'].split(\" \")[1]) // 2"
   ]
  },
  {
   "cell_type": "code",
   "execution_count": 13,
   "id": "c6b080c6",
   "metadata": {
    "scrolled": true
   },
   "outputs": [
    {
     "name": "stdout",
     "output_type": "stream",
     "text": [
      "witness_v1_taproot\n"
     ]
    }
   ],
   "source": [
    "print(output['type'])"
   ]
  },
  {
   "cell_type": "code",
   "execution_count": 14,
   "id": "271d89d2",
   "metadata": {},
   "outputs": [
    {
     "name": "stdout",
     "output_type": "stream",
     "text": [
      "hex:\t\t 3905d81b457b42e8d5eb1ae5280c83c74fbdd20a2e401c0077bce5417909c953\n",
      "int val:\t 25792158117016797743484614046835601668965634494428223733945610235101691103571\n"
     ]
    }
   ],
   "source": [
    "x_bytes = bytes.fromhex(output['asm'].split(' ')[1])\n",
    "print('hex:\\t\\t', x_bytes.hex())\n",
    "\n",
    "x_val = int.from_bytes(x_bytes, 'big')\n",
    "print('int val:\\t', x_val)"
   ]
  },
  {
   "cell_type": "markdown",
   "id": "2d05ced0",
   "metadata": {},
   "source": [
    "## Finding the secp256k1 pubkey from a P2TR address\n",
    "\n",
    "Now that we have the x-only pubkey, let's figure out what point that is on the secp256k1 curve.\n",
    "\n",
    "We can do that using `lift_x_pubkey`. This takes an integer and returns a point.\n",
    "\n",
    "In my case, I'll use `coincurve`, a python library for expressing + doing math with public keys."
   ]
  },
  {
   "cell_type": "code",
   "execution_count": 15,
   "id": "4344e1f7",
   "metadata": {},
   "outputs": [],
   "source": [
    "p = 115792089237316195423570985008687907853269984665640564039457584007908834671663\n",
    "def lift_x(x_value):\n",
    "    assert x_value < p\n",
    "    # find y squared (y2 = x^3 + 7)\n",
    "    y2 = (x_value ** 3 + 7) % p\n",
    "    # find the square root of y\n",
    "    y = pow(y2, (p+1)//4, p)\n",
    "    assert (y ** 2 % p) == y2\n",
    "    # if y is odd, find even y\n",
    "    if y % 2 != 0:\n",
    "        y = p - y\n",
    "    return coincurve.PublicKey.from_point(x_value, y)"
   ]
  },
  {
   "cell_type": "code",
   "execution_count": 16,
   "id": "759f7fdc",
   "metadata": {},
   "outputs": [
    {
     "name": "stdout",
     "output_type": "stream",
     "text": [
      "023905d81b457b42e8d5eb1ae5280c83c74fbdd20a2e401c0077bce5417909c953\n",
      "(25792158117016797743484614046835601668965634494428223733945610235101691103571, 4191453718700008539754125939901750860298491226938149986069530358203844164198)\n"
     ]
    }
   ],
   "source": [
    "import coincurve\n",
    "\n",
    "point = lift_x(x_val)\n",
    "print(point.format().hex())\n",
    "print(point.point())"
   ]
  },
  {
   "cell_type": "markdown",
   "id": "f1993a06",
   "metadata": {},
   "source": [
    "## Let's Get Familiar With The Tools!"
   ]
  },
  {
   "cell_type": "code",
   "execution_count": 17,
   "id": "7981b44b",
   "metadata": {},
   "outputs": [],
   "source": [
    "from codes import parse_tx_bytes\n",
    "\n",
    "tx = \"020000000001013c29211e2e6b9a594f28fd9e8b650dd2f64e7024d398fbc4c98f3b8800cef1350000000000ffffffff0358020000000000002251203905d81b457b42e8d5eb1ae5280c83c74fbdd20a2e401c0077bce5417909c95358020000000000002251203905d81b457b42e8d5eb1ae5280c83c74fbdd20a2e401c0077bce5417909c953eba60d00000000002251203905d81b457b42e8d5eb1ae5280c83c74fbdd20a2e401c0077bce5417909c9530140bc93e2b4ae198c6326737b3e1525715109b6fa65cac52be9c1889408ba2d3ddeac9af8c944513905275280c9e8ac5fb6c83a7100137173c3e6a402857cb4c6de00000000\""
   ]
  },
  {
   "cell_type": "markdown",
   "id": "ee733acc",
   "metadata": {},
   "source": [
    "First things first, let's update the `parse_tx_bytes` method to be able to handle segwit (any version) transactions."
   ]
  },
  {
   "cell_type": "code",
   "execution_count": 18,
   "id": "1bd41d00",
   "metadata": {
    "scrolled": false
   },
   "outputs": [],
   "source": [
    "def parse_witness_bytes(data):\n",
    "    count, size = parse_compact_size(data)\n",
    "    ptr = size\n",
    "    witnesses = []\n",
    "    for _ in range(0, count):\n",
    "        witlen, size = parse_compact_size(data[ptr:])\n",
    "        ptr += size\n",
    "        witnesses.append(data[ptr:ptr+witlen])\n",
    "        ptr += witlen\n",
    "\n",
    "    return witnesses, ptr"
   ]
  },
  {
   "cell_type": "code",
   "execution_count": 19,
   "id": "020ab911",
   "metadata": {},
   "outputs": [],
   "source": [
    "from codes import parse_compact_size, parse_input_bytes, parse_output_bytes\n",
    "\n",
    "def parse_tx_bytes_mine(tx_hex):\n",
    "  tx_bytes = bytes.fromhex(tx_hex)\n",
    "  tx = {}\n",
    "  ptr = 0\n",
    "  tx['version'] = tx_bytes[0:4]\n",
    "  ptr += 4\n",
    "\n",
    "  if tx_bytes[ptr] == 0x00:\n",
    "    assert tx_bytes[ptr+1] == 0x01\n",
    "    tx['marker_flag'] = bytes([0x00, 0x01])\n",
    "    ptr += 2\n",
    "\n",
    "  count, size = parse_compact_size(tx_bytes[ptr:])\n",
    "  ptr += size \n",
    "  tx['inputs'] = []\n",
    "  for _ in range(0, count):\n",
    "    inputx, size = parse_input_bytes(tx_bytes[ptr:])\n",
    "    ptr += size\n",
    "    tx['inputs'].append(inputx)\n",
    " \n",
    "  count, size = parse_compact_size(tx_bytes[ptr:])\n",
    "  ptr += size\n",
    "  tx['outputs'] = []\n",
    "  for _ in range(0, count):\n",
    "    outputx, size = parse_output_bytes(tx_bytes[ptr:])\n",
    "    ptr += size\n",
    "    tx['outputs'].append(outputx)\n",
    "\n",
    "  if 'marker_flag' in tx:\n",
    "    tx['witnesses'] = []\n",
    "    for _ in range(0, len(tx['inputs'])):\n",
    "        witness, size = parse_witness_bytes(tx_bytes[ptr:])\n",
    "        ptr += size\n",
    "        tx['witnesses'].append(witness)\n",
    "\n",
    "  tx['locktime'] = tx_bytes[ptr:]\n",
    "  return tx"
   ]
  },
  {
   "cell_type": "code",
   "execution_count": 20,
   "id": "9ece766e",
   "metadata": {},
   "outputs": [
    {
     "name": "stdout",
     "output_type": "stream",
     "text": [
      "020000000001013c29211e2e6b9a594f28fd9e8b650dd2f64e7024d398fbc4c98f3b8800cef1350000000000ffffffff0358020000000000002251203905d81b457b42e8d5eb1ae5280c83c74fbdd20a2e401c0077bce5417909c95358020000000000002251203905d81b457b42e8d5eb1ae5280c83c74fbdd20a2e401c0077bce5417909c953eba60d00000000002251203905d81b457b42e8d5eb1ae5280c83c74fbdd20a2e401c0077bce5417909c9530140bc93e2b4ae198c6326737b3e1525715109b6fa65cac52be9c1889408ba2d3ddeac9af8c944513905275280c9e8ac5fb6c83a7100137173c3e6a402857cb4c6de00000000\n",
      "0001013c29211e2e6b9a594f28fd9e8b650dd2f64e7024d398fbc4c98f3b8800cef1350000000000ffffffff0358020000000000002251203905d81b457b42e8d5eb1ae5280c83c74fbdd20a2e401c0077bce5417909c95358020000000000002251203905d81b457b42e8d5eb1ae5280c83c74fbdd20a2e401c0077bce5417909c953eba60d00000000002251203905d81b457b42e8d5eb1ae5280c83c74fbdd20a2e401c0077bce5417909c9530140bc93e2b4ae198c6326737b3e1525715109b6fa65cac52be9c1889408ba2d3ddeac9af8c944513905275280c9e8ac5fb6c83a7100137173c3e6a402857cb4c6de00000000\n"
     ]
    }
   ],
   "source": [
    "tx_bytes = bytes.fromhex(tx)\n",
    "ptr = 4\n",
    "print(tx_bytes.hex())\n",
    "print(tx_bytes[ptr:].hex())"
   ]
  },
  {
   "cell_type": "code",
   "execution_count": 21,
   "id": "e1f2fc42",
   "metadata": {
    "scrolled": true
   },
   "outputs": [
    {
     "name": "stdout",
     "output_type": "stream",
     "text": [
      "Pretty printing has been turned OFF\n"
     ]
    }
   ],
   "source": [
    "pprint(parse_tx_bytes_mine(tx))"
   ]
  },
  {
   "cell_type": "code",
   "execution_count": 22,
   "id": "f4c31597",
   "metadata": {},
   "outputs": [],
   "source": [
    "txdata = parse_tx_bytes_mine(tx)"
   ]
  },
  {
   "cell_type": "code",
   "execution_count": 23,
   "id": "33cabf50",
   "metadata": {},
   "outputs": [],
   "source": [
    "assert len(txdata['witnesses'][0]) == 1"
   ]
  },
  {
   "cell_type": "code",
   "execution_count": 24,
   "id": "fb578b55",
   "metadata": {},
   "outputs": [
    {
     "name": "stdout",
     "output_type": "stream",
     "text": [
      "bc93e2b4ae198c6326737b3e1525715109b6fa65cac52be9c1889408ba2d3ddeac9af8c944513905275280c9e8ac5fb6c83a7100137173c3e6a402857cb4c6de\n"
     ]
    }
   ],
   "source": [
    "print(txdata['witnesses'][0][0].hex())"
   ]
  },
  {
   "cell_type": "code",
   "execution_count": 25,
   "id": "f247319d",
   "metadata": {},
   "outputs": [],
   "source": [
    "sig = txdata['witnesses'][0][0]"
   ]
  },
  {
   "cell_type": "code",
   "execution_count": 26,
   "id": "f7cdf944",
   "metadata": {},
   "outputs": [
    {
     "name": "stdout",
     "output_type": "stream",
     "text": [
      "bc93e2b4ae198c6326737b3e1525715109b6fa65cac52be9c1889408ba2d3ddeac9af8c944513905275280c9e8ac5fb6c83a7100137173c3e6a402857cb4c6de\n"
     ]
    }
   ],
   "source": [
    "print(sig.hex())"
   ]
  },
  {
   "cell_type": "code",
   "execution_count": 27,
   "id": "ef388ecf",
   "metadata": {},
   "outputs": [
    {
     "name": "stdout",
     "output_type": "stream",
     "text": [
      "64\n"
     ]
    }
   ],
   "source": [
    "print(len(sig))"
   ]
  },
  {
   "cell_type": "markdown",
   "id": "1196a6e6",
   "metadata": {},
   "source": [
    "## Validating a Signature\n",
    "\n",
    "What message did this signature sign?\n",
    "\n",
    "Finding the \"sighash\" of that message. \n",
    "\n",
    "Take the bitcoin transaction that the signature was embedded into. From this transaction, we'll create a hash.\n",
    "\n",
    "That hash of the bitcoin transaction \"message digest\" which is the hash that the signature \"signed\"."
   ]
  },
  {
   "cell_type": "code",
   "execution_count": 28,
   "id": "239c41e7",
   "metadata": {},
   "outputs": [
    {
     "name": "stdout",
     "output_type": "stream",
     "text": [
      "020000000001013c29211e2e6b9a594f28fd9e8b650dd2f64e7024d398fbc4c98f3b8800cef1350000000000ffffffff0358020000000000002251203905d81b457b42e8d5eb1ae5280c83c74fbdd20a2e401c0077bce5417909c95358020000000000002251203905d81b457b42e8d5eb1ae5280c83c74fbdd20a2e401c0077bce5417909c953eba60d00000000002251203905d81b457b42e8d5eb1ae5280c83c74fbdd20a2e401c0077bce5417909c9530140bc93e2b4ae198c6326737b3e1525715109b6fa65cac52be9c1889408ba2d3ddeac9af8c944513905275280c9e8ac5fb6c83a7100137173c3e6a402857cb4c6de00000000\n"
     ]
    }
   ],
   "source": [
    "print(tx)"
   ]
  },
  {
   "cell_type": "code",
   "execution_count": 29,
   "id": "d3cbd894",
   "metadata": {},
   "outputs": [
    {
     "name": "stdout",
     "output_type": "stream",
     "text": [
      "Pretty printing has been turned ON\n"
     ]
    }
   ],
   "source": [
    "pprint(txdata)"
   ]
  },
  {
   "cell_type": "markdown",
   "id": "2392d3d6",
   "metadata": {},
   "source": [
    "## Find the SigMsg for a transaction\n",
    "\n",
    "Here we use the BIP341 Signature Validation Rules (https://github.com/bitcoin/bips/blob/master/bip-0341.mediawiki#user-content-Common_signature_message) Common signature message definition to calculate the SIGHASH_DEFAULT for a given transaction.\n",
    "\n",
    "We'll use this to compute the sighash for this input, which we need to validate the signature."
   ]
  },
  {
   "cell_type": "code",
   "execution_count": 241,
   "id": "72d626d1",
   "metadata": {},
   "outputs": [],
   "source": [
    "from hashlib import sha256\n",
    "from codes import size_compact_size\n",
    "\n",
    "def sigmsg_default(tx_hex, input_index, annex_bytes, amounts_bytes, scriptpubkeys_bytes, ext_flag):\n",
    "    txdata = parse_tx_bytes_mine(tx_hex)\n",
    "    \n",
    "    result = b''\n",
    "    result += bytes([0x00]) # sighash_flag\n",
    "    result += txdata['version']\n",
    "    result += txdata['locktime']\n",
    "\n",
    "    all_input_outpoints = b''\n",
    "    for inp in txdata['inputs']:\n",
    "        # txid || vout\n",
    "        all_input_outpoints += inp['txid'] + inp['vout']    \n",
    "    sha_prevouts = sha256(all_input_outpoints).digest()\n",
    "    result += sha_prevouts\n",
    "    \n",
    "    sha_amounts = sha256(b''.join(amounts_bytes)).digest()        \n",
    "    result += sha_amounts\n",
    "    \n",
    "    spks = b''\n",
    "    for spk in scriptpubkeys_bytes:\n",
    "        spks += size_compact_size(len(spk)) + spk\n",
    "    sha_scriptpubkeys = sha256(spks).digest()\n",
    "    result += sha_scriptpubkeys\n",
    "    \n",
    "    all_sequences = [ i['sequence'] for i in txdata['inputs'] ]\n",
    "    sha_sequences = sha256(b''.join(all_sequences)).digest()\n",
    "    result += sha_sequences\n",
    "    \n",
    "    all_outputs = b''\n",
    "    for o in txdata['outputs']:\n",
    "        # amount || compact_size(scriptpubkey) || scriptpubkey\n",
    "        all_outputs += o['amount']\n",
    "        all_outputs += size_compact_size(len(o['scriptPubKey']))\n",
    "        all_outputs += o['scriptPubKey']\n",
    "    sha_outputs = sha256(all_outputs).digest()\n",
    "    result += sha_outputs\n",
    "    \n",
    "    # data about this input\n",
    "    annex_present = 1 if annex_bytes else 0\n",
    "    spend_type = 2 * ext_flag + annex_present\n",
    "    result += (spend_type).to_bytes(1, 'little')\n",
    "    result += (input_index).to_bytes(4, 'little')\n",
    "    \n",
    "    if (annex_bytes):\n",
    "        size_bytes = size_compact_size(len(annex_bytes))\n",
    "        sha_annex = sha256(size_bytes + annex_bytes).digest()\n",
    "        result += sha_annex\n",
    "    \n",
    "    # data about this output\n",
    "    # noop for SIGHASH_DEFAULT\n",
    "    \n",
    "    assert len(result) <= 206\n",
    "    return result"
   ]
  },
  {
   "cell_type": "code",
   "execution_count": 31,
   "id": "ee7cca7f",
   "metadata": {},
   "outputs": [
    {
     "name": "stdout",
     "output_type": "stream",
     "text": [
      "{'amount': b'\\xdc\\xab\\x0e\\x00\\x00\\x00\\x00\\x00', 'scriptPubKey': b'Q 9\\x05\\xd8\\x1bE{B\\xe8\\xd5\\xeb\\x1a\\xe5(\\x0c\\x83\\xc7O\\xbd\\xd2\\n.@\\x1c\\x00w\\xbc\\xe5Ay\\t\\xc9S'}\n"
     ]
    }
   ],
   "source": [
    "spent_from_tx = parse_tx_bytes_mine(\"02000000000101d79ca7455775b3fc7bf65eae536faa22e6248b863247cee30765fabb4fafadb80100000000ffffffff02dcab0e00000000002251203905d81b457b42e8d5eb1ae5280c83c74fbdd20a2e401c0077bce5417909c953944be70400000000225120dc2e293b7717ece7898fefc8fd7f6da13e8fb56efac0bc3bd75183304da6ad1701409dab8ddd9c703d1acb6736bc5260b23e64999cb130b9b3ca6c2e69aa084073302b66f0ecb5b4a191618951c022da2c429ac3638613c43bbb88a761634c2cb85300000000\")\n",
    "\n",
    "print(spent_from_tx['outputs'][0])"
   ]
  },
  {
   "cell_type": "code",
   "execution_count": 32,
   "id": "2a09786e",
   "metadata": {},
   "outputs": [
    {
     "name": "stdout",
     "output_type": "stream",
     "text": [
      "amounts: ['dcab0e0000000000']\n",
      "scriptpubkeys: ['51203905d81b457b42e8d5eb1ae5280c83c74fbdd20a2e401c0077bce5417909c953'] \n",
      "\n",
      "sigmsg: 000200000000000000002b9b64a25d11192d251c2e088e7cbc65889963ff67244102b5fc7cb1b4feb51c4eb25d1adc8a44ed6dd54bca7d3d790a7b9e66ef9a8416836882124ad71bb507d41f17121f975dfae4cb8a052b3e34576e1c272bf7e17dfe484be8d1f96317ad95131bc0b799c0b1af477fb14fcf26a6a9f76079e48bf090acb7e8367bfd0e5cdaded8d0fdd6bcb42703ac71156c5d658a47acaa0b90924087e48059d5f1c30000000000\n"
     ]
    }
   ],
   "source": [
    "amounts_bytes = [spent_from_tx['outputs'][0]['amount']]\n",
    "print(\"amounts:\", [x.hex() for x in amounts_bytes])\n",
    "\n",
    "scriptpubkeys_bytes = [spent_from_tx['outputs'][0]['scriptPubKey']]\n",
    "print(\"scriptpubkeys:\", [x.hex() for x in scriptpubkeys_bytes], \"\\n\")\n",
    "\n",
    "ext_flag = 0\n",
    "annex_bytes = None\n",
    "input_index = 0\n",
    "\n",
    "sigmsg = sigmsg_default(tx, input_index, annex_bytes, amounts_bytes, scriptpubkeys_bytes, ext_flag)\n",
    "\n",
    "print(\"sigmsg:\", sigmsg.hex())"
   ]
  },
  {
   "cell_type": "markdown",
   "id": "47d1da59",
   "metadata": {},
   "source": [
    "## Computing the Sighash\n",
    "\n",
    "Now that we have the sighash message, we can calculate the actual \"sighash\" for the signature.\n",
    "\n",
    "The `sighash` for Taproot key path spending signature valdiation is as follows:\n",
    "\n",
    "```\n",
    "sighash = tag_hash(b'TapSighash', bytes([0x00]) + sigmsg)\n",
    "```\n",
    "\n",
    "We'll need to implement the `tag_hash` function, then pass our `sigmsg` into this to find the `sighash`."
   ]
  },
  {
   "cell_type": "code",
   "execution_count": 33,
   "id": "ed4d48f4",
   "metadata": {},
   "outputs": [],
   "source": [
    "from hashlib import sha256\n",
    "\n",
    "def tag_hash(tag, data_bytes):\n",
    "    taghash = sha256(tag).digest()\n",
    "    return sha256(taghash + taghash + data_bytes).digest()"
   ]
  },
  {
   "cell_type": "code",
   "execution_count": 34,
   "id": "82cce04a",
   "metadata": {},
   "outputs": [
    {
     "name": "stdout",
     "output_type": "stream",
     "text": [
      "c09a12ac690db9c044c0df972aec9f574cf12677b80b1b82e910bf9e16f3b115\n"
     ]
    }
   ],
   "source": [
    "sighash = tag_hash(b'TapSighash', bytes([0x00]) + sigmsg)\n",
    "print(sighash.hex())"
   ]
  },
  {
   "cell_type": "markdown",
   "id": "84d5158d",
   "metadata": {},
   "source": [
    "## Verifying the Sighash\n",
    "\n",
    "Now that we've got the `sighash` we're finally ready to verify the signature.\n",
    "\n",
    "For this, we'll need the `verify` function, which is defined in BIP340."
   ]
  },
  {
   "cell_type": "code",
   "execution_count": 35,
   "id": "f7bac652",
   "metadata": {},
   "outputs": [
    {
     "name": "stdout",
     "output_type": "stream",
     "text": [
      "25792158117016797743484614046835601668965634494428223733945610235101691103571\n"
     ]
    }
   ],
   "source": [
    "# there are three inputs to the verify function: pubkey, message, signature\n",
    "pk = x_val\n",
    "m = sighash\n",
    "sig = sig\n",
    "\n",
    "print(x_val)"
   ]
  },
  {
   "cell_type": "code",
   "execution_count": 276,
   "id": "1d0470e4",
   "metadata": {},
   "outputs": [],
   "source": [
    "from codes import n\n",
    "\n",
    "def verify(x_val, m, sig):\n",
    "    P = lift_x(x_val)\n",
    "    assert len(sig) == 64\n",
    "    r = int.from_bytes(sig[:32], 'big')\n",
    "    if r >= p:\n",
    "        return False\n",
    "    s = int.from_bytes(sig[32:], 'big')\n",
    "    if s >= n:\n",
    "        return False\n",
    "    \n",
    "    P_bytes = (x_val).to_bytes(32, 'big')\n",
    "    challenge_hash = tag_hash(b'BIP0340/challenge', sig[:32] + P_bytes + m)\n",
    "    e = int.from_bytes(challenge_hash, 'big') % n\n",
    "    \n",
    "    # e * P\n",
    "    eP = P.multiply(e.to_bytes(32, 'big'))\n",
    "    # s * G\n",
    "    sG = coincurve.PrivateKey.from_int(s).public_key\n",
    "    neg_eP = invert_point(eP)\n",
    "    \n",
    "    # R = sG - eP = sG + -eP\n",
    "    R = coincurve.PublicKey.combine_keys([sG, neg_eP])\n",
    "    \n",
    "    if not has_even_y(R):\n",
    "        return False\n",
    "    \n",
    "    return R.point()[0] == r"
   ]
  },
  {
   "cell_type": "code",
   "execution_count": 243,
   "id": "67aebbc6",
   "metadata": {},
   "outputs": [],
   "source": [
    "def invert_point(pt):\n",
    "    x, y = pt.point()\n",
    "    yneg = p - y\n",
    "    return coincurve.PublicKey.from_point(x, yneg)"
   ]
  },
  {
   "cell_type": "code",
   "execution_count": 244,
   "id": "23ccac8d",
   "metadata": {},
   "outputs": [],
   "source": [
    "def has_even_y(pt):\n",
    "    return pt.point()[1] % 2 == 0"
   ]
  },
  {
   "cell_type": "code",
   "execution_count": 245,
   "id": "a0cccf83",
   "metadata": {},
   "outputs": [
    {
     "data": {
      "text/plain": [
       "True"
      ]
     },
     "execution_count": 245,
     "metadata": {},
     "output_type": "execute_result"
    }
   ],
   "source": [
    "sig = txdata['witnesses'][0][0]\n",
    "verify(x_val, m, sig)"
   ]
  },
  {
   "cell_type": "markdown",
   "id": "a6678a0c",
   "metadata": {},
   "source": [
    "## Signing a message\n",
    "\n",
    "Now that we've been able to successfully verify a message, let's finish implementing the second method for Schnorr: the Sign method.\n",
    "\n",
    "This takes a private key and a message and returns a valid signature.\n",
    "\n",
    "```\n",
    "sig = Sign(privkey, msg)\n",
    "```"
   ]
  },
  {
   "cell_type": "code",
   "execution_count": 260,
   "id": "148a3819",
   "metadata": {},
   "outputs": [],
   "source": [
    "def scalar_to_pubkey(scalar_val):\n",
    "    assert scalar_val != 0 and scalar_val < n\n",
    "    P = coincurve.PrivateKey.from_int(scalar_val).public_key\n",
    "    result = scalar_val if has_even_y(P) else n - scalar_val\n",
    "    \n",
    "    return result, P\n",
    "\n",
    "\n",
    "def sign_msg(privkey_int, msg, nonce_int):\n",
    "    d, P = scalar_to_pubkey(privkey_int)\n",
    "    k, R = scalar_to_pubkey(nonce_int)\n",
    "    \n",
    "    bytes_R = (R.point()[0].to_bytes(32, 'big'))\n",
    "    bytes_P = (P.point()[0].to_bytes(32, 'big'))\n",
    "    challenge_hash = tag_hash(b'BIP0340/challenge', bytes_R + bytes_P + msg)\n",
    "    e = int.from_bytes(challenge_hash, 'big') % n\n",
    "    \n",
    "    # ~~~BEGIN SCHNORR PART~~~\n",
    "    s = (k + e * d) % n\n",
    "    # ~~~ END SCHNORR PART ~~~\n",
    "    \n",
    "    sig = bytes_R + s.to_bytes(32, 'big')\n",
    "    assert verify(P.point()[0], msg, sig)\n",
    "    return sig"
   ]
  },
  {
   "cell_type": "code",
   "execution_count": 247,
   "id": "35c80e57",
   "metadata": {},
   "outputs": [
    {
     "name": "stdout",
     "output_type": "stream",
     "text": [
      "2f8bde4d1a07209355b4a7250a5c5128e88b84bddc619ab7cba8d569b240efe4de48d2d7d8f794b7e45e4701c5385b94d87543365be474d9941f15d4ecf211a2\n"
     ]
    }
   ],
   "source": [
    "privkey = 10\n",
    "nonce = 5\n",
    "sig = sign_msg(privkey, m, nonce)\n",
    "\n",
    "print(sig.hex())"
   ]
  },
  {
   "cell_type": "markdown",
   "id": "5ef09244",
   "metadata": {},
   "source": [
    "## Taproot: Exploring the Depths\n",
    "\n",
    "We've just done a Taproot keypath spend verification (~P2PK)\n",
    "\n",
    "Now we're going to look at how to build out scripts for taproot!\n",
    "\n",
    "We're going to make our first taproot script. (~P2WSH)\n",
    "\n",
    "What are the steps we need to do for this:\n",
    "\n",
    "- figure out what scripts can spend our bitcoin\n",
    "- make a tree out of them (just like christmas!)\n",
    "- build a merkle root\n",
    "- pick a internal pubkey\n",
    "- make a tweak from the merkle root\n",
    "- add the tweak to the internal pubkey to get our external pubkey\n",
    "- lock money up to external pubkey"
   ]
  },
  {
   "cell_type": "markdown",
   "id": "26975a5e",
   "metadata": {},
   "source": [
    "### Step 1: Figure out what scripts can spend our bitcoin\n",
    "\n",
    "- Everyone in class should make a script!\n",
    "- Each individually lock up coins to the script (single script spend)\n",
    "- Send all the scripts to Lisa, and then we'll build a tree out of them\n",
    "\n",
    "#### Writing a taproot script\n",
    "\n",
    "nifty's script: OP_4 OP_ADD OP_8 OP_EQUAL  (requires OP_4 to unlock)\n",
    "\n",
    "Convert to script: \n",
    "        OP_4 OP_ADD OP_8 OP_EQUAL\n",
    "        54935887\n",
    "        \n",
    "        "
   ]
  },
  {
   "cell_type": "code",
   "execution_count": 42,
   "id": "a2f023ad",
   "metadata": {},
   "outputs": [],
   "source": [
    "nifty = '54935887'\n",
    "casey =  'AA201ccf6c5e6212f524600fb6b20275cd6ae26dc6b812cd1f84dd3ff7d86b1937d187'\n",
    "jose = '54935887'\n",
    "dpp = '930200088763a820150faa5b485225f681b179f710cb169b92b401f954392eb30e677624135233f08768'\n",
    "mk = '76769393010987'\n",
    "damian = 'a820528f99cd13f2d438556c6f6a803458a963519d2419a40dd685597c0919d81f588754935587'\n",
    "chris = '53935987'\n",
    "nate = 'a82041ef4bb0b23661e66301aac36066912dac037827b4ae63a7b1165a5aa93ed4eb87'"
   ]
  },
  {
   "cell_type": "code",
   "execution_count": 43,
   "id": "80cc4c7a",
   "metadata": {},
   "outputs": [],
   "source": [
    "scripts = [('nifty', nifty), ('casey', casey), ('jose', jose), ('dpp', dpp), ('mk', mk), ('damian', damian), ('chris', chris), ('nate', nate)]"
   ]
  },
  {
   "cell_type": "markdown",
   "id": "83ff2029",
   "metadata": {},
   "source": [
    "### Step 2: Make a tree out of your scripts\n",
    "\n",
    "For this first round, we're just going to use a single script!\n",
    "\n",
    "Every tree has leaves! Every script in our tree is a leaf.\n",
    "\n",
    "Our tree is just [nifty]"
   ]
  },
  {
   "cell_type": "code",
   "execution_count": 44,
   "id": "d3642782",
   "metadata": {},
   "outputs": [],
   "source": [
    "tree = [nifty]"
   ]
  },
  {
   "cell_type": "code",
   "execution_count": 45,
   "id": "9f5c0f78",
   "metadata": {},
   "outputs": [],
   "source": [
    "## Step 3: Build a Merkle root"
   ]
  },
  {
   "cell_type": "code",
   "execution_count": 46,
   "id": "76659e08",
   "metadata": {},
   "outputs": [],
   "source": [
    "### Step 3a: Write a function to compute a leaf (hash)"
   ]
  },
  {
   "cell_type": "code",
   "execution_count": 47,
   "id": "67ff1a06",
   "metadata": {},
   "outputs": [],
   "source": [
    "def make_leaf(script_bytes):\n",
    "    leaf_version = 0xc0\n",
    "    # leaf version + len script + script\n",
    "    data = bytes([leaf_version]) + size_compact_size(len(script_bytes)) + script_bytes\n",
    "    return tag_hash(b'TapLeaf', data)"
   ]
  },
  {
   "cell_type": "code",
   "execution_count": 48,
   "id": "03f4d9f0",
   "metadata": {},
   "outputs": [],
   "source": [
    "tree_bytes = [ bytes.fromhex(x) for x in tree ]"
   ]
  },
  {
   "cell_type": "code",
   "execution_count": 49,
   "id": "db7ca033",
   "metadata": {},
   "outputs": [
    {
     "name": "stdout",
     "output_type": "stream",
     "text": [
      "7ce84a5b9c296529029e07e014ffdfb9bb11d201bd84e4528d4ae46d6160ead6\n"
     ]
    }
   ],
   "source": [
    "leaf = make_leaf(tree_bytes[0])\n",
    "print(leaf.hex())"
   ]
  },
  {
   "cell_type": "code",
   "execution_count": 50,
   "id": "6110d5b8",
   "metadata": {},
   "outputs": [
    {
     "name": "stdout",
     "output_type": "stream",
     "text": [
      "nifty 7ce84a5b9c296529029e07e014ffdfb9bb11d201bd84e4528d4ae46d6160ead6\n",
      "casey bcf0ffea8d704f70610ddffb14a2cd74cbde7b4bf116605143f43fcdac862858\n",
      "jose 7ce84a5b9c296529029e07e014ffdfb9bb11d201bd84e4528d4ae46d6160ead6\n",
      "dpp 7199c3d01803160ae132c34a5aaa9e5ba44725b0e6a483caa4de6804e77e2b01\n",
      "mk fa2b5d06e6fdf4ce947e00511fa6dd92294996846ec8a3b0b80d9363f0dec93a\n",
      "damian 5f305f38bd7306856e35ac66b1f0c528a76af3ecfb777c4afef45bb80b2a0a6a\n",
      "chris 8ddbf7add8c35b385346ea0f1c3fa93bbfd9583c75ee097fe0c03c64cceccd0a\n",
      "nate 002a01ee216a40f3d68710b87d7fb0654a7d540e9baa3f5ba5a06170b82ed08d\n"
     ]
    }
   ],
   "source": [
    "for name, script in [ (a,bytes.fromhex(x)) for a,x in scripts]:\n",
    "    int_leaf = make_leaf(script)\n",
    "    print(name, int_leaf.hex())"
   ]
  },
  {
   "cell_type": "markdown",
   "id": "c370a08d",
   "metadata": {},
   "source": [
    "In this first example, where we only have one script, the \"merkle root\" is the leaf of the single script.\n",
    "\n",
    "Our root = leaf."
   ]
  },
  {
   "cell_type": "code",
   "execution_count": 51,
   "id": "b1f1d730",
   "metadata": {},
   "outputs": [
    {
     "name": "stdout",
     "output_type": "stream",
     "text": [
      "7ce84a5b9c296529029e07e014ffdfb9bb11d201bd84e4528d4ae46d6160ead6\n"
     ]
    }
   ],
   "source": [
    "root = leaf\n",
    "print(leaf.hex())"
   ]
  },
  {
   "cell_type": "markdown",
   "id": "8e5d80f2",
   "metadata": {},
   "source": [
    "### Step 4: Pick an internal pubkey\n",
    "\n",
    "Considerations to make when picking an *internal* pubkey:\n",
    "\n",
    "- Does it need to be spendable?\n",
    "- If yes, who has the keys to it?\n",
    "- If no, how can I prove it's unspendable?\n"
   ]
  },
  {
   "cell_type": "markdown",
   "id": "b82b528b",
   "metadata": {},
   "source": [
    "In our case, our key needs to be unspendable. We need to pick a point that we don't know the private key to.\n",
    "\n",
    "The spec (BIP341) recommends using the following algorithm (or something like it) to pick a point where the private key is unknowns.\n",
    "\n",
    "> One example of such a point is H = lift_x(0x50929b74c1a04954b78b4b6035e97a5e078a5a0f28ec96d547bfee9ace803ac0) which is constructed by taking the hash of the standard uncompressed encoding of the secp256k1 base point G as X coordinate. In order to avoid leaking the information that key path spending is not possible it is recommended to pick a fresh integer r in the range 0...n-1 uniformly at random and use H + rG as internal key. It is possible to prove that this internal key does not have a known discrete logarithm with respect to G by revealing r to a verifier who can then reconstruct how the internal key was created."
   ]
  },
  {
   "cell_type": "code",
   "execution_count": 52,
   "id": "4ba264fa",
   "metadata": {},
   "outputs": [],
   "source": [
    "# We define the nums_point as\n",
    "# H(G) => sha256(uncompressed)\n",
    "def nums_point(r=0):\n",
    "    Gx, Gy = coincurve.PrivateKey.from_int(1).public_key.point()\n",
    "    data = bytes([0x04]) + Gx.to_bytes(32, 'big') + Gy.to_bytes(32, 'big')\n",
    "    h = sha256(data).digest()\n",
    "    h_int = int.from_bytes(h, 'big')\n",
    "    H = lift_x(h_int)\n",
    "    if r > 0:\n",
    "        assert r < n\n",
    "        rG = coincurve.PrivateKey.from_int(r).public_key\n",
    "        return coincurve.PublicKey.combine_keys([rG, H])\n",
    "    return H"
   ]
  },
  {
   "cell_type": "code",
   "execution_count": 53,
   "id": "b3aa9c31",
   "metadata": {},
   "outputs": [
    {
     "name": "stdout",
     "output_type": "stream",
     "text": [
      "0250929b74c1a04954b78b4b6035e97a5e078a5a0f28ec96d547bfee9ace803ac0\n"
     ]
    }
   ],
   "source": [
    "internal_pubkey = nums_point()\n",
    "print(internal_pubkey.format().hex())\n",
    "\n",
    "pubkey_bytes = internal_pubkey.point()[0].to_bytes(32, 'big')"
   ]
  },
  {
   "cell_type": "markdown",
   "id": "e690169e",
   "metadata": {},
   "source": [
    "### Step 5: Make a tweak from the Merkle Root\n",
    "\n",
    "What is a tweak? Ideally, a tweak is really just a number (scalar).\n",
    "\n",
    "We're gonna take the root and a pubkey, make a hash out of both of them and then convert this hash to a number.\n",
    "\n",
    "We'll then use that number (scalar) as if it were a private key and find the curve point at that value."
   ]
  },
  {
   "cell_type": "code",
   "execution_count": 54,
   "id": "814dac66",
   "metadata": {},
   "outputs": [],
   "source": [
    "def make_tweak_pubkey(pubkey, merkle_root_bytes):\n",
    "    # Find the bytes for the x-value of the internal pubkey\n",
    "    pubkey_bytes = pubkey.point()[0].to_bytes(32, 'big')\n",
    "    \n",
    "    # Compute the tweak hash (TapTweak tag + pubkey + merkle root)\n",
    "    tweak_bytes = tag_hash(b'TapTweak', pubkey_bytes + merkle_root_bytes)\n",
    "    # Convert that hash into a scalar (so we can make it a point)\n",
    "    tweak_int = int.from_bytes(tweak_bytes, 'big')\n",
    "    # Make sure our tweak is inside the \"point range (n)\"\n",
    "    assert tweak_int < n\n",
    "    \n",
    "    # Multiply the tweak by the Generator Point (G) which gives us T\n",
    "    T = coincurve.PrivateKey.from_int(tweak_int).public_key\n",
    "    \n",
    "    return T"
   ]
  },
  {
   "cell_type": "code",
   "execution_count": 55,
   "id": "7bfcd0e5",
   "metadata": {},
   "outputs": [
    {
     "name": "stdout",
     "output_type": "stream",
     "text": [
      "03276d6adba4bf408222b0923821f9d6286d7d2e0750f99fab541e199c224e2b74\n"
     ]
    }
   ],
   "source": [
    "T = make_tweak_pubkey(internal_pubkey, root)\n",
    "print(T.format().hex())"
   ]
  },
  {
   "cell_type": "code",
   "execution_count": 56,
   "id": "1ed4d497",
   "metadata": {},
   "outputs": [
    {
     "name": "stdout",
     "output_type": "stream",
     "text": [
      "nifty 03276d6adba4bf408222b0923821f9d6286d7d2e0750f99fab541e199c224e2b74\n",
      "casey 02d50363f23b5712ddaf1e2f1ddbb754f95607e99e26a8983da8c44c7525c43434\n",
      "jose 03276d6adba4bf408222b0923821f9d6286d7d2e0750f99fab541e199c224e2b74\n",
      "dpp 02e134c26d8e2e52f1339507d00c698a840bf8dd8e6480b9b6fdc2d803805e4b50\n",
      "mk 03154f265ff85914f6d7e8506663d89cf12fa2ac167946cfe97f5eec3f4a934420\n",
      "damian 031dd4af1b86eae0f26b5235f33e121b82af19d25827a4b79432a3c9d52424129d\n",
      "chris 0214decaa772191bdd99d46bf9ba0578f9dd97a900baf49aa55300c87cbfdd9223\n",
      "nate 021410525faa15e71bb2290bb425043f220639ae89815e768ff9fcef55f017386b\n"
     ]
    }
   ],
   "source": [
    "for name, script in [ (a,bytes.fromhex(x)) for a,x in scripts]:\n",
    "    root = make_leaf(script)\n",
    "    T = make_tweak_pubkey(internal_pubkey, root)\n",
    "    print(name, T.format().hex())"
   ]
  },
  {
   "cell_type": "markdown",
   "id": "5c1853d0",
   "metadata": {},
   "source": [
    "Now we have our Tweak as a point. All we need to do is combine it with the internal pubkey to get an external pubkey."
   ]
  },
  {
   "cell_type": "markdown",
   "id": "c2be1cc6",
   "metadata": {},
   "source": [
    "### Step 6: Add Internal Pubkey to Tweak Pubkey\n",
    "\n",
    "For some reason the spec makes everything more fancy that it needs to be.\n",
    "\n",
    "The biggest difference is that we \"promote\" the internal pubkey to a x-only pubkey (even) before we add it to the tweak."
   ]
  },
  {
   "cell_type": "code",
   "execution_count": 57,
   "id": "fd506493",
   "metadata": {},
   "outputs": [],
   "source": [
    "def make_external_pubkey(pubkey, T):    \n",
    "    P = lift_x(pubkey.point()[0])\n",
    "    Q = coincurve.PublicKey.combine_keys([P, T])\n",
    "    return Q"
   ]
  },
  {
   "cell_type": "code",
   "execution_count": 58,
   "id": "5d5c96a1",
   "metadata": {},
   "outputs": [
    {
     "name": "stdout",
     "output_type": "stream",
     "text": [
      "0250929b74c1a04954b78b4b6035e97a5e078a5a0f28ec96d547bfee9ace803ac0\n",
      "nifty root: 7ce84a5b9c296529029e07e014ffdfb9bb11d201bd84e4528d4ae46d6160ead6\n",
      "nifty tweak 03276d6adba4bf408222b0923821f9d6286d7d2e0750f99fab541e199c224e2b74\n",
      "nifty! 029970f40840ae66e7f420877f2b48d331eda1da215d05ec1de6bd6cd4ea45ab9f\n"
     ]
    }
   ],
   "source": [
    "nifty\n",
    "\n",
    "nifty_leaf = make_leaf(bytes.fromhex(nifty))\n",
    "print(internal_pubkey.format().hex())\n",
    "print('nifty root:', nifty_leaf.hex())\n",
    "nifty_T = make_tweak_pubkey(internal_pubkey, nifty_leaf)\n",
    "print('nifty tweak', nifty_T.format().hex())\n",
    "nifty_Q = make_external_pubkey(internal_pubkey, nifty_T)\n",
    "print('nifty!', nifty_Q.format().hex())"
   ]
  },
  {
   "cell_type": "code",
   "execution_count": 59,
   "id": "616eb83a",
   "metadata": {
    "scrolled": true
   },
   "outputs": [
    {
     "name": "stdout",
     "output_type": "stream",
     "text": [
      "nifty 029970f40840ae66e7f420877f2b48d331eda1da215d05ec1de6bd6cd4ea45ab9f\n",
      "casey 025a62e8ead0b9f60f5a91fd69d4044b531e086823cbab7b67ccbb312509eb9fb5\n",
      "jose 029970f40840ae66e7f420877f2b48d331eda1da215d05ec1de6bd6cd4ea45ab9f\n",
      "dpp 028df34c51844750dc133f9521285ec78c92a8ba336d435951e8f1dc68611aca58\n",
      "mk 03311eb2f7a8ca651980285fb6bbf2c3d548191cdb9e6ba902562fffe35fa28aab\n",
      "damian 03f933d817c628bb0e249a44138753de965d271fb2b347daf54b24225cac8bb1a3\n",
      "chris 030c2d7cf15ed86872eb9957326fe706ec54e2d100e03505538c54cae5919453ee\n",
      "nate 02806750c9417bbb6b017bd96a47bcf1372120310d0cee67e5eeff5cd5bf28bd0e\n"
     ]
    }
   ],
   "source": [
    "for name, script in [ (a, bytes.fromhex(x)) for a,x in scripts]:\n",
    "    root = make_leaf(script)\n",
    "    T = make_tweak_pubkey(internal_pubkey, root)\n",
    "    Q = make_external_pubkey(internal_pubkey, T)\n",
    "    print(name, Q.format().hex())"
   ]
  },
  {
   "cell_type": "markdown",
   "id": "0187b71d",
   "metadata": {},
   "source": [
    "### Step 7: Lock bitcoin up to your external pubkey! (but first make a P2TR script)\n",
    "\n",
    "We'll take Q, drop the parity byte at the front and make this into a P2TR script."
   ]
  },
  {
   "cell_type": "code",
   "execution_count": 60,
   "id": "89a59b16",
   "metadata": {},
   "outputs": [
    {
     "name": "stdout",
     "output_type": "stream",
     "text": [
      "51209970f40840ae66e7f420877f2b48d331eda1da215d05ec1de6bd6cd4ea45ab9f\n"
     ]
    }
   ],
   "source": [
    "def make_p2tr(Q):\n",
    "    Qx_bytes = Q.point()[0].to_bytes(32, 'big')\n",
    "    witness_version = 0x51\n",
    "    return bytes([witness_version]) + size_compact_size(len(Qx_bytes)) + Qx_bytes\n",
    "\n",
    "\n",
    "print(make_p2tr(nifty_Q).hex())\n",
    "nifty_script = make_p2tr(nifty_Q).hex()"
   ]
  },
  {
   "cell_type": "code",
   "execution_count": 61,
   "id": "74e80ccf",
   "metadata": {},
   "outputs": [
    {
     "name": "stdout",
     "output_type": "stream",
     "text": [
      "bcrt1pn9c0gzzq4enw0apqsaljkjxnx8k6rk3pt5z7c80xh4kdf6j94w0s4fwuky\n"
     ]
    }
   ],
   "source": [
    "# FIXME: add `jq` to nix-shell\n",
    "address_arr = !bitcoin-cli -regtest decodescript \"$nifty_script\" | jq -r .address\n",
    "print(address_arr[0])\n",
    "address = address_arr[0]"
   ]
  },
  {
   "cell_type": "code",
   "execution_count": 62,
   "id": "ad393799",
   "metadata": {},
   "outputs": [
    {
     "name": "stdout",
     "output_type": "stream",
     "text": [
      "error code: -4\r\n",
      "error message:\r\n",
      "Wallet file verification failed. Failed to create database path '/home/niftynei/.bitcoin/regtest/wallets/base58'. Database already exists.\r\n"
     ]
    }
   ],
   "source": [
    "!bitcoin-cli -regtest createwallet base58"
   ]
  },
  {
   "cell_type": "code",
   "execution_count": 63,
   "id": "aafc2b8e",
   "metadata": {
    "collapsed": true
   },
   "outputs": [
    {
     "name": "stdout",
     "output_type": "stream",
     "text": [
      "{\r\n",
      "  \"address\": \"bcrt1qdrkefwh02yml0t9dc9329fj8zlvlwja8qafk66\",\r\n",
      "  \"blocks\": [\r\n",
      "    \"2cb4d24cf5b9adda7785ec5916201d0dfd0d7d806558caa329c309467c9b75a5\",\r\n",
      "    \"0d6a1c3f03b8a9c80601c40f51c097d00ca457cd0325ac478a4d17ba5a376d9d\",\r\n",
      "    \"3721624dde9265d066161d555538e3fdad178ee048aeee59a1294af5480aba67\",\r\n",
      "    \"16825f3d7312581a748cc6ebdfc43239873fc10b1bca21bfdc04083d566612fd\",\r\n",
      "    \"4605dc534a905ebdbcfe22ada6fc5a69b8520b4c286e9d6068451384dac81ea1\",\r\n",
      "    \"0fc1ac0d003a12f86b6523dabf7d73c56214b8988fd784679251e1b2b2acdb1d\",\r\n",
      "    \"0c4a9f1b358982909173d2a7fc29447188658e083603fdc086424e944e555e96\",\r\n",
      "    \"1d0698a005681a856384a76f7d26fb1985fdd4d36f6c6d6113a494d5c8438f66\",\r\n",
      "    \"002ca69bf7bd6252d686f15228bd343267c0d3556eaeddb245428f65aba8fe98\",\r\n",
      "    \"68841333b1986c6b4c009bd7ada9c6aadf993a7b1400d2f2e399b466ec8fd257\",\r\n",
      "    \"75dc4b7570666c765662c2ee1544b7eda1eec523dd72f25325b9bf05e86c2d41\",\r\n",
      "    \"0d8b48fe36ea95c1f3cf07ce32c02a67ae113b8e6faa0cd034f5ca68aea000f5\",\r\n",
      "    \"11db546cea4cde3de93d19d6e442c060d34e9599f2ead9ea9acf896f1e18b414\",\r\n",
      "    \"11df453268f5e52a116c63da7a327333240107fced5aa6ce61671bfcd7f729b7\",\r\n",
      "    \"1c6783af765db13e0af33543e3dbed2088e3180f922039a093b045b17c21d4c3\",\r\n",
      "    \"67883744ee10b7fc23e229a2774dac2a5fe601865e98b8b97264dc2692a95cc5\",\r\n",
      "    \"02b3c6c2f905c262621e81eacc90de83c02364dcb375a922f78f63e47d665113\",\r\n",
      "    \"18f11d6e5d57462258fe80fec7289df01ed9f2b1639f57ffa3023162c11c70c1\",\r\n",
      "    \"023acc97b8818224693447a5f430da87477ce578c7dc8b565be04a5536fdd6d0\",\r\n",
      "    \"5a2d0c66e0a5c5830217f8fd4b6ade94d6ca5cd66f0e3345ea3827000ca8ae13\",\r\n",
      "    \"206bcbd482704f842fd18d544c76b135c6c7c54b456c4f5d2a730dd2b39b944f\",\r\n",
      "    \"3ba953d5bdea845230df4ea89c3506c62d554339b7a1d5713fb2f3ae0a56c86f\",\r\n",
      "    \"34d36bc2c89d2bfe2ba792c707d88078105df6d8a45b5938208b056264742156\",\r\n",
      "    \"5f9121e303b6bf3ede0fa72ac7cbc5ed12979dc3b953194a9dfe705d096002af\",\r\n",
      "    \"3292b5e64a3a9c5abd8f36b3f1d3c9327690008de9a2587d0c6bf121cf7a3f6f\",\r\n",
      "    \"6400c62cfaaa6724abdd0f228ec14dd547300681883fec3df92883396452baf6\",\r\n",
      "    \"5cb6fe5f25d4495b5fec0b9926001521a4529c76851cfaa68ed07fd61dc8da9d\",\r\n",
      "    \"409245d258b08c8b613813b7f8c56563d8152c6187daf4882feca25823d0b5de\",\r\n",
      "    \"662d85cba469e8cea914a37e10fc48010175724e7ee095c4100a6d341c9660ac\",\r\n",
      "    \"44e1ba0d25564fd3d948ebb1921547012f26bdd3d832f644f4d2c56c7b4653df\",\r\n",
      "    \"5802314acce0a8d148db7630f4a79e7ff903226264ffee85cbff73274ff9f0a6\",\r\n",
      "    \"5092c465740019b8e8829e3375e807ef39db1ebecd7bb59be45e25488471a7ad\",\r\n",
      "    \"2b4f2acbd740c17512f58a01752d18beb6af39f3f3e1181a1236669adf913ff0\",\r\n",
      "    \"0374b8c7dd0d9a60f692a58c6a12673a43f79e242a5daddc2799b22a4e3a3a99\",\r\n",
      "    \"345d0acd326b3123b5d787be8e66197fb2a7bceaa96289c41cbe09e1999166fc\",\r\n",
      "    \"622bd44ab1a76cd0857001f732b53737d1de2493693da2c89b7a7c3475ba1cec\",\r\n",
      "    \"3c19146fe00c9ae236b5255b46c48b43baffe1be43a4fa2aaa193b68bb2acce3\",\r\n",
      "    \"3ec2b031885af7460a627cb48531aab6070d0b56ec2ac56286336815eda29033\",\r\n",
      "    \"4fe88ca816d168ba8893daf61ded7f57c25c20fc713f6d0b852b81a708cd04d0\",\r\n",
      "    \"67f872972dab48200dcef4f5817633c70d4f780d25e0e0bade185e9d75ff0942\",\r\n",
      "    \"613d55b9984f5c665e9472a0b3ef9321b76c39353ad47a7cb32931dab1f4f649\",\r\n",
      "    \"3c2695f10511ff58b59f49283c55318c633d1ea6e81aa3109caf1f2bdb170ca6\",\r\n",
      "    \"6b46cf4a411a49ba1fc6b41eef507c483387de88e1f82ed5191a1ed80de5547d\",\r\n",
      "    \"17c7bdf63e2968f5e425a8a24962c7bdadd789f7a488aec4e0c82cfa34c7366e\",\r\n",
      "    \"37120a9bd1ad300dae5fc26a5dd7313a3a2a7d8525f9ec7a9f740989e8b0e2f9\",\r\n",
      "    \"067bc7a9cfde282cade8bea261628ab2ba08c5505f10ce98ae349b72cd0497b3\",\r\n",
      "    \"67d3472d4607ad2ab22a3f1478c56b03a02f7772deee67276c4382807a53dd9a\",\r\n",
      "    \"735a0cd65cf9c3e1a67feac6ff722ee71c9369ab78a99a40df9c92e690adb3ca\",\r\n",
      "    \"4540b06186d9824f29f25f5ab85e634e3fbe31c145d336eb1400b8a1d9d30de3\",\r\n",
      "    \"09706ac8e63f442d8b13f016636acbad98c79a9503d13fc4c5741991774b2db3\",\r\n",
      "    \"4c48c5d6ca39c7f93daac5c0be83e64336afbef925c8f9313bd2e8280e63b43f\",\r\n",
      "    \"05e0faa3a2a1907d18a2d43de2f4f6be20dee827073312037452bd897874984a\",\r\n",
      "    \"43fabb870b0d69970ae5af23c792c992282cd3e62ea3540212552ef2e86f8561\",\r\n",
      "    \"2643ea37ea313d13a26774ed9e3d8d7a4de52079eca2b3fdf16fd6e13986d72a\",\r\n",
      "    \"03370477c7b96c05299ca554183f0d0e4ae714ab5b038b43ce26dd0f4f756407\",\r\n",
      "    \"2bf52020fdd749682fae4a28db96ef71cdad278af6a1af5d73828a119c5208fd\",\r\n",
      "    \"025e891d720ba8f1378cfbc05f1886fee01753663e0d213d22444107cbf78913\",\r\n",
      "    \"66556b1b602af3f62fedf2217e404f4477b5d9a0e7b6960d41dc669014ee326e\",\r\n",
      "    \"65eed289533099aa97d720117f267434d615fa905ae3354d199dfaeb4bd07183\",\r\n",
      "    \"0c4cff9d1ad1569f74219927d5e6e768fe0862b9195d1926570e6307aa861a21\",\r\n",
      "    \"3bb51d810643107c1171274d890e8425a25cfa6aa397ff7ad26ba5ea24ef4842\",\r\n",
      "    \"410284b0c9121c15a5fa3334740a153d00f16f920e394fca61def61694ddb548\",\r\n",
      "    \"2e1fce4afa86dad0018cfcb8ee048ac65625bc6072ecba40f7bab7b1920fa358\",\r\n",
      "    \"23f5763833b7f9f143a3ec0da76a2c93160a6ddf9c60de96cacd35159b6b6031\",\r\n",
      "    \"0b4f838b93291f2184b436a37840670902cff2f6551b8515a43cf413aff68171\",\r\n",
      "    \"5d1e13f1028b3d4065a28e52a4b709a348bc214eca626bacfeaa9db5b279356c\",\r\n",
      "    \"02df8bc809c74829dd23e5f31093582713a5378f7d431d82b6a3b85358bc756a\",\r\n",
      "    \"6324fcbb107b9756852bd584987bae35f2aa852f72ac8fc994927265a57399b2\",\r\n",
      "    \"5328ff60fb84072a68c81779d234d9e22b35a89d2a730c3a445329ba5a0cff1b\",\r\n",
      "    \"73b76c9dd62b43a84a7c5117fd4c61ad9a675e8a94b2e09e131916705c6f3875\",\r\n",
      "    \"0f53b62d724947861d93d926a799f4dd85d6be75314ebf238c566721d6e2a89a\",\r\n",
      "    \"7afd85db7650a8db20b3b136622d68e856ea641fb2f666a05f655d76d83869eb\",\r\n",
      "    \"326d387cac648220eec4cd67f4dce35309c6f727dfdcd5217fb7991c1e364069\",\r\n",
      "    \"2e11a65d70b2f94d79067e3c1ede0e9dd8634ae4a85cb2445181e72eb741dd18\",\r\n",
      "    \"00bcb0c740883f095302ac1dbc1f6ba870f33865e431ebf516a3aee15735e5a2\",\r\n",
      "    \"5d6b6b62cf4cafb390532bcc0e5a096bb3812a1ecfbab26625a872ed2b38849a\",\r\n",
      "    \"25bdda2a13c85422d9238940e1b862d42bf521b1d4d7b484062edcac9f7cf8eb\",\r\n",
      "    \"49a3f37301a86081f7bdf39598b3ff08e7e2f1796e25ca2b7187aecdb09dcaed\",\r\n",
      "    \"5c93f9956f32f645b885368c38e0117bf8746cf314093102b5a078f9ff0a079f\",\r\n",
      "    \"7b09418afc36b979b7ec68edfaf3ebff533ba950a5c6598c7660f8869ce22cc6\",\r\n",
      "    \"1f71e124e5a6e79dcfcc730132cedc376c8286dd207e8508499016a1f682bd41\",\r\n",
      "    \"7df805ca2883382f87b89afab92bb05f01b0602975964a0e71ca888e77c46bf9\",\r\n",
      "    \"2dadcf7edcb1950f48ad27386d78eaf3aaea7031020af0ec23816af100f713a8\",\r\n",
      "    \"19dc3e3fee55de1e543eefeefc05d8f864e2c81cb3ea5ecf6583c15094f269d4\",\r\n",
      "    \"0ce42aa59238c9ece663c47b7078d6a456304366d3f07668834b9649f82b133b\",\r\n",
      "    \"6e62115219eb05da38184b86764ba62e438bb85db3851b9182efa2cd85a7ba3b\",\r\n",
      "    \"35960e43b4f504957324b5c4392a88eb5e6c6de8e8f9c90bfdc3fac155564dd3\",\r\n",
      "    \"247c7c03217c075776a80291d9e7a92b630221baa78dfa2aa5b052bca8cfda48\",\r\n",
      "    \"2e9ea0829952345812d631a4ac87aa242d2aee77e7bfdd0e33af2a536b0a22b9\",\r\n",
      "    \"788aecc5e8a1cdf8ea4b3fc9fa081fbb84808eabeb4dc34a24954b9fe4dd876b\",\r\n",
      "    \"0b4166b0c9e3c925c1dc77d04354da0f6781fa8061c3ee3322863fc4f85dc046\",\r\n",
      "    \"78b2585f964c7265583449b528d946b78062f270301e8597a279c3089de72330\",\r\n",
      "    \"53f63b293708018a6471bb3752d5a013fb974529c18e42e95c29d05f23fdc302\",\r\n",
      "    \"0c5a91f7a0c312a638575731ff6963f02ecbda33e2f231595ec69e2677f8f0d2\",\r\n",
      "    \"4be650776d85e294a08b9b55790e3c19d03dfb21d82f412aa6175bef924223b9\",\r\n",
      "    \"4c5be2c91e6b1893213520139abd6aa28e27d9f85a1959dee5b6a6a0ea8ac83e\",\r\n",
      "    \"3a2be8ac4b67e05e81172fec1591a9e42c940144b0d03c0ba0326899fcff8f0e\",\r\n",
      "    \"3e713d1039da02c40beb40e68b5518eb4f8995b924d5c7b8049b09be9b94d739\",\r\n",
      "    \"2b6b3124a7d0478301856ee25ed815868ca5470f7a32f44f0abbd569cf91e3ea\",\r\n",
      "    \"1fe9d78559e5426d7c0fcd5b9dd4e99b784d9d347ead52785a054157e397293e\",\r\n",
      "    \"43638f2286791da40555e0e4d97122db51c66929df4062e91be8f965908d06dd\"\r\n",
      "  ]\r\n",
      "}\r\n"
     ]
    }
   ],
   "source": [
    "!bitcoin-cli -regtest -generate 101"
   ]
  },
  {
   "cell_type": "code",
   "execution_count": 64,
   "id": "497c3809",
   "metadata": {},
   "outputs": [
    {
     "name": "stdout",
     "output_type": "stream",
     "text": [
      "c6d2872219bd880d1cf9b1c160531163a194f619bc14859c8386481591f116ab\r\n"
     ]
    }
   ],
   "source": [
    "!bitcoin-cli -regtest sendtoaddress \"$address\" 1.0"
   ]
  },
  {
   "cell_type": "code",
   "execution_count": 65,
   "id": "4059285c",
   "metadata": {},
   "outputs": [
    {
     "name": "stdout",
     "output_type": "stream",
     "text": [
      "{\r\n",
      "  \"txid\": \"d57032ce2ac09efc013ed6786d508e8912e3486d4fddab5e4982fcdb161155a4\",\r\n",
      "  \"hash\": \"28b19d397de496236909ea2d2a3eb70802b31c309c4297d0ebc21d02b9273e09\",\r\n",
      "  \"version\": 2,\r\n",
      "  \"size\": 246,\r\n",
      "  \"vsize\": 165,\r\n",
      "  \"weight\": 657,\r\n",
      "  \"locktime\": 204,\r\n",
      "  \"vin\": [\r\n",
      "    {\r\n",
      "      \"txid\": \"2036ba3318a97d1afc4c5928ed207bd0338c0e0fe9f1e5f9d3a449c4999da442\",\r\n",
      "      \"vout\": 0,\r\n",
      "      \"scriptSig\": {\r\n",
      "        \"asm\": \"\",\r\n",
      "        \"hex\": \"\"\r\n",
      "      },\r\n",
      "      \"txinwitness\": [\r\n",
      "        \"304402207209c8815fd3682acc1e56c2b31ce81424465fea29eb5c05db11bd47260470fd02204173b179b4895ac7f4a7a5ab5811520e19e9dde41e4023e2e16a5ae211c4bc3301\",\r\n",
      "        \"031cd06e632be8477b8d48ec12fa2a3658026c494976591fe013f27852a9b55cea\"\r\n",
      "      ],\r\n",
      "      \"sequence\": 4294967294\r\n",
      "    }\r\n",
      "  ],\r\n",
      "  \"vout\": [\r\n",
      "    {\r\n",
      "      \"value\": 48.99999835,\r\n",
      "      \"n\": 0,\r\n",
      "      \"scriptPubKey\": {\r\n",
      "        \"asm\": \"1 9486f5da82a06bbdea6d1534f4f700bba1265440d95d2b9f5967fadef5324a59\",\r\n",
      "        \"desc\": \"addr(bcrt1pjjr0tk5z5p4mm6ndz560facqhwsjv4zqm9wjh86evladaafjffvsdf36rd)#3fvjrr30\",\r\n",
      "        \"hex\": \"51209486f5da82a06bbdea6d1534f4f700bba1265440d95d2b9f5967fadef5324a59\",\r\n",
      "        \"address\": \"bcrt1pjjr0tk5z5p4mm6ndz560facqhwsjv4zqm9wjh86evladaafjffvsdf36rd\",\r\n",
      "        \"type\": \"witness_v1_taproot\"\r\n",
      "      }\r\n",
      "    },\r\n",
      "    {\r\n",
      "      \"value\": 1.00000000,\r\n",
      "      \"n\": 1,\r\n",
      "      \"scriptPubKey\": {\r\n",
      "        \"asm\": \"1 9970f40840ae66e7f420877f2b48d331eda1da215d05ec1de6bd6cd4ea45ab9f\",\r\n",
      "        \"desc\": \"addr(bcrt1pn9c0gzzq4enw0apqsaljkjxnx8k6rk3pt5z7c80xh4kdf6j94w0s4fwuky)#xyz9s8py\",\r\n",
      "        \"hex\": \"51209970f40840ae66e7f420877f2b48d331eda1da215d05ec1de6bd6cd4ea45ab9f\",\r\n",
      "        \"address\": \"bcrt1pn9c0gzzq4enw0apqsaljkjxnx8k6rk3pt5z7c80xh4kdf6j94w0s4fwuky\",\r\n",
      "        \"type\": \"witness_v1_taproot\"\r\n",
      "      }\r\n",
      "    }\r\n",
      "  ],\r\n",
      "  \"hex\": \"0200000000010142a49d99c449a4d3f9e5f1e90f0e8c33d07b20ed28594cfc1a7da91833ba36200000000000feffffff025b101024010000002251209486f5da82a06bbdea6d1534f4f700bba1265440d95d2b9f5967fadef5324a5900e1f505000000002251209970f40840ae66e7f420877f2b48d331eda1da215d05ec1de6bd6cd4ea45ab9f0247304402207209c8815fd3682acc1e56c2b31ce81424465fea29eb5c05db11bd47260470fd02204173b179b4895ac7f4a7a5ab5811520e19e9dde41e4023e2e16a5ae211c4bc330121031cd06e632be8477b8d48ec12fa2a3658026c494976591fe013f27852a9b55ceacc000000\",\r\n",
      "  \"blockhash\": \"1e3d9ecb1dae24506e626033231358f1f136d266f2a3f2872de0b0499db92f6f\",\r\n",
      "  \"confirmations\": 909,\r\n",
      "  \"time\": 1699992933,\r\n",
      "  \"blocktime\": 1699992933\r\n",
      "}\r\n"
     ]
    }
   ],
   "source": [
    "!bitcoin-cli -regtest getrawtransaction d57032ce2ac09efc013ed6786d508e8912e3486d4fddab5e4982fcdb161155a4 true"
   ]
  },
  {
   "cell_type": "markdown",
   "id": "00012dcc",
   "metadata": {},
   "source": [
    "## Spending a Tapscript!\n",
    "\n",
    "We should have a transaction output with bitcoin in it that's locked to your custom written script.\n",
    "\n",
    "Now we want to create a transaction that spends that output.\n",
    "\n",
    "My output is in transaction d57032ce2ac09efc013ed6786d508e8912e3486d4fddab5e4982fcdb161155a4 and the index is 1\n",
    "\n",
    "In other words the outpoint for my bitcoins is `d57032ce2ac09efc013ed6786d508e8912e3486d4fddab5e4982fcdb161155a4:1`\n",
    "\n",
    "Let's a build a transaction that spends this!"
   ]
  },
  {
   "cell_type": "code",
   "execution_count": 66,
   "id": "89435d1d",
   "metadata": {},
   "outputs": [
    {
     "name": "stdout",
     "output_type": "stream",
     "text": [
      "a4551116dbfc82495eabdd4f6d48e312898e506d78d63e01fc9ec02ace3270d5\n",
      "70dff50500000000\n"
     ]
    }
   ],
   "source": [
    "txid = 'd57032ce2ac09efc013ed6786d508e8912e3486d4fddab5e4982fcdb161155a4'\n",
    "reverse_txid = bytes.fromhex(txid)[::-1].hex()\n",
    "print(reverse_txid)\n",
    "\n",
    "amount = (1 * 10 ** 8 - 400).to_bytes(8, 'little')\n",
    "print(amount.hex())"
   ]
  },
  {
   "cell_type": "code",
   "execution_count": 67,
   "id": "3a0da9ab",
   "metadata": {},
   "outputs": [
    {
     "name": "stdout",
     "output_type": "stream",
     "text": [
      "bcrt1pj45keu0mq463ewy3l7qj4l9sxm8y9ljz2t4mwt5v372egnvspjzsm9kwhu\r\n"
     ]
    }
   ],
   "source": [
    "!bitcoin-cli -regtest getnewaddress \"\" bech32m"
   ]
  },
  {
   "cell_type": "code",
   "execution_count": 68,
   "id": "2fb31a78",
   "metadata": {},
   "outputs": [
    {
     "name": "stdout",
     "output_type": "stream",
     "text": [
      "512023baba6e60c5424676408ddbbe485d2b5c2fc7f94815a76a0dbacc945aae2100\r\n"
     ]
    }
   ],
   "source": [
    "!bitcoin-cli -regtest getaddressinfo bcrt1pywat5mnqc4pyvajq3hdmujza9dwzl3lefq26w6sdhtxfgk4wyyqqsvx823 | jq -r .scriptPubKey"
   ]
  },
  {
   "cell_type": "markdown",
   "id": "d23389d3",
   "metadata": {},
   "source": [
    "version: 02000000\n",
    "marker+flag: 0001\n",
    "inputs: 01\n",
    "    txid: a4551116dbfc82495eabdd4f6d48e312898e506d78d63e01fc9ec02ace3270d5\n",
    "    vout: 01000000\n",
    "    scriptSig: 00\n",
    "    sequence: ffffffff\n",
    "outputs: 01\n",
    "    amounts: 70dff50500000000\n",
    "    scriptPubKey: 22 512023baba6e60c5424676408ddbbe485d2b5c2fc7f94815a76a0dbacc945aae2100\n",
    "witnesses:\n",
    "    ........ unsolved problem ........\n",
    "locktime: 00000000"
   ]
  },
  {
   "cell_type": "code",
   "execution_count": 69,
   "id": "e6f937c3",
   "metadata": {},
   "outputs": [
    {
     "name": "stdout",
     "output_type": "stream",
     "text": [
      "{\r\n",
      "  \"txid\": \"65c5ee8463feeb72112a458216e8600e5f386a685cba5b63dcaa4a18d6c51327\",\r\n",
      "  \"hash\": \"65c5ee8463feeb72112a458216e8600e5f386a685cba5b63dcaa4a18d6c51327\",\r\n",
      "  \"version\": 2,\r\n",
      "  \"size\": 94,\r\n",
      "  \"vsize\": 94,\r\n",
      "  \"weight\": 376,\r\n",
      "  \"locktime\": 0,\r\n",
      "  \"vin\": [\r\n",
      "    {\r\n",
      "      \"txid\": \"d57032ce2ac09efc013ed6786d508e8912e3486d4fddab5e4982fcdb161155a4\",\r\n",
      "      \"vout\": 1,\r\n",
      "      \"scriptSig\": {\r\n",
      "        \"asm\": \"\",\r\n",
      "        \"hex\": \"\"\r\n",
      "      },\r\n",
      "      \"sequence\": 4294967295\r\n",
      "    }\r\n",
      "  ],\r\n",
      "  \"vout\": [\r\n",
      "    {\r\n",
      "      \"value\": 0.99999600,\r\n",
      "      \"n\": 0,\r\n",
      "      \"scriptPubKey\": {\r\n",
      "        \"asm\": \"1 23baba6e60c5424676408ddbbe485d2b5c2fc7f94815a76a0dbacc945aae2100\",\r\n",
      "        \"desc\": \"addr(bcrt1pywat5mnqc4pyvajq3hdmujza9dwzl3lefq26w6sdhtxfgk4wyyqqsvx823)#rlge0tkx\",\r\n",
      "        \"hex\": \"512023baba6e60c5424676408ddbbe485d2b5c2fc7f94815a76a0dbacc945aae2100\",\r\n",
      "        \"address\": \"bcrt1pywat5mnqc4pyvajq3hdmujza9dwzl3lefq26w6sdhtxfgk4wyyqqsvx823\",\r\n",
      "        \"type\": \"witness_v1_taproot\"\r\n",
      "      }\r\n",
      "    }\r\n",
      "  ]\r\n",
      "}\r\n"
     ]
    }
   ],
   "source": [
    "tx = \"0200000001a4551116dbfc82495eabdd4f6d48e312898e506d78d63e01fc9ec02ace3270d50100000000ffffffff0170dff5050000000022512023baba6e60c5424676408ddbbe485d2b5c2fc7f94815a76a0dbacc945aae210000000000\"\n",
    "!bitcoin-cli -regtest decoderawtransaction \"$tx\""
   ]
  },
  {
   "cell_type": "markdown",
   "id": "e790bdaa",
   "metadata": {},
   "source": [
    "### What's in the witness stack for a leaf spend?\n",
    "\n",
    "We need to put into the witness stack:\n",
    " - the unlocking script\n",
    " - original leaf script\n",
    " - \"control block\": this has all the data you need to verify the external public key\n",
    " \n",
    " #### Nifty's Unlock Script is...\n",
    " \n",
    " Well my original leaf script"
   ]
  },
  {
   "cell_type": "code",
   "execution_count": 70,
   "id": "f04f0f96",
   "metadata": {},
   "outputs": [
    {
     "name": "stdout",
     "output_type": "stream",
     "text": [
      "\u001b[0;32m\"4 OP_ADD 8 OP_EQUAL\"\u001b[0m\r\n"
     ]
    }
   ],
   "source": [
    "!bitcoin-cli -regtest decodescript \"$nifty\" | jq .asm"
   ]
  },
  {
   "cell_type": "markdown",
   "id": "c805d364",
   "metadata": {},
   "source": [
    "Q: How do I unlock this? Great question.\n",
    "\n",
    "Short A: 04\n",
    "Long A: The number \"4\". In script, we'd use the opcode 'OP_4'\n",
    "but in witnesses we can't use opcodes, so we just do a \"push of the byte 04\"."
   ]
  },
  {
   "cell_type": "code",
   "execution_count": 71,
   "id": "1a70868f",
   "metadata": {},
   "outputs": [
    {
     "name": "stdout",
     "output_type": "stream",
     "text": [
      "{\r\n",
      "  \"asm\": \"4\",\r\n",
      "  \"desc\": \"raw(0104)#0k50a3tq\",\r\n",
      "  \"type\": \"nonstandard\",\r\n",
      "  \"p2sh\": \"2Mw9gEB6BJmmzgiWRsRQn7qoRFMC4nRuDjj\",\r\n",
      "  \"segwit\": {\r\n",
      "    \"asm\": \"0 a8d5dd63fba471ebcb1f3e8f7c1e1879b7152a6e7298a91ce119a63400ade7c5\",\r\n",
      "    \"desc\": \"addr(bcrt1q4r2a6clm53c7hjcl868hc8sc0xm322nww2v2j88prxnrgq9dulzsg4kzpw)#u5jrne5w\",\r\n",
      "    \"hex\": \"0020a8d5dd63fba471ebcb1f3e8f7c1e1879b7152a6e7298a91ce119a63400ade7c5\",\r\n",
      "    \"address\": \"bcrt1q4r2a6clm53c7hjcl868hc8sc0xm322nww2v2j88prxnrgq9dulzsg4kzpw\",\r\n",
      "    \"type\": \"witness_v0_scripthash\",\r\n",
      "    \"p2sh-segwit\": \"2Mzgw3Nrw3zeyZ4b7FHESXmhtmfRtaveC97\"\r\n",
      "  }\r\n",
      "}\r\n"
     ]
    }
   ],
   "source": [
    "!bitcoin-cli -regtest decodescript 0104"
   ]
  },
  {
   "cell_type": "markdown",
   "id": "11b564f5",
   "metadata": {},
   "source": [
    "- Unlocking script: 04\n",
    "- Original leaf data??: c0 + len(nifty) + 54935887 (variable: nifty)\n",
    "- Control block"
   ]
  },
  {
   "cell_type": "markdown",
   "id": "44ca41ff",
   "metadata": {},
   "source": [
    "#### How do we figure out a control block?\n",
    "\n",
    "\n",
    "A control block has three parts.\n",
    "\n",
    "- version byte\n",
    "- the x-only pubkey of the internal key\n",
    "- proof of inclusion"
   ]
  },
  {
   "cell_type": "markdown",
   "id": "edb0d3c9",
   "metadata": {},
   "source": [
    "##### Version Byte\n",
    "\n",
    "We're going to need Q to figure this out.\n",
    "\n",
    "The base value for the version byte is `c0`.\n",
    "With the following modification: if Q is odd, add 1 to the base value.\n",
    "\n",
    "If Q is even (02): 0xc0\n",
    "\n",
    "If Q is odd (03):  0xc1"
   ]
  },
  {
   "cell_type": "code",
   "execution_count": 72,
   "id": "552bb732",
   "metadata": {},
   "outputs": [
    {
     "name": "stdout",
     "output_type": "stream",
     "text": [
      "c0\n"
     ]
    }
   ],
   "source": [
    "def control_block_version_byte(Q):\n",
    "    val = 0xc0\n",
    "    if Q.point()[1] % 2 != 0:\n",
    "        val += 1\n",
    "    return bytes([val])\n",
    "\n",
    "print(control_block_version_byte(nifty_Q).hex())"
   ]
  },
  {
   "cell_type": "markdown",
   "id": "a6f1b3a5",
   "metadata": {},
   "source": [
    "##### The x-only pubkey of the internal key\n",
    "\n",
    "This should just be the internal pubkey, 32 bytes."
   ]
  },
  {
   "cell_type": "code",
   "execution_count": 73,
   "id": "03df5e42",
   "metadata": {},
   "outputs": [
    {
     "name": "stdout",
     "output_type": "stream",
     "text": [
      "50929b74c1a04954b78b4b6035e97a5e078a5a0f28ec96d547bfee9ace803ac0\n"
     ]
    }
   ],
   "source": [
    "print(internal_pubkey.format()[1:].hex())"
   ]
  },
  {
   "cell_type": "markdown",
   "id": "2fe45f8b",
   "metadata": {},
   "source": [
    "###### Proof of Inclusion\n",
    "\n",
    "The proof of inclusion for a leaf-only spend is empty."
   ]
  },
  {
   "cell_type": "code",
   "execution_count": 74,
   "id": "9e7113c4",
   "metadata": {
    "scrolled": true
   },
   "outputs": [
    {
     "name": "stdout",
     "output_type": "stream",
     "text": [
      "witness data!\n",
      "03\n",
      "01 04\n",
      "04 54935887\n",
      "21 c050929b74c1a04954b78b4b6035e97a5e078a5a0f28ec96d547bfee9ace803ac0\n"
     ]
    }
   ],
   "source": [
    "control_block = control_block_version_byte(nifty_Q) + internal_pubkey.format()[1:]\n",
    "\n",
    "print('witness data!')\n",
    "print('03')\n",
    "print('01 04')\n",
    "print('04 ' + nifty)\n",
    "print('21 ' + control_block.hex())"
   ]
  },
  {
   "cell_type": "markdown",
   "id": "7a5d652f",
   "metadata": {},
   "source": [
    "version: 02000000\n",
    "marker+flag: 0001\n",
    "inputs: 01\n",
    "    txid: a4551116dbfc82495eabdd4f6d48e312898e506d78d63e01fc9ec02ace3270d5\n",
    "    vout: 01000000\n",
    "    scriptSig: 00\n",
    "    sequence: ffffffff\n",
    "outputs: 01\n",
    "    amounts: 70dff50500000000\n",
    "    scriptPubKey: 22 512023baba6e60c5424676408ddbbe485d2b5c2fc7f94815a76a0dbacc945aae2100\n",
    "witnesses:\n",
    "03\n",
    "    01 04\n",
    "    04 54935887\n",
    "    21 c050929b74c1a04954b78b4b6035e97a5e078a5a0f28ec96d547bfee9ace803ac0\n",
    "locktime: 00000000"
   ]
  },
  {
   "cell_type": "code",
   "execution_count": 75,
   "id": "439b3d24",
   "metadata": {},
   "outputs": [],
   "source": [
    "spend_tx = '02000000000101a4551116dbfc82495eabdd4f6d48e312898e506d78d63e01fc9ec02ace3270d50100000000ffffffff0170dff5050000000022512023baba6e60c5424676408ddbbe485d2b5c2fc7f94815a76a0dbacc945aae2100030104045493588721c050929b74c1a04954b78b4b6035e97a5e078a5a0f28ec96d547bfee9ace803ac000000000'\n",
    "#!bitcoin-cli -regtest decoderawtransaction \"$spend_tx\""
   ]
  },
  {
   "cell_type": "code",
   "execution_count": 76,
   "id": "96da8ec6",
   "metadata": {
    "collapsed": true
   },
   "outputs": [
    {
     "data": {
      "text/plain": [
       "'02000000000101a4551116dbfc82495eabdd4f6d48e312898e506d78d63e01fc9ec02ace3270d50100000000ffffffff0170dff5050000000022512023baba6e60c5424676408ddbbe485d2b5c2fc7f94815a76a0dbacc945aae2100030104045493588721c050929b74c1a04954b78b4b6035e97a5e078a5a0f28ec96d547bfee9ace803ac000000000'"
      ]
     },
     "execution_count": 76,
     "metadata": {},
     "output_type": "execute_result"
    }
   ],
   "source": [
    "spend_tx"
   ]
  },
  {
   "cell_type": "code",
   "execution_count": 77,
   "id": "db665354",
   "metadata": {
    "collapsed": true
   },
   "outputs": [
    {
     "name": "stdout",
     "output_type": "stream",
     "text": [
      "[\r\n",
      "  {\r\n",
      "    \"txid\": \"65c5ee8463feeb72112a458216e8600e5f386a685cba5b63dcaa4a18d6c51327\",\r\n",
      "    \"wtxid\": \"7b50f74e105ac8a955af55172c263b0807b946a79a54120a1380b195d148b469\",\r\n",
      "    \"allowed\": true,\r\n",
      "    \"vsize\": 105,\r\n",
      "    \"fees\": {\r\n",
      "      \"base\": 0.00000400\r\n",
      "    }\r\n",
      "  }\r\n",
      "]\r\n"
     ]
    }
   ],
   "source": [
    "!bitcoin-cli -regtest testmempoolaccept '[\"02000000000101a4551116dbfc82495eabdd4f6d48e312898e506d78d63e01fc9ec02ace3270d50100000000ffffffff0170dff5050000000022512023baba6e60c5424676408ddbbe485d2b5c2fc7f94815a76a0dbacc945aae2100030104045493588721c050929b74c1a04954b78b4b6035e97a5e078a5a0f28ec96d547bfee9ace803ac000000000\"]'"
   ]
  },
  {
   "cell_type": "markdown",
   "id": "f5c773e1",
   "metadata": {},
   "source": [
    "### Let's build a taproot with mulitple leaves\n",
    "\n",
    "Let's make a taproot with a bunch of leaves!\n",
    "\n",
    "We have a set of scripts that we want to allow any one of them to spend this bitcoin.\n",
    "\n",
    "Build a tree of the scripts, and then compute the merkle root."
   ]
  },
  {
   "cell_type": "code",
   "execution_count": 78,
   "id": "d5b02fd1",
   "metadata": {
    "collapsed": true
   },
   "outputs": [
    {
     "data": {
      "text/plain": [
       "[('nifty', '54935887'),\n",
       " ('casey',\n",
       "  'AA201ccf6c5e6212f524600fb6b20275cd6ae26dc6b812cd1f84dd3ff7d86b1937d187'),\n",
       " ('jose', '54935887'),\n",
       " ('dpp',\n",
       "  '930200088763a820150faa5b485225f681b179f710cb169b92b401f954392eb30e677624135233f08768'),\n",
       " ('mk', '76769393010987'),\n",
       " ('damian',\n",
       "  'a820528f99cd13f2d438556c6f6a803458a963519d2419a40dd685597c0919d81f588754935587'),\n",
       " ('chris', '53935987'),\n",
       " ('nate',\n",
       "  'a82041ef4bb0b23661e66301aac36066912dac037827b4ae63a7b1165a5aa93ed4eb87')]"
      ]
     },
     "execution_count": 78,
     "metadata": {},
     "output_type": "execute_result"
    }
   ],
   "source": [
    "scripts"
   ]
  },
  {
   "cell_type": "code",
   "execution_count": 79,
   "id": "5a5f25d8",
   "metadata": {
    "collapsed": true
   },
   "outputs": [],
   "source": [
    "balanced_tree = [[[nifty, jose], [casey, dpp]], [[mk, damian], [chris, nate]]]\n",
    "unbalanced_tree = [ nifty, [ chris, [ jose, [ casey, [ dpp, [ mk, [ damian , nate ]]]]]]]"
   ]
  },
  {
   "cell_type": "code",
   "execution_count": 80,
   "id": "e2efee40",
   "metadata": {
    "collapsed": true
   },
   "outputs": [
    {
     "data": {
      "text/plain": [
       "[[['54935887', '54935887'],\n",
       "  ['AA201ccf6c5e6212f524600fb6b20275cd6ae26dc6b812cd1f84dd3ff7d86b1937d187',\n",
       "   '930200088763a820150faa5b485225f681b179f710cb169b92b401f954392eb30e677624135233f08768']],\n",
       " [['76769393010987',\n",
       "   'a820528f99cd13f2d438556c6f6a803458a963519d2419a40dd685597c0919d81f588754935587'],\n",
       "  ['53935987',\n",
       "   'a82041ef4bb0b23661e66301aac36066912dac037827b4ae63a7b1165a5aa93ed4eb87']]]"
      ]
     },
     "execution_count": 80,
     "metadata": {},
     "output_type": "execute_result"
    }
   ],
   "source": [
    "balanced_tree"
   ]
  },
  {
   "cell_type": "code",
   "execution_count": 81,
   "id": "d31b4f35",
   "metadata": {
    "collapsed": true
   },
   "outputs": [
    {
     "data": {
      "text/plain": [
       "['54935887',\n",
       " ['53935987',\n",
       "  ['54935887',\n",
       "   ['AA201ccf6c5e6212f524600fb6b20275cd6ae26dc6b812cd1f84dd3ff7d86b1937d187',\n",
       "    ['930200088763a820150faa5b485225f681b179f710cb169b92b401f954392eb30e677624135233f08768',\n",
       "     ['76769393010987',\n",
       "      ['a820528f99cd13f2d438556c6f6a803458a963519d2419a40dd685597c0919d81f588754935587',\n",
       "       'a82041ef4bb0b23661e66301aac36066912dac037827b4ae63a7b1165a5aa93ed4eb87']]]]]]]"
      ]
     },
     "execution_count": 81,
     "metadata": {},
     "output_type": "execute_result"
    }
   ],
   "source": [
    "unbalanced_tree"
   ]
  },
  {
   "cell_type": "markdown",
   "id": "7e4b9d26",
   "metadata": {},
   "source": [
    "### Now that our tree(s) are defined, we need to calculate the merkle root\n",
    "\n",
    "We need a function that given our tree, will return a merkle root."
   ]
  },
  {
   "cell_type": "code",
   "execution_count": 82,
   "id": "e81e5c7a",
   "metadata": {
    "collapsed": true
   },
   "outputs": [],
   "source": [
    "def make_leaf(script_bytes):\n",
    "    leaf_version = 0xc0\n",
    "    # leaf version + len script + script\n",
    "    data = bytes([leaf_version]) + size_compact_size(len(script_bytes)) + script_bytes\n",
    "    return tag_hash(b'TapLeaf', data)"
   ]
  },
  {
   "cell_type": "code",
   "execution_count": 83,
   "id": "d9350eb6",
   "metadata": {
    "collapsed": true
   },
   "outputs": [],
   "source": [
    "def taptree_builder(tree):\n",
    "    if isinstance(tree, str):\n",
    "        script_bytes = bytes.fromhex(tree)\n",
    "        leaf_hash = make_leaf(script_bytes)\n",
    "        print(\"leaf:\", leaf_hash.hex())\n",
    "        return leaf_hash\n",
    "    \n",
    "    # calculate the branch hash. \n",
    "    assert len(tree) == 2\n",
    "    left = taptree_builder(tree[0])\n",
    "    right = taptree_builder(tree[1])\n",
    "    \n",
    "    # we have to order the left + right \"alphabetically\"\n",
    "    # thank you arik :)\n",
    "    if left > right:\n",
    "        right, left = left, right\n",
    "    \n",
    "    branch_hash = tag_hash(b'TapBranch', left + right)\n",
    "    print(\"branch:\", branch_hash.hex())\n",
    "    return branch_hash\n",
    "    "
   ]
  },
  {
   "cell_type": "code",
   "execution_count": 84,
   "id": "2c5e446a",
   "metadata": {
    "collapsed": true
   },
   "outputs": [
    {
     "name": "stdout",
     "output_type": "stream",
     "text": [
      "leaf: 7ce84a5b9c296529029e07e014ffdfb9bb11d201bd84e4528d4ae46d6160ead6\n",
      "leaf: 7ce84a5b9c296529029e07e014ffdfb9bb11d201bd84e4528d4ae46d6160ead6\n",
      "branch: c6f6f180831c02d2c477a6baa1e34fb0b49897543f149ae83fbd3deb89c8ae80\n",
      "leaf: bcf0ffea8d704f70610ddffb14a2cd74cbde7b4bf116605143f43fcdac862858\n",
      "leaf: 7199c3d01803160ae132c34a5aaa9e5ba44725b0e6a483caa4de6804e77e2b01\n",
      "branch: 9542ca2491c786b840b98222e18c58ef4eda480755b4ee3424fced25c58150a5\n",
      "branch: 111fbd5ec2591327c312c7db37a0722205156310354d11783777f41ceff2fe96\n",
      "leaf: fa2b5d06e6fdf4ce947e00511fa6dd92294996846ec8a3b0b80d9363f0dec93a\n",
      "leaf: 5f305f38bd7306856e35ac66b1f0c528a76af3ecfb777c4afef45bb80b2a0a6a\n",
      "branch: 2869d5d001b985f60582de5e96d27d49bf19e111de5908b70a75d4c1c4354700\n",
      "leaf: 8ddbf7add8c35b385346ea0f1c3fa93bbfd9583c75ee097fe0c03c64cceccd0a\n",
      "leaf: 002a01ee216a40f3d68710b87d7fb0654a7d540e9baa3f5ba5a06170b82ed08d\n",
      "branch: b95df7c5373a203b605e4c4773579b51f853078ba1a5f9db35df6527566c0c6d\n",
      "branch: 8903a87b4aa61a20cc352975eab9ed92f780a37313c823561af3947002154886\n",
      "branch: bf9d5551696d290b9b8cb134fef97bcc3e8a4e7812c9719fc8c3140947cd12cf\n"
     ]
    },
    {
     "data": {
      "text/plain": [
       "'bf9d5551696d290b9b8cb134fef97bcc3e8a4e7812c9719fc8c3140947cd12cf'"
      ]
     },
     "execution_count": 84,
     "metadata": {},
     "output_type": "execute_result"
    }
   ],
   "source": [
    "balanced_root = taptree_builder(balanced_tree)\n",
    "balanced_root.hex()"
   ]
  },
  {
   "cell_type": "code",
   "execution_count": 85,
   "id": "9d4bcb3a",
   "metadata": {
    "collapsed": true
   },
   "outputs": [
    {
     "name": "stdout",
     "output_type": "stream",
     "text": [
      "leaf: 7ce84a5b9c296529029e07e014ffdfb9bb11d201bd84e4528d4ae46d6160ead6\n",
      "leaf: 8ddbf7add8c35b385346ea0f1c3fa93bbfd9583c75ee097fe0c03c64cceccd0a\n",
      "leaf: 7ce84a5b9c296529029e07e014ffdfb9bb11d201bd84e4528d4ae46d6160ead6\n",
      "leaf: bcf0ffea8d704f70610ddffb14a2cd74cbde7b4bf116605143f43fcdac862858\n",
      "leaf: 7199c3d01803160ae132c34a5aaa9e5ba44725b0e6a483caa4de6804e77e2b01\n",
      "leaf: fa2b5d06e6fdf4ce947e00511fa6dd92294996846ec8a3b0b80d9363f0dec93a\n",
      "leaf: 5f305f38bd7306856e35ac66b1f0c528a76af3ecfb777c4afef45bb80b2a0a6a\n",
      "leaf: 002a01ee216a40f3d68710b87d7fb0654a7d540e9baa3f5ba5a06170b82ed08d\n",
      "branch: f1da90107484360f6a99c3dd6bf46e0a9981881588e4210f59dc45bb923c87f0\n",
      "branch: e54d0e57313111b88e0c4ce1a579b7fde0352e6aa8403d79c0ee9ca50c389bbb\n",
      "branch: 2a67515502ffea3c0703a0479be3949c9947800b21d39e685e7e98ebdbab657b\n",
      "branch: 84186ded4ee597659c81a86e361a566259430fc71415c4b17b362a95c5ab243a\n",
      "branch: 2a2af5481b5651304abeb64328c6ee695a34a486ddfa36f39e56995c9da1747a\n",
      "branch: 13eed6c9107796176054fa81be4bd6f6ec878cb3a918de1bc911be4c8e9b0566\n",
      "branch: 302c45b0602c4f8941e8729cdf11b619fec284bdd9359db998dcb066cd6a382b\n"
     ]
    },
    {
     "data": {
      "text/plain": [
       "['54935887',\n",
       " ['53935987',\n",
       "  ['54935887',\n",
       "   ['AA201ccf6c5e6212f524600fb6b20275cd6ae26dc6b812cd1f84dd3ff7d86b1937d187',\n",
       "    ['930200088763a820150faa5b485225f681b179f710cb169b92b401f954392eb30e677624135233f08768',\n",
       "     ['76769393010987',\n",
       "      ['a820528f99cd13f2d438556c6f6a803458a963519d2419a40dd685597c0919d81f588754935587',\n",
       "       'a82041ef4bb0b23661e66301aac36066912dac037827b4ae63a7b1165a5aa93ed4eb87']]]]]]]"
      ]
     },
     "execution_count": 85,
     "metadata": {},
     "output_type": "execute_result"
    }
   ],
   "source": [
    "unbalanced_root = taptree_builder(unbalanced_tree)\n",
    "unbalanced_tree"
   ]
  },
  {
   "cell_type": "code",
   "execution_count": 86,
   "id": "48f26863",
   "metadata": {},
   "outputs": [
    {
     "data": {
      "text/plain": [
       "'0250929b74c1a04954b78b4b6035e97a5e078a5a0f28ec96d547bfee9ace803ac0'"
      ]
     },
     "execution_count": 86,
     "metadata": {},
     "output_type": "execute_result"
    }
   ],
   "source": [
    "internal_pubkey.format().hex()"
   ]
  },
  {
   "cell_type": "code",
   "execution_count": 87,
   "id": "b3d5b0d0",
   "metadata": {},
   "outputs": [
    {
     "data": {
      "text/plain": [
       "'022a78497e11a16bfd866a87b6d09ed953a07988e10626f9313e27bb5cf51d9161'"
      ]
     },
     "execution_count": 87,
     "metadata": {},
     "output_type": "execute_result"
    }
   ],
   "source": [
    "balanced_tweak_key = make_tweak_pubkey(internal_pubkey, balanced_root)\n",
    "balanced_tweak_key.format().hex()"
   ]
  },
  {
   "cell_type": "code",
   "execution_count": 88,
   "id": "2a0fda76",
   "metadata": {},
   "outputs": [
    {
     "data": {
      "text/plain": [
       "'026524dcd9efddc696215edd34f6e9d96428a67f04208a5cb7e5b33187b9d01897'"
      ]
     },
     "execution_count": 88,
     "metadata": {},
     "output_type": "execute_result"
    }
   ],
   "source": [
    "unbalanced_tweak_key = make_tweak_pubkey(internal_pubkey, unbalanced_root)\n",
    "unbalanced_tweak_key.format().hex()"
   ]
  },
  {
   "cell_type": "code",
   "execution_count": 89,
   "id": "174e5919",
   "metadata": {},
   "outputs": [],
   "source": [
    "Q_balanced = make_external_pubkey(internal_pubkey, balanced_tweak_key)\n",
    "Q_unbalanced = make_external_pubkey(internal_pubkey, unbalanced_tweak_key)"
   ]
  },
  {
   "cell_type": "code",
   "execution_count": 90,
   "id": "d26cd7db",
   "metadata": {},
   "outputs": [
    {
     "data": {
      "text/plain": [
       "'5120d5fe9ae05d009609889713d4376e18194cebd61105525fc52d53ca49ac1ca198'"
      ]
     },
     "execution_count": 90,
     "metadata": {},
     "output_type": "execute_result"
    }
   ],
   "source": [
    "p2tr_balanced = make_p2tr(Q_balanced).hex()\n",
    "p2tr_balanced"
   ]
  },
  {
   "cell_type": "code",
   "execution_count": 91,
   "id": "91c5fd95",
   "metadata": {},
   "outputs": [
    {
     "data": {
      "text/plain": [
       "'512098a7c168dfcc8928936a39ce374969ee121ff210b2350ca704c7293d903c17cd'"
      ]
     },
     "execution_count": 91,
     "metadata": {},
     "output_type": "execute_result"
    }
   ],
   "source": [
    "p2tr_unbalanced = make_p2tr(Q_unbalanced).hex()\n",
    "p2tr_unbalanced"
   ]
  },
  {
   "cell_type": "code",
   "execution_count": 92,
   "id": "d192e0ca",
   "metadata": {},
   "outputs": [
    {
     "name": "stdout",
     "output_type": "stream",
     "text": [
      "bcrt1p6hlf4czaqztqnzyhz02rwmscr9xwh4s3q4f9l3fd209yntqu5xvqh797tq\r\n"
     ]
    }
   ],
   "source": [
    "!bitcoin-cli -regtest decodescript \"$p2tr_balanced\" | jq -r .address"
   ]
  },
  {
   "cell_type": "code",
   "execution_count": 93,
   "id": "c4a3593a",
   "metadata": {},
   "outputs": [
    {
     "name": "stdout",
     "output_type": "stream",
     "text": [
      "bcrt1pnznuz6xlejyj3ym2888rwjtfacfplusskg6sefcycu5nmypuzlxspdv3ku\r\n"
     ]
    }
   ],
   "source": [
    "!bitcoin-cli -regtest decodescript \"$p2tr_unbalanced\" | jq -r .address"
   ]
  },
  {
   "cell_type": "code",
   "execution_count": 94,
   "id": "49cbb4a2",
   "metadata": {},
   "outputs": [
    {
     "data": {
      "text/plain": [
       "'3f4e1ffcb93fae8f1101b321616b1d9ca18cb909d02668bbfd76c062075fa01c'"
      ]
     },
     "execution_count": 94,
     "metadata": {},
     "output_type": "execute_result"
    }
   ],
   "source": [
    "# Balanced Tree Address Lock Up\n",
    "#!bitcoin-cli -regtest sendtoaddress bcrt1p6hlf4czaqztqnzyhz02rwmscr9xwh4s3q4f9l3fd209yntqu5xvqh797tq 1.1\n",
    "\"3f4e1ffcb93fae8f1101b321616b1d9ca18cb909d02668bbfd76c062075fa01c\""
   ]
  },
  {
   "cell_type": "code",
   "execution_count": 95,
   "id": "ce721101",
   "metadata": {},
   "outputs": [
    {
     "name": "stdout",
     "output_type": "stream",
     "text": [
      "9bde5c6869a90b4b0507bda045bfe308fdf2ea2e6444164a5c06f6e3a785caa6\r\n"
     ]
    }
   ],
   "source": [
    "# Unbalanced Tree Address Lock Up\n",
    "!bitcoin-cli -regtest sendtoaddress bcrt1pnznuz6xlejyj3ym2888rwjtfacfplusskg6sefcycu5nmypuzlxspdv3ku 1.2"
   ]
  },
  {
   "cell_type": "code",
   "execution_count": 96,
   "id": "59613bdd",
   "metadata": {},
   "outputs": [
    {
     "name": "stdout",
     "output_type": "stream",
     "text": [
      "{\r\n",
      "  \"txid\": \"821c72b0a18427be1d80a8980057291e47f502ee0687e66ca5861f499449d567\",\r\n",
      "  \"hash\": \"2cc2dc65bcd8c4a55f59e5c8c9f40431e5c95b885603ae1670cd5cf0b4268c8f\",\r\n",
      "  \"version\": 2,\r\n",
      "  \"size\": 246,\r\n",
      "  \"vsize\": 165,\r\n",
      "  \"weight\": 657,\r\n",
      "  \"locktime\": 305,\r\n",
      "  \"vin\": [\r\n",
      "    {\r\n",
      "      \"txid\": \"e46663eb0fb1cd06a02de1597fbbf7126917e7733273345dc3ad2cd15f402761\",\r\n",
      "      \"vout\": 0,\r\n",
      "      \"scriptSig\": {\r\n",
      "        \"asm\": \"\",\r\n",
      "        \"hex\": \"\"\r\n",
      "      },\r\n",
      "      \"txinwitness\": [\r\n",
      "        \"30440220518adabd1d1703c6551b091c3b68c6bdaf6eb837610867bfe5bd7d60aca8cf0e0220267413adaa2b939faab17d3478e41ebd74fc68c94a90be10eed12a9c590edc6301\",\r\n",
      "        \"02dd2e5d35d614b83d9319ae83a8a64728be5c8ce9da32a6c159b8fd48f8acc0b1\"\r\n",
      "      ],\r\n",
      "      \"sequence\": 4294967294\r\n",
      "    }\r\n",
      "  ],\r\n",
      "  \"vout\": [\r\n",
      "    {\r\n",
      "      \"value\": 23.90000000,\r\n",
      "      \"n\": 0,\r\n",
      "      \"scriptPubKey\": {\r\n",
      "        \"asm\": \"1 42cdd0d2869e107b14841859bb6a3141cb3bed2c9f07c3d48b41585d48b044f6\",\r\n",
      "        \"desc\": \"addr(bcrt1pgtxap55xncg8k9yyrpvmk633g89nhmfvnuru84ytg9v96j9sgnmqlcps5q)#q8n0a5g0\",\r\n",
      "        \"hex\": \"512042cdd0d2869e107b14841859bb6a3141cb3bed2c9f07c3d48b41585d48b044f6\",\r\n",
      "        \"address\": \"bcrt1pgtxap55xncg8k9yyrpvmk633g89nhmfvnuru84ytg9v96j9sgnmqlcps5q\",\r\n",
      "        \"type\": \"witness_v1_taproot\"\r\n",
      "      }\r\n",
      "    },\r\n",
      "    {\r\n",
      "      \"value\": 1.10000000,\r\n",
      "      \"n\": 1,\r\n",
      "      \"scriptPubKey\": {\r\n",
      "        \"asm\": \"1 d5fe9ae05d009609889713d4376e18194cebd61105525fc52d53ca49ac1ca198\",\r\n",
      "        \"desc\": \"addr(bcrt1p6hlf4czaqztqnzyhz02rwmscr9xwh4s3q4f9l3fd209yntqu5xvqh797tq)#mccnca86\",\r\n",
      "        \"hex\": \"5120d5fe9ae05d009609889713d4376e18194cebd61105525fc52d53ca49ac1ca198\",\r\n",
      "        \"address\": \"bcrt1p6hlf4czaqztqnzyhz02rwmscr9xwh4s3q4f9l3fd209yntqu5xvqh797tq\",\r\n",
      "        \"type\": \"witness_v1_taproot\"\r\n",
      "      }\r\n",
      "    }\r\n",
      "  ],\r\n",
      "  \"hex\": \"020000000001016127405fd12cadc35d34733273e7176912f7bb7f59e12da006cdb10feb6366e40000000000feffffff028081748e0000000022512042cdd0d2869e107b14841859bb6a3141cb3bed2c9f07c3d48b41585d48b044f680778e0600000000225120d5fe9ae05d009609889713d4376e18194cebd61105525fc52d53ca49ac1ca198024730440220518adabd1d1703c6551b091c3b68c6bdaf6eb837610867bfe5bd7d60aca8cf0e0220267413adaa2b939faab17d3478e41ebd74fc68c94a90be10eed12a9c590edc63012102dd2e5d35d614b83d9319ae83a8a64728be5c8ce9da32a6c159b8fd48f8acc0b131010000\",\r\n",
      "  \"blockhash\": \"2737d7d05844c242d4ea537e2fc215d4309d812d41e6b3594531a11a5707d111\",\r\n",
      "  \"confirmations\": 808,\r\n",
      "  \"time\": 1700002347,\r\n",
      "  \"blocktime\": 1700002347\r\n",
      "}\r\n"
     ]
    }
   ],
   "source": [
    "!bitcoin-cli -regtest getrawtransaction 821c72b0a18427be1d80a8980057291e47f502ee0687e66ca5861f499449d567 true"
   ]
  },
  {
   "cell_type": "code",
   "execution_count": 97,
   "id": "d54be1ed",
   "metadata": {},
   "outputs": [
    {
     "name": "stdout",
     "output_type": "stream",
     "text": [
      "67d54994491f86a56ce68706ee02f5471e29570098a8801dbe2784a1b0721c82\n",
      "f3767ce2aa509d0ae5b876b41dcd0b7ea62044464b94d9673ef1d8dba275103e\n"
     ]
    }
   ],
   "source": [
    "balanced_outpoint = (\"821c72b0a18427be1d80a8980057291e47f502ee0687e66ca5861f499449d567\", 1)\n",
    "unbalanced_outpoint = (\"3e1075a2dbd8f13e67d9944b464420a67e0bcd1db476b8e50a9d50aae27c76f3\", 0)\n",
    "\n",
    "txid_balanced = bytes.fromhex(balanced_outpoint[0])[::-1].hex()\n",
    "txid_unbal = bytes.fromhex(unbalanced_outpoint[0])[::-1].hex()\n",
    "\n",
    "print(txid_balanced)\n",
    "print(txid_unbal)"
   ]
  },
  {
   "cell_type": "markdown",
   "id": "5f8087e3",
   "metadata": {},
   "source": [
    "## Let's Spend Some Things!"
   ]
  },
  {
   "cell_type": "code",
   "execution_count": 98,
   "id": "c012ba2d",
   "metadata": {},
   "outputs": [
    {
     "data": {
      "text/plain": [
       "'700c270700000000'"
      ]
     },
     "execution_count": 98,
     "metadata": {},
     "output_type": "execute_result"
    }
   ],
   "source": [
    "# amount unbalanced\n",
    "(12 * 10 ** 7 - 400).to_bytes(8, 'little').hex()"
   ]
  },
  {
   "cell_type": "code",
   "execution_count": 99,
   "id": "28951499",
   "metadata": {},
   "outputs": [
    {
     "data": {
      "text/plain": [
       "'f0758e0600000000'"
      ]
     },
     "execution_count": 99,
     "metadata": {},
     "output_type": "execute_result"
    }
   ],
   "source": [
    "# amount balanced\n",
    "(11 * 10 ** 7 - 400).to_bytes(8, 'little').hex()"
   ]
  },
  {
   "cell_type": "markdown",
   "id": "3a8dac1e",
   "metadata": {},
   "source": [
    "### Balanced Spend Transaction\n",
    "\n",
    "```\n",
    "version: 02000000\n",
    "marker+flag: 0001\n",
    "inputs: 01\n",
    "    txid: 67d54994491f86a56ce68706ee02f5471e29570098a8801dbe2784a1b0721c82\n",
    "    vout: 01000000\n",
    "    scriptSig: 00\n",
    "    sequence: ffffffff\n",
    "outputs: 01\n",
    "    amounts: f0758e0600000000\n",
    "    scriptPubKey: 22 512023baba6e60c5424676408ddbbe485d2b5c2fc7f94815a76a0dbacc945aae2100\n",
    "witnesses:\n",
    "    03\n",
    "        <unlock script>\n",
    "        <leaf script>\n",
    "        <control block!>\n",
    "locktime: 00000000\n",
    "```"
   ]
  },
  {
   "cell_type": "code",
   "execution_count": 100,
   "id": "20d5c1c6",
   "metadata": {},
   "outputs": [
    {
     "data": {
      "text/plain": [
       "'a820528f99cd13f2d438556c6f6a803458a963519d2419a40dd685597c0919d81f588754935587'"
      ]
     },
     "execution_count": 100,
     "metadata": {},
     "output_type": "execute_result"
    }
   ],
   "source": [
    "leaf_script = bytes.fromhex(damian)\n",
    "leaf_script.hex()"
   ]
  },
  {
   "cell_type": "code",
   "execution_count": 101,
   "id": "df7f95e2",
   "metadata": {},
   "outputs": [
    {
     "data": {
      "text/plain": [
       "'546170726f6f7420526f636b7321'"
      ]
     },
     "execution_count": 101,
     "metadata": {},
     "output_type": "execute_result"
    }
   ],
   "source": [
    "unlock_script = b'Taproot Rocks!'\n",
    "unlock_script.hex()"
   ]
  },
  {
   "cell_type": "code",
   "execution_count": 102,
   "id": "745aac70",
   "metadata": {},
   "outputs": [
    {
     "name": "stdout",
     "output_type": "stream",
     "text": [
      "proof ['fa2b5d06e6fdf4ce947e00511fa6dd92294996846ec8a3b0b80d9363f0dec93a', 'b95df7c5373a203b605e4c4773579b51f853078ba1a5f9db35df6527566c0c6d', '111fbd5ec2591327c312c7db37a0722205156310354d11783777f41ceff2fe96']\n"
     ]
    }
   ],
   "source": [
    "def build_proof_of_inclusion(tree, script):\n",
    "    if isinstance(tree, str):\n",
    "        script_bytes = bytes.fromhex(tree)\n",
    "        leaf_hash = make_leaf(script_bytes)\n",
    "        return leaf_hash, [], script == tree\n",
    "    \n",
    "    # calculate the branch hash. \n",
    "    assert len(tree) == 2\n",
    "    left_hash, left_proof, left_target = build_proof_of_inclusion(tree[0], script)\n",
    "    right_hash, right_proof, right_target = build_proof_of_inclusion(tree[1], script)\n",
    "    \n",
    "    proof = []\n",
    "    if left_target:\n",
    "        left_proof.append(right_hash)\n",
    "        proof = left_proof\n",
    "    elif right_target:\n",
    "        right_proof.append(left_hash)\n",
    "        proof = right_proof\n",
    "        \n",
    "    # we have to order the left + right \"alphabetically\"\n",
    "    # thank you arik :)\n",
    "    if left_hash > right_hash:\n",
    "        right_hash, left_hash = left_hash, right_hash\n",
    "    branch_hash = tag_hash(b'TapBranch', left_hash + right_hash)\n",
    "    return branch_hash, proof, left_target or right_target\n",
    "\n",
    "\n",
    "_, proof_of_inclusion, _ = build_proof_of_inclusion(balanced_tree, damian)\n",
    "\n",
    "print('proof', [ x.hex() for x in proof_of_inclusion])"
   ]
  },
  {
   "cell_type": "code",
   "execution_count": 103,
   "id": "6c94710c",
   "metadata": {},
   "outputs": [
    {
     "name": "stdout",
     "output_type": "stream",
     "text": [
      "fa2b5d06e6fdf4ce947e00511fa6dd92294996846ec8a3b0b80d9363f0dec93ab95df7c5373a203b605e4c4773579b51f853078ba1a5f9db35df6527566c0c6d111fbd5ec2591327c312c7db37a0722205156310354d11783777f41ceff2fe96\n"
     ]
    }
   ],
   "source": [
    "print(b''.join(proof_of_inclusion).hex())\n",
    "\n",
    "control_block = control_block_version_byte(Q_balanced) + internal_pubkey.format()[1:] + b''.join(proof_of_inclusion)"
   ]
  },
  {
   "cell_type": "code",
   "execution_count": 104,
   "id": "ebc0e37c",
   "metadata": {},
   "outputs": [
    {
     "data": {
      "text/plain": [
       "'c050929b74c1a04954b78b4b6035e97a5e078a5a0f28ec96d547bfee9ace803ac0fa2b5d06e6fdf4ce947e00511fa6dd92294996846ec8a3b0b80d9363f0dec93ab95df7c5373a203b605e4c4773579b51f853078ba1a5f9db35df6527566c0c6d111fbd5ec2591327c312c7db37a0722205156310354d11783777f41ceff2fe96'"
      ]
     },
     "execution_count": 104,
     "metadata": {},
     "output_type": "execute_result"
    }
   ],
   "source": [
    "control_block.hex()"
   ]
  },
  {
   "cell_type": "code",
   "execution_count": 105,
   "id": "73223505",
   "metadata": {},
   "outputs": [
    {
     "name": "stdout",
     "output_type": "stream",
     "text": [
      "03\n",
      "0e546170726f6f7420526f636b7321\n",
      "27a820528f99cd13f2d438556c6f6a803458a963519d2419a40dd685597c0919d81f588754935587\n",
      "81c050929b74c1a04954b78b4b6035e97a5e078a5a0f28ec96d547bfee9ace803ac0fa2b5d06e6fdf4ce947e00511fa6dd92294996846ec8a3b0b80d9363f0dec93ab95df7c5373a203b605e4c4773579b51f853078ba1a5f9db35df6527566c0c6d111fbd5ec2591327c312c7db37a0722205156310354d11783777f41ceff2fe96\n"
     ]
    }
   ],
   "source": [
    "wits = [size_compact_size(len(unlock_script)) + unlock_script, \n",
    "        size_compact_size(len(leaf_script)) + leaf_script,\n",
    "        size_compact_size(len(control_block)) + control_block]\n",
    "\n",
    "print(size_compact_size(len(wits)).hex())\n",
    "for witness in wits:\n",
    "    print(witness.hex())"
   ]
  },
  {
   "cell_type": "markdown",
   "id": "9e6e1850",
   "metadata": {},
   "source": [
    "### Balanced Spend Transaction\n",
    "\n",
    "```\n",
    "version: 02000000\n",
    "marker+flag: 0001\n",
    "inputs: 01\n",
    "    txid: 67d54994491f86a56ce68706ee02f5471e29570098a8801dbe2784a1b0721c82\n",
    "    vout: 01000000\n",
    "    scriptSig: 00\n",
    "    sequence: ffffffff\n",
    "outputs: 01\n",
    "    amounts: f0758e0600000000\n",
    "    scriptPubKey: 22 512023baba6e60c5424676408ddbbe485d2b5c2fc7f94815a76a0dbacc945aae2100\n",
    "witnesses:\n",
    "    03\n",
    "        0e546170726f6f7420526f636b7321\n",
    "        27a820528f99cd13f2d438556c6f6a803458a963519d2419a40dd685597c0919d81f588754935587\n",
    "        81c050929b74c1a04954b78b4b6035e97a5e078a5a0f28ec96d547bfee9ace803ac0fa2b5d06e6fdf4ce947e00511fa6dd92294996846ec8a3b0b80d9363f0dec93ab95df7c5373a203b605e4c4773579b51f853078ba1a5f9db35df6527566c0c6d111fbd5ec2591327c312c7db37a0722205156310354d11783777f41ceff2fe96\n",
    "locktime: 00000000\n",
    "```"
   ]
  },
  {
   "cell_type": "code",
   "execution_count": 106,
   "id": "b7e67445",
   "metadata": {},
   "outputs": [],
   "source": [
    "tx = '0200000000010167d54994491f86a56ce68706ee02f5471e29570098a8801dbe2784a1b0721c820100000000ffffffff01f0758e060000000022512023baba6e60c5424676408ddbbe485d2b5c2fc7f94815a76a0dbacc945aae2100030e546170726f6f7420526f636b732127a820528f99cd13f2d438556c6f6a803458a963519d2419a40dd685597c0919d81f58875493558781c050929b74c1a04954b78b4b6035e97a5e078a5a0f28ec96d547bfee9ace803ac0fa2b5d06e6fdf4ce947e00511fa6dd92294996846ec8a3b0b80d9363f0dec93ab95df7c5373a203b605e4c4773579b51f853078ba1a5f9db35df6527566c0c6d111fbd5ec2591327c312c7db37a0722205156310354d11783777f41ceff2fe9600000000'"
   ]
  },
  {
   "cell_type": "code",
   "execution_count": 107,
   "id": "ba8366d9",
   "metadata": {},
   "outputs": [
    {
     "name": "stdout",
     "output_type": "stream",
     "text": [
      "{\r\n",
      "  \"txid\": \"429c57e63e6cb1fe85fa665c9210149cb5dd415950e892b9357b39cd0d6cdaf3\",\r\n",
      "  \"hash\": \"8109fa9970e0422327c6513d2afee32aceab17800faf2ff9a6e5cf5dafe5372d\",\r\n",
      "  \"version\": 2,\r\n",
      "  \"size\": 282,\r\n",
      "  \"vsize\": 141,\r\n",
      "  \"weight\": 564,\r\n",
      "  \"locktime\": 0,\r\n",
      "  \"vin\": [\r\n",
      "    {\r\n",
      "      \"txid\": \"821c72b0a18427be1d80a8980057291e47f502ee0687e66ca5861f499449d567\",\r\n",
      "      \"vout\": 1,\r\n",
      "      \"scriptSig\": {\r\n",
      "        \"asm\": \"\",\r\n",
      "        \"hex\": \"\"\r\n",
      "      },\r\n",
      "      \"txinwitness\": [\r\n",
      "        \"546170726f6f7420526f636b7321\",\r\n",
      "        \"a820528f99cd13f2d438556c6f6a803458a963519d2419a40dd685597c0919d81f588754935587\",\r\n",
      "        \"c050929b74c1a04954b78b4b6035e97a5e078a5a0f28ec96d547bfee9ace803ac0fa2b5d06e6fdf4ce947e00511fa6dd92294996846ec8a3b0b80d9363f0dec93ab95df7c5373a203b605e4c4773579b51f853078ba1a5f9db35df6527566c0c6d111fbd5ec2591327c312c7db37a0722205156310354d11783777f41ceff2fe96\"\r\n",
      "      ],\r\n",
      "      \"sequence\": 4294967295\r\n",
      "    }\r\n",
      "  ],\r\n",
      "  \"vout\": [\r\n",
      "    {\r\n",
      "      \"value\": 1.09999600,\r\n",
      "      \"n\": 0,\r\n",
      "      \"scriptPubKey\": {\r\n",
      "        \"asm\": \"1 23baba6e60c5424676408ddbbe485d2b5c2fc7f94815a76a0dbacc945aae2100\",\r\n",
      "        \"desc\": \"addr(bcrt1pywat5mnqc4pyvajq3hdmujza9dwzl3lefq26w6sdhtxfgk4wyyqqsvx823)#rlge0tkx\",\r\n",
      "        \"hex\": \"512023baba6e60c5424676408ddbbe485d2b5c2fc7f94815a76a0dbacc945aae2100\",\r\n",
      "        \"address\": \"bcrt1pywat5mnqc4pyvajq3hdmujza9dwzl3lefq26w6sdhtxfgk4wyyqqsvx823\",\r\n",
      "        \"type\": \"witness_v1_taproot\"\r\n",
      "      }\r\n",
      "    }\r\n",
      "  ]\r\n",
      "}\r\n"
     ]
    }
   ],
   "source": [
    "!bitcoin-cli -regtest decoderawtransaction \"$tx\""
   ]
  },
  {
   "cell_type": "code",
   "execution_count": 108,
   "id": "6a5a4a6e",
   "metadata": {},
   "outputs": [
    {
     "name": "stdout",
     "output_type": "stream",
     "text": [
      "[\r\n",
      "  {\r\n",
      "    \"txid\": \"429c57e63e6cb1fe85fa665c9210149cb5dd415950e892b9357b39cd0d6cdaf3\",\r\n",
      "    \"wtxid\": \"8109fa9970e0422327c6513d2afee32aceab17800faf2ff9a6e5cf5dafe5372d\",\r\n",
      "    \"allowed\": true,\r\n",
      "    \"vsize\": 141,\r\n",
      "    \"fees\": {\r\n",
      "      \"base\": 0.00000400\r\n",
      "    }\r\n",
      "  }\r\n",
      "]\r\n"
     ]
    }
   ],
   "source": [
    "!bitcoin-cli -regtest testmempoolaccept '[\"0200000000010167d54994491f86a56ce68706ee02f5471e29570098a8801dbe2784a1b0721c820100000000ffffffff01f0758e060000000022512023baba6e60c5424676408ddbbe485d2b5c2fc7f94815a76a0dbacc945aae2100030e546170726f6f7420526f636b732127a820528f99cd13f2d438556c6f6a803458a963519d2419a40dd685597c0919d81f58875493558781c050929b74c1a04954b78b4b6035e97a5e078a5a0f28ec96d547bfee9ace803ac0fa2b5d06e6fdf4ce947e00511fa6dd92294996846ec8a3b0b80d9363f0dec93ab95df7c5373a203b605e4c4773579b51f853078ba1a5f9db35df6527566c0c6d111fbd5ec2591327c312c7db37a0722205156310354d11783777f41ceff2fe9600000000\"]'"
   ]
  },
  {
   "cell_type": "markdown",
   "id": "329753e0",
   "metadata": {},
   "source": [
    "### Unbalanced Spend Transaction\n",
    "\n",
    "```\n",
    "version: 02000000\n",
    "marker+flag: 0001\n",
    "inputs: 01\n",
    "    txid: f3767ce2aa509d0ae5b876b41dcd0b7ea62044464b94d9673ef1d8dba275103e\n",
    "    vout: 00000000\n",
    "    scriptSig: 00\n",
    "    sequence: ffffffff\n",
    "outputs: 01\n",
    "    amounts: 700c270700000000\n",
    "    scriptPubKey: 22 512023baba6e60c5424676408ddbbe485d2b5c2fc7f94815a76a0dbacc945aae2100\n",
    "witnesses:\n",
    "03\n",
    "0e546170726f6f7420526f636b7321\n",
    "27a820528f99cd13f2d438556c6f6a803458a963519d2419a40dd685597c0919d81f588754935587\n",
    "fd01010c050929b74c1a04954b78b4b6035e97a5e078a5a0f28ec96d547bfee9ace803ac0002a01ee216a40f3d68710b87d7fb0654a7d540e9baa3f5ba5a06170b82ed08dfa2b5d06e6fdf4ce947e00511fa6dd92294996846ec8a3b0b80d9363f0dec93a7199c3d01803160ae132c34a5aaa9e5ba44725b0e6a483caa4de6804e77e2b01bcf0ffea8d704f70610ddffb14a2cd74cbde7b4bf116605143f43fcdac8628587ce84a5b9c296529029e07e014ffdfb9bb11d201bd84e4528d4ae46d6160ead68ddbf7add8c35b385346ea0f1c3fa93bbfd9583c75ee097fe0c03c64cceccd0a7ce84a5b9c296529029e07e014ffdfb9bb11d201bd84e4528d4ae46d6160ead6\n",
    "locktime: 00000000\n",
    "```"
   ]
  },
  {
   "cell_type": "code",
   "execution_count": 109,
   "id": "16c16274",
   "metadata": {
    "collapsed": true
   },
   "outputs": [
    {
     "data": {
      "text/plain": [
       "'a820528f99cd13f2d438556c6f6a803458a963519d2419a40dd685597c0919d81f588754935587'"
      ]
     },
     "execution_count": 109,
     "metadata": {},
     "output_type": "execute_result"
    }
   ],
   "source": [
    "leaf_script = bytes.fromhex(damian)\n",
    "leaf_script.hex()"
   ]
  },
  {
   "cell_type": "code",
   "execution_count": 110,
   "id": "cf973530",
   "metadata": {
    "collapsed": true
   },
   "outputs": [
    {
     "data": {
      "text/plain": [
       "'546170726f6f7420526f636b7321'"
      ]
     },
     "execution_count": 110,
     "metadata": {},
     "output_type": "execute_result"
    }
   ],
   "source": [
    "unlock_script = b'Taproot Rocks!'\n",
    "unlock_script.hex()"
   ]
  },
  {
   "cell_type": "code",
   "execution_count": 111,
   "id": "b8ad3f6b",
   "metadata": {
    "collapsed": true
   },
   "outputs": [
    {
     "name": "stdout",
     "output_type": "stream",
     "text": [
      "['002a01ee216a40f3d68710b87d7fb0654a7d540e9baa3f5ba5a06170b82ed08d', 'fa2b5d06e6fdf4ce947e00511fa6dd92294996846ec8a3b0b80d9363f0dec93a', '7199c3d01803160ae132c34a5aaa9e5ba44725b0e6a483caa4de6804e77e2b01', 'bcf0ffea8d704f70610ddffb14a2cd74cbde7b4bf116605143f43fcdac862858', '7ce84a5b9c296529029e07e014ffdfb9bb11d201bd84e4528d4ae46d6160ead6', '8ddbf7add8c35b385346ea0f1c3fa93bbfd9583c75ee097fe0c03c64cceccd0a', '7ce84a5b9c296529029e07e014ffdfb9bb11d201bd84e4528d4ae46d6160ead6']\n"
     ]
    }
   ],
   "source": [
    "_, proof_of_inclusion, _ = build_proof_of_inclusion(unbalanced_tree, damian)\n",
    "\n",
    "print([ x.hex() for x in proof_of_inclusion])"
   ]
  },
  {
   "cell_type": "code",
   "execution_count": 112,
   "id": "0c61fef0",
   "metadata": {
    "collapsed": true
   },
   "outputs": [
    {
     "data": {
      "text/plain": [
       "'c050929b74c1a04954b78b4b6035e97a5e078a5a0f28ec96d547bfee9ace803ac0002a01ee216a40f3d68710b87d7fb0654a7d540e9baa3f5ba5a06170b82ed08dfa2b5d06e6fdf4ce947e00511fa6dd92294996846ec8a3b0b80d9363f0dec93a7199c3d01803160ae132c34a5aaa9e5ba44725b0e6a483caa4de6804e77e2b01bcf0ffea8d704f70610ddffb14a2cd74cbde7b4bf116605143f43fcdac8628587ce84a5b9c296529029e07e014ffdfb9bb11d201bd84e4528d4ae46d6160ead68ddbf7add8c35b385346ea0f1c3fa93bbfd9583c75ee097fe0c03c64cceccd0a7ce84a5b9c296529029e07e014ffdfb9bb11d201bd84e4528d4ae46d6160ead6'"
      ]
     },
     "execution_count": 112,
     "metadata": {},
     "output_type": "execute_result"
    }
   ],
   "source": [
    "control_block = control_block_version_byte(Q_unbalanced) + internal_pubkey.format()[1:] + b''.join(proof_of_inclusion)\n",
    "control_block.hex()"
   ]
  },
  {
   "cell_type": "code",
   "execution_count": 113,
   "id": "49ad3f85",
   "metadata": {
    "collapsed": true
   },
   "outputs": [
    {
     "name": "stdout",
     "output_type": "stream",
     "text": [
      "03\n",
      "0e546170726f6f7420526f636b7321\n",
      "27a820528f99cd13f2d438556c6f6a803458a963519d2419a40dd685597c0919d81f588754935587\n",
      "fd0101c050929b74c1a04954b78b4b6035e97a5e078a5a0f28ec96d547bfee9ace803ac0002a01ee216a40f3d68710b87d7fb0654a7d540e9baa3f5ba5a06170b82ed08dfa2b5d06e6fdf4ce947e00511fa6dd92294996846ec8a3b0b80d9363f0dec93a7199c3d01803160ae132c34a5aaa9e5ba44725b0e6a483caa4de6804e77e2b01bcf0ffea8d704f70610ddffb14a2cd74cbde7b4bf116605143f43fcdac8628587ce84a5b9c296529029e07e014ffdfb9bb11d201bd84e4528d4ae46d6160ead68ddbf7add8c35b385346ea0f1c3fa93bbfd9583c75ee097fe0c03c64cceccd0a7ce84a5b9c296529029e07e014ffdfb9bb11d201bd84e4528d4ae46d6160ead6\n"
     ]
    }
   ],
   "source": [
    "from codes import size_compact_size\n",
    "\n",
    "\n",
    "wits = [size_compact_size(len(unlock_script)) + unlock_script, \n",
    "        size_compact_size(len(leaf_script)) + leaf_script,\n",
    "        size_compact_size(len(control_block)) + control_block]\n",
    "\n",
    "print(size_compact_size(len(wits)).hex())\n",
    "for witness in wits:\n",
    "    print(witness.hex())"
   ]
  },
  {
   "cell_type": "code",
   "execution_count": 114,
   "id": "15a9b5e0",
   "metadata": {
    "collapsed": true
   },
   "outputs": [],
   "source": [
    "unbal_tx = '02000000000101f3767ce2aa509d0ae5b876b41dcd0b7ea62044464b94d9673ef1d8dba275103e0000000000ffffffff01700c27070000000022512023baba6e60c5424676408ddbbe485d2b5c2fc7f94815a76a0dbacc945aae2100030e546170726f6f7420526f636b732127a820528f99cd13f2d438556c6f6a803458a963519d2419a40dd685597c0919d81f588754935587fd0101c050929b74c1a04954b78b4b6035e97a5e078a5a0f28ec96d547bfee9ace803ac0002a01ee216a40f3d68710b87d7fb0654a7d540e9baa3f5ba5a06170b82ed08dfa2b5d06e6fdf4ce947e00511fa6dd92294996846ec8a3b0b80d9363f0dec93a7199c3d01803160ae132c34a5aaa9e5ba44725b0e6a483caa4de6804e77e2b01bcf0ffea8d704f70610ddffb14a2cd74cbde7b4bf116605143f43fcdac8628587ce84a5b9c296529029e07e014ffdfb9bb11d201bd84e4528d4ae46d6160ead68ddbf7add8c35b385346ea0f1c3fa93bbfd9583c75ee097fe0c03c64cceccd0a7ce84a5b9c296529029e07e014ffdfb9bb11d201bd84e4528d4ae46d6160ead600000000'"
   ]
  },
  {
   "cell_type": "code",
   "execution_count": 115,
   "id": "58759da0",
   "metadata": {
    "collapsed": true
   },
   "outputs": [
    {
     "name": "stdout",
     "output_type": "stream",
     "text": [
      "{\r\n",
      "  \"txid\": \"ff4f41787144570f75fc082747a518da0acd3eb5137a67ce382bbab2d6210cfa\",\r\n",
      "  \"hash\": \"cee47cf5c16f39e32021a0ecdc8359c7e545508d3cd13b2586c09f2feb12febd\",\r\n",
      "  \"version\": 2,\r\n",
      "  \"size\": 412,\r\n",
      "  \"vsize\": 174,\r\n",
      "  \"weight\": 694,\r\n",
      "  \"locktime\": 0,\r\n",
      "  \"vin\": [\r\n",
      "    {\r\n",
      "      \"txid\": \"3e1075a2dbd8f13e67d9944b464420a67e0bcd1db476b8e50a9d50aae27c76f3\",\r\n",
      "      \"vout\": 0,\r\n",
      "      \"scriptSig\": {\r\n",
      "        \"asm\": \"\",\r\n",
      "        \"hex\": \"\"\r\n",
      "      },\r\n",
      "      \"txinwitness\": [\r\n",
      "        \"546170726f6f7420526f636b7321\",\r\n",
      "        \"a820528f99cd13f2d438556c6f6a803458a963519d2419a40dd685597c0919d81f588754935587\",\r\n",
      "        \"c050929b74c1a04954b78b4b6035e97a5e078a5a0f28ec96d547bfee9ace803ac0002a01ee216a40f3d68710b87d7fb0654a7d540e9baa3f5ba5a06170b82ed08dfa2b5d06e6fdf4ce947e00511fa6dd92294996846ec8a3b0b80d9363f0dec93a7199c3d01803160ae132c34a5aaa9e5ba44725b0e6a483caa4de6804e77e2b01bcf0ffea8d704f70610ddffb14a2cd74cbde7b4bf116605143f43fcdac8628587ce84a5b9c296529029e07e014ffdfb9bb11d201bd84e4528d4ae46d6160ead68ddbf7add8c35b385346ea0f1c3fa93bbfd9583c75ee097fe0c03c64cceccd0a7ce84a5b9c296529029e07e014ffdfb9bb11d201bd84e4528d4ae46d6160ead6\"\r\n",
      "      ],\r\n",
      "      \"sequence\": 4294967295\r\n",
      "    }\r\n",
      "  ],\r\n",
      "  \"vout\": [\r\n",
      "    {\r\n",
      "      \"value\": 1.19999600,\r\n",
      "      \"n\": 0,\r\n",
      "      \"scriptPubKey\": {\r\n",
      "        \"asm\": \"1 23baba6e60c5424676408ddbbe485d2b5c2fc7f94815a76a0dbacc945aae2100\",\r\n",
      "        \"desc\": \"addr(bcrt1pywat5mnqc4pyvajq3hdmujza9dwzl3lefq26w6sdhtxfgk4wyyqqsvx823)#rlge0tkx\",\r\n",
      "        \"hex\": \"512023baba6e60c5424676408ddbbe485d2b5c2fc7f94815a76a0dbacc945aae2100\",\r\n",
      "        \"address\": \"bcrt1pywat5mnqc4pyvajq3hdmujza9dwzl3lefq26w6sdhtxfgk4wyyqqsvx823\",\r\n",
      "        \"type\": \"witness_v1_taproot\"\r\n",
      "      }\r\n",
      "    }\r\n",
      "  ]\r\n",
      "}\r\n"
     ]
    }
   ],
   "source": [
    "!bitcoin-cli -regtest decoderawtransaction \"$unbal_tx\""
   ]
  },
  {
   "cell_type": "code",
   "execution_count": 116,
   "id": "a0622951",
   "metadata": {
    "collapsed": true
   },
   "outputs": [
    {
     "name": "stdout",
     "output_type": "stream",
     "text": [
      "[\r\n",
      "  {\r\n",
      "    \"txid\": \"ff4f41787144570f75fc082747a518da0acd3eb5137a67ce382bbab2d6210cfa\",\r\n",
      "    \"wtxid\": \"cee47cf5c16f39e32021a0ecdc8359c7e545508d3cd13b2586c09f2feb12febd\",\r\n",
      "    \"allowed\": true,\r\n",
      "    \"vsize\": 174,\r\n",
      "    \"fees\": {\r\n",
      "      \"base\": 0.00000400\r\n",
      "    }\r\n",
      "  }\r\n",
      "]\r\n"
     ]
    }
   ],
   "source": [
    "!bitcoin-cli -regtest testmempoolaccept '[\"02000000000101f3767ce2aa509d0ae5b876b41dcd0b7ea62044464b94d9673ef1d8dba275103e0000000000ffffffff01700c27070000000022512023baba6e60c5424676408ddbbe485d2b5c2fc7f94815a76a0dbacc945aae2100030e546170726f6f7420526f636b732127a820528f99cd13f2d438556c6f6a803458a963519d2419a40dd685597c0919d81f588754935587fd0101c050929b74c1a04954b78b4b6035e97a5e078a5a0f28ec96d547bfee9ace803ac0002a01ee216a40f3d68710b87d7fb0654a7d540e9baa3f5ba5a06170b82ed08dfa2b5d06e6fdf4ce947e00511fa6dd92294996846ec8a3b0b80d9363f0dec93a7199c3d01803160ae132c34a5aaa9e5ba44725b0e6a483caa4de6804e77e2b01bcf0ffea8d704f70610ddffb14a2cd74cbde7b4bf116605143f43fcdac8628587ce84a5b9c296529029e07e014ffdfb9bb11d201bd84e4528d4ae46d6160ead68ddbf7add8c35b385346ea0f1c3fa93bbfd9583c75ee097fe0c03c64cceccd0a7ce84a5b9c296529029e07e014ffdfb9bb11d201bd84e4528d4ae46d6160ead600000000\"]'"
   ]
  },
  {
   "cell_type": "markdown",
   "id": "23d7c4bd",
   "metadata": {},
   "source": [
    "# Multisig Three Ways!\n",
    "\n",
    "Specifically a \"threshold multisig\".  \"2 of 3\" // 5 of 7 etc \n",
    "\n",
    "Why this particular task? \n",
    "    - Highlights the removal of OP_CHECKMULTISIG and its replacement\n",
    "    - Why FROST vs MuSig2\n",
    "    \n",
    "\n",
    "What are the three ways we're going to do a threshold spend?\n",
    "\n",
    "- OP_CHECKSIGADD\n",
    "- MuSig2 + tapscript leaves\n",
    "- FROST (external pubkey // internal pubkey)\n",
    "\n",
    "I'm going to do 2 of 3 for our initial examples."
   ]
  },
  {
   "cell_type": "code",
   "execution_count": 117,
   "id": "aedad28a",
   "metadata": {
    "collapsed": true
   },
   "outputs": [
    {
     "data": {
      "text/plain": [
       "'034a4bf5e40fb93d0d0eec627ef9b4b86d785074d30b366edcb747526490a4c82d'"
      ]
     },
     "execution_count": 117,
     "metadata": {},
     "output_type": "execute_result"
    }
   ],
   "source": [
    "privkey = 8589393459493948599858588583933824757589382718181271727004040303\n",
    "assert privkey < n\n",
    "pubkey = coincurve.PrivateKey.from_int(privkey).public_key\n",
    "pubkey.format().hex()"
   ]
  },
  {
   "cell_type": "code",
   "execution_count": 1,
   "id": "3bf4a308",
   "metadata": {
    "collapsed": true
   },
   "outputs": [
    {
     "data": {
      "text/plain": [
       "[444, 555, 666]"
      ]
     },
     "execution_count": 1,
     "metadata": {},
     "output_type": "execute_result"
    }
   ],
   "source": [
    "private_keys = [444, 555, 666]\n",
    "private_keys"
   ]
  },
  {
   "cell_type": "code",
   "execution_count": 3,
   "id": "e80a139c",
   "metadata": {
    "collapsed": true
   },
   "outputs": [
    {
     "data": {
      "text/plain": [
       "['039e6d1d11b101055620cbf7a8bfda75ac1fac813a96608f9c59eac485c16b9f1f',\n",
       " '03d811d8c4323b43702607c25ade936c0ac2e4a44b2ba51f8320c5179e745a7e29',\n",
       " '037f75c66c45a52c35ead5970bbfaafdfba626a6ddceabc14e0f8a8c7d88a5772b']"
      ]
     },
     "execution_count": 3,
     "metadata": {},
     "output_type": "execute_result"
    }
   ],
   "source": [
    "import coincurve\n",
    "pubkeys = [ coincurve.PrivateKey.from_int(x).public_key for x in private_keys ]\n",
    "[ x.format().hex() for x in pubkeys ]"
   ]
  },
  {
   "cell_type": "markdown",
   "id": "a6cb409f",
   "metadata": {},
   "source": [
    "## OP_CHECKSIGADD\n",
    "\n",
    "<pubkey> OP_CHECKSIG <pubkey2> OP_CHECKSIGADD <pubkey3> OP_CHECKSIGADD OP_2 OP_EQUAL\n",
    "    \n",
    "    \n",
    "#### OP_CHECKSIGADD from `interpeter.cpp`\n",
    "```\n",
    "    const valtype& sig = stacktop(-3);\n",
    "    const CScriptNum num(stacktop(-2), fRequireMinimal);\n",
    "    const valtype& pubkey = stacktop(-1);\n",
    "    EvalChecksig... -> success\n",
    "    ...\n",
    "     stack.push_back((num + (success ? 1 : 0))\n",
    "```"
   ]
  },
  {
   "cell_type": "markdown",
   "id": "510ae6eb",
   "metadata": {},
   "source": [
    "20 9e6d1d11b101055620cbf7a8bfda75ac1fac813a96608f9c59eac485c16b9f1f  OP_CHECKSIG\n",
    "20 d811d8c4323b43702607c25ade936c0ac2e4a44b2ba51f8320c5179e745a7e29  OP_CHECKSIGADD\n",
    "20 7f75c66c45a52c35ead5970bbfaafdfba626a6ddceabc14e0f8a8c7d88a5772b  OP_CHECKSIGADD OP_2 OP_EQUAL"
   ]
  },
  {
   "cell_type": "markdown",
   "id": "3ac05e2c",
   "metadata": {},
   "source": [
    "20 9e6d1d11b101055620cbf7a8bfda75ac1fac813a96608f9c59eac485c16b9f1f  ac\n",
    "20 d811d8c4323b43702607c25ade936c0ac2e4a44b2ba51f8320c5179e745a7e29  ba\n",
    "20 7f75c66c45a52c35ead5970bbfaafdfba626a6ddceabc14e0f8a8c7d88a5772b  ba 52 87"
   ]
  },
  {
   "cell_type": "code",
   "execution_count": 145,
   "id": "d0b3c28a",
   "metadata": {
    "collapsed": true
   },
   "outputs": [],
   "source": [
    "lock_script = '209e6d1d11b101055620cbf7a8bfda75ac1fac813a96608f9c59eac485c16b9f1fac20d811d8c4323b43702607c25ade936c0ac2e4a44b2ba51f8320c5179e745a7e29ba207f75c66c45a52c35ead5970bbfaafdfba626a6ddceabc14e0f8a8c7d88a5772bba5287'"
   ]
  },
  {
   "cell_type": "code",
   "execution_count": 146,
   "id": "d09ae842",
   "metadata": {
    "collapsed": true
   },
   "outputs": [
    {
     "name": "stdout",
     "output_type": "stream",
     "text": [
      "{\r\n",
      "  \"asm\": \"9e6d1d11b101055620cbf7a8bfda75ac1fac813a96608f9c59eac485c16b9f1f OP_CHECKSIG d811d8c4323b43702607c25ade936c0ac2e4a44b2ba51f8320c5179e745a7e29 OP_CHECKSIGADD 7f75c66c45a52c35ead5970bbfaafdfba626a6ddceabc14e0f8a8c7d88a5772b OP_CHECKSIGADD 2 OP_EQUAL\",\r\n",
      "  \"desc\": \"raw(209e6d1d11b101055620cbf7a8bfda75ac1fac813a96608f9c59eac485c16b9f1fac20d811d8c4323b43702607c25ade936c0ac2e4a44b2ba51f8320c5179e745a7e29ba207f75c66c45a52c35ead5970bbfaafdfba626a6ddceabc14e0f8a8c7d88a5772bba5287)#wtpgq0kg\",\r\n",
      "  \"type\": \"nonstandard\"\r\n",
      "}\r\n"
     ]
    }
   ],
   "source": [
    "!bitcoin-cli -regtest decodescript \"$lock_script\""
   ]
  },
  {
   "cell_type": "code",
   "execution_count": 147,
   "id": "c682fd4e",
   "metadata": {
    "collapsed": true
   },
   "outputs": [
    {
     "name": "stdout",
     "output_type": "stream",
     "text": [
      "leaf: abcb18eedf7d6857dc29c6b42992befaf46601708c09594d26cc2abc7fb59e26\n"
     ]
    },
    {
     "data": {
      "text/plain": [
       "'abcb18eedf7d6857dc29c6b42992befaf46601708c09594d26cc2abc7fb59e26'"
      ]
     },
     "execution_count": 147,
     "metadata": {},
     "output_type": "execute_result"
    }
   ],
   "source": [
    "# Now that I have a script, I need to get an address for it!\n",
    "\n",
    "tree = lock_script\n",
    "add_root = taptree_builder(tree)\n",
    "add_root.hex()"
   ]
  },
  {
   "cell_type": "code",
   "execution_count": 148,
   "id": "08f984c4",
   "metadata": {
    "collapsed": true
   },
   "outputs": [],
   "source": [
    "internal_pubkey = nums_point(800)"
   ]
  },
  {
   "cell_type": "code",
   "execution_count": 149,
   "id": "ebbc54b9",
   "metadata": {
    "collapsed": true
   },
   "outputs": [
    {
     "data": {
      "text/plain": [
       "'51207e2e49a3355f2b81428a6161860f7faf16cc312d18753198a52a78d34c5af4bf'"
      ]
     },
     "execution_count": 149,
     "metadata": {},
     "output_type": "execute_result"
    }
   ],
   "source": [
    "tweak_key = make_tweak_pubkey(internal_pubkey, add_root)\n",
    "external_pubkey = make_external_pubkey(internal_pubkey, tweak_key)\n",
    "v1script = make_p2tr(external_pubkey)\n",
    "external_script = v1script.hex()\n",
    "external_script"
   ]
  },
  {
   "cell_type": "code",
   "execution_count": 150,
   "id": "9bde56d5",
   "metadata": {
    "collapsed": true
   },
   "outputs": [
    {
     "name": "stdout",
     "output_type": "stream",
     "text": [
      "{\r\n",
      "  \"asm\": \"1 7e2e49a3355f2b81428a6161860f7faf16cc312d18753198a52a78d34c5af4bf\",\r\n",
      "  \"desc\": \"addr(bcrt1p0chynge4tu4czs52v9scvrml4utvcvfdrp6nrx999fudxnz67jlsajln37)#p5kqcxmr\",\r\n",
      "  \"address\": \"bcrt1p0chynge4tu4czs52v9scvrml4utvcvfdrp6nrx999fudxnz67jlsajln37\",\r\n",
      "  \"type\": \"witness_v1_taproot\"\r\n",
      "}\r\n"
     ]
    }
   ],
   "source": [
    "!bitcoin-cli -regtest decodescript \"$external_script\""
   ]
  },
  {
   "cell_type": "code",
   "execution_count": 136,
   "id": "798e8044",
   "metadata": {
    "collapsed": true
   },
   "outputs": [
    {
     "name": "stdout",
     "output_type": "stream",
     "text": [
      "babe6a14be40058f9fbe61f9bd30f982754644da6e0951fb3d1ce795eaee3633\r\n"
     ]
    }
   ],
   "source": [
    "!bitcoin-cli -regtest sendtoaddress bcrt1p0chynge4tu4czs52v9scvrml4utvcvfdrp6nrx999fudxnz67jlsajln37 1.0"
   ]
  },
  {
   "cell_type": "code",
   "execution_count": 144,
   "id": "fe41c805",
   "metadata": {
    "collapsed": true
   },
   "outputs": [
    {
     "name": "stdout",
     "output_type": "stream",
     "text": [
      "\u001b[1;39m[\r\n",
      "  \u001b[1;39m{\r\n",
      "    \u001b[0m\u001b[34;1m\"value\"\u001b[0m\u001b[1;39m: \u001b[0m\u001b[0;39m1.12499681\u001b[0m\u001b[1;39m,\r\n",
      "    \u001b[0m\u001b[34;1m\"n\"\u001b[0m\u001b[1;39m: \u001b[0m\u001b[0;39m0\u001b[0m\u001b[1;39m,\r\n",
      "    \u001b[0m\u001b[34;1m\"scriptPubKey\"\u001b[0m\u001b[1;39m: \u001b[0m\u001b[1;39m{\r\n",
      "      \u001b[0m\u001b[34;1m\"asm\"\u001b[0m\u001b[1;39m: \u001b[0m\u001b[0;32m\"1 dee167673a45a838fdb0aca3a8a4b0144d9add4df06bdd1505b0468317433e95\"\u001b[0m\u001b[1;39m,\r\n",
      "      \u001b[0m\u001b[34;1m\"desc\"\u001b[0m\u001b[1;39m: \u001b[0m\u001b[0;32m\"addr(bcrt1pmmskwee6gk5r3lds4j363f9sz3xe4h2d7p4a69g9kprgx96r862sdl3nwp)#cqruhzy7\"\u001b[0m\u001b[1;39m,\r\n",
      "      \u001b[0m\u001b[34;1m\"hex\"\u001b[0m\u001b[1;39m: \u001b[0m\u001b[0;32m\"5120dee167673a45a838fdb0aca3a8a4b0144d9add4df06bdd1505b0468317433e95\"\u001b[0m\u001b[1;39m,\r\n",
      "      \u001b[0m\u001b[34;1m\"address\"\u001b[0m\u001b[1;39m: \u001b[0m\u001b[0;32m\"bcrt1pmmskwee6gk5r3lds4j363f9sz3xe4h2d7p4a69g9kprgx96r862sdl3nwp\"\u001b[0m\u001b[1;39m,\r\n",
      "      \u001b[0m\u001b[34;1m\"type\"\u001b[0m\u001b[1;39m: \u001b[0m\u001b[0;32m\"witness_v1_taproot\"\u001b[0m\u001b[1;39m\r\n",
      "    \u001b[1;39m}\u001b[0m\u001b[1;39m\r\n",
      "  \u001b[1;39m}\u001b[0m\u001b[1;39m,\r\n",
      "  \u001b[1;39m{\r\n",
      "    \u001b[0m\u001b[34;1m\"value\"\u001b[0m\u001b[1;39m: \u001b[0m\u001b[0;39m1\u001b[0m\u001b[1;39m,\r\n",
      "    \u001b[0m\u001b[34;1m\"n\"\u001b[0m\u001b[1;39m: \u001b[0m\u001b[0;39m1\u001b[0m\u001b[1;39m,\r\n",
      "    \u001b[0m\u001b[34;1m\"scriptPubKey\"\u001b[0m\u001b[1;39m: \u001b[0m\u001b[1;39m{\r\n",
      "      \u001b[0m\u001b[34;1m\"asm\"\u001b[0m\u001b[1;39m: \u001b[0m\u001b[0;32m\"1 7e2e49a3355f2b81428a6161860f7faf16cc312d18753198a52a78d34c5af4bf\"\u001b[0m\u001b[1;39m,\r\n",
      "      \u001b[0m\u001b[34;1m\"desc\"\u001b[0m\u001b[1;39m: \u001b[0m\u001b[0;32m\"addr(bcrt1p0chynge4tu4czs52v9scvrml4utvcvfdrp6nrx999fudxnz67jlsajln37)#p5kqcxmr\"\u001b[0m\u001b[1;39m,\r\n",
      "      \u001b[0m\u001b[34;1m\"hex\"\u001b[0m\u001b[1;39m: \u001b[0m\u001b[0;32m\"51207e2e49a3355f2b81428a6161860f7faf16cc312d18753198a52a78d34c5af4bf\"\u001b[0m\u001b[1;39m,\r\n",
      "      \u001b[0m\u001b[34;1m\"address\"\u001b[0m\u001b[1;39m: \u001b[0m\u001b[0;32m\"bcrt1p0chynge4tu4czs52v9scvrml4utvcvfdrp6nrx999fudxnz67jlsajln37\"\u001b[0m\u001b[1;39m,\r\n",
      "      \u001b[0m\u001b[34;1m\"type\"\u001b[0m\u001b[1;39m: \u001b[0m\u001b[0;32m\"witness_v1_taproot\"\u001b[0m\u001b[1;39m\r\n",
      "    \u001b[1;39m}\u001b[0m\u001b[1;39m\r\n",
      "  \u001b[1;39m}\u001b[0m\u001b[1;39m\r\n",
      "\u001b[1;39m]\u001b[0m\r\n"
     ]
    }
   ],
   "source": [
    "!bitcoin-cli -regtest getrawtransaction babe6a14be40058f9fbe61f9bd30f982754644da6e0951fb3d1ce795eaee3633 true | jq .vout"
   ]
  },
  {
   "cell_type": "code",
   "execution_count": 217,
   "id": "6c5eec26",
   "metadata": {
    "collapsed": true
   },
   "outputs": [
    {
     "data": {
      "text/plain": [
       "{'version': b'\\x02\\x00\\x00\\x00',\n",
       " 'marker_flag': b'\\x00\\x01',\n",
       " 'inputs': [{'txid': b'\\xf1\\x92\\xc3\\xa6*\\x9aW\\xfc\\r\\xf9\\xbc\\xe3!\\xcb\\xf0\\xc0\\x07\\xca\\x1eg\\x18\\x1c\\x1f\\xef\\xee\\r\\xe9\\xbb\\x16e#<',\n",
       "   'vout': b'\\x00\\x00\\x00\\x00',\n",
       "   'scriptSig': b'',\n",
       "   'sequence': b'\\xfe\\xff\\xff\\xff'}],\n",
       " 'outputs': [{'amount': b'\\xe1\\x9b\\xb4\\x06\\x00\\x00\\x00\\x00',\n",
       "   'scriptPubKey': b'Q \\xde\\xe1gg:E\\xa88\\xfd\\xb0\\xac\\xa3\\xa8\\xa4\\xb0\\x14M\\x9a\\xddM\\xf0k\\xdd\\x15\\x05\\xb0F\\x83\\x17C>\\x95'},\n",
       "  {'amount': b'\\x00\\xe1\\xf5\\x05\\x00\\x00\\x00\\x00',\n",
       "   'scriptPubKey': b'Q ~.I\\xa35_+\\x81B\\x8aaa\\x86\\x0f\\x7f\\xaf\\x16\\xcc1-\\x18u1\\x98\\xa5*x\\xd3LZ\\xf4\\xbf'}],\n",
       " 'witnesses': [[b'\\xc5&#X\\xcbkk4C\\xf9\\x90K0]\\rI\\x98b\\xe4\\xee\\xb5\\xa9h\\x19\\xe9\\xc7x\\xf1Je9 \\xc9\\x17\\xd0\\x00\\xefGj\\xba\\xcb\\xc7\\xd1\\xd5\\xc7\\x80\\xf5\\xe8\\xe0b\\x9a\\x19\\x01\\xe3\\x1c\\x0f\\x1b0\\xa1\\xed%\\xb9\\\\\\x00']],\n",
       " 'locktime': b'Y\\x04\\x00\\x00'}"
      ]
     },
     "execution_count": 217,
     "metadata": {},
     "output_type": "execute_result"
    }
   ],
   "source": [
    "prev_tx = !bitcoin-cli -regtest getrawtransaction babe6a14be40058f9fbe61f9bd30f982754644da6e0951fb3d1ce795eaee3633\n",
    "spent_from_tx = parse_tx_bytes_mine(prev_tx[0])"
   ]
  },
  {
   "cell_type": "code",
   "execution_count": 139,
   "id": "5317dfa8",
   "metadata": {
    "collapsed": true
   },
   "outputs": [
    {
     "data": {
      "text/plain": [
       "'3336eeea95e71c3dfb51096eda44467582f930bdf961be9f8f0540be146abeba'"
      ]
     },
     "execution_count": 139,
     "metadata": {},
     "output_type": "execute_result"
    }
   ],
   "source": [
    "txid = 'babe6a14be40058f9fbe61f9bd30f982754644da6e0951fb3d1ce795eaee3633'\n",
    "bckwd_txid = bytes.fromhex(txid)[::-1].hex()\n",
    "bckwd_txid"
   ]
  },
  {
   "cell_type": "code",
   "execution_count": 141,
   "id": "62cd69ad",
   "metadata": {
    "collapsed": true
   },
   "outputs": [
    {
     "data": {
      "text/plain": [
       "'70dff50500000000'"
      ]
     },
     "execution_count": 141,
     "metadata": {},
     "output_type": "execute_result"
    }
   ],
   "source": [
    "amount = (1 * 10 ** 8 - 400).to_bytes(8, 'little')\n",
    "amount.hex()"
   ]
  },
  {
   "cell_type": "markdown",
   "id": "8ca74631",
   "metadata": {},
   "source": [
    "Now we have a locked up some bitcoin. Let's spend it!"
   ]
  },
  {
   "cell_type": "code",
   "execution_count": null,
   "id": "fb5ae935",
   "metadata": {
    "collapsed": true
   },
   "outputs": [],
   "source": [
    "import re\n",
    "def cleanup_tx(hmn_read_tx):\n",
    "    \"\"\" Given a block of text, strip out everything except \n",
    "        the hex strings\n",
    "    \"\"\"\n",
    "    ret_val = []\n",
    "    lines = hmn_read_tx.split('\\n')\n",
    "    for line in lines:\n",
    "        substr = line.split(':')[-1]  # suggested-by @chrisguida + @macaki\n",
    "        ret_val += re.findall(r'[0-9a-fA-F]{2}', substr)\n",
    "    return ''.join(ret_val)"
   ]
  },
  {
   "cell_type": "code",
   "execution_count": 218,
   "id": "b2eaaf10",
   "metadata": {
    "collapsed": true
   },
   "outputs": [
    {
     "data": {
      "text/plain": [
       "'02000000013336eeea95e71c3dfb51096eda44467582f930bdf961be9f8f0540be146abeba0100000000fdffffff0170dff505000000002251207e2e49a3355f2b81428a6161860f7faf16cc312d18753198a52a78d34c5af4bf00000000'"
      ]
     },
     "execution_count": 218,
     "metadata": {},
     "output_type": "execute_result"
    }
   ],
   "source": [
    "tx_tmp = \"\"\"\n",
    "version: 02000000\n",
    "inputs: 01\n",
    "    txid: 3336eeea95e71c3dfb51096eda44467582f930bdf961be9f8f0540be146abeba\n",
    "    vout: 01000000\n",
    "    scriptSig: 00\n",
    "    sequence: fdffffff\n",
    "outputs: 01\n",
    "    amount: 70dff50500000000\n",
    "    scriptPubKey: 2251207e2e49a3355f2b81428a6161860f7faf16cc312d18753198a52a78d34c5af4bf\n",
    "witnesses:\n",
    "locktime: 00000000\n",
    "\"\"\"\n",
    "tx = cleanup_tx(tx_tmp)\n",
    "tx"
   ]
  },
  {
   "cell_type": "code",
   "execution_count": 211,
   "id": "c6cb49eb",
   "metadata": {
    "collapsed": true
   },
   "outputs": [
    {
     "name": "stdout",
     "output_type": "stream",
     "text": [
      "{\r\n",
      "  \"txid\": \"0af9eba1fcf5563225835226c476866049becb1eabb7de3bfc07639cb9c161c5\",\r\n",
      "  \"hash\": \"0af9eba1fcf5563225835226c476866049becb1eabb7de3bfc07639cb9c161c5\",\r\n",
      "  \"version\": 2,\r\n",
      "  \"size\": 94,\r\n",
      "  \"vsize\": 94,\r\n",
      "  \"weight\": 376,\r\n",
      "  \"locktime\": 0,\r\n",
      "  \"vin\": [\r\n",
      "    {\r\n",
      "      \"txid\": \"babe6a14be40058f9fbe61f9bd30f982754644da6e0951fb3d1ce795eaee3633\",\r\n",
      "      \"vout\": 1,\r\n",
      "      \"scriptSig\": {\r\n",
      "        \"asm\": \"\",\r\n",
      "        \"hex\": \"\"\r\n",
      "      },\r\n",
      "      \"sequence\": 4294967293\r\n",
      "    }\r\n",
      "  ],\r\n",
      "  \"vout\": [\r\n",
      "    {\r\n",
      "      \"value\": 0.99999600,\r\n",
      "      \"n\": 0,\r\n",
      "      \"scriptPubKey\": {\r\n",
      "        \"asm\": \"1 7e2e49a3355f2b81428a6161860f7faf16cc312d18753198a52a78d34c5af4bf\",\r\n",
      "        \"desc\": \"addr(bcrt1p0chynge4tu4czs52v9scvrml4utvcvfdrp6nrx999fudxnz67jlsajln37)#p5kqcxmr\",\r\n",
      "        \"hex\": \"51207e2e49a3355f2b81428a6161860f7faf16cc312d18753198a52a78d34c5af4bf\",\r\n",
      "        \"address\": \"bcrt1p0chynge4tu4czs52v9scvrml4utvcvfdrp6nrx999fudxnz67jlsajln37\",\r\n",
      "        \"type\": \"witness_v1_taproot\"\r\n",
      "      }\r\n",
      "    }\r\n",
      "  ]\r\n",
      "}\r\n"
     ]
    }
   ],
   "source": [
    "!bitcoin-cli -regtest decoderawtransaction \"$tx\""
   ]
  },
  {
   "cell_type": "code",
   "execution_count": 167,
   "id": "c77b00b2",
   "metadata": {
    "collapsed": true
   },
   "outputs": [
    {
     "data": {
      "text/plain": [
       "'c068b5a4c53400ec14d7959c94861c6ec663f643fd783c49f67a496a9017a5f6c5'"
      ]
     },
     "execution_count": 167,
     "metadata": {},
     "output_type": "execute_result"
    }
   ],
   "source": [
    "proof_of_inclusion = []\n",
    "control_block = control_block_version_byte(external_pubkey) + internal_pubkey.format()[1:] + b''.join(proof_of_inclusion)\n",
    "control_block.hex()"
   ]
  },
  {
   "cell_type": "code",
   "execution_count": 271,
   "id": "b5f0a6c3",
   "metadata": {},
   "outputs": [
    {
     "data": {
      "text/plain": [
       "'abcb18eedf7d6857dc29c6b42992befaf46601708c09594d26cc2abc7fb59e2600ffffffff'"
      ]
     },
     "execution_count": 271,
     "metadata": {},
     "output_type": "execute_result"
    }
   ],
   "source": [
    "tapleaf_hash = make_leaf(lock_script_fr)\n",
    "key_version = bytes([0x00])\n",
    "codesep_position = bytes([0xff, 0xff, 0xff, 0xff])\n",
    "\n",
    "extension_data = tapleaf_hash + key_version + codesep_position\n",
    "extension_data.hex()"
   ]
  },
  {
   "cell_type": "code",
   "execution_count": 279,
   "id": "e7bea38f",
   "metadata": {},
   "outputs": [
    {
     "name": "stdout",
     "output_type": "stream",
     "text": [
      "amounts: ['00e1f50500000000']\n",
      "scriptpubkeys: ['51207e2e49a3355f2b81428a6161860f7faf16cc312d18753198a52a78d34c5af4bf'] \n",
      "\n"
     ]
    },
    {
     "data": {
      "text/plain": [
       "'a0434d9e47f3c86235477c7b1ae6ae5d3442d49b1943c2b752a68e2a47e247c72fe25357c88ac753ab51ef75588b7a2ed0283a0100187d8ac9c6a674e3ffa21d'"
      ]
     },
     "execution_count": 279,
     "metadata": {},
     "output_type": "execute_result"
    }
   ],
   "source": [
    "vout = 1\n",
    "amounts_bytes = [spent_from_tx['outputs'][vout]['amount']]\n",
    "print(\"amounts:\", [x.hex() for x in amounts_bytes])\n",
    "\n",
    "scriptpubkeys_bytes = [spent_from_tx['outputs'][vout]['scriptPubKey']]\n",
    "print(\"scriptpubkeys:\", [x.hex() for x in scriptpubkeys_bytes], \"\\n\")\n",
    "\n",
    "ext_flag = 1 if extension_data else 0\n",
    "annex_bytes = None\n",
    "input_index = 0\n",
    "\n",
    "sigmsg = sigmsg_default(tx, input_index, annex_bytes, amounts_bytes, scriptpubkeys_bytes, ext_flag)\n",
    "\n",
    "# add extension data to end of what's passed into tag_hash\n",
    "sighash = tag_hash(b'TapSighash', bytes([0x00]) + sigmsg + extension_data)\n",
    "\n",
    "nonce = 10\n",
    "sig1 = sign_msg(private_keys[0], sighash, nonce)\n",
    "assert len(sig1) == 64\n",
    "sig1.hex()"
   ]
  },
  {
   "cell_type": "code",
   "execution_count": 280,
   "id": "1a57d111",
   "metadata": {},
   "outputs": [
    {
     "data": {
      "text/plain": [
       "'774ae7f858a9411e5ef4246b70c65aac5649980be5c17891bbec17895da008cb50f2be29d7810fdd3611c4ae434efa2b916ee85a5df0073c322123fca900b92d'"
      ]
     },
     "execution_count": 280,
     "metadata": {},
     "output_type": "execute_result"
    }
   ],
   "source": [
    "# now we just sign the same message w/ a new key!\n",
    "nonce = 11\n",
    "sig2 = sign_msg(private_keys[1], sighash, nonce)\n",
    "sig2.hex()"
   ]
  },
  {
   "cell_type": "code",
   "execution_count": 157,
   "id": "a4a01f8e",
   "metadata": {},
   "outputs": [],
   "source": [
    "sig3 = b''"
   ]
  },
  {
   "cell_type": "code",
   "execution_count": 288,
   "id": "112ed5a8",
   "metadata": {},
   "outputs": [],
   "source": [
    "lock_script_fr = bytes.fromhex(lock_script)\n",
    "\n",
    "wits = [\n",
    "    sig3,\n",
    "    sig2,\n",
    "    sig1,\n",
    "    lock_script_fr,\n",
    "    control_block\n",
    "]"
   ]
  },
  {
   "cell_type": "code",
   "execution_count": 289,
   "id": "edc44e18",
   "metadata": {
    "collapsed": true
   },
   "outputs": [
    {
     "name": "stdout",
     "output_type": "stream",
     "text": [
      "05\n",
      "00\n",
      "40774ae7f858a9411e5ef4246b70c65aac5649980be5c17891bbec17895da008cb50f2be29d7810fdd3611c4ae434efa2b916ee85a5df0073c322123fca900b92d\n",
      "40a0434d9e47f3c86235477c7b1ae6ae5d3442d49b1943c2b752a68e2a47e247c72fe25357c88ac753ab51ef75588b7a2ed0283a0100187d8ac9c6a674e3ffa21d\n",
      "68209e6d1d11b101055620cbf7a8bfda75ac1fac813a96608f9c59eac485c16b9f1fac20d811d8c4323b43702607c25ade936c0ac2e4a44b2ba51f8320c5179e745a7e29ba207f75c66c45a52c35ead5970bbfaafdfba626a6ddceabc14e0f8a8c7d88a5772bba5287\n",
      "21c068b5a4c53400ec14d7959c94861c6ec663f643fd783c49f67a496a9017a5f6c5\n"
     ]
    }
   ],
   "source": [
    "def print_witnesses(wits):\n",
    "    print(size_compact_size(len(wits)).hex())\n",
    "    for witness in wits:\n",
    "        print(size_compact_size(len(witness)).hex() + witness.hex())\n",
    "        \n",
    "print_witnesses(wits)"
   ]
  },
  {
   "cell_type": "code",
   "execution_count": 304,
   "id": "d3345016",
   "metadata": {},
   "outputs": [
    {
     "data": {
      "text/plain": [
       "'050040774ae7f858a9411e5ef4246b70c65aac5649980be5c17891bbec17895da008cb50f2be29d7810fdd3611c4ae434efa2b916ee85a5df0073c322123fca900b92d40a0434d9e47f3c86235477c7b1ae6ae5d3442d49b1943c2b752a68e2a47e247c72fe25357c88ac753ab51ef75588b7a2ed0283a0100187d8ac9c6a674e3ffa21d68209e6d1d11b101055620cbf7a8bfda75ac1fac813a96608f9c59eac485c16b9f1fac20d811d8c4323b43702607c25ade936c0ac2e4a44b2ba51f8320c5179e745a7e29ba207f75c66c45a52c35ead5970bbfaafdfba626a6ddceabc14e0f8a8c7d88a5772bba528721c068b5a4c53400ec14d7959c94861c6ec663f643fd783c49f67a496a9017a5f6c5'"
      ]
     },
     "execution_count": 304,
     "metadata": {},
     "output_type": "execute_result"
    }
   ],
   "source": [
    "def build_witness_str(wits):\n",
    "    wit_str = size_compact_size(len(wits)).hex()\n",
    "    for witness in wits:\n",
    "        wit_str += size_compact_size(len(witness)).hex() + witness.hex()\n",
    "    return wit_str\n",
    "\n",
    "build_witness_str(wits)"
   ]
  },
  {
   "cell_type": "code",
   "execution_count": 303,
   "id": "33ef56d8",
   "metadata": {},
   "outputs": [
    {
     "data": {
      "text/plain": [
       "'020000000001013336eeea95e71c3dfb51096eda44467582f930bdf961be9f8f0540be146abeba0100000000fdffffff0170dff505000000002251207e2e49a3355f2b81428a6161860f7faf16cc312d18753198a52a78d34c5af4bf050040774ae7f858a9411e5ef4246b70c65aac5649980be5c17891bbec17895da008cb50f2be29d7810fdd3611c4ae434efa2b916ee85a5df0073c322123fca900b92d40a0434d9e47f3c86235477c7b1ae6ae5d3442d49b1943c2b752a68e2a47e247c72fe25357c88ac753ab51ef75588b7a2ed0283a0100187d8ac9c6a674e3ffa21d68209e6d1d11b101055620cbf7a8bfda75ac1fac813a96608f9c59eac485c16b9f1fac20d811d8c4323b43702607c25ade936c0ac2e4a44b2ba51f8320c5179e745a7e29ba207f75c66c45a52c35ead5970bbfaafdfba626a6ddceabc14e0f8a8c7d88a5772bba528721c068b5a4c53400ec14d7959c94861c6ec663f643fd783c49f67a496a9017a5f6c500000000'"
      ]
     },
     "execution_count": 303,
     "metadata": {},
     "output_type": "execute_result"
    }
   ],
   "source": [
    "block = f\"\"\"\n",
    "version: 02000000\n",
    "marker+flag: 0001\n",
    "inputs: 01\n",
    "    txid: 3336eeea95e71c3dfb51096eda44467582f930bdf961be9f8f0540be146abeba\n",
    "    vout: 01000000\n",
    "    scriptSig: 00\n",
    "    sequence: fdffffff\n",
    "outputs: 01\n",
    "    amount: 70dff50500000000\n",
    "    scriptPubKey: 2251207e2e49a3355f2b81428a6161860f7faf16cc312d18753198a52a78d34c5af4bf\n",
    "witnesses:\n",
    "    {build_witness_str(wits)}\n",
    "locktime: 00000000\n",
    "\"\"\"\n",
    "\n",
    "candidate_tx = cleanup_tx(block)\n",
    "candidate_tx"
   ]
  },
  {
   "cell_type": "code",
   "execution_count": 301,
   "id": "bfbf6e9f",
   "metadata": {
    "collapsed": true
   },
   "outputs": [
    {
     "name": "stdout",
     "output_type": "stream",
     "text": [
      "{\r\n",
      "  \"txid\": \"0af9eba1fcf5563225835226c476866049becb1eabb7de3bfc07639cb9c161c5\",\r\n",
      "  \"hash\": \"86d5c7ba5f24284fe686a8b75a99d05e7ec53b73fab5ff20e7f975f3afff7467\",\r\n",
      "  \"version\": 2,\r\n",
      "  \"size\": 367,\r\n",
      "  \"vsize\": 163,\r\n",
      "  \"weight\": 649,\r\n",
      "  \"locktime\": 0,\r\n",
      "  \"vin\": [\r\n",
      "    {\r\n",
      "      \"txid\": \"babe6a14be40058f9fbe61f9bd30f982754644da6e0951fb3d1ce795eaee3633\",\r\n",
      "      \"vout\": 1,\r\n",
      "      \"scriptSig\": {\r\n",
      "        \"asm\": \"\",\r\n",
      "        \"hex\": \"\"\r\n",
      "      },\r\n",
      "      \"txinwitness\": [\r\n",
      "        \"\",\r\n",
      "        \"774ae7f858a9411e5ef4246b70c65aac5649980be5c17891bbec17895da008cb50f2be29d7810fdd3611c4ae434efa2b916ee85a5df0073c322123fca900b92d\",\r\n",
      "        \"a0434d9e47f3c86235477c7b1ae6ae5d3442d49b1943c2b752a68e2a47e247c72fe25357c88ac753ab51ef75588b7a2ed0283a0100187d8ac9c6a674e3ffa21d\",\r\n",
      "        \"209e6d1d11b101055620cbf7a8bfda75ac1fac813a96608f9c59eac485c16b9f1fac20d811d8c4323b43702607c25ade936c0ac2e4a44b2ba51f8320c5179e745a7e29ba207f75c66c45a52c35ead5970bbfaafdfba626a6ddceabc14e0f8a8c7d88a5772bba5287\",\r\n",
      "        \"c068b5a4c53400ec14d7959c94861c6ec663f643fd783c49f67a496a9017a5f6c5\"\r\n",
      "      ],\r\n",
      "      \"sequence\": 4294967293\r\n",
      "    }\r\n",
      "  ],\r\n",
      "  \"vout\": [\r\n",
      "    {\r\n",
      "      \"value\": 0.99999600,\r\n",
      "      \"n\": 0,\r\n",
      "      \"scriptPubKey\": {\r\n",
      "        \"asm\": \"1 7e2e49a3355f2b81428a6161860f7faf16cc312d18753198a52a78d34c5af4bf\",\r\n",
      "        \"desc\": \"addr(bcrt1p0chynge4tu4czs52v9scvrml4utvcvfdrp6nrx999fudxnz67jlsajln37)#p5kqcxmr\",\r\n",
      "        \"hex\": \"51207e2e49a3355f2b81428a6161860f7faf16cc312d18753198a52a78d34c5af4bf\",\r\n",
      "        \"address\": \"bcrt1p0chynge4tu4czs52v9scvrml4utvcvfdrp6nrx999fudxnz67jlsajln37\",\r\n",
      "        \"type\": \"witness_v1_taproot\"\r\n",
      "      }\r\n",
      "    }\r\n",
      "  ]\r\n",
      "}\r\n"
     ]
    }
   ],
   "source": [
    "!bitcoin-cli -regtest decoderawtransaction \"$candidate_tx\""
   ]
  },
  {
   "cell_type": "code",
   "execution_count": 302,
   "id": "5817afbe",
   "metadata": {
    "scrolled": true
   },
   "outputs": [
    {
     "name": "stdout",
     "output_type": "stream",
     "text": [
      "[\r\n",
      "  {\r\n",
      "    \"txid\": \"0af9eba1fcf5563225835226c476866049becb1eabb7de3bfc07639cb9c161c5\",\r\n",
      "    \"wtxid\": \"86d5c7ba5f24284fe686a8b75a99d05e7ec53b73fab5ff20e7f975f3afff7467\",\r\n",
      "    \"allowed\": false,\r\n",
      "    \"reject-reason\": \"txn-already-in-mempool\"\r\n",
      "  }\r\n",
      "]\r\n"
     ]
    }
   ],
   "source": [
    "!bitcoin-cli -regtest testmempoolaccept '[\"'\"$candidate_tx\"'\"]'"
   ]
  },
  {
   "cell_type": "code",
   "execution_count": null,
   "id": "3391521f",
   "metadata": {},
   "outputs": [],
   "source": []
  }
 ],
 "metadata": {
  "kernelspec": {
   "display_name": "Python 3 (ipykernel)",
   "language": "python",
   "name": "python3"
  },
  "language_info": {
   "codemirror_mode": {
    "name": "ipython",
    "version": 3
   },
   "file_extension": ".py",
   "mimetype": "text/x-python",
   "name": "python",
   "nbconvert_exporter": "python",
   "pygments_lexer": "ipython3",
   "version": "3.10.5"
  }
 },
 "nbformat": 4,
 "nbformat_minor": 5
}
