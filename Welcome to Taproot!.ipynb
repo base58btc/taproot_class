{
 "cells": [
  {
   "cell_type": "markdown",
   "id": "2afb669f",
   "metadata": {},
   "source": [
    "# Background on Taproot\n",
    "\n",
    "## Where does \"taproot\" come from?\n",
    "\n",
    "Taproot is a series of bitcoin BIPS (bitcoin improvement proposals) that were merged into bitcoin-core in 2021.\n",
    "\n",
    "It was most recent bitcoin soft-fork and it went live in November 2021.\n",
    "\n",
    "The BIPS can be found on github. They are as follows:\n",
    "\n",
    "- BIP340, Schnorr Signatures https://github.com/bitcoin/bips/blob/master/bip-0340.mediawiki\n",
    "- BIP341, Taproot Segwit v1 https://github.com/bitcoin/bips/blob/master/bip-0341.mediawiki\n",
    "- BIP342, Validating Taproot Spends https://github.com/bitcoin/bips/blob/master/bip-0342.mediawiki\n",
    "- BIP350, Bech32m https://github.com/bitcoin/bips/blob/master/bip-0350.mediawiki"
   ]
  },
  {
   "cell_type": "markdown",
   "id": "14a02606",
   "metadata": {},
   "source": [
    "## What did \"taproot\" change?\n",
    "\n",
    "Taproot added and modified many things in bitcoin. Including\n",
    "\n",
    "- A new signature algorithm (Schnorr)\n",
    "- A new version of Script opcodes (Segwit v1)\n",
    "- A new bitcoin address checksum (bech32m)\n",
    "- Removed some opcodes we know and love (OP_CHECKMULTISIG)\n",
    "- Added a new opcode (OP_CHECKSIGADD)\n",
    "- Added a new scripthash algorithm"
   ]
  },
  {
   "cell_type": "markdown",
   "id": "59c11a6f",
   "metadata": {},
   "source": [
    "# Finding Taproot in the Wild\n",
    "\n",
    "Let's go to mempool.space and find some taproot addresses in the wild!\n",
    "\n",
    "\n",
    "\n",
    "## How to spot a taproot address\n",
    "\n",
    "The bech32 address has a `p` immediately following the `1`\n",
    "\n",
    "Find a taproot address on mempool dot space.\n",
    "\n",
    "What's the \"Type\" for this address?\n",
    "\n",
    "\n",
    "Copy paste the \"ScriptPubKey (HEX)\" for the address you found into the pyblock below."
   ]
  },
  {
   "cell_type": "code",
   "execution_count": 3,
   "id": "1fbc845c",
   "metadata": {},
   "outputs": [],
   "source": [
    "scriptpubkey = \"51203905d81b457b42e8d5eb1ae5280c83c74fbdd20a2e401c0077bce5417909c953\""
   ]
  },
  {
   "cell_type": "code",
   "execution_count": 4,
   "id": "a482867e",
   "metadata": {},
   "outputs": [
    {
     "name": "stdout",
     "output_type": "stream",
     "text": [
      "51203905d81b457b42e8d5eb1ae5280c83c74fbdd20a2e401c0077bce5417909c953\n"
     ]
    }
   ],
   "source": [
    "print(scriptpubkey)"
   ]
  },
  {
   "cell_type": "code",
   "execution_count": 5,
   "id": "9576aa40",
   "metadata": {},
   "outputs": [
    {
     "data": {
      "text/plain": [
       "34"
      ]
     },
     "execution_count": 5,
     "metadata": {},
     "output_type": "execute_result"
    }
   ],
   "source": [
    "len(scriptpubkey) // 2"
   ]
  },
  {
   "cell_type": "markdown",
   "id": "b3faafb0",
   "metadata": {},
   "source": [
    "This is a series of opcodes. If you pass this to `bitcoin-cli decodescript` what does it print back as the asm?"
   ]
  },
  {
   "cell_type": "code",
   "execution_count": 6,
   "id": "d0ae6734",
   "metadata": {},
   "outputs": [
    {
     "name": "stdout",
     "output_type": "stream",
     "text": [
      "{\r\n",
      "  \"asm\": \"1 3905d81b457b42e8d5eb1ae5280c83c74fbdd20a2e401c0077bce5417909c953\",\r\n",
      "  \"desc\": \"addr(bcrt1p8yzasx690dpw340trtjjsryrca8mm5s29eqpcqrhhnj5z7gfe9fsysf0jl)#95u636fj\",\r\n",
      "  \"address\": \"bcrt1p8yzasx690dpw340trtjjsryrca8mm5s29eqpcqrhhnj5z7gfe9fsysf0jl\",\r\n",
      "  \"type\": \"witness_v1_taproot\"\r\n",
      "}\r\n"
     ]
    }
   ],
   "source": [
    "!bitcoin-cli -regtest decodescript 51203905d81b457b42e8d5eb1ae5280c83c74fbdd20a2e401c0077bce5417909c953"
   ]
  },
  {
   "cell_type": "code",
   "execution_count": 44,
   "id": "bc473f18",
   "metadata": {},
   "outputs": [],
   "source": [
    "output = {\n",
    "  \"asm\": \"1 3905d81b457b42e8d5eb1ae5280c83c74fbdd20a2e401c0077bce5417909c953\",\n",
    "  \"desc\": \"addr(bcrt1p8yzasx690dpw340trtjjsryrca8mm5s29eqpcqrhhnj5z7gfe9fsysf0jl)#95u636fj\",\n",
    "  \"address\": \"bcrt1p8yzasx690dpw340trtjjsryrca8mm5s29eqpcqrhhnj5z7gfe9fsysf0jl\",\n",
    "  \"type\": \"witness_v1_taproot\"\n",
    "}"
   ]
  },
  {
   "cell_type": "code",
   "execution_count": 45,
   "id": "87353851",
   "metadata": {},
   "outputs": [
    {
     "name": "stdout",
     "output_type": "stream",
     "text": [
      "1 3905d81b457b42e8d5eb1ae5280c83c74fbdd20a2e401c0077bce5417909c953\n"
     ]
    }
   ],
   "source": [
    "print(output['asm'])"
   ]
  },
  {
   "cell_type": "code",
   "execution_count": 46,
   "id": "0501c7e3",
   "metadata": {},
   "outputs": [
    {
     "data": {
      "text/plain": [
       "['1', '3905d81b457b42e8d5eb1ae5280c83c74fbdd20a2e401c0077bce5417909c953']"
      ]
     },
     "execution_count": 46,
     "metadata": {},
     "output_type": "execute_result"
    }
   ],
   "source": [
    "output['asm'].split(\" \")"
   ]
  },
  {
   "cell_type": "code",
   "execution_count": 47,
   "id": "7c26788b",
   "metadata": {},
   "outputs": [
    {
     "data": {
      "text/plain": [
       "32"
      ]
     },
     "execution_count": 47,
     "metadata": {},
     "output_type": "execute_result"
    }
   ],
   "source": [
    "len(output['asm'].split(\" \")[1]) // 2"
   ]
  },
  {
   "cell_type": "code",
   "execution_count": 48,
   "id": "c6b080c6",
   "metadata": {
    "scrolled": true
   },
   "outputs": [
    {
     "name": "stdout",
     "output_type": "stream",
     "text": [
      "witness_v1_taproot\n"
     ]
    }
   ],
   "source": [
    "print(output['type'])"
   ]
  },
  {
   "cell_type": "code",
   "execution_count": 49,
   "id": "271d89d2",
   "metadata": {},
   "outputs": [
    {
     "name": "stdout",
     "output_type": "stream",
     "text": [
      "hex:\t\t 3905d81b457b42e8d5eb1ae5280c83c74fbdd20a2e401c0077bce5417909c953\n",
      "int val:\t 25792158117016797743484614046835601668965634494428223733945610235101691103571\n"
     ]
    }
   ],
   "source": [
    "x_bytes = bytes.fromhex(output['asm'].split(' ')[1])\n",
    "print('hex:\\t\\t', x_bytes.hex())\n",
    "\n",
    "x_val = int.from_bytes(x_bytes, 'big')\n",
    "print('int val:\\t', x_val)"
   ]
  },
  {
   "cell_type": "markdown",
   "id": "2d05ced0",
   "metadata": {},
   "source": [
    "## Finding the secp256k1 pubkey from a P2TR address\n",
    "\n",
    "Now that we have the x-only pubkey, let's figure out what point that is on the secp256k1 curve.\n",
    "\n",
    "We can do that using `lift_x_pubkey`. This takes an integer and returns a point.\n",
    "\n",
    "In my case, I'll use `coincurve`, a python library for expressing + doing math with public keys."
   ]
  },
  {
   "cell_type": "code",
   "execution_count": 50,
   "id": "4344e1f7",
   "metadata": {},
   "outputs": [],
   "source": [
    "p = 115792089237316195423570985008687907853269984665640564039457584007908834671663\n",
    "def lift_x(x_value):\n",
    "    assert x_value < p\n",
    "    # find y squared (y2 = x^3 + 7)\n",
    "    y2 = (x_value ** 3 + 7) % p\n",
    "    # find the square root of y\n",
    "    y = pow(y2, (p+1)//4, p)\n",
    "    assert (y ** 2 % p) == y2\n",
    "    # if y is odd, find even y\n",
    "    if y % 2 != 0:\n",
    "        y = p - y\n",
    "    return coincurve.PublicKey.from_point(x_value, y)"
   ]
  },
  {
   "cell_type": "code",
   "execution_count": 51,
   "id": "759f7fdc",
   "metadata": {},
   "outputs": [
    {
     "name": "stdout",
     "output_type": "stream",
     "text": [
      "023905d81b457b42e8d5eb1ae5280c83c74fbdd20a2e401c0077bce5417909c953\n",
      "(25792158117016797743484614046835601668965634494428223733945610235101691103571, 4191453718700008539754125939901750860298491226938149986069530358203844164198)\n"
     ]
    }
   ],
   "source": [
    "import coincurve\n",
    "\n",
    "point = lift_x(x_val)\n",
    "print(point.format().hex())\n",
    "print(point.point())"
   ]
  },
  {
   "cell_type": "markdown",
   "id": "f1993a06",
   "metadata": {},
   "source": [
    "## Let's Get Familiar With The Tools!"
   ]
  },
  {
   "cell_type": "code",
   "execution_count": 52,
   "id": "7981b44b",
   "metadata": {},
   "outputs": [],
   "source": [
    "from codes import parse_tx_bytes\n",
    "\n",
    "tx = \"020000000001013c29211e2e6b9a594f28fd9e8b650dd2f64e7024d398fbc4c98f3b8800cef1350000000000ffffffff0358020000000000002251203905d81b457b42e8d5eb1ae5280c83c74fbdd20a2e401c0077bce5417909c95358020000000000002251203905d81b457b42e8d5eb1ae5280c83c74fbdd20a2e401c0077bce5417909c953eba60d00000000002251203905d81b457b42e8d5eb1ae5280c83c74fbdd20a2e401c0077bce5417909c9530140bc93e2b4ae198c6326737b3e1525715109b6fa65cac52be9c1889408ba2d3ddeac9af8c944513905275280c9e8ac5fb6c83a7100137173c3e6a402857cb4c6de00000000\""
   ]
  },
  {
   "cell_type": "code",
   "execution_count": 53,
   "id": "a707117c",
   "metadata": {},
   "outputs": [
    {
     "ename": "AssertionError",
     "evalue": "",
     "output_type": "error",
     "traceback": [
      "\u001b[0;31m---------------------------------------------------------------------------\u001b[0m",
      "\u001b[0;31mAssertionError\u001b[0m                            Traceback (most recent call last)",
      "Input \u001b[0;32mIn [53]\u001b[0m, in \u001b[0;36m<cell line: 1>\u001b[0;34m()\u001b[0m\n\u001b[0;32m----> 1\u001b[0m \u001b[38;5;28mprint\u001b[39m(parse_tx_bytes(tx))\n",
      "File \u001b[0;32m~/dev/scratch/taproot_class/codes.py:94\u001b[0m, in \u001b[0;36mparse_tx_bytes\u001b[0;34m(tx_hex)\u001b[0m\n\u001b[1;32m     90\u001b[0m   tx[\u001b[38;5;124m'\u001b[39m\u001b[38;5;124moutputs\u001b[39m\u001b[38;5;124m'\u001b[39m]\u001b[38;5;241m.\u001b[39mappend(outputx)\n\u001b[1;32m     92\u001b[0m \u001b[38;5;28;01mif\u001b[39;00m \u001b[38;5;124m'\u001b[39m\u001b[38;5;124mmarker_flag\u001b[39m\u001b[38;5;124m'\u001b[39m \u001b[38;5;129;01min\u001b[39;00m tx:\n\u001b[1;32m     93\u001b[0m   \u001b[38;5;66;03m# todo, this\u001b[39;00m\n\u001b[0;32m---> 94\u001b[0m   \u001b[38;5;28;01massert\u001b[39;00m \u001b[38;5;28;01mFalse\u001b[39;00m\n\u001b[1;32m     96\u001b[0m tx[\u001b[38;5;124m'\u001b[39m\u001b[38;5;124mlocktime\u001b[39m\u001b[38;5;124m'\u001b[39m] \u001b[38;5;241m=\u001b[39m tx_bytes[ptr:]\n\u001b[1;32m     97\u001b[0m \u001b[38;5;28;01mreturn\u001b[39;00m tx\n",
      "\u001b[0;31mAssertionError\u001b[0m: "
     ]
    }
   ],
   "source": [
    "print(parse_tx_bytes(tx))"
   ]
  },
  {
   "cell_type": "code",
   "execution_count": 54,
   "id": "60495adf",
   "metadata": {},
   "outputs": [],
   "source": [
    "from pprint import pprint"
   ]
  },
  {
   "cell_type": "code",
   "execution_count": 55,
   "id": "e2483209",
   "metadata": {},
   "outputs": [
    {
     "ename": "AssertionError",
     "evalue": "",
     "output_type": "error",
     "traceback": [
      "\u001b[0;31m---------------------------------------------------------------------------\u001b[0m",
      "\u001b[0;31mAssertionError\u001b[0m                            Traceback (most recent call last)",
      "Input \u001b[0;32mIn [55]\u001b[0m, in \u001b[0;36m<cell line: 1>\u001b[0;34m()\u001b[0m\n\u001b[0;32m----> 1\u001b[0m pprint(parse_tx_bytes(tx))\n",
      "File \u001b[0;32m~/dev/scratch/taproot_class/codes.py:94\u001b[0m, in \u001b[0;36mparse_tx_bytes\u001b[0;34m(tx_hex)\u001b[0m\n\u001b[1;32m     90\u001b[0m   tx[\u001b[38;5;124m'\u001b[39m\u001b[38;5;124moutputs\u001b[39m\u001b[38;5;124m'\u001b[39m]\u001b[38;5;241m.\u001b[39mappend(outputx)\n\u001b[1;32m     92\u001b[0m \u001b[38;5;28;01mif\u001b[39;00m \u001b[38;5;124m'\u001b[39m\u001b[38;5;124mmarker_flag\u001b[39m\u001b[38;5;124m'\u001b[39m \u001b[38;5;129;01min\u001b[39;00m tx:\n\u001b[1;32m     93\u001b[0m   \u001b[38;5;66;03m# todo, this\u001b[39;00m\n\u001b[0;32m---> 94\u001b[0m   \u001b[38;5;28;01massert\u001b[39;00m \u001b[38;5;28;01mFalse\u001b[39;00m\n\u001b[1;32m     96\u001b[0m tx[\u001b[38;5;124m'\u001b[39m\u001b[38;5;124mlocktime\u001b[39m\u001b[38;5;124m'\u001b[39m] \u001b[38;5;241m=\u001b[39m tx_bytes[ptr:]\n\u001b[1;32m     97\u001b[0m \u001b[38;5;28;01mreturn\u001b[39;00m tx\n",
      "\u001b[0;31mAssertionError\u001b[0m: "
     ]
    }
   ],
   "source": [
    "pprint(parse_tx_bytes(tx))"
   ]
  },
  {
   "cell_type": "markdown",
   "id": "ee733acc",
   "metadata": {},
   "source": [
    "First things first, let's update the `parse_tx_bytes` method to be able to handle segwit (any version) transactions."
   ]
  },
  {
   "cell_type": "code",
   "execution_count": 56,
   "id": "1bd41d00",
   "metadata": {
    "scrolled": false
   },
   "outputs": [],
   "source": [
    "def parse_witness_bytes(data):\n",
    "    count, size = parse_compact_size(data)\n",
    "    ptr = size\n",
    "    witnesses = []\n",
    "    for _ in range(0, count):\n",
    "        witlen, size = parse_compact_size(data[ptr:])\n",
    "        ptr += size\n",
    "        witnesses.append(data[ptr:ptr+witlen])\n",
    "        ptr += witlen\n",
    "\n",
    "    return witnesses, ptr"
   ]
  },
  {
   "cell_type": "code",
   "execution_count": 57,
   "id": "020ab911",
   "metadata": {},
   "outputs": [],
   "source": [
    "from codes import parse_compact_size, parse_input_bytes, parse_output_bytes\n",
    "\n",
    "def parse_tx_bytes_mine(tx_hex):\n",
    "  tx_bytes = bytes.fromhex(tx_hex)\n",
    "  tx = {}\n",
    "  ptr = 0\n",
    "  tx['version'] = tx_bytes[0:4]\n",
    "  ptr += 4\n",
    "\n",
    "  if tx_bytes[ptr] == 0x00:\n",
    "    assert tx_bytes[ptr+1] == 0x01\n",
    "    tx['marker_flag'] = bytes([0x00, 0x01])\n",
    "    ptr += 2\n",
    "\n",
    "  count, size = parse_compact_size(tx_bytes[ptr:])\n",
    "  ptr += size \n",
    "  tx['inputs'] = []\n",
    "  for _ in range(0, count):\n",
    "    inputx, size = parse_input_bytes(tx_bytes[ptr:])\n",
    "    ptr += size\n",
    "    tx['inputs'].append(inputx)\n",
    " \n",
    "  count, size = parse_compact_size(tx_bytes[ptr:])\n",
    "  ptr += size\n",
    "  tx['outputs'] = []\n",
    "  for _ in range(0, count):\n",
    "    outputx, size = parse_output_bytes(tx_bytes[ptr:])\n",
    "    ptr += size\n",
    "    tx['outputs'].append(outputx)\n",
    "\n",
    "  if 'marker_flag' in tx:\n",
    "    tx['witnesses'] = []\n",
    "    for _ in range(0, len(tx['inputs'])):\n",
    "        witness, size = parse_witness_bytes(tx_bytes[ptr:])\n",
    "        ptr += size\n",
    "        tx['witnesses'].append(witness)\n",
    "\n",
    "  tx['locktime'] = tx_bytes[ptr:]\n",
    "  return tx"
   ]
  },
  {
   "cell_type": "code",
   "execution_count": 58,
   "id": "9ece766e",
   "metadata": {},
   "outputs": [
    {
     "name": "stdout",
     "output_type": "stream",
     "text": [
      "020000000001013c29211e2e6b9a594f28fd9e8b650dd2f64e7024d398fbc4c98f3b8800cef1350000000000ffffffff0358020000000000002251203905d81b457b42e8d5eb1ae5280c83c74fbdd20a2e401c0077bce5417909c95358020000000000002251203905d81b457b42e8d5eb1ae5280c83c74fbdd20a2e401c0077bce5417909c953eba60d00000000002251203905d81b457b42e8d5eb1ae5280c83c74fbdd20a2e401c0077bce5417909c9530140bc93e2b4ae198c6326737b3e1525715109b6fa65cac52be9c1889408ba2d3ddeac9af8c944513905275280c9e8ac5fb6c83a7100137173c3e6a402857cb4c6de00000000\n",
      "0001013c29211e2e6b9a594f28fd9e8b650dd2f64e7024d398fbc4c98f3b8800cef1350000000000ffffffff0358020000000000002251203905d81b457b42e8d5eb1ae5280c83c74fbdd20a2e401c0077bce5417909c95358020000000000002251203905d81b457b42e8d5eb1ae5280c83c74fbdd20a2e401c0077bce5417909c953eba60d00000000002251203905d81b457b42e8d5eb1ae5280c83c74fbdd20a2e401c0077bce5417909c9530140bc93e2b4ae198c6326737b3e1525715109b6fa65cac52be9c1889408ba2d3ddeac9af8c944513905275280c9e8ac5fb6c83a7100137173c3e6a402857cb4c6de00000000\n"
     ]
    }
   ],
   "source": [
    "tx_bytes = bytes.fromhex(tx)\n",
    "ptr = 4\n",
    "print(tx_bytes.hex())\n",
    "print(tx_bytes[ptr:].hex())"
   ]
  },
  {
   "cell_type": "code",
   "execution_count": 59,
   "id": "e1f2fc42",
   "metadata": {
    "scrolled": true
   },
   "outputs": [
    {
     "name": "stdout",
     "output_type": "stream",
     "text": [
      "{'inputs': [{'scriptSig': b'',\n",
      "             'sequence': b'\\xff\\xff\\xff\\xff',\n",
      "             'txid': b'<)!\\x1e.k\\x9aYO(\\xfd\\x9e\\x8be\\r\\xd2\\xf6Np$'\n",
      "                     b'\\xd3\\x98\\xfb\\xc4\\xc9\\x8f;\\x88\\x00\\xce\\xf15',\n",
      "             'vout': b'\\x00\\x00\\x00\\x00'}],\n",
      " 'locktime': b'\\x00\\x00\\x00\\x00',\n",
      " 'marker_flag': b'\\x00\\x01',\n",
      " 'outputs': [{'amount': b'X\\x02\\x00\\x00\\x00\\x00\\x00\\x00',\n",
      "              'scriptPubKey': b'Q 9\\x05\\xd8\\x1bE{B\\xe8\\xd5\\xeb\\x1a\\xe5(\\x0c'\n",
      "                              b'\\x83\\xc7O\\xbd\\xd2\\n.@\\x1c\\x00w\\xbc\\xe5Ay\\t'\n",
      "                              b'\\xc9S'},\n",
      "             {'amount': b'X\\x02\\x00\\x00\\x00\\x00\\x00\\x00',\n",
      "              'scriptPubKey': b'Q 9\\x05\\xd8\\x1bE{B\\xe8\\xd5\\xeb\\x1a\\xe5(\\x0c'\n",
      "                              b'\\x83\\xc7O\\xbd\\xd2\\n.@\\x1c\\x00w\\xbc\\xe5Ay\\t'\n",
      "                              b'\\xc9S'},\n",
      "             {'amount': b'\\xeb\\xa6\\r\\x00\\x00\\x00\\x00\\x00',\n",
      "              'scriptPubKey': b'Q 9\\x05\\xd8\\x1bE{B\\xe8\\xd5\\xeb\\x1a\\xe5(\\x0c'\n",
      "                              b'\\x83\\xc7O\\xbd\\xd2\\n.@\\x1c\\x00w\\xbc\\xe5Ay\\t'\n",
      "                              b'\\xc9S'}],\n",
      " 'version': b'\\x02\\x00\\x00\\x00',\n",
      " 'witnesses': [[b'\\xbc\\x93\\xe2\\xb4\\xae\\x19\\x8cc&s{>\\x15%qQ\\t\\xb6\\xfae'\n",
      "                b'\\xca\\xc5+\\xe9\\xc1\\x88\\x94\\x08\\xba-=\\xde\\xac\\x9a\\xf8\\xc9'\n",
      "                b\"DQ9\\x05'R\\x80\\xc9\\xe8\\xac_\\xb6\\xc8:q\\x00\\x13qs\\xc3\"\n",
      "                b'\\xe6\\xa4\\x02\\x85|\\xb4\\xc6\\xde']]}\n"
     ]
    }
   ],
   "source": [
    "pprint(parse_tx_bytes_mine(tx))"
   ]
  },
  {
   "cell_type": "code",
   "execution_count": 60,
   "id": "f4c31597",
   "metadata": {},
   "outputs": [],
   "source": [
    "txdata = parse_tx_bytes_mine(tx)"
   ]
  },
  {
   "cell_type": "code",
   "execution_count": 61,
   "id": "33cabf50",
   "metadata": {},
   "outputs": [],
   "source": [
    "assert len(txdata['witnesses'][0]) == 1"
   ]
  },
  {
   "cell_type": "code",
   "execution_count": 62,
   "id": "fb578b55",
   "metadata": {},
   "outputs": [
    {
     "name": "stdout",
     "output_type": "stream",
     "text": [
      "bc93e2b4ae198c6326737b3e1525715109b6fa65cac52be9c1889408ba2d3ddeac9af8c944513905275280c9e8ac5fb6c83a7100137173c3e6a402857cb4c6de\n"
     ]
    }
   ],
   "source": [
    "print(txdata['witnesses'][0][0].hex())"
   ]
  },
  {
   "cell_type": "code",
   "execution_count": 63,
   "id": "f247319d",
   "metadata": {},
   "outputs": [],
   "source": [
    "sig = txdata['witnesses'][0][0]"
   ]
  },
  {
   "cell_type": "code",
   "execution_count": 64,
   "id": "f7cdf944",
   "metadata": {},
   "outputs": [
    {
     "name": "stdout",
     "output_type": "stream",
     "text": [
      "bc93e2b4ae198c6326737b3e1525715109b6fa65cac52be9c1889408ba2d3ddeac9af8c944513905275280c9e8ac5fb6c83a7100137173c3e6a402857cb4c6de\n"
     ]
    }
   ],
   "source": [
    "print(sig.hex())"
   ]
  },
  {
   "cell_type": "code",
   "execution_count": 65,
   "id": "ef388ecf",
   "metadata": {},
   "outputs": [
    {
     "name": "stdout",
     "output_type": "stream",
     "text": [
      "64\n"
     ]
    }
   ],
   "source": [
    "print(len(sig))"
   ]
  },
  {
   "cell_type": "markdown",
   "id": "1196a6e6",
   "metadata": {},
   "source": [
    "## Validating a Signature\n",
    "\n",
    "What message did this signature sign?\n",
    "\n",
    "Finding the \"sighash\" of that message. \n",
    "\n",
    "Take the bitcoin transaction that the signature was embedded into. From this transaction, we'll create a hash.\n",
    "\n",
    "That hash of the bitcoin transaction \"message digest\" which is the hash that the signature \"signed\"."
   ]
  },
  {
   "cell_type": "code",
   "execution_count": 66,
   "id": "239c41e7",
   "metadata": {},
   "outputs": [
    {
     "name": "stdout",
     "output_type": "stream",
     "text": [
      "020000000001013c29211e2e6b9a594f28fd9e8b650dd2f64e7024d398fbc4c98f3b8800cef1350000000000ffffffff0358020000000000002251203905d81b457b42e8d5eb1ae5280c83c74fbdd20a2e401c0077bce5417909c95358020000000000002251203905d81b457b42e8d5eb1ae5280c83c74fbdd20a2e401c0077bce5417909c953eba60d00000000002251203905d81b457b42e8d5eb1ae5280c83c74fbdd20a2e401c0077bce5417909c9530140bc93e2b4ae198c6326737b3e1525715109b6fa65cac52be9c1889408ba2d3ddeac9af8c944513905275280c9e8ac5fb6c83a7100137173c3e6a402857cb4c6de00000000\n"
     ]
    }
   ],
   "source": [
    "print(tx)"
   ]
  },
  {
   "cell_type": "code",
   "execution_count": 67,
   "id": "d3cbd894",
   "metadata": {},
   "outputs": [
    {
     "name": "stdout",
     "output_type": "stream",
     "text": [
      "{'inputs': [{'scriptSig': b'',\n",
      "             'sequence': b'\\xff\\xff\\xff\\xff',\n",
      "             'txid': b'<)!\\x1e.k\\x9aYO(\\xfd\\x9e\\x8be\\r\\xd2\\xf6Np$'\n",
      "                     b'\\xd3\\x98\\xfb\\xc4\\xc9\\x8f;\\x88\\x00\\xce\\xf15',\n",
      "             'vout': b'\\x00\\x00\\x00\\x00'}],\n",
      " 'locktime': b'\\x00\\x00\\x00\\x00',\n",
      " 'marker_flag': b'\\x00\\x01',\n",
      " 'outputs': [{'amount': b'X\\x02\\x00\\x00\\x00\\x00\\x00\\x00',\n",
      "              'scriptPubKey': b'Q 9\\x05\\xd8\\x1bE{B\\xe8\\xd5\\xeb\\x1a\\xe5(\\x0c'\n",
      "                              b'\\x83\\xc7O\\xbd\\xd2\\n.@\\x1c\\x00w\\xbc\\xe5Ay\\t'\n",
      "                              b'\\xc9S'},\n",
      "             {'amount': b'X\\x02\\x00\\x00\\x00\\x00\\x00\\x00',\n",
      "              'scriptPubKey': b'Q 9\\x05\\xd8\\x1bE{B\\xe8\\xd5\\xeb\\x1a\\xe5(\\x0c'\n",
      "                              b'\\x83\\xc7O\\xbd\\xd2\\n.@\\x1c\\x00w\\xbc\\xe5Ay\\t'\n",
      "                              b'\\xc9S'},\n",
      "             {'amount': b'\\xeb\\xa6\\r\\x00\\x00\\x00\\x00\\x00',\n",
      "              'scriptPubKey': b'Q 9\\x05\\xd8\\x1bE{B\\xe8\\xd5\\xeb\\x1a\\xe5(\\x0c'\n",
      "                              b'\\x83\\xc7O\\xbd\\xd2\\n.@\\x1c\\x00w\\xbc\\xe5Ay\\t'\n",
      "                              b'\\xc9S'}],\n",
      " 'version': b'\\x02\\x00\\x00\\x00',\n",
      " 'witnesses': [[b'\\xbc\\x93\\xe2\\xb4\\xae\\x19\\x8cc&s{>\\x15%qQ\\t\\xb6\\xfae'\n",
      "                b'\\xca\\xc5+\\xe9\\xc1\\x88\\x94\\x08\\xba-=\\xde\\xac\\x9a\\xf8\\xc9'\n",
      "                b\"DQ9\\x05'R\\x80\\xc9\\xe8\\xac_\\xb6\\xc8:q\\x00\\x13qs\\xc3\"\n",
      "                b'\\xe6\\xa4\\x02\\x85|\\xb4\\xc6\\xde']]}\n"
     ]
    }
   ],
   "source": [
    "pprint(txdata)"
   ]
  },
  {
   "cell_type": "markdown",
   "id": "2392d3d6",
   "metadata": {},
   "source": [
    "## Find the SigMsg for a transaction\n",
    "\n",
    "Here we use the BIP341 Signature Validation Rules (https://github.com/bitcoin/bips/blob/master/bip-0341.mediawiki#user-content-Common_signature_message) Common signature message definition to calculate the SIGHASH_DEFAULT for a given transaction.\n",
    "\n",
    "We'll use this to compute the sighash for this input, which we need to validate the signature."
   ]
  },
  {
   "cell_type": "code",
   "execution_count": 68,
   "id": "72d626d1",
   "metadata": {},
   "outputs": [],
   "source": [
    "from hashlib import sha256\n",
    "from codes import size_compact_size\n",
    "\n",
    "def sigmsg_default(tx_hex, input_index, annex_bytes, amounts_bytes, scriptpubkeys_bytes, ext_flag):\n",
    "    txdata = parse_tx_bytes_mine(tx_hex)\n",
    "    \n",
    "    result = b''\n",
    "    result += bytes([0x00]) # sighash_flag\n",
    "    result += txdata['version']\n",
    "    result += txdata['locktime']\n",
    "\n",
    "    all_input_outpoints = b''\n",
    "    for inp in txdata['inputs']:\n",
    "        # txid || vout\n",
    "        all_input_outpoints += inp['txid'] + inp['vout']    \n",
    "    sha_prevouts = sha256(all_input_outpoints).digest()\n",
    "    result += sha_prevouts\n",
    "    \n",
    "    sha_amounts = sha256(b''.join(amounts_bytes)).digest()        \n",
    "    result += sha_amounts\n",
    "    \n",
    "    spks = b''\n",
    "    for spk in scriptpubkeys_bytes:\n",
    "        spks += size_compact_size(len(spk)) + spk\n",
    "    sha_scriptpubkeys = sha256(spks).digest()\n",
    "    result += sha_scriptpubkeys\n",
    "    \n",
    "    all_sequences = [ i['sequence'] for i in txdata['inputs'] ]\n",
    "    sha_sequences = sha256(b''.join(all_sequences)).digest()\n",
    "    result += sha_sequences\n",
    "    \n",
    "    all_outputs = b''\n",
    "    for o in txdata['outputs']:\n",
    "        # amount || compact_size(scriptpubkey) || scriptpubkey\n",
    "        all_outputs += o['amount']\n",
    "        all_outputs += size_compact_size(len(o['scriptPubKey']))\n",
    "        all_outputs += o['scriptPubKey']\n",
    "    sha_outputs = sha256(all_outputs).digest()\n",
    "    result += sha_outputs\n",
    "    \n",
    "    # data about this input\n",
    "    annex_present = 1 if annex_bytes else 0\n",
    "    spend_type = 2 * ext_flag + annex_present\n",
    "    result += (spend_type).to_bytes(1, 'little')\n",
    "    result += (input_index).to_bytes(4, 'little')\n",
    "    \n",
    "    if (annex_bytes):\n",
    "        size_bytes = size_compact_size(len(annex_bytes))\n",
    "        sha_annex = sha256(size_bytes + annex_bytes).digest()\n",
    "        result += sha_annex\n",
    "    \n",
    "    # data about this output\n",
    "    # noop for SIGHASH_DEFAULT\n",
    "    \n",
    "    assert len(result) <= 206\n",
    "    return result"
   ]
  },
  {
   "cell_type": "code",
   "execution_count": 69,
   "id": "ee7cca7f",
   "metadata": {},
   "outputs": [
    {
     "name": "stdout",
     "output_type": "stream",
     "text": [
      "{'amount': b'\\xdc\\xab\\x0e\\x00\\x00\\x00\\x00\\x00', 'scriptPubKey': b'Q 9\\x05\\xd8\\x1bE{B\\xe8\\xd5\\xeb\\x1a\\xe5(\\x0c\\x83\\xc7O\\xbd\\xd2\\n.@\\x1c\\x00w\\xbc\\xe5Ay\\t\\xc9S'}\n"
     ]
    }
   ],
   "source": [
    "spent_from_tx = parse_tx_bytes_mine(\"02000000000101d79ca7455775b3fc7bf65eae536faa22e6248b863247cee30765fabb4fafadb80100000000ffffffff02dcab0e00000000002251203905d81b457b42e8d5eb1ae5280c83c74fbdd20a2e401c0077bce5417909c953944be70400000000225120dc2e293b7717ece7898fefc8fd7f6da13e8fb56efac0bc3bd75183304da6ad1701409dab8ddd9c703d1acb6736bc5260b23e64999cb130b9b3ca6c2e69aa084073302b66f0ecb5b4a191618951c022da2c429ac3638613c43bbb88a761634c2cb85300000000\")\n",
    "\n",
    "print(spent_from_tx['outputs'][0])"
   ]
  },
  {
   "cell_type": "code",
   "execution_count": 70,
   "id": "2a09786e",
   "metadata": {},
   "outputs": [
    {
     "name": "stdout",
     "output_type": "stream",
     "text": [
      "amounts: ['dcab0e0000000000']\n",
      "scriptpubkeys: ['51203905d81b457b42e8d5eb1ae5280c83c74fbdd20a2e401c0077bce5417909c953'] \n",
      "\n",
      "sigmsg: 000200000000000000002b9b64a25d11192d251c2e088e7cbc65889963ff67244102b5fc7cb1b4feb51c4eb25d1adc8a44ed6dd54bca7d3d790a7b9e66ef9a8416836882124ad71bb507d41f17121f975dfae4cb8a052b3e34576e1c272bf7e17dfe484be8d1f96317ad95131bc0b799c0b1af477fb14fcf26a6a9f76079e48bf090acb7e8367bfd0e5cdaded8d0fdd6bcb42703ac71156c5d658a47acaa0b90924087e48059d5f1c30000000000\n"
     ]
    }
   ],
   "source": [
    "amounts_bytes = [spent_from_tx['outputs'][0]['amount']]\n",
    "print(\"amounts:\", [x.hex() for x in amounts_bytes])\n",
    "\n",
    "scriptpubkeys_bytes = [spent_from_tx['outputs'][0]['scriptPubKey']]\n",
    "print(\"scriptpubkeys:\", [x.hex() for x in scriptpubkeys_bytes], \"\\n\")\n",
    "\n",
    "ext_flag = 0\n",
    "annex_bytes = None\n",
    "input_index = 0\n",
    "\n",
    "sigmsg = sigmsg_default(tx, input_index, annex_bytes, amounts_bytes, scriptpubkeys_bytes, ext_flag)\n",
    "\n",
    "print(\"sigmsg:\", sigmsg.hex())"
   ]
  },
  {
   "cell_type": "markdown",
   "id": "47d1da59",
   "metadata": {},
   "source": [
    "## Computing the Sighash\n",
    "\n",
    "Now that we have the sighash message, we can calculate the actual \"sighash\" for the signature.\n",
    "\n",
    "The `sighash` for Taproot key path spending signature valdiation is as follows:\n",
    "\n",
    "```\n",
    "sighash = tag_hash(b'TapSighash', bytes([0x00]) + sigmsg)\n",
    "```\n",
    "\n",
    "We'll need to implement the `tag_hash` function, then pass our `sigmsg` into this to find the `sighash`."
   ]
  },
  {
   "cell_type": "code",
   "execution_count": 71,
   "id": "ed4d48f4",
   "metadata": {},
   "outputs": [],
   "source": [
    "from hashlib import sha256\n",
    "\n",
    "def tag_hash(tag, data_bytes):\n",
    "    taghash = sha256(tag).digest()\n",
    "    return sha256(taghash + taghash + data_bytes).digest()"
   ]
  },
  {
   "cell_type": "code",
   "execution_count": 72,
   "id": "82cce04a",
   "metadata": {},
   "outputs": [
    {
     "name": "stdout",
     "output_type": "stream",
     "text": [
      "c09a12ac690db9c044c0df972aec9f574cf12677b80b1b82e910bf9e16f3b115\n"
     ]
    }
   ],
   "source": [
    "sighash = tag_hash(b'TapSighash', bytes([0x00]) + sigmsg)\n",
    "print(sighash.hex())"
   ]
  },
  {
   "cell_type": "markdown",
   "id": "84d5158d",
   "metadata": {},
   "source": [
    "## Verifying the Sighash\n",
    "\n",
    "Now that we've got the `sighash` we're finally ready to verify the signature.\n",
    "\n",
    "For this, we'll need the `verify` function, which is defined in BIP340."
   ]
  },
  {
   "cell_type": "code",
   "execution_count": 73,
   "id": "f7bac652",
   "metadata": {},
   "outputs": [
    {
     "name": "stdout",
     "output_type": "stream",
     "text": [
      "25792158117016797743484614046835601668965634494428223733945610235101691103571\n"
     ]
    }
   ],
   "source": [
    "# there are three inputs to the verify function: pubkey, message, signature\n",
    "pk = x_val\n",
    "m = sighash\n",
    "sig = sig\n",
    "\n",
    "print(x_val)"
   ]
  },
  {
   "cell_type": "code",
   "execution_count": 74,
   "id": "1d0470e4",
   "metadata": {},
   "outputs": [],
   "source": [
    "from codes import n\n",
    "\n",
    "def verify(x_val, m, sig):\n",
    "    P = lift_x(x_val)\n",
    "    assert len(sig) == 64\n",
    "    r = int.from_bytes(sig[:32], 'big')\n",
    "    if r >= p:\n",
    "        return False\n",
    "    s = int.from_bytes(sig[32:], 'big')\n",
    "    if s >= n:\n",
    "        return False\n",
    "    \n",
    "    P_bytes = (x_val).to_bytes(32, 'big')\n",
    "    challenge_hash = tag_hash(b'BIP0340/challenge', sig[:32] + P_bytes + m)\n",
    "    e = int.from_bytes(challenge_hash, 'big') % n\n",
    "    \n",
    "    # e * P\n",
    "    eP = P.multiply(e.to_bytes(32, 'big'))\n",
    "    # s * G\n",
    "    sG = coincurve.PrivateKey.from_int(s).public_key\n",
    "    neg_eP = invert_point(eP)\n",
    "    \n",
    "    # R = sG - eP = sG + -eP\n",
    "    R = coincurve.PublicKey.combine_keys([sG, neg_eP])\n",
    "    \n",
    "    if not has_even_y(R):\n",
    "        return False\n",
    "    \n",
    "    return R.point()[0] == r"
   ]
  },
  {
   "cell_type": "code",
   "execution_count": 75,
   "id": "67aebbc6",
   "metadata": {},
   "outputs": [],
   "source": [
    "def invert_point(pt):\n",
    "    x, y = pt.point()\n",
    "    yneg = p - y\n",
    "    return coincurve.PublicKey.from_point(x, yneg)"
   ]
  },
  {
   "cell_type": "code",
   "execution_count": 76,
   "id": "23ccac8d",
   "metadata": {},
   "outputs": [],
   "source": [
    "def has_even_y(pt):\n",
    "    return pt.point()[1] % 2 == 0"
   ]
  },
  {
   "cell_type": "code",
   "execution_count": 77,
   "id": "a0cccf83",
   "metadata": {},
   "outputs": [
    {
     "data": {
      "text/plain": [
       "True"
      ]
     },
     "execution_count": 77,
     "metadata": {},
     "output_type": "execute_result"
    }
   ],
   "source": [
    "sig = txdata['witnesses'][0][0]\n",
    "verify(x_val, m, sig)"
   ]
  },
  {
   "cell_type": "markdown",
   "id": "a6678a0c",
   "metadata": {},
   "source": [
    "## Signing a message\n",
    "\n",
    "Now that we've been able to successfully verify a message, let's finish implementing the second method for Schnorr: the Sign method.\n",
    "\n",
    "This takes a private key and a message and returns a valid signature.\n",
    "\n",
    "```\n",
    "sig = Sign(privkey, msg)\n",
    "```"
   ]
  },
  {
   "cell_type": "code",
   "execution_count": 78,
   "id": "148a3819",
   "metadata": {},
   "outputs": [],
   "source": [
    "def scalar_to_pubkey(scalar_val):\n",
    "    assert scalar_val != 0 and scalar_val < n\n",
    "    P = coincurve.PrivateKey.from_int(scalar_val).public_key\n",
    "    result = scalar_val if has_even_y(P) else n - scalar_val\n",
    "    \n",
    "    return result, P\n",
    "\n",
    "\n",
    "def sign_msg(privkey_int, msg, nonce_int):\n",
    "    d, P = scalar_to_pubkey(privkey_int)\n",
    "    k, R = scalar_to_pubkey(nonce_int)\n",
    "    \n",
    "    bytes_R = (R.point()[0].to_bytes(32, 'big'))\n",
    "    bytes_P = (P.point()[0].to_bytes(32, 'big'))\n",
    "    challenge_hash = tag_hash(b'BIP0340/challenge', bytes_R + bytes_P + msg)\n",
    "    e = int.from_bytes(challenge_hash, 'big') % n\n",
    "    \n",
    "    # ~~~BEGIN SCHNORR PART~~~\n",
    "    s = (k + e * d) % n\n",
    "    # ~~~ END SCHNORR PART ~~~\n",
    "    \n",
    "    sig = bytes_R + s.to_bytes(32, 'big')\n",
    "    assert verify(P.point()[0], m, sig)\n",
    "    return sig"
   ]
  },
  {
   "cell_type": "code",
   "execution_count": 79,
   "id": "35c80e57",
   "metadata": {},
   "outputs": [
    {
     "name": "stdout",
     "output_type": "stream",
     "text": [
      "2f8bde4d1a07209355b4a7250a5c5128e88b84bddc619ab7cba8d569b240efe4de48d2d7d8f794b7e45e4701c5385b94d87543365be474d9941f15d4ecf211a2\n"
     ]
    }
   ],
   "source": [
    "privkey = 10\n",
    "nonce = 5\n",
    "sig = sign_msg(privkey, m, nonce)\n",
    "\n",
    "print(sig.hex())"
   ]
  },
  {
   "cell_type": "markdown",
   "id": "5ef09244",
   "metadata": {},
   "source": [
    "## Taproot: Exploring the Depths\n",
    "\n",
    "We've just done a Taproot keypath spend verification (~P2PK)\n",
    "\n",
    "Now we're going to look at how to build out scripts for taproot!\n",
    "\n",
    "We're going to make our first taproot script. (~P2WSH)\n",
    "\n",
    "What are the steps we need to do for this:\n",
    "\n",
    "- figure out what scripts can spend our bitcoin\n",
    "- make a tree out of them (just like christmas!)\n",
    "- build a merkle root\n",
    "- pick a internal pubkey\n",
    "- make a tweak from the merkle root\n",
    "- add the tweak to the internal pubkey to get our external pubkey\n",
    "- lock money up to external pubkey"
   ]
  },
  {
   "cell_type": "markdown",
   "id": "26975a5e",
   "metadata": {},
   "source": [
    "### Step 1: Figure out what scripts can spend our bitcoin\n",
    "\n",
    "- Everyone in class should make a script!\n",
    "- Each individually lock up coins to the script (single script spend)\n",
    "- Send all the scripts to Lisa, and then we'll build a tree out of them\n",
    "\n",
    "#### Writing a taproot script\n",
    "\n",
    "nifty's script: OP_4 OP_ADD OP_8 OP_EQUAL  (requires OP_4 to unlock)\n",
    "\n",
    "Convert to script: \n",
    "        OP_4 OP_ADD OP_8 OP_EQUAL\n",
    "        54935887\n",
    "        \n",
    "        "
   ]
  },
  {
   "cell_type": "code",
   "execution_count": 80,
   "id": "a2f023ad",
   "metadata": {},
   "outputs": [],
   "source": [
    "nifty = '54935887'\n",
    "casey =  'AA201ccf6c5e6212f524600fb6b20275cd6ae26dc6b812cd1f84dd3ff7d86b1937d187'\n",
    "jose = '54935887'\n",
    "dpp = '930200088763a820150faa5b485225f681b179f710cb169b92b401f954392eb30e677624135233f08768'\n",
    "mk = '76769393010987'\n",
    "damian = 'a820528f99cd13f2d438556c6f6a803458a963519d2419a40dd685597c0919d81f588754935587'\n",
    "chris = '53935987'\n",
    "nate = 'a82041ef4bb0b23661e66301aac36066912dac037827b4ae63a7b1165a5aa93ed4eb87'"
   ]
  },
  {
   "cell_type": "code",
   "execution_count": 81,
   "id": "80cc4c7a",
   "metadata": {},
   "outputs": [],
   "source": [
    "scripts = [('nifty', nifty), ('casey', casey), ('jose', jose), ('dpp', dpp), ('mk', mk), ('damian', damian), ('chris', chris), ('nate', nate)]"
   ]
  },
  {
   "cell_type": "markdown",
   "id": "83ff2029",
   "metadata": {},
   "source": [
    "### Step 2: Make a tree out of your scripts\n",
    "\n",
    "For this first round, we're just going to use a single script!\n",
    "\n",
    "Every tree has leaves! Every script in our tree is a leaf.\n",
    "\n",
    "Our tree is just [nifty]"
   ]
  },
  {
   "cell_type": "code",
   "execution_count": 82,
   "id": "d3642782",
   "metadata": {},
   "outputs": [],
   "source": [
    "tree = [nifty]"
   ]
  },
  {
   "cell_type": "code",
   "execution_count": 83,
   "id": "9f5c0f78",
   "metadata": {},
   "outputs": [],
   "source": [
    "## Step 3: Build a Merkle root"
   ]
  },
  {
   "cell_type": "code",
   "execution_count": 84,
   "id": "76659e08",
   "metadata": {},
   "outputs": [],
   "source": [
    "### Step 3a: Write a function to compute a leaf (hash)"
   ]
  },
  {
   "cell_type": "code",
   "execution_count": 85,
   "id": "67ff1a06",
   "metadata": {},
   "outputs": [],
   "source": [
    "def make_leaf(script_bytes):\n",
    "    leaf_version = 0xc0\n",
    "    # leaf version + len script + script\n",
    "    data = bytes([leaf_version]) + size_compact_size(len(script_bytes)) + script_bytes\n",
    "    return tag_hash(b'TapLeaf', data)"
   ]
  },
  {
   "cell_type": "code",
   "execution_count": 86,
   "id": "03f4d9f0",
   "metadata": {},
   "outputs": [],
   "source": [
    "tree_bytes = [ bytes.fromhex(x) for x in tree ]"
   ]
  },
  {
   "cell_type": "code",
   "execution_count": 87,
   "id": "db7ca033",
   "metadata": {},
   "outputs": [
    {
     "name": "stdout",
     "output_type": "stream",
     "text": [
      "7ce84a5b9c296529029e07e014ffdfb9bb11d201bd84e4528d4ae46d6160ead6\n"
     ]
    }
   ],
   "source": [
    "leaf = make_leaf(tree_bytes[0])\n",
    "print(leaf.hex())"
   ]
  },
  {
   "cell_type": "code",
   "execution_count": 88,
   "id": "6110d5b8",
   "metadata": {},
   "outputs": [
    {
     "name": "stdout",
     "output_type": "stream",
     "text": [
      "nifty 7ce84a5b9c296529029e07e014ffdfb9bb11d201bd84e4528d4ae46d6160ead6\n",
      "casey bcf0ffea8d704f70610ddffb14a2cd74cbde7b4bf116605143f43fcdac862858\n",
      "jose 7ce84a5b9c296529029e07e014ffdfb9bb11d201bd84e4528d4ae46d6160ead6\n",
      "dpp 7199c3d01803160ae132c34a5aaa9e5ba44725b0e6a483caa4de6804e77e2b01\n",
      "mk fa2b5d06e6fdf4ce947e00511fa6dd92294996846ec8a3b0b80d9363f0dec93a\n",
      "damian 5f305f38bd7306856e35ac66b1f0c528a76af3ecfb777c4afef45bb80b2a0a6a\n",
      "chris 8ddbf7add8c35b385346ea0f1c3fa93bbfd9583c75ee097fe0c03c64cceccd0a\n",
      "nate 002a01ee216a40f3d68710b87d7fb0654a7d540e9baa3f5ba5a06170b82ed08d\n"
     ]
    }
   ],
   "source": [
    "for name, script in [ (a,bytes.fromhex(x)) for a,x in scripts]:\n",
    "    int_leaf = make_leaf(script)\n",
    "    print(name, int_leaf.hex())"
   ]
  },
  {
   "cell_type": "markdown",
   "id": "c370a08d",
   "metadata": {},
   "source": [
    "In this first example, where we only have one script, the \"merkle root\" is the leaf of the single script.\n",
    "\n",
    "Our root = leaf."
   ]
  },
  {
   "cell_type": "code",
   "execution_count": 89,
   "id": "b1f1d730",
   "metadata": {},
   "outputs": [
    {
     "name": "stdout",
     "output_type": "stream",
     "text": [
      "7ce84a5b9c296529029e07e014ffdfb9bb11d201bd84e4528d4ae46d6160ead6\n"
     ]
    }
   ],
   "source": [
    "root = leaf\n",
    "print(leaf.hex())"
   ]
  },
  {
   "cell_type": "markdown",
   "id": "8e5d80f2",
   "metadata": {},
   "source": [
    "### Step 4: Pick an internal pubkey\n",
    "\n",
    "Considerations to make when picking an *internal* pubkey:\n",
    "\n",
    "- Does it need to be spendable?\n",
    "- If yes, who has the keys to it?\n",
    "- If no, how can I prove it's unspendable?\n"
   ]
  },
  {
   "cell_type": "markdown",
   "id": "b82b528b",
   "metadata": {},
   "source": [
    "In our case, our key needs to be unspendable. We need to pick a point that we don't know the private key to.\n",
    "\n",
    "The spec (BIP341) recommends using the following algorithm (or something like it) to pick a point where the private key is unknowns.\n",
    "\n",
    "> One example of such a point is H = lift_x(0x50929b74c1a04954b78b4b6035e97a5e078a5a0f28ec96d547bfee9ace803ac0) which is constructed by taking the hash of the standard uncompressed encoding of the secp256k1 base point G as X coordinate. In order to avoid leaking the information that key path spending is not possible it is recommended to pick a fresh integer r in the range 0...n-1 uniformly at random and use H + rG as internal key. It is possible to prove that this internal key does not have a known discrete logarithm with respect to G by revealing r to a verifier who can then reconstruct how the internal key was created."
   ]
  },
  {
   "cell_type": "code",
   "execution_count": 90,
   "id": "4ba264fa",
   "metadata": {},
   "outputs": [],
   "source": [
    "# We define the nums_point as\n",
    "# H(G) => sha256(uncompressed)\n",
    "def nums_point(r=0):\n",
    "    Gx, Gy = coincurve.PrivateKey.from_int(1).public_key.point()\n",
    "    data = bytes([0x04]) + Gx.to_bytes(32, 'big') + Gy.to_bytes(32, 'big')\n",
    "    h = sha256(data).digest()\n",
    "    h_int = int.from_bytes(h, 'big')\n",
    "    H = lift_x(h_int)\n",
    "    if r > 0:\n",
    "        assert r < n\n",
    "        rG = coincurve.PrivateKey.from_int(r).public_key\n",
    "        return coincurve.PublicKey.combine_keys([rG, H])\n",
    "    return H"
   ]
  },
  {
   "cell_type": "code",
   "execution_count": 91,
   "id": "b3aa9c31",
   "metadata": {},
   "outputs": [
    {
     "name": "stdout",
     "output_type": "stream",
     "text": [
      "0250929b74c1a04954b78b4b6035e97a5e078a5a0f28ec96d547bfee9ace803ac0\n"
     ]
    }
   ],
   "source": [
    "internal_pubkey = nums_point()\n",
    "print(internal_pubkey.format().hex())\n",
    "\n",
    "pubkey_bytes = internal_pubkey.point()[0].to_bytes(32, 'big')"
   ]
  },
  {
   "cell_type": "markdown",
   "id": "e690169e",
   "metadata": {},
   "source": [
    "### Step 5: Make a tweak from the Merkle Root\n",
    "\n",
    "What is a tweak? Ideally, a tweak is really just a number (scalar).\n",
    "\n",
    "We're gonna take the root and a pubkey, make a hash out of both of them and then convert this hash to a number.\n",
    "\n",
    "We'll then use that number (scalar) as if it were a private key and find the curve point at that value."
   ]
  },
  {
   "cell_type": "code",
   "execution_count": 92,
   "id": "814dac66",
   "metadata": {},
   "outputs": [],
   "source": [
    "def make_tweak_pubkey(pubkey, merkle_root_bytes):\n",
    "    # Find the bytes for the x-value of the internal pubkey\n",
    "    pubkey_bytes = pubkey.point()[0].to_bytes(32, 'big')\n",
    "    \n",
    "    # Compute the tweak hash (TapTweak tag + pubkey + merkle root)\n",
    "    tweak_bytes = tag_hash(b'TapTweak', pubkey_bytes + merkle_root_bytes)\n",
    "    # Convert that hash into a scalar (so we can make it a point)\n",
    "    tweak_int = int.from_bytes(tweak_bytes, 'big')\n",
    "    # Make sure our tweak is inside the \"point range (n)\"\n",
    "    assert tweak_int < n\n",
    "    \n",
    "    # Multiply the tweak by the Generator Point (G) which gives us T\n",
    "    T = coincurve.PrivateKey.from_int(tweak_int).public_key\n",
    "    \n",
    "    return T"
   ]
  },
  {
   "cell_type": "code",
   "execution_count": 93,
   "id": "7bfcd0e5",
   "metadata": {},
   "outputs": [
    {
     "name": "stdout",
     "output_type": "stream",
     "text": [
      "03276d6adba4bf408222b0923821f9d6286d7d2e0750f99fab541e199c224e2b74\n"
     ]
    }
   ],
   "source": [
    "T = make_tweak_pubkey(internal_pubkey, root)\n",
    "print(T.format().hex())"
   ]
  },
  {
   "cell_type": "code",
   "execution_count": 94,
   "id": "1ed4d497",
   "metadata": {},
   "outputs": [
    {
     "name": "stdout",
     "output_type": "stream",
     "text": [
      "nifty 03276d6adba4bf408222b0923821f9d6286d7d2e0750f99fab541e199c224e2b74\n",
      "casey 02d50363f23b5712ddaf1e2f1ddbb754f95607e99e26a8983da8c44c7525c43434\n",
      "jose 03276d6adba4bf408222b0923821f9d6286d7d2e0750f99fab541e199c224e2b74\n",
      "dpp 02e134c26d8e2e52f1339507d00c698a840bf8dd8e6480b9b6fdc2d803805e4b50\n",
      "mk 03154f265ff85914f6d7e8506663d89cf12fa2ac167946cfe97f5eec3f4a934420\n",
      "damian 031dd4af1b86eae0f26b5235f33e121b82af19d25827a4b79432a3c9d52424129d\n",
      "chris 0214decaa772191bdd99d46bf9ba0578f9dd97a900baf49aa55300c87cbfdd9223\n",
      "nate 021410525faa15e71bb2290bb425043f220639ae89815e768ff9fcef55f017386b\n"
     ]
    }
   ],
   "source": [
    "for name, script in [ (a,bytes.fromhex(x)) for a,x in scripts]:\n",
    "    root = make_leaf(script)\n",
    "    T = make_tweak_pubkey(internal_pubkey, root)\n",
    "    print(name, T.format().hex())"
   ]
  },
  {
   "cell_type": "markdown",
   "id": "5c1853d0",
   "metadata": {},
   "source": [
    "Now we have our Tweak as a point. All we need to do is combine it with the internal pubkey to get an external pubkey."
   ]
  },
  {
   "cell_type": "markdown",
   "id": "c2be1cc6",
   "metadata": {},
   "source": [
    "### Step 6: Add Internal Pubkey to Tweak Pubkey\n",
    "\n",
    "For some reason the spec makes everything more fancy that it needs to be.\n",
    "\n",
    "The biggest difference is that we \"promote\" the internal pubkey to a x-only pubkey (even) before we add it to the tweak."
   ]
  },
  {
   "cell_type": "code",
   "execution_count": 95,
   "id": "fd506493",
   "metadata": {},
   "outputs": [],
   "source": [
    "def make_external_pubkey(pubkey, T):    \n",
    "    P = lift_x(pubkey.point()[0])\n",
    "    Q = coincurve.PublicKey.combine_keys([P, T])\n",
    "    return Q"
   ]
  },
  {
   "cell_type": "code",
   "execution_count": 96,
   "id": "5d5c96a1",
   "metadata": {},
   "outputs": [
    {
     "name": "stdout",
     "output_type": "stream",
     "text": [
      "0250929b74c1a04954b78b4b6035e97a5e078a5a0f28ec96d547bfee9ace803ac0\n",
      "nifty root: 7ce84a5b9c296529029e07e014ffdfb9bb11d201bd84e4528d4ae46d6160ead6\n",
      "nifty tweak 03276d6adba4bf408222b0923821f9d6286d7d2e0750f99fab541e199c224e2b74\n",
      "nifty! 029970f40840ae66e7f420877f2b48d331eda1da215d05ec1de6bd6cd4ea45ab9f\n"
     ]
    }
   ],
   "source": [
    "nifty\n",
    "\n",
    "nifty_leaf = make_leaf(bytes.fromhex(nifty))\n",
    "print(internal_pubkey.format().hex())\n",
    "print('nifty root:', nifty_leaf.hex())\n",
    "nifty_T = make_tweak_pubkey(internal_pubkey, nifty_leaf)\n",
    "print('nifty tweak', nifty_T.format().hex())\n",
    "nifty_Q = make_external_pubkey(internal_pubkey, nifty_T)\n",
    "print('nifty!', nifty_Q.format().hex())"
   ]
  },
  {
   "cell_type": "code",
   "execution_count": 97,
   "id": "616eb83a",
   "metadata": {},
   "outputs": [
    {
     "name": "stdout",
     "output_type": "stream",
     "text": [
      "nifty 029970f40840ae66e7f420877f2b48d331eda1da215d05ec1de6bd6cd4ea45ab9f\n",
      "casey 025a62e8ead0b9f60f5a91fd69d4044b531e086823cbab7b67ccbb312509eb9fb5\n",
      "jose 029970f40840ae66e7f420877f2b48d331eda1da215d05ec1de6bd6cd4ea45ab9f\n",
      "dpp 028df34c51844750dc133f9521285ec78c92a8ba336d435951e8f1dc68611aca58\n",
      "mk 03311eb2f7a8ca651980285fb6bbf2c3d548191cdb9e6ba902562fffe35fa28aab\n",
      "damian 03f933d817c628bb0e249a44138753de965d271fb2b347daf54b24225cac8bb1a3\n",
      "chris 030c2d7cf15ed86872eb9957326fe706ec54e2d100e03505538c54cae5919453ee\n",
      "nate 02806750c9417bbb6b017bd96a47bcf1372120310d0cee67e5eeff5cd5bf28bd0e\n"
     ]
    }
   ],
   "source": [
    "for name, script in [ (a, bytes.fromhex(x)) for a,x in scripts]:\n",
    "    root = make_leaf(script)\n",
    "    T = make_tweak_pubkey(internal_pubkey, root)\n",
    "    Q = make_external_pubkey(internal_pubkey, T)\n",
    "    print(name, Q.format().hex())"
   ]
  },
  {
   "cell_type": "markdown",
   "id": "0187b71d",
   "metadata": {},
   "source": [
    "### Step 7: Lock bitcoin up to your external pubkey! (but first make a P2TR script)\n",
    "\n",
    "We'll take Q, drop the parity byte at the front and make this into a P2TR script."
   ]
  },
  {
   "cell_type": "code",
   "execution_count": 98,
   "id": "89a59b16",
   "metadata": {},
   "outputs": [
    {
     "name": "stdout",
     "output_type": "stream",
     "text": [
      "51209970f40840ae66e7f420877f2b48d331eda1da215d05ec1de6bd6cd4ea45ab9f\n"
     ]
    }
   ],
   "source": [
    "def make_p2tr(Q):\n",
    "    Qx_bytes = Q.point()[0].to_bytes(32, 'big')\n",
    "    witness_version = 0x51\n",
    "    return bytes([witness_version]) + size_compact_size(len(Qx_bytes)) + Qx_bytes\n",
    "\n",
    "\n",
    "print(make_p2tr(nifty_Q).hex())\n",
    "nifty_script = make_p2tr(nifty_Q).hex()"
   ]
  },
  {
   "cell_type": "code",
   "execution_count": 99,
   "id": "74e80ccf",
   "metadata": {},
   "outputs": [
    {
     "name": "stdout",
     "output_type": "stream",
     "text": [
      "bcrt1pn9c0gzzq4enw0apqsaljkjxnx8k6rk3pt5z7c80xh4kdf6j94w0s4fwuky\n"
     ]
    }
   ],
   "source": [
    "# FIXME: add `jq` to nix-shell\n",
    "address_arr = !bitcoin-cli -regtest decodescript \"$nifty_script\" | jq -r .address\n",
    "print(address_arr[0])\n",
    "address = address_arr[0]"
   ]
  },
  {
   "cell_type": "code",
   "execution_count": 100,
   "id": "ad393799",
   "metadata": {},
   "outputs": [
    {
     "name": "stdout",
     "output_type": "stream",
     "text": [
      "error code: -4\r\n",
      "error message:\r\n",
      "Wallet file verification failed. Failed to create database path '/home/niftynei/.bitcoin/regtest/wallets/base58'. Database already exists.\r\n"
     ]
    }
   ],
   "source": [
    "!bitcoin-cli -regtest createwallet base58"
   ]
  },
  {
   "cell_type": "code",
   "execution_count": 101,
   "id": "aafc2b8e",
   "metadata": {
    "collapsed": true
   },
   "outputs": [
    {
     "name": "stdout",
     "output_type": "stream",
     "text": [
      "{\n",
      "  \"address\": \"bcrt1qu7q40w60nztdhypxv4gmaz7k3m2qqmc0x6pcdy\",\n",
      "  \"blocks\": [\n",
      "    \"1e3d9ecb1dae24506e626033231358f1f136d266f2a3f2872de0b0499db92f6f\",\n",
      "    \"0e82b9f4075734ff4d57ef88edc18b6c0eecf5a530cf772f4fa787b759582801\",\n",
      "    \"2932fb071d3f5a94eb58e5d64e8c26b77a862bd025a3fc071030d7d8b63cec4f\",\n",
      "    \"375ac4b8d39570d19e25f6ae8c7015fce52f06da283997a14e23434e94ae7fb3\",\n",
      "    \"0ba0651171751a4ba8e344fd2017b411b54919c3dfdbb7d0e3c1b759f408da30\",\n",
      "    \"5349689c89fd7d5f39857f30033bd0a0449f9094c921bdef29d9712b96c8b733\",\n",
      "    \"5c2a3cb682423be2ec5f044b6ad81acfa5ac2be6ebcce3a6405946312b65a511\",\n",
      "    \"3e336e899e76b0286ef9949e8d2670551d4203a3ef05b6b598f5bf43223a7cab\",\n",
      "    \"632d49b01d3afc3f694366c8487353b6cff1e4c068882d68d550a713951699b9\",\n",
      "    \"247d1b5648be7efec984f2dcbdd82a0a2d7c5be84a611eddd5f2c311e4b0c71e\",\n",
      "    \"28c1e8cb80c2b2e1a05697aa20f317406c972f70926fed15dffe2d9fa40a1e04\",\n",
      "    \"6b8ea6f5c5feae2c142df2a11faa2a1d209924520ea288bf8e799b84ced96486\",\n",
      "    \"3ca673f68a4135351ba10f2d90273b81a96d0085748b55f91764c0f82b227805\",\n",
      "    \"4289efac4ebb77472ef3052582c357334b6331000f97add58af8fd3ddf33d4f2\",\n",
      "    \"16410ef7ea0a2e198f67d781b4803e7e8a866192e48ac0acde091502aee1a9ee\",\n",
      "    \"7802ca868d7abb8362b1e73d6d0c544d04f6722e49a0c638ed56b349aec216cd\",\n",
      "    \"77a68f341b77cac97e95a29c1054639d474210d8742cd0d9e3c3b8e0e784a298\",\n",
      "    \"65e2be749a54c73320ae58c16ebaac489a5e88c3719c7063bbdd48839e6c48cf\",\n",
      "    \"108f84eb1f58bfbe89738adf039b76712522a34a3097d3a87f747572152da8ae\",\n",
      "    \"397b393d3c9830f86aebc6e56693a311bd067c1d18c28cf0da8a9bdda4830942\",\n",
      "    \"16453c9490d87a1cc61f9687db664398b8b8d4c73e309eebaac0c5b537d43589\",\n",
      "    \"6701c3a9515a06b8ae7753a06ee87e23259be42f6fc42af7dbc526bfb6da3e19\",\n",
      "    \"2a173989e9b93d24148734d855b77230b784c1aead2bb2de50689331b60e9179\",\n",
      "    \"5716a61452812bd7974fd014cdd4b4a2a0fd9d5ec841c33d8ed24bd32fb18d34\",\n",
      "    \"1cb0a387ecc9ffdad5f08aece062c71c9dbd69d2858f5c4cde80bb8dd9080ea3\",\n",
      "    \"050b35c57b56f06c0c03e06cd22c0db35995028fe5c2946ab5fdf2145c4f8bed\",\n",
      "    \"452837d240765fa08c5c836897e5ef8653bca42f5b9e4df8fe769860213c3e02\",\n",
      "    \"33d50e97049a7fee2c31915844e358239a796d3c6db29fdae1186d63e3faa3fd\",\n",
      "    \"3d9d490222cf2b8466114037bdc06c418b56312eb44326da470723895350ebc5\",\n",
      "    \"5d86deaca19f4d2ffada05a97e62ad318efab05e647e1f05ab88eafcfef6c726\",\n",
      "    \"2692ceadecd02eb17ce642e50c50d4ca254779319db43879f790fd51d0a2dccd\",\n",
      "    \"6c7fde5ef833c8449bba9a76fa8ab29b3a9271fee72ce4f833b70ea3f15a2d24\",\n",
      "    \"3bc9d47ccac85d0c03e4a0a8aae6572ab950c30f0a363f31a3fba9fa42c09cc1\",\n",
      "    \"1b38e5fdc3ac776677f5bda20c32151dfed1102badc73aa76529bd8b55d9639f\",\n",
      "    \"5608316db8af457de24945ccc8abbc211051395526cd3ab4a1aece1741210611\",\n",
      "    \"4419f1da16a1c4c4244b8b4735c99bd50d24625db01a315e80137548857c101f\",\n",
      "    \"3e9c8ec218366a3ed1ccb08a5a03114a90314f6b300769b090a5dc51d5b643b3\",\n",
      "    \"5a5d9e7d1b310cd8744135303063765cf8b83343f43e2527ced8564346806888\",\n",
      "    \"14b35156f17fc038df0b2acb3d22a7bc553a46bd4e47e1bb2b123ed8b7d83ea4\",\n",
      "    \"4e4af296bc15a429d257c82f33a90bc4beeead5e3bc8b4c78840c7ef41e15670\",\n",
      "    \"7f4b070e321b856aec7a267e210261752839b4b793fc9a429f791a6b14f35967\",\n",
      "    \"18e5823c022c8b4bb0135afee113f2fcc52683a78104c747774c944568b57299\",\n",
      "    \"27c179473e34413c7c00353248c68ab57318d80503352170ecbbddb14e5e4578\",\n",
      "    \"79ca82827f60451355968e2898e493f17ad70987c4362189fb3f088d64dc53e2\",\n",
      "    \"1fcaff5507a50b65b75c18bdbc8e34fc3116b367d1a0a7487e8cdfe4c9f5dfa1\",\n",
      "    \"2fc22f8781c11f1d0b3d022582fc76bea504cc14ec624181cf4b517fa60afcce\",\n",
      "    \"70b56571678ed461e23db7cf2e4e055aba587b826e6182cbd223b4a753b3cbf5\",\n",
      "    \"04a0ba200739e592c9aba8eb6305fcc80db7baa160eb20695e084607eb75b5ee\",\n",
      "    \"1329361ae2bb3aa5cd3bf3e579fe3ff37302c8e0ddaf589474bcead3db481159\",\n",
      "    \"5bdbc85f3cfe02214cb6bf207297d69b11ebc174e4d5cccdc81b3b1e14c18e9f\",\n",
      "    \"10adc069aef4c11edb19b6883d75a4b796d25f03cc1ba323aee6940c7599e0ee\",\n",
      "    \"13d037f008356bd2ac55116aa5d53abc1fc64edbe60dd201657cc273b4e5109f\",\n",
      "    \"087281851be59b809d0038e4195d4bcdfcbb12acc16e98c886e2bccee8eb9e10\",\n",
      "    \"5d043edac738d212651b38570dda331174eb4c756cbe25d9250715bb3811a390\",\n",
      "    \"03503af1b4ac4263d2157f8364456b51d60fa3fa8c048c6099e2b72ae038edec\",\n",
      "    \"4d7b150c8733ea6994b2d9d7a0af4121832012d8960b60dc818bf7a6563f2bc0\",\n",
      "    \"5b62244b7c0fdd1c09facbeace015c7c9b55b479ac017efd8ec5b556ec4ec38e\",\n",
      "    \"093bc2cc474bb9926a1fac65f677effad2bb26526c269632f1a3b47643f09acb\",\n",
      "    \"10a7f09faadf4fa231a1e84a28d3f314be3a582183cb9eca2fa56996bc5ecde3\",\n",
      "    \"112f384f7d3a7f1b8d50ffe722394dfdf549b4b328a492eb04f6e4aefeb17eae\",\n",
      "    \"07467f8a21cb11733d92db504ae67bde8c6945d0d5607053675a535cab6b4d6f\",\n",
      "    \"37fab16d5cf8b0a200f09ea15e7a37d46a3fd6232c3ece70454a3b3db8dcf13e\",\n",
      "    \"73344bd07bf6f16453e054195d8bbfdb7f95c1aa50a69ef0e7a7613a068c6fdf\",\n",
      "    \"09e032bdae7674ff53b2432ba39adbb571ec6636eb525d52d96e9e51a91c861c\",\n",
      "    \"072451268c63962b699e0443db30a7688de96760093ff1c36aa68bc2b84035fc\",\n",
      "    \"46259ffa2a0b6916f8d3bd37c3e2736cf126efbefa093abfc682d237ef7d5edf\",\n",
      "    \"647bac19368fc1d53b33a8651aa871e3d4e3e76836782480d22ab26490da2108\",\n",
      "    \"19d7c3c08a77aabc7e9413d337bad4b6b30634049c60220d42eb25594b6a66b8\",\n",
      "    \"43c2b6e16cbaaedc3decaff7eef35e032bde0c71fe0224acf8721c687bfd17b8\",\n",
      "    \"51310c7d5fcf4019f4211a242d3440c2a99cd5558199ebd8b2951613d525bfd2\",\n",
      "    \"40fcc3b2d1cbddf77fd4f7b28684b4577c1a45e1cd21bded907c1b62f4b4d852\",\n",
      "    \"61c80e5778e9b16911061e9f29a26809c08826ca9e2333e34da35ade80a2d8e1\",\n",
      "    \"6c721bd1ac856f25878d61e152d007cdcf59c92b768a3c615ffd97bca61cffa5\",\n",
      "    \"3d22846e5b1b58726ac48872af9e3bf79548315ff7b435c0266a101cd8181bd1\",\n",
      "    \"0424636b03ae4772b70eaca5e01ef85fc31213adf92a2067e918c56f662bf4a2\",\n",
      "    \"49dc54e70048ce390fec7b686be9f8e950a69f0e6e50335db0ccf757d8cd013d\",\n",
      "    \"5a4b0d4d995bb384a611afb7ac284d843257b166f1ce17d018d3bd8a46a7019c\",\n",
      "    \"384951f9788c5de72edf8dbfb33aa828a261ea724cabff4f3101efe7c38b6729\",\n",
      "    \"3e555c8a9a2bba07bbcef7ed5b8caf400156864b0e954151c706cf24e3d2d74e\",\n",
      "    \"401395dc6f80c77990806eb4c57875b1a3095334f2d131749851d6fe4baa0de7\",\n",
      "    \"61e4b926ad7dbc0d70f544028ff75c0b79ed669de78dd400cb4d5acc902f156c\",\n",
      "    \"619ad9bff94c0388c9b24486874d8bfa23818af857125ed35881961e0ed1ad8c\",\n",
      "    \"637bb9d4f1f3e4518ae7bb87e7ec49a42820a01236eba1d536c84943fe4b5442\",\n",
      "    \"572fb224e33bf0be9987669004f1f3b1a09a729970ec8f66b93dc1558eb10e02\",\n",
      "    \"175c8033aff048f1fb0f4d38d5d9599f9aa347d96b81740290120f4c83b74950\",\n",
      "    \"45710b07a7ec89150c0a0b3ad7f79e8898d68026322972310eba6ed0828f82d6\",\n",
      "    \"2d9117b712d909e17418743d69221c9d2eb25dbd493eabdba99cae7b37f6ab2e\",\n",
      "    \"5c797491130aebc9d48cba831c100484e8128f363d6dfa2f27e388e1e51c5df4\",\n",
      "    \"555523c25a7809e0ca0b455e3a1dc494d08177d40984f033d64a55d1969473e7\",\n",
      "    \"541d39899ed4b1cb5c95b03821d2523df7a1b57f0b936d7b18adfc778f11d2b5\",\n",
      "    \"461b412759f3cbe5a8809af9eae5bcac5f8b49e8ce23654b1bf22f9832119fd3\",\n",
      "    \"56c6be9dfc286a52232e55c492f7ecdf6287fe1ad927339332d96fe950b08656\",\n",
      "    \"6dd89d10222a4adb91581c034d1f1bfcd81fe8d535251476784a967bf448a26b\",\n",
      "    \"17a4f62e52172071936dcefbc5300249f25605f32738daab8210e5bfa418b19d\",\n",
      "    \"51db48aa5da82b17fd75b931b8d12f2b023850cb257729f5cba43f10fe49ddad\",\n",
      "    \"2d7e2a80c76546184fedda21ba31fd5fe4761e3fc2bf1bb44defed43392a611d\",\n",
      "    \"1da1e92fcd9055953f169d59451a70275f7efbf07accd0d0c317366d41ff9753\",\n",
      "    \"400be5e4bd6811f20d9e8ca08c5691e7dbc8283481902eba20548e4ad350a068\",\n",
      "    \"021ad7818f8cf026e68db5a55777d733b9c209c31b039120133d895857e1ec71\",\n",
      "    \"2bd61cdd9ff4688823d5639aa264f357ec2ded1ba8aef06328f6e98e770f720f\",\n",
      "    \"5d9b32d06a3591272889a45c0c763858a0b525058d10791d71d04e1b7613d69f\"\n",
      "  ]\n",
      "}\n"
     ]
    }
   ],
   "source": [
    "!bitcoin-cli -regtest -generate 101"
   ]
  },
  {
   "cell_type": "code",
   "execution_count": null,
   "id": "497c3809",
   "metadata": {},
   "outputs": [],
   "source": [
    "!bitcoin-cli -regtest sendtoaddress \"$address\" 1.0"
   ]
  },
  {
   "cell_type": "code",
   "execution_count": null,
   "id": "4059285c",
   "metadata": {},
   "outputs": [],
   "source": [
    "!bitcoin-cli -regtest getrawtransaction d57032ce2ac09efc013ed6786d508e8912e3486d4fddab5e4982fcdb161155a4 true"
   ]
  },
  {
   "cell_type": "markdown",
   "id": "00012dcc",
   "metadata": {},
   "source": [
    "## Spending a Tapscript!\n",
    "\n",
    "We should have a transaction output with bitcoin in it that's locked to your custom written script.\n",
    "\n",
    "Now we want to create a transaction that spends that output.\n",
    "\n",
    "My output is in transaction d57032ce2ac09efc013ed6786d508e8912e3486d4fddab5e4982fcdb161155a4 and the index is 1\n",
    "\n",
    "In other words the outpoint for my bitcoins is `d57032ce2ac09efc013ed6786d508e8912e3486d4fddab5e4982fcdb161155a4:1`\n",
    "\n",
    "Let's a build a transaction that spends this!"
   ]
  },
  {
   "cell_type": "code",
   "execution_count": null,
   "id": "89435d1d",
   "metadata": {},
   "outputs": [],
   "source": [
    "txid = 'd57032ce2ac09efc013ed6786d508e8912e3486d4fddab5e4982fcdb161155a4'\n",
    "reverse_txid = bytes.fromhex(txid)[::-1].hex()\n",
    "print(reverse_txid)\n",
    "\n",
    "amount = (1 * 10 ** 8 - 400).to_bytes(8, 'little')\n",
    "print(amount.hex())"
   ]
  },
  {
   "cell_type": "code",
   "execution_count": null,
   "id": "3a0da9ab",
   "metadata": {},
   "outputs": [],
   "source": [
    "!bitcoin-cli -regtest getnewaddress \"\" bech32m"
   ]
  },
  {
   "cell_type": "code",
   "execution_count": null,
   "id": "2fb31a78",
   "metadata": {},
   "outputs": [],
   "source": [
    "!bitcoin-cli -regtest getaddressinfo bcrt1pywat5mnqc4pyvajq3hdmujza9dwzl3lefq26w6sdhtxfgk4wyyqqsvx823 | jq -r .scriptPubKey"
   ]
  },
  {
   "cell_type": "markdown",
   "id": "d23389d3",
   "metadata": {},
   "source": [
    "version: 02000000\n",
    "marker+flag: 0001\n",
    "inputs: 01\n",
    "    txid: a4551116dbfc82495eabdd4f6d48e312898e506d78d63e01fc9ec02ace3270d5\n",
    "    vout: 01000000\n",
    "    scriptSig: 00\n",
    "    sequence: ffffffff\n",
    "outputs: 01\n",
    "    amounts: 70dff50500000000\n",
    "    scriptPubKey: 22 512023baba6e60c5424676408ddbbe485d2b5c2fc7f94815a76a0dbacc945aae2100\n",
    "witnesses:\n",
    "    ........ unsolved problem ........\n",
    "locktime: 00000000"
   ]
  },
  {
   "cell_type": "code",
   "execution_count": null,
   "id": "e6f937c3",
   "metadata": {},
   "outputs": [],
   "source": [
    "tx = \"0200000001a4551116dbfc82495eabdd4f6d48e312898e506d78d63e01fc9ec02ace3270d50100000000ffffffff0170dff5050000000022512023baba6e60c5424676408ddbbe485d2b5c2fc7f94815a76a0dbacc945aae210000000000\"\n",
    "!bitcoin-cli -regtest decoderawtransaction \"$tx\""
   ]
  },
  {
   "cell_type": "markdown",
   "id": "e790bdaa",
   "metadata": {},
   "source": [
    "### What's in the witness stack for a leaf spend?\n",
    "\n",
    "We need to put into the witness stack:\n",
    " - the unlocking script\n",
    " - original leaf script\n",
    " - \"control block\": this has all the data you need to verify the external public key\n",
    " \n",
    " #### Nifty's Unlock Script is...\n",
    " \n",
    " Well my original leaf script"
   ]
  },
  {
   "cell_type": "code",
   "execution_count": null,
   "id": "f04f0f96",
   "metadata": {},
   "outputs": [],
   "source": [
    "!bitcoin-cli -regtest decodescript \"$nifty\" | jq .asm"
   ]
  },
  {
   "cell_type": "markdown",
   "id": "c805d364",
   "metadata": {},
   "source": [
    "Q: How do I unlock this? Great question.\n",
    "\n",
    "Short A: 04\n",
    "Long A: The number \"4\". In script, we'd use the opcode 'OP_4'\n",
    "but in witnesses we can't use opcodes, so we just do a \"push of the byte 04\"."
   ]
  },
  {
   "cell_type": "code",
   "execution_count": null,
   "id": "1a70868f",
   "metadata": {},
   "outputs": [],
   "source": [
    "!bitcoin-cli -regtest decodescript 0104"
   ]
  },
  {
   "cell_type": "markdown",
   "id": "11b564f5",
   "metadata": {},
   "source": [
    "- Unlocking script: 04\n",
    "- Original leaf data??: c0 + len(nifty) + 54935887 (variable: nifty)\n",
    "- Control block"
   ]
  },
  {
   "cell_type": "markdown",
   "id": "44ca41ff",
   "metadata": {},
   "source": [
    "#### How do we figure out a control block?\n",
    "\n",
    "\n",
    "A control block has three parts.\n",
    "\n",
    "- version byte\n",
    "- the x-only pubkey of the internal key\n",
    "- proof of inclusion"
   ]
  },
  {
   "cell_type": "markdown",
   "id": "edb0d3c9",
   "metadata": {},
   "source": [
    "##### Version Byte\n",
    "\n",
    "We're going to need Q to figure this out.\n",
    "\n",
    "The base value for the version byte is `c0`.\n",
    "With the following modification: if Q is odd, add 1 to the base value.\n",
    "\n",
    "If Q is even (02): 0xc0\n",
    "\n",
    "If Q is odd (03):  0xc1"
   ]
  },
  {
   "cell_type": "code",
   "execution_count": 102,
   "id": "552bb732",
   "metadata": {},
   "outputs": [
    {
     "name": "stdout",
     "output_type": "stream",
     "text": [
      "c0\n"
     ]
    }
   ],
   "source": [
    "def control_block_version_byte(Q):\n",
    "    val = 0xc0\n",
    "    if Q.point()[1] % 2 != 0:\n",
    "        val += 1\n",
    "    return bytes([val])\n",
    "\n",
    "print(control_block_version_byte(nifty_Q).hex())"
   ]
  },
  {
   "cell_type": "markdown",
   "id": "a6f1b3a5",
   "metadata": {},
   "source": [
    "##### The x-only pubkey of the internal key\n",
    "\n",
    "This should just be the internal pubkey, 32 bytes."
   ]
  },
  {
   "cell_type": "code",
   "execution_count": 103,
   "id": "03df5e42",
   "metadata": {},
   "outputs": [
    {
     "name": "stdout",
     "output_type": "stream",
     "text": [
      "50929b74c1a04954b78b4b6035e97a5e078a5a0f28ec96d547bfee9ace803ac0\n"
     ]
    }
   ],
   "source": [
    "print(internal_pubkey.format()[1:].hex())"
   ]
  },
  {
   "cell_type": "markdown",
   "id": "2fe45f8b",
   "metadata": {},
   "source": [
    "###### Proof of Inclusion\n",
    "\n",
    "The proof of inclusion for a leaf-only spend is empty."
   ]
  },
  {
   "cell_type": "code",
   "execution_count": 140,
   "id": "9e7113c4",
   "metadata": {
    "scrolled": true
   },
   "outputs": [
    {
     "name": "stdout",
     "output_type": "stream",
     "text": [
      "witness data!\n",
      "03\n",
      "01 04\n",
      "04 54935887\n",
      "21 c050929b74c1a04954b78b4b6035e97a5e078a5a0f28ec96d547bfee9ace803ac0\n"
     ]
    }
   ],
   "source": [
    "control_block = control_block_version_byte(nifty_Q) + internal_pubkey.format()[1:]\n",
    "\n",
    "print('witness data!')\n",
    "print('03')\n",
    "print('01 04')\n",
    "print('04 ' + nifty)\n",
    "print('21 ' + control_block.hex())"
   ]
  },
  {
   "cell_type": "markdown",
   "id": "7a5d652f",
   "metadata": {},
   "source": [
    "version: 02000000\n",
    "marker+flag: 0001\n",
    "inputs: 01\n",
    "    txid: a4551116dbfc82495eabdd4f6d48e312898e506d78d63e01fc9ec02ace3270d5\n",
    "    vout: 01000000\n",
    "    scriptSig: 00\n",
    "    sequence: ffffffff\n",
    "outputs: 01\n",
    "    amounts: 70dff50500000000\n",
    "    scriptPubKey: 22 512023baba6e60c5424676408ddbbe485d2b5c2fc7f94815a76a0dbacc945aae2100\n",
    "witnesses:\n",
    "03\n",
    "    01 04\n",
    "    04 54935887\n",
    "    21 c050929b74c1a04954b78b4b6035e97a5e078a5a0f28ec96d547bfee9ace803ac0\n",
    "locktime: 00000000"
   ]
  },
  {
   "cell_type": "code",
   "execution_count": 105,
   "id": "439b3d24",
   "metadata": {},
   "outputs": [],
   "source": [
    "spend_tx = '02000000000101a4551116dbfc82495eabdd4f6d48e312898e506d78d63e01fc9ec02ace3270d50100000000ffffffff0170dff5050000000022512023baba6e60c5424676408ddbbe485d2b5c2fc7f94815a76a0dbacc945aae2100030104045493588721c050929b74c1a04954b78b4b6035e97a5e078a5a0f28ec96d547bfee9ace803ac000000000'\n",
    "#!bitcoin-cli -regtest decoderawtransaction \"$spend_tx\""
   ]
  },
  {
   "cell_type": "code",
   "execution_count": 139,
   "id": "96da8ec6",
   "metadata": {},
   "outputs": [
    {
     "data": {
      "text/plain": [
       "'02000000000101a4551116dbfc82495eabdd4f6d48e312898e506d78d63e01fc9ec02ace3270d50100000000ffffffff0170dff5050000000022512023baba6e60c5424676408ddbbe485d2b5c2fc7f94815a76a0dbacc945aae2100030104045493588721c050929b74c1a04954b78b4b6035e97a5e078a5a0f28ec96d547bfee9ace803ac000000000'"
      ]
     },
     "execution_count": 139,
     "metadata": {},
     "output_type": "execute_result"
    }
   ],
   "source": [
    "spend_tx"
   ]
  },
  {
   "cell_type": "code",
   "execution_count": 107,
   "id": "db665354",
   "metadata": {},
   "outputs": [
    {
     "name": "stdout",
     "output_type": "stream",
     "text": [
      "[\r\n",
      "  {\r\n",
      "    \"txid\": \"65c5ee8463feeb72112a458216e8600e5f386a685cba5b63dcaa4a18d6c51327\",\r\n",
      "    \"wtxid\": \"7b50f74e105ac8a955af55172c263b0807b946a79a54120a1380b195d148b469\",\r\n",
      "    \"allowed\": true,\r\n",
      "    \"vsize\": 105,\r\n",
      "    \"fees\": {\r\n",
      "      \"base\": 0.00000400\r\n",
      "    }\r\n",
      "  }\r\n",
      "]\r\n"
     ]
    }
   ],
   "source": [
    "!bitcoin-cli -regtest testmempoolaccept '[\"02000000000101a4551116dbfc82495eabdd4f6d48e312898e506d78d63e01fc9ec02ace3270d50100000000ffffffff0170dff5050000000022512023baba6e60c5424676408ddbbe485d2b5c2fc7f94815a76a0dbacc945aae2100030104045493588721c050929b74c1a04954b78b4b6035e97a5e078a5a0f28ec96d547bfee9ace803ac000000000\"]'"
   ]
  },
  {
   "cell_type": "markdown",
   "id": "f5c773e1",
   "metadata": {},
   "source": [
    "### Let's build a taproot with mulitple leaves\n",
    "\n",
    "Let's make a taproot with a bunch of leaves!\n",
    "\n",
    "We have a set of scripts that we want to allow any one of them to spend this bitcoin.\n",
    "\n",
    "Build a tree of the scripts, and then compute the merkle root."
   ]
  },
  {
   "cell_type": "code",
   "execution_count": 136,
   "id": "d5b02fd1",
   "metadata": {},
   "outputs": [
    {
     "data": {
      "text/plain": [
       "[('nifty', '54935887'),\n",
       " ('casey',\n",
       "  'AA201ccf6c5e6212f524600fb6b20275cd6ae26dc6b812cd1f84dd3ff7d86b1937d187'),\n",
       " ('jose', '54935887'),\n",
       " ('dpp',\n",
       "  '930200088763a820150faa5b485225f681b179f710cb169b92b401f954392eb30e677624135233f08768'),\n",
       " ('mk', '76769393010987'),\n",
       " ('damian',\n",
       "  'a820528f99cd13f2d438556c6f6a803458a963519d2419a40dd685597c0919d81f588754935587'),\n",
       " ('chris', '53935987'),\n",
       " ('nate',\n",
       "  'a82041ef4bb0b23661e66301aac36066912dac037827b4ae63a7b1165a5aa93ed4eb87')]"
      ]
     },
     "execution_count": 136,
     "metadata": {},
     "output_type": "execute_result"
    }
   ],
   "source": [
    "scripts"
   ]
  },
  {
   "cell_type": "code",
   "execution_count": 278,
   "id": "5a5f25d8",
   "metadata": {},
   "outputs": [],
   "source": [
    "balanced_tree = [[[nifty, jose], [casey, dpp]], [[mk, damian], [chris, nate]]]\n",
    "unbalanced_tree = [ nifty, [ chris, [ jose, [ casey, [ dpp, [ mk, [ damian , nate ]]]]]]]"
   ]
  },
  {
   "cell_type": "code",
   "execution_count": 279,
   "id": "e2efee40",
   "metadata": {},
   "outputs": [
    {
     "data": {
      "text/plain": [
       "[[['54935887', '54935887'],\n",
       "  ['AA201ccf6c5e6212f524600fb6b20275cd6ae26dc6b812cd1f84dd3ff7d86b1937d187',\n",
       "   '930200088763a820150faa5b485225f681b179f710cb169b92b401f954392eb30e677624135233f08768']],\n",
       " [['76769393010987',\n",
       "   'a820528f99cd13f2d438556c6f6a803458a963519d2419a40dd685597c0919d81f588754935587'],\n",
       "  ['53935987',\n",
       "   'a82041ef4bb0b23661e66301aac36066912dac037827b4ae63a7b1165a5aa93ed4eb87']]]"
      ]
     },
     "execution_count": 279,
     "metadata": {},
     "output_type": "execute_result"
    }
   ],
   "source": [
    "balanced_tree"
   ]
  },
  {
   "cell_type": "code",
   "execution_count": 280,
   "id": "d31b4f35",
   "metadata": {},
   "outputs": [
    {
     "data": {
      "text/plain": [
       "['54935887',\n",
       " ['53935987',\n",
       "  ['54935887',\n",
       "   ['AA201ccf6c5e6212f524600fb6b20275cd6ae26dc6b812cd1f84dd3ff7d86b1937d187',\n",
       "    ['930200088763a820150faa5b485225f681b179f710cb169b92b401f954392eb30e677624135233f08768',\n",
       "     ['76769393010987',\n",
       "      ['a820528f99cd13f2d438556c6f6a803458a963519d2419a40dd685597c0919d81f588754935587',\n",
       "       'a82041ef4bb0b23661e66301aac36066912dac037827b4ae63a7b1165a5aa93ed4eb87']]]]]]]"
      ]
     },
     "execution_count": 280,
     "metadata": {},
     "output_type": "execute_result"
    }
   ],
   "source": [
    "unbalanced_tree"
   ]
  },
  {
   "cell_type": "markdown",
   "id": "7e4b9d26",
   "metadata": {},
   "source": [
    "### Now that our tree(s) are defined, we need to calculate the merkle root\n",
    "\n",
    "We need a function that given our tree, will return a merkle root."
   ]
  },
  {
   "cell_type": "code",
   "execution_count": null,
   "id": "e81e5c7a",
   "metadata": {},
   "outputs": [],
   "source": [
    "def make_leaf(script_bytes):\n",
    "    leaf_version = 0xc0\n",
    "    # leaf version + len script + script\n",
    "    data = bytes([leaf_version]) + size_compact_size(len(script_bytes)) + script_bytes\n",
    "    return tag_hash(b'TapLeaf', data)"
   ]
  },
  {
   "cell_type": "code",
   "execution_count": 228,
   "id": "d9350eb6",
   "metadata": {},
   "outputs": [],
   "source": [
    "def taptree_builder(tree):\n",
    "    if isinstance(tree, str):\n",
    "        script_bytes = bytes.fromhex(tree)\n",
    "        leaf_hash = make_leaf(script_bytes)\n",
    "        print(\"leaf:\", leaf_hash.hex())\n",
    "        return leaf_hash\n",
    "    \n",
    "    # calculate the branch hash. \n",
    "    assert len(tree) == 2\n",
    "    left = taptree_builder(tree[0])\n",
    "    right = taptree_builder(tree[1])\n",
    "    \n",
    "    # we have to order the left + right \"alphabetically\"\n",
    "    # thank you arik :)\n",
    "    if left > right:\n",
    "        right, left = left, right\n",
    "    \n",
    "    branch_hash = tag_hash(b'TapBranch', left + right)\n",
    "    print(\"branch:\", branch_hash.hex())\n",
    "    return branch_hash\n",
    "    "
   ]
  },
  {
   "cell_type": "code",
   "execution_count": 229,
   "id": "2c5e446a",
   "metadata": {
    "scrolled": false
   },
   "outputs": [
    {
     "name": "stdout",
     "output_type": "stream",
     "text": [
      "leaf: 7ce84a5b9c296529029e07e014ffdfb9bb11d201bd84e4528d4ae46d6160ead6\n",
      "leaf: 7ce84a5b9c296529029e07e014ffdfb9bb11d201bd84e4528d4ae46d6160ead6\n",
      "branch: c6f6f180831c02d2c477a6baa1e34fb0b49897543f149ae83fbd3deb89c8ae80\n",
      "leaf: bcf0ffea8d704f70610ddffb14a2cd74cbde7b4bf116605143f43fcdac862858\n",
      "leaf: 7199c3d01803160ae132c34a5aaa9e5ba44725b0e6a483caa4de6804e77e2b01\n",
      "branch: 9542ca2491c786b840b98222e18c58ef4eda480755b4ee3424fced25c58150a5\n",
      "branch: 111fbd5ec2591327c312c7db37a0722205156310354d11783777f41ceff2fe96\n",
      "leaf: fa2b5d06e6fdf4ce947e00511fa6dd92294996846ec8a3b0b80d9363f0dec93a\n",
      "leaf: 5f305f38bd7306856e35ac66b1f0c528a76af3ecfb777c4afef45bb80b2a0a6a\n",
      "branch: 2869d5d001b985f60582de5e96d27d49bf19e111de5908b70a75d4c1c4354700\n",
      "leaf: 8ddbf7add8c35b385346ea0f1c3fa93bbfd9583c75ee097fe0c03c64cceccd0a\n",
      "leaf: 002a01ee216a40f3d68710b87d7fb0654a7d540e9baa3f5ba5a06170b82ed08d\n",
      "branch: b95df7c5373a203b605e4c4773579b51f853078ba1a5f9db35df6527566c0c6d\n",
      "branch: 8903a87b4aa61a20cc352975eab9ed92f780a37313c823561af3947002154886\n",
      "branch: bf9d5551696d290b9b8cb134fef97bcc3e8a4e7812c9719fc8c3140947cd12cf\n"
     ]
    },
    {
     "data": {
      "text/plain": [
       "'bf9d5551696d290b9b8cb134fef97bcc3e8a4e7812c9719fc8c3140947cd12cf'"
      ]
     },
     "execution_count": 229,
     "metadata": {},
     "output_type": "execute_result"
    }
   ],
   "source": [
    "balanced_root = taptree_builder(balanced_tree)\n",
    "balanced_root.hex()"
   ]
  },
  {
   "cell_type": "code",
   "execution_count": 171,
   "id": "9d4bcb3a",
   "metadata": {},
   "outputs": [
    {
     "name": "stdout",
     "output_type": "stream",
     "text": [
      "leaf: 002a01ee216a40f3d68710b87d7fb0654a7d540e9baa3f5ba5a06170b82ed08d\n",
      "leaf: 5f305f38bd7306856e35ac66b1f0c528a76af3ecfb777c4afef45bb80b2a0a6a\n",
      "branch: f1da90107484360f6a99c3dd6bf46e0a9981881588e4210f59dc45bb923c87f0\n",
      "leaf: fa2b5d06e6fdf4ce947e00511fa6dd92294996846ec8a3b0b80d9363f0dec93a\n",
      "branch: e54d0e57313111b88e0c4ce1a579b7fde0352e6aa8403d79c0ee9ca50c389bbb\n",
      "leaf: 7199c3d01803160ae132c34a5aaa9e5ba44725b0e6a483caa4de6804e77e2b01\n",
      "branch: 2a67515502ffea3c0703a0479be3949c9947800b21d39e685e7e98ebdbab657b\n",
      "leaf: bcf0ffea8d704f70610ddffb14a2cd74cbde7b4bf116605143f43fcdac862858\n",
      "branch: 84186ded4ee597659c81a86e361a566259430fc71415c4b17b362a95c5ab243a\n",
      "leaf: 7ce84a5b9c296529029e07e014ffdfb9bb11d201bd84e4528d4ae46d6160ead6\n",
      "branch: 2a2af5481b5651304abeb64328c6ee695a34a486ddfa36f39e56995c9da1747a\n",
      "leaf: 8ddbf7add8c35b385346ea0f1c3fa93bbfd9583c75ee097fe0c03c64cceccd0a\n",
      "branch: 13eed6c9107796176054fa81be4bd6f6ec878cb3a918de1bc911be4c8e9b0566\n",
      "leaf: 7ce84a5b9c296529029e07e014ffdfb9bb11d201bd84e4528d4ae46d6160ead6\n",
      "branch: 302c45b0602c4f8941e8729cdf11b619fec284bdd9359db998dcb066cd6a382b\n"
     ]
    },
    {
     "data": {
      "text/plain": [
       "['54935887',\n",
       " ['53935987',\n",
       "  ['54935887',\n",
       "   ['AA201ccf6c5e6212f524600fb6b20275cd6ae26dc6b812cd1f84dd3ff7d86b1937d187',\n",
       "    ['930200088763a820150faa5b485225f681b179f710cb169b92b401f954392eb30e677624135233f08768',\n",
       "     ['76769393010987',\n",
       "      ['a820528f99cd13f2d438556c6f6a803458a963519d2419a40dd685597c0919d81f588754935587',\n",
       "       'a82041ef4bb0b23661e66301aac36066912dac037827b4ae63a7b1165a5aa93ed4eb87']]]]]]]"
      ]
     },
     "execution_count": 171,
     "metadata": {},
     "output_type": "execute_result"
    }
   ],
   "source": [
    "unbalanced_root = taptree_builder(unbalanced_tree)\n",
    "unbalanced_tree"
   ]
  },
  {
   "cell_type": "code",
   "execution_count": 130,
   "id": "48f26863",
   "metadata": {},
   "outputs": [
    {
     "data": {
      "text/plain": [
       "'0250929b74c1a04954b78b4b6035e97a5e078a5a0f28ec96d547bfee9ace803ac0'"
      ]
     },
     "execution_count": 130,
     "metadata": {},
     "output_type": "execute_result"
    }
   ],
   "source": [
    "internal_pubkey.format().hex()"
   ]
  },
  {
   "cell_type": "code",
   "execution_count": 142,
   "id": "b3d5b0d0",
   "metadata": {},
   "outputs": [
    {
     "data": {
      "text/plain": [
       "'022a78497e11a16bfd866a87b6d09ed953a07988e10626f9313e27bb5cf51d9161'"
      ]
     },
     "execution_count": 142,
     "metadata": {},
     "output_type": "execute_result"
    }
   ],
   "source": [
    "balanced_tweak_key = make_tweak_pubkey(internal_pubkey, balanced_root)\n",
    "balanced_tweak_key.format().hex()"
   ]
  },
  {
   "cell_type": "code",
   "execution_count": 144,
   "id": "2a0fda76",
   "metadata": {},
   "outputs": [
    {
     "data": {
      "text/plain": [
       "'026524dcd9efddc696215edd34f6e9d96428a67f04208a5cb7e5b33187b9d01897'"
      ]
     },
     "execution_count": 144,
     "metadata": {},
     "output_type": "execute_result"
    }
   ],
   "source": [
    "unbalanced_tweak_key = make_tweak_pubkey(internal_pubkey, unbalanced_root)\n",
    "unbalanced_tweak_key.format().hex()"
   ]
  },
  {
   "cell_type": "code",
   "execution_count": 145,
   "id": "174e5919",
   "metadata": {},
   "outputs": [],
   "source": [
    "Q_balanced = make_external_pubkey(internal_pubkey, balanced_tweak_key)\n",
    "Q_unbalanced = make_external_pubkey(internal_pubkey, unbalanced_tweak_key)"
   ]
  },
  {
   "cell_type": "code",
   "execution_count": 155,
   "id": "d26cd7db",
   "metadata": {},
   "outputs": [
    {
     "data": {
      "text/plain": [
       "'5120d5fe9ae05d009609889713d4376e18194cebd61105525fc52d53ca49ac1ca198'"
      ]
     },
     "execution_count": 155,
     "metadata": {},
     "output_type": "execute_result"
    }
   ],
   "source": [
    "p2tr_balanced = make_p2tr(Q_balanced).hex()\n",
    "p2tr_balanced"
   ]
  },
  {
   "cell_type": "code",
   "execution_count": 158,
   "id": "91c5fd95",
   "metadata": {},
   "outputs": [
    {
     "data": {
      "text/plain": [
       "'512098a7c168dfcc8928936a39ce374969ee121ff210b2350ca704c7293d903c17cd'"
      ]
     },
     "execution_count": 158,
     "metadata": {},
     "output_type": "execute_result"
    }
   ],
   "source": [
    "p2tr_unbalanced = make_p2tr(Q_unbalanced).hex()\n",
    "p2tr_unbalanced"
   ]
  },
  {
   "cell_type": "code",
   "execution_count": 157,
   "id": "d192e0ca",
   "metadata": {},
   "outputs": [
    {
     "name": "stdout",
     "output_type": "stream",
     "text": [
      "bcrt1p6hlf4czaqztqnzyhz02rwmscr9xwh4s3q4f9l3fd209yntqu5xvqh797tq\r\n"
     ]
    }
   ],
   "source": [
    "!bitcoin-cli -regtest decodescript \"$p2tr_balanced\" | jq -r .address"
   ]
  },
  {
   "cell_type": "code",
   "execution_count": 159,
   "id": "c4a3593a",
   "metadata": {},
   "outputs": [
    {
     "name": "stdout",
     "output_type": "stream",
     "text": [
      "bcrt1pnznuz6xlejyj3ym2888rwjtfacfplusskg6sefcycu5nmypuzlxspdv3ku\r\n"
     ]
    }
   ],
   "source": [
    "!bitcoin-cli -regtest decodescript \"$p2tr_unbalanced\" | jq -r .address"
   ]
  },
  {
   "cell_type": "code",
   "execution_count": 180,
   "id": "49cbb4a2",
   "metadata": {},
   "outputs": [
    {
     "data": {
      "text/plain": [
       "'3f4e1ffcb93fae8f1101b321616b1d9ca18cb909d02668bbfd76c062075fa01c'"
      ]
     },
     "execution_count": 180,
     "metadata": {},
     "output_type": "execute_result"
    }
   ],
   "source": [
    "# Balanced Tree Address Lock Up\n",
    "#!bitcoin-cli -regtest sendtoaddress bcrt1p6hlf4czaqztqnzyhz02rwmscr9xwh4s3q4f9l3fd209yntqu5xvqh797tq 1.1\n",
    "\"3f4e1ffcb93fae8f1101b321616b1d9ca18cb909d02668bbfd76c062075fa01c\""
   ]
  },
  {
   "cell_type": "code",
   "execution_count": 174,
   "id": "ce721101",
   "metadata": {},
   "outputs": [
    {
     "name": "stdout",
     "output_type": "stream",
     "text": [
      "3e1075a2dbd8f13e67d9944b464420a67e0bcd1db476b8e50a9d50aae27c76f3\r\n"
     ]
    }
   ],
   "source": [
    "# Unbalanced Tree Address Lock Up\n",
    "!bitcoin-cli -regtest sendtoaddress bcrt1pnznuz6xlejyj3ym2888rwjtfacfplusskg6sefcycu5nmypuzlxspdv3ku 1.2"
   ]
  },
  {
   "cell_type": "code",
   "execution_count": 177,
   "id": "59613bdd",
   "metadata": {
    "collapsed": true
   },
   "outputs": [
    {
     "name": "stdout",
     "output_type": "stream",
     "text": [
      "{\r\n",
      "  \"txid\": \"821c72b0a18427be1d80a8980057291e47f502ee0687e66ca5861f499449d567\",\r\n",
      "  \"hash\": \"2cc2dc65bcd8c4a55f59e5c8c9f40431e5c95b885603ae1670cd5cf0b4268c8f\",\r\n",
      "  \"version\": 2,\r\n",
      "  \"size\": 246,\r\n",
      "  \"vsize\": 165,\r\n",
      "  \"weight\": 657,\r\n",
      "  \"locktime\": 305,\r\n",
      "  \"vin\": [\r\n",
      "    {\r\n",
      "      \"txid\": \"e46663eb0fb1cd06a02de1597fbbf7126917e7733273345dc3ad2cd15f402761\",\r\n",
      "      \"vout\": 0,\r\n",
      "      \"scriptSig\": {\r\n",
      "        \"asm\": \"\",\r\n",
      "        \"hex\": \"\"\r\n",
      "      },\r\n",
      "      \"txinwitness\": [\r\n",
      "        \"30440220518adabd1d1703c6551b091c3b68c6bdaf6eb837610867bfe5bd7d60aca8cf0e0220267413adaa2b939faab17d3478e41ebd74fc68c94a90be10eed12a9c590edc6301\",\r\n",
      "        \"02dd2e5d35d614b83d9319ae83a8a64728be5c8ce9da32a6c159b8fd48f8acc0b1\"\r\n",
      "      ],\r\n",
      "      \"sequence\": 4294967294\r\n",
      "    }\r\n",
      "  ],\r\n",
      "  \"vout\": [\r\n",
      "    {\r\n",
      "      \"value\": 23.90000000,\r\n",
      "      \"n\": 0,\r\n",
      "      \"scriptPubKey\": {\r\n",
      "        \"asm\": \"1 42cdd0d2869e107b14841859bb6a3141cb3bed2c9f07c3d48b41585d48b044f6\",\r\n",
      "        \"desc\": \"addr(bcrt1pgtxap55xncg8k9yyrpvmk633g89nhmfvnuru84ytg9v96j9sgnmqlcps5q)#q8n0a5g0\",\r\n",
      "        \"hex\": \"512042cdd0d2869e107b14841859bb6a3141cb3bed2c9f07c3d48b41585d48b044f6\",\r\n",
      "        \"address\": \"bcrt1pgtxap55xncg8k9yyrpvmk633g89nhmfvnuru84ytg9v96j9sgnmqlcps5q\",\r\n",
      "        \"type\": \"witness_v1_taproot\"\r\n",
      "      }\r\n",
      "    },\r\n",
      "    {\r\n",
      "      \"value\": 1.10000000,\r\n",
      "      \"n\": 1,\r\n",
      "      \"scriptPubKey\": {\r\n",
      "        \"asm\": \"1 d5fe9ae05d009609889713d4376e18194cebd61105525fc52d53ca49ac1ca198\",\r\n",
      "        \"desc\": \"addr(bcrt1p6hlf4czaqztqnzyhz02rwmscr9xwh4s3q4f9l3fd209yntqu5xvqh797tq)#mccnca86\",\r\n",
      "        \"hex\": \"5120d5fe9ae05d009609889713d4376e18194cebd61105525fc52d53ca49ac1ca198\",\r\n",
      "        \"address\": \"bcrt1p6hlf4czaqztqnzyhz02rwmscr9xwh4s3q4f9l3fd209yntqu5xvqh797tq\",\r\n",
      "        \"type\": \"witness_v1_taproot\"\r\n",
      "      }\r\n",
      "    }\r\n",
      "  ],\r\n",
      "  \"hex\": \"020000000001016127405fd12cadc35d34733273e7176912f7bb7f59e12da006cdb10feb6366e40000000000feffffff028081748e0000000022512042cdd0d2869e107b14841859bb6a3141cb3bed2c9f07c3d48b41585d48b044f680778e0600000000225120d5fe9ae05d009609889713d4376e18194cebd61105525fc52d53ca49ac1ca198024730440220518adabd1d1703c6551b091c3b68c6bdaf6eb837610867bfe5bd7d60aca8cf0e0220267413adaa2b939faab17d3478e41ebd74fc68c94a90be10eed12a9c590edc63012102dd2e5d35d614b83d9319ae83a8a64728be5c8ce9da32a6c159b8fd48f8acc0b131010000\"\r\n",
      "}\r\n"
     ]
    }
   ],
   "source": [
    "!bitcoin-cli -regtest getrawtransaction 821c72b0a18427be1d80a8980057291e47f502ee0687e66ca5861f499449d567 true"
   ]
  },
  {
   "cell_type": "code",
   "execution_count": 185,
   "id": "d54be1ed",
   "metadata": {},
   "outputs": [
    {
     "name": "stdout",
     "output_type": "stream",
     "text": [
      "67d54994491f86a56ce68706ee02f5471e29570098a8801dbe2784a1b0721c82\n",
      "f3767ce2aa509d0ae5b876b41dcd0b7ea62044464b94d9673ef1d8dba275103e\n"
     ]
    }
   ],
   "source": [
    "balanced_outpoint = (\"821c72b0a18427be1d80a8980057291e47f502ee0687e66ca5861f499449d567\", 1)\n",
    "unbalanced_outpoint = (\"3e1075a2dbd8f13e67d9944b464420a67e0bcd1db476b8e50a9d50aae27c76f3\", 0)\n",
    "\n",
    "txid_balanced = bytes.fromhex(balanced_outpoint[0])[::-1].hex()\n",
    "txid_unbal = bytes.fromhex(unbalanced_outpoint[0])[::-1].hex()\n",
    "\n",
    "print(txid_balanced)\n",
    "print(txid_unbal)"
   ]
  },
  {
   "cell_type": "markdown",
   "id": "5f8087e3",
   "metadata": {},
   "source": [
    "## Let's Spend Some Things!"
   ]
  },
  {
   "cell_type": "code",
   "execution_count": 182,
   "id": "c012ba2d",
   "metadata": {},
   "outputs": [
    {
     "data": {
      "text/plain": [
       "'700c270700000000'"
      ]
     },
     "execution_count": 182,
     "metadata": {},
     "output_type": "execute_result"
    }
   ],
   "source": [
    "# amount unbalanced\n",
    "(12 * 10 ** 7 - 400).to_bytes(8, 'little').hex()"
   ]
  },
  {
   "cell_type": "code",
   "execution_count": 183,
   "id": "28951499",
   "metadata": {},
   "outputs": [
    {
     "data": {
      "text/plain": [
       "'f0758e0600000000'"
      ]
     },
     "execution_count": 183,
     "metadata": {},
     "output_type": "execute_result"
    }
   ],
   "source": [
    "# amount balanced\n",
    "(11 * 10 ** 7 - 400).to_bytes(8, 'little').hex()"
   ]
  },
  {
   "cell_type": "markdown",
   "id": "3a8dac1e",
   "metadata": {},
   "source": [
    "### Balanced Spend Transaction\n",
    "\n",
    "```\n",
    "version: 02000000\n",
    "marker+flag: 0001\n",
    "inputs: 01\n",
    "    txid: 67d54994491f86a56ce68706ee02f5471e29570098a8801dbe2784a1b0721c82\n",
    "    vout: 01000000\n",
    "    scriptSig: 00\n",
    "    sequence: ffffffff\n",
    "outputs: 01\n",
    "    amounts: f0758e0600000000\n",
    "    scriptPubKey: 22 512023baba6e60c5424676408ddbbe485d2b5c2fc7f94815a76a0dbacc945aae2100\n",
    "witnesses:\n",
    "    03\n",
    "        <unlock script>\n",
    "        <leaf script>\n",
    "        <control block!>\n",
    "locktime: 00000000\n",
    "```"
   ]
  },
  {
   "cell_type": "code",
   "execution_count": 296,
   "id": "20d5c1c6",
   "metadata": {},
   "outputs": [
    {
     "data": {
      "text/plain": [
       "'a820528f99cd13f2d438556c6f6a803458a963519d2419a40dd685597c0919d81f588754935587'"
      ]
     },
     "execution_count": 296,
     "metadata": {},
     "output_type": "execute_result"
    }
   ],
   "source": [
    "leaf_script = bytes.fromhex(damian)\n",
    "leaf_script.hex()"
   ]
  },
  {
   "cell_type": "code",
   "execution_count": 198,
   "id": "df7f95e2",
   "metadata": {},
   "outputs": [
    {
     "data": {
      "text/plain": [
       "'546170726f6f7420526f636b7321'"
      ]
     },
     "execution_count": 198,
     "metadata": {},
     "output_type": "execute_result"
    }
   ],
   "source": [
    "unlock_script = b'Taproot Rocks!'\n",
    "unlock_script.hex()"
   ]
  },
  {
   "cell_type": "code",
   "execution_count": 289,
   "id": "745aac70",
   "metadata": {},
   "outputs": [
    {
     "name": "stdout",
     "output_type": "stream",
     "text": [
      "proof ['fa2b5d06e6fdf4ce947e00511fa6dd92294996846ec8a3b0b80d9363f0dec93a', 'b95df7c5373a203b605e4c4773579b51f853078ba1a5f9db35df6527566c0c6d', '111fbd5ec2591327c312c7db37a0722205156310354d11783777f41ceff2fe96']\n"
     ]
    }
   ],
   "source": [
    "def build_proof_of_inclusion(tree, script):\n",
    "    if isinstance(tree, str):\n",
    "        script_bytes = bytes.fromhex(tree)\n",
    "        leaf_hash = make_leaf(script_bytes)\n",
    "        return leaf_hash, [], script == tree\n",
    "    \n",
    "    # calculate the branch hash. \n",
    "    assert len(tree) == 2\n",
    "    left_hash, left_proof, left_target = build_proof_of_inclusion(tree[0], script)\n",
    "    right_hash, right_proof, right_target = build_proof_of_inclusion(tree[1], script)\n",
    "    \n",
    "    proof = []\n",
    "    if left_target:\n",
    "        left_proof.append(right_hash)\n",
    "        proof = left_proof\n",
    "    elif right_target:\n",
    "        right_proof.append(left_hash)\n",
    "        proof = right_proof\n",
    "        \n",
    "    # we have to order the left + right \"alphabetically\"\n",
    "    # thank you arik :)\n",
    "    if left_hash > right_hash:\n",
    "        right_hash, left_hash = left_hash, right_hash\n",
    "    branch_hash = tag_hash(b'TapBranch', left_hash + right_hash)\n",
    "    return branch_hash, proof, left_target or right_target\n",
    "\n",
    "\n",
    "_, proof_of_inclusion, _ = build_proof_of_inclusion(balanced_tree, damian)\n",
    "\n",
    "print('proof', [ x.hex() for x in proof_of_inclusion])"
   ]
  },
  {
   "cell_type": "code",
   "execution_count": 292,
   "id": "6c94710c",
   "metadata": {},
   "outputs": [
    {
     "name": "stdout",
     "output_type": "stream",
     "text": [
      "fa2b5d06e6fdf4ce947e00511fa6dd92294996846ec8a3b0b80d9363f0dec93ab95df7c5373a203b605e4c4773579b51f853078ba1a5f9db35df6527566c0c6d111fbd5ec2591327c312c7db37a0722205156310354d11783777f41ceff2fe96\n"
     ]
    }
   ],
   "source": [
    "print(b''.join(proof_of_inclusion).hex())\n",
    "\n",
    "control_block = control_block_version_byte(Q_balanced) + internal_pubkey.format()[1:] + b''.join(proof_of_inclusion)"
   ]
  },
  {
   "cell_type": "code",
   "execution_count": 293,
   "id": "ebc0e37c",
   "metadata": {},
   "outputs": [
    {
     "data": {
      "text/plain": [
       "'c050929b74c1a04954b78b4b6035e97a5e078a5a0f28ec96d547bfee9ace803ac0fa2b5d06e6fdf4ce947e00511fa6dd92294996846ec8a3b0b80d9363f0dec93ab95df7c5373a203b605e4c4773579b51f853078ba1a5f9db35df6527566c0c6d111fbd5ec2591327c312c7db37a0722205156310354d11783777f41ceff2fe96'"
      ]
     },
     "execution_count": 293,
     "metadata": {},
     "output_type": "execute_result"
    }
   ],
   "source": [
    "control_block.hex()"
   ]
  },
  {
   "cell_type": "code",
   "execution_count": 302,
   "id": "73223505",
   "metadata": {},
   "outputs": [
    {
     "name": "stdout",
     "output_type": "stream",
     "text": [
      "03\n",
      "0e546170726f6f7420526f636b7321\n",
      "27a820528f99cd13f2d438556c6f6a803458a963519d2419a40dd685597c0919d81f588754935587\n",
      "81c050929b74c1a04954b78b4b6035e97a5e078a5a0f28ec96d547bfee9ace803ac0fa2b5d06e6fdf4ce947e00511fa6dd92294996846ec8a3b0b80d9363f0dec93ab95df7c5373a203b605e4c4773579b51f853078ba1a5f9db35df6527566c0c6d111fbd5ec2591327c312c7db37a0722205156310354d11783777f41ceff2fe96\n"
     ]
    }
   ],
   "source": [
    "wits = [size_compact_size(len(unlock_script)) + unlock_script, \n",
    "        size_compact_size(len(leaf_script)) + leaf_script,\n",
    "        size_compact_size(len(control_block)) + control_block]\n",
    "\n",
    "print(size_compact_size(len(wits)).hex())\n",
    "for witness in wits:\n",
    "    print(witness.hex())"
   ]
  },
  {
   "cell_type": "markdown",
   "id": "9e6e1850",
   "metadata": {},
   "source": [
    "### Balanced Spend Transaction\n",
    "\n",
    "```\n",
    "version: 02000000\n",
    "marker+flag: 0001\n",
    "inputs: 01\n",
    "    txid: 67d54994491f86a56ce68706ee02f5471e29570098a8801dbe2784a1b0721c82\n",
    "    vout: 01000000\n",
    "    scriptSig: 00\n",
    "    sequence: ffffffff\n",
    "outputs: 01\n",
    "    amounts: f0758e0600000000\n",
    "    scriptPubKey: 22 512023baba6e60c5424676408ddbbe485d2b5c2fc7f94815a76a0dbacc945aae2100\n",
    "witnesses:\n",
    "    03\n",
    "        0e546170726f6f7420526f636b7321\n",
    "        27a820528f99cd13f2d438556c6f6a803458a963519d2419a40dd685597c0919d81f588754935587\n",
    "        81c050929b74c1a04954b78b4b6035e97a5e078a5a0f28ec96d547bfee9ace803ac0fa2b5d06e6fdf4ce947e00511fa6dd92294996846ec8a3b0b80d9363f0dec93ab95df7c5373a203b605e4c4773579b51f853078ba1a5f9db35df6527566c0c6d111fbd5ec2591327c312c7db37a0722205156310354d11783777f41ceff2fe96\n",
    "locktime: 00000000\n",
    "```"
   ]
  },
  {
   "cell_type": "code",
   "execution_count": 306,
   "id": "b7e67445",
   "metadata": {},
   "outputs": [],
   "source": [
    "tx = '0200000000010167d54994491f86a56ce68706ee02f5471e29570098a8801dbe2784a1b0721c820100000000ffffffff01f0758e060000000022512023baba6e60c5424676408ddbbe485d2b5c2fc7f94815a76a0dbacc945aae2100030e546170726f6f7420526f636b732127a820528f99cd13f2d438556c6f6a803458a963519d2419a40dd685597c0919d81f58875493558781c050929b74c1a04954b78b4b6035e97a5e078a5a0f28ec96d547bfee9ace803ac0fa2b5d06e6fdf4ce947e00511fa6dd92294996846ec8a3b0b80d9363f0dec93ab95df7c5373a203b605e4c4773579b51f853078ba1a5f9db35df6527566c0c6d111fbd5ec2591327c312c7db37a0722205156310354d11783777f41ceff2fe9600000000'"
   ]
  },
  {
   "cell_type": "code",
   "execution_count": 305,
   "id": "ba8366d9",
   "metadata": {
    "collapsed": true
   },
   "outputs": [
    {
     "name": "stdout",
     "output_type": "stream",
     "text": [
      "{\r\n",
      "  \"txid\": \"429c57e63e6cb1fe85fa665c9210149cb5dd415950e892b9357b39cd0d6cdaf3\",\r\n",
      "  \"hash\": \"8109fa9970e0422327c6513d2afee32aceab17800faf2ff9a6e5cf5dafe5372d\",\r\n",
      "  \"version\": 2,\r\n",
      "  \"size\": 282,\r\n",
      "  \"vsize\": 141,\r\n",
      "  \"weight\": 564,\r\n",
      "  \"locktime\": 0,\r\n",
      "  \"vin\": [\r\n",
      "    {\r\n",
      "      \"txid\": \"821c72b0a18427be1d80a8980057291e47f502ee0687e66ca5861f499449d567\",\r\n",
      "      \"vout\": 1,\r\n",
      "      \"scriptSig\": {\r\n",
      "        \"asm\": \"\",\r\n",
      "        \"hex\": \"\"\r\n",
      "      },\r\n",
      "      \"txinwitness\": [\r\n",
      "        \"546170726f6f7420526f636b7321\",\r\n",
      "        \"a820528f99cd13f2d438556c6f6a803458a963519d2419a40dd685597c0919d81f588754935587\",\r\n",
      "        \"c050929b74c1a04954b78b4b6035e97a5e078a5a0f28ec96d547bfee9ace803ac0fa2b5d06e6fdf4ce947e00511fa6dd92294996846ec8a3b0b80d9363f0dec93ab95df7c5373a203b605e4c4773579b51f853078ba1a5f9db35df6527566c0c6d111fbd5ec2591327c312c7db37a0722205156310354d11783777f41ceff2fe96\"\r\n",
      "      ],\r\n",
      "      \"sequence\": 4294967295\r\n",
      "    }\r\n",
      "  ],\r\n",
      "  \"vout\": [\r\n",
      "    {\r\n",
      "      \"value\": 1.09999600,\r\n",
      "      \"n\": 0,\r\n",
      "      \"scriptPubKey\": {\r\n",
      "        \"asm\": \"1 23baba6e60c5424676408ddbbe485d2b5c2fc7f94815a76a0dbacc945aae2100\",\r\n",
      "        \"desc\": \"addr(bcrt1pywat5mnqc4pyvajq3hdmujza9dwzl3lefq26w6sdhtxfgk4wyyqqsvx823)#rlge0tkx\",\r\n",
      "        \"hex\": \"512023baba6e60c5424676408ddbbe485d2b5c2fc7f94815a76a0dbacc945aae2100\",\r\n",
      "        \"address\": \"bcrt1pywat5mnqc4pyvajq3hdmujza9dwzl3lefq26w6sdhtxfgk4wyyqqsvx823\",\r\n",
      "        \"type\": \"witness_v1_taproot\"\r\n",
      "      }\r\n",
      "    }\r\n",
      "  ]\r\n",
      "}\r\n"
     ]
    }
   ],
   "source": [
    "!bitcoin-cli -regtest decoderawtransaction \"$tx\""
   ]
  },
  {
   "cell_type": "code",
   "execution_count": 307,
   "id": "6a5a4a6e",
   "metadata": {},
   "outputs": [
    {
     "name": "stdout",
     "output_type": "stream",
     "text": [
      "[\r\n",
      "  {\r\n",
      "    \"txid\": \"429c57e63e6cb1fe85fa665c9210149cb5dd415950e892b9357b39cd0d6cdaf3\",\r\n",
      "    \"wtxid\": \"8109fa9970e0422327c6513d2afee32aceab17800faf2ff9a6e5cf5dafe5372d\",\r\n",
      "    \"allowed\": true,\r\n",
      "    \"vsize\": 141,\r\n",
      "    \"fees\": {\r\n",
      "      \"base\": 0.00000400\r\n",
      "    }\r\n",
      "  }\r\n",
      "]\r\n"
     ]
    }
   ],
   "source": [
    "!bitcoin-cli -regtest testmempoolaccept '[\"0200000000010167d54994491f86a56ce68706ee02f5471e29570098a8801dbe2784a1b0721c820100000000ffffffff01f0758e060000000022512023baba6e60c5424676408ddbbe485d2b5c2fc7f94815a76a0dbacc945aae2100030e546170726f6f7420526f636b732127a820528f99cd13f2d438556c6f6a803458a963519d2419a40dd685597c0919d81f58875493558781c050929b74c1a04954b78b4b6035e97a5e078a5a0f28ec96d547bfee9ace803ac0fa2b5d06e6fdf4ce947e00511fa6dd92294996846ec8a3b0b80d9363f0dec93ab95df7c5373a203b605e4c4773579b51f853078ba1a5f9db35df6527566c0c6d111fbd5ec2591327c312c7db37a0722205156310354d11783777f41ceff2fe9600000000\"]'"
   ]
  },
  {
   "cell_type": "markdown",
   "id": "329753e0",
   "metadata": {},
   "source": [
    "### Unbalanced Spend Transaction\n",
    "\n",
    "```\n",
    "version: 02000000\n",
    "marker+flag: 0001\n",
    "inputs: 01\n",
    "    txid: f3767ce2aa509d0ae5b876b41dcd0b7ea62044464b94d9673ef1d8dba275103e\n",
    "    vout: 00000000\n",
    "    scriptSig: 00\n",
    "    sequence: ffffffff\n",
    "outputs: 01\n",
    "    amounts: 700c270700000000\n",
    "    scriptPubKey: 22 512023baba6e60c5424676408ddbbe485d2b5c2fc7f94815a76a0dbacc945aae2100\n",
    "witnesses:\n",
    "    ........ unsolved problem ........\n",
    "locktime: 00000000\n",
    "```"
   ]
  },
  {
   "cell_type": "code",
   "execution_count": null,
   "id": "49ad3f85",
   "metadata": {},
   "outputs": [],
   "source": []
  }
 ],
 "metadata": {
  "kernelspec": {
   "display_name": "Python 3 (ipykernel)",
   "language": "python",
   "name": "python3"
  },
  "language_info": {
   "codemirror_mode": {
    "name": "ipython",
    "version": 3
   },
   "file_extension": ".py",
   "mimetype": "text/x-python",
   "name": "python",
   "nbconvert_exporter": "python",
   "pygments_lexer": "ipython3",
   "version": "3.10.5"
  }
 },
 "nbformat": 4,
 "nbformat_minor": 5
}
