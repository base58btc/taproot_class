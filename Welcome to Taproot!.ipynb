{
 "cells": [
  {
   "cell_type": "markdown",
   "id": "2afb669f",
   "metadata": {},
   "source": [
    "# Background on Taproot\n",
    "\n",
    "## Where does \"taproot\" come from?\n",
    "\n",
    "Taproot is a series of bitcoin BIPS (bitcoin improvement proposals) that were merged into bitcoin-core in 2021.\n",
    "\n",
    "It was most recent bitcoin soft-fork and it went live in November 2021.\n",
    "\n",
    "The BIPS can be found on github. They are as follows:\n",
    "\n",
    "- BIP340, Schnorr Signatures https://github.com/bitcoin/bips/blob/master/bip-0340.mediawiki\n",
    "- BIP341, Taproot Segwit v1 https://github.com/bitcoin/bips/blob/master/bip-0341.mediawiki\n",
    "- BIP342, Validating Taproot Spends https://github.com/bitcoin/bips/blob/master/bip-0342.mediawiki\n",
    "- BIP350, Bech32m https://github.com/bitcoin/bips/blob/master/bip-0350.mediawiki"
   ]
  },
  {
   "cell_type": "markdown",
   "id": "14a02606",
   "metadata": {},
   "source": [
    "## What did \"taproot\" change?\n",
    "\n",
    "Taproot added and modified many things in bitcoin. Including\n",
    "\n",
    "- A new signature algorithm (Schnorr)\n",
    "- A new version of Script opcodes (Segwit v1)\n",
    "- A new bitcoin address checksum (bech32m)\n",
    "- Removed some opcodes we know and love (OP_CHECKMULTISIG)\n",
    "- Added a new opcode (OP_CHECKSIGADD)\n",
    "- Added a new scripthash algorithm"
   ]
  },
  {
   "cell_type": "markdown",
   "id": "59c11a6f",
   "metadata": {},
   "source": [
    "# Finding Taproot in the Wild\n",
    "\n",
    "Let's go to mempool.space and find some taproot addresses in the wild!\n",
    "\n",
    "\n",
    "\n",
    "## How to spot a taproot address\n",
    "\n",
    "The bech32 address has a `p` immediately following the `1`\n",
    "\n",
    "Find a taproot address on mempool dot space.\n",
    "\n",
    "What's the \"Type\" for this address?\n",
    "\n",
    "\n",
    "Copy paste the \"ScriptPubKey (HEX)\" for the address you found into the pyblock below."
   ]
  },
  {
   "cell_type": "code",
   "execution_count": 1,
   "id": "1fbc845c",
   "metadata": {},
   "outputs": [],
   "source": [
    "scriptpubkey = \"51203905d81b457b42e8d5eb1ae5280c83c74fbdd20a2e401c0077bce5417909c953\""
   ]
  },
  {
   "cell_type": "code",
   "execution_count": 2,
   "id": "a482867e",
   "metadata": {},
   "outputs": [
    {
     "name": "stdout",
     "output_type": "stream",
     "text": [
      "51203905d81b457b42e8d5eb1ae5280c83c74fbdd20a2e401c0077bce5417909c953\n"
     ]
    }
   ],
   "source": [
    "print(scriptpubkey)"
   ]
  },
  {
   "cell_type": "code",
   "execution_count": 3,
   "id": "9576aa40",
   "metadata": {},
   "outputs": [
    {
     "data": {
      "text/plain": [
       "34"
      ]
     },
     "execution_count": 3,
     "metadata": {},
     "output_type": "execute_result"
    }
   ],
   "source": [
    "len(scriptpubkey) // 2"
   ]
  },
  {
   "cell_type": "markdown",
   "id": "b3faafb0",
   "metadata": {},
   "source": [
    "This is a series of opcodes. If you pass this to `bitcoin-cli decodescript` what does it print back as the asm?"
   ]
  },
  {
   "cell_type": "code",
   "execution_count": 4,
   "id": "d0ae6734",
   "metadata": {},
   "outputs": [
    {
     "name": "stdout",
     "output_type": "stream",
     "text": [
      "{\r\n",
      "  \"asm\": \"1 3905d81b457b42e8d5eb1ae5280c83c74fbdd20a2e401c0077bce5417909c953\",\r\n",
      "  \"desc\": \"addr(bcrt1p8yzasx690dpw340trtjjsryrca8mm5s29eqpcqrhhnj5z7gfe9fsysf0jl)#95u636fj\",\r\n",
      "  \"address\": \"bcrt1p8yzasx690dpw340trtjjsryrca8mm5s29eqpcqrhhnj5z7gfe9fsysf0jl\",\r\n",
      "  \"type\": \"witness_v1_taproot\"\r\n",
      "}\r\n"
     ]
    }
   ],
   "source": [
    "!bitcoin-cli -regtest decodescript 51203905d81b457b42e8d5eb1ae5280c83c74fbdd20a2e401c0077bce5417909c953"
   ]
  },
  {
   "cell_type": "code",
   "execution_count": 5,
   "id": "bc473f18",
   "metadata": {},
   "outputs": [],
   "source": [
    "output = {\n",
    "  \"asm\": \"1 3905d81b457b42e8d5eb1ae5280c83c74fbdd20a2e401c0077bce5417909c953\",\n",
    "  \"desc\": \"addr(bcrt1p8yzasx690dpw340trtjjsryrca8mm5s29eqpcqrhhnj5z7gfe9fsysf0jl)#95u636fj\",\n",
    "  \"address\": \"bcrt1p8yzasx690dpw340trtjjsryrca8mm5s29eqpcqrhhnj5z7gfe9fsysf0jl\",\n",
    "  \"type\": \"witness_v1_taproot\"\n",
    "}"
   ]
  },
  {
   "cell_type": "code",
   "execution_count": 6,
   "id": "87353851",
   "metadata": {},
   "outputs": [
    {
     "name": "stdout",
     "output_type": "stream",
     "text": [
      "1 3905d81b457b42e8d5eb1ae5280c83c74fbdd20a2e401c0077bce5417909c953\n"
     ]
    }
   ],
   "source": [
    "print(output['asm'])"
   ]
  },
  {
   "cell_type": "code",
   "execution_count": 7,
   "id": "0501c7e3",
   "metadata": {},
   "outputs": [
    {
     "data": {
      "text/plain": [
       "['1', '3905d81b457b42e8d5eb1ae5280c83c74fbdd20a2e401c0077bce5417909c953']"
      ]
     },
     "execution_count": 7,
     "metadata": {},
     "output_type": "execute_result"
    }
   ],
   "source": [
    "output['asm'].split(\" \")"
   ]
  },
  {
   "cell_type": "code",
   "execution_count": 8,
   "id": "7c26788b",
   "metadata": {},
   "outputs": [
    {
     "data": {
      "text/plain": [
       "32"
      ]
     },
     "execution_count": 8,
     "metadata": {},
     "output_type": "execute_result"
    }
   ],
   "source": [
    "len(output['asm'].split(\" \")[1]) // 2"
   ]
  },
  {
   "cell_type": "code",
   "execution_count": 9,
   "id": "c6b080c6",
   "metadata": {
    "scrolled": true
   },
   "outputs": [
    {
     "name": "stdout",
     "output_type": "stream",
     "text": [
      "witness_v1_taproot\n"
     ]
    }
   ],
   "source": [
    "print(output['type'])"
   ]
  },
  {
   "cell_type": "code",
   "execution_count": 10,
   "id": "271d89d2",
   "metadata": {},
   "outputs": [
    {
     "name": "stdout",
     "output_type": "stream",
     "text": [
      "hex:\t\t 3905d81b457b42e8d5eb1ae5280c83c74fbdd20a2e401c0077bce5417909c953\n",
      "int val:\t 25792158117016797743484614046835601668965634494428223733945610235101691103571\n"
     ]
    }
   ],
   "source": [
    "x_bytes = bytes.fromhex(output['asm'].split(' ')[1])\n",
    "print('hex:\\t\\t', x_bytes.hex())\n",
    "\n",
    "x_val = int.from_bytes(x_bytes, 'big')\n",
    "print('int val:\\t', x_val)"
   ]
  },
  {
   "cell_type": "markdown",
   "id": "2d05ced0",
   "metadata": {},
   "source": [
    "## Finding the secp256k1 pubkey from a P2TR address\n",
    "\n",
    "Now that we have the x-only pubkey, let's figure out what point that is on the secp256k1 curve.\n",
    "\n",
    "We can do that using `lift_x_pubkey`. This takes an integer and returns a point.\n",
    "\n",
    "In my case, I'll use `coincurve`, a python library for expressing + doing math with public keys."
   ]
  },
  {
   "cell_type": "code",
   "execution_count": 80,
   "id": "4344e1f7",
   "metadata": {},
   "outputs": [],
   "source": [
    "p = 115792089237316195423570985008687907853269984665640564039457584007908834671663\n",
    "def lift_x(x_value):\n",
    "    assert x_value < p\n",
    "    # find y squared (y2 = x^3 + 7)\n",
    "    y2 = (x_value ** 3 + 7) % p\n",
    "    # find the square root of y\n",
    "    y = pow(y2, (p+1)//4, p)\n",
    "    assert (y ** 2 % p) == y2\n",
    "    # if y is odd, find even y\n",
    "    if y % 2 != 0:\n",
    "        y = p - y\n",
    "    return coincurve.PublicKey.from_point(x_value, y)"
   ]
  },
  {
   "cell_type": "code",
   "execution_count": 12,
   "id": "759f7fdc",
   "metadata": {},
   "outputs": [
    {
     "name": "stdout",
     "output_type": "stream",
     "text": [
      "023905d81b457b42e8d5eb1ae5280c83c74fbdd20a2e401c0077bce5417909c953\n",
      "(25792158117016797743484614046835601668965634494428223733945610235101691103571, 4191453718700008539754125939901750860298491226938149986069530358203844164198)\n"
     ]
    }
   ],
   "source": [
    "import coincurve\n",
    "\n",
    "point = lift_x(x_val)\n",
    "print(point.format().hex())\n",
    "print(point.point())"
   ]
  },
  {
   "cell_type": "markdown",
   "id": "f1993a06",
   "metadata": {},
   "source": [
    "## Let's Get Familiar With The Tools!"
   ]
  },
  {
   "cell_type": "code",
   "execution_count": 13,
   "id": "7981b44b",
   "metadata": {},
   "outputs": [],
   "source": [
    "from codes import parse_tx_bytes\n",
    "\n",
    "tx = \"020000000001013c29211e2e6b9a594f28fd9e8b650dd2f64e7024d398fbc4c98f3b8800cef1350000000000ffffffff0358020000000000002251203905d81b457b42e8d5eb1ae5280c83c74fbdd20a2e401c0077bce5417909c95358020000000000002251203905d81b457b42e8d5eb1ae5280c83c74fbdd20a2e401c0077bce5417909c953eba60d00000000002251203905d81b457b42e8d5eb1ae5280c83c74fbdd20a2e401c0077bce5417909c9530140bc93e2b4ae198c6326737b3e1525715109b6fa65cac52be9c1889408ba2d3ddeac9af8c944513905275280c9e8ac5fb6c83a7100137173c3e6a402857cb4c6de00000000\""
   ]
  },
  {
   "cell_type": "code",
   "execution_count": 14,
   "id": "a707117c",
   "metadata": {},
   "outputs": [
    {
     "ename": "AssertionError",
     "evalue": "",
     "output_type": "error",
     "traceback": [
      "\u001b[0;31m---------------------------------------------------------------------------\u001b[0m",
      "\u001b[0;31mAssertionError\u001b[0m                            Traceback (most recent call last)",
      "Input \u001b[0;32mIn [14]\u001b[0m, in \u001b[0;36m<cell line: 1>\u001b[0;34m()\u001b[0m\n\u001b[0;32m----> 1\u001b[0m \u001b[38;5;28mprint\u001b[39m(parse_tx_bytes(tx))\n",
      "File \u001b[0;32m~/dev/scratch/taproot_class/codes.py:94\u001b[0m, in \u001b[0;36mparse_tx_bytes\u001b[0;34m(tx_hex)\u001b[0m\n\u001b[1;32m     90\u001b[0m   tx[\u001b[38;5;124m'\u001b[39m\u001b[38;5;124moutputs\u001b[39m\u001b[38;5;124m'\u001b[39m]\u001b[38;5;241m.\u001b[39mappend(outputx)\n\u001b[1;32m     92\u001b[0m \u001b[38;5;28;01mif\u001b[39;00m \u001b[38;5;124m'\u001b[39m\u001b[38;5;124mmarker_flag\u001b[39m\u001b[38;5;124m'\u001b[39m \u001b[38;5;129;01min\u001b[39;00m tx:\n\u001b[1;32m     93\u001b[0m   \u001b[38;5;66;03m# todo, this\u001b[39;00m\n\u001b[0;32m---> 94\u001b[0m   \u001b[38;5;28;01massert\u001b[39;00m \u001b[38;5;28;01mFalse\u001b[39;00m\n\u001b[1;32m     96\u001b[0m tx[\u001b[38;5;124m'\u001b[39m\u001b[38;5;124mlocktime\u001b[39m\u001b[38;5;124m'\u001b[39m] \u001b[38;5;241m=\u001b[39m tx_bytes[ptr:]\n\u001b[1;32m     97\u001b[0m \u001b[38;5;28;01mreturn\u001b[39;00m tx\n",
      "\u001b[0;31mAssertionError\u001b[0m: "
     ]
    }
   ],
   "source": [
    "print(parse_tx_bytes(tx))"
   ]
  },
  {
   "cell_type": "code",
   "execution_count": null,
   "id": "60495adf",
   "metadata": {},
   "outputs": [],
   "source": [
    "from pprint import pprint"
   ]
  },
  {
   "cell_type": "code",
   "execution_count": null,
   "id": "e2483209",
   "metadata": {},
   "outputs": [],
   "source": [
    "pprint(parse_tx_bytes(tx))"
   ]
  },
  {
   "cell_type": "markdown",
   "id": "ee733acc",
   "metadata": {},
   "source": [
    "First things first, let's update the `parse_tx_bytes` method to be able to handle segwit (any version) transactions."
   ]
  },
  {
   "cell_type": "code",
   "execution_count": 19,
   "id": "020ab911",
   "metadata": {},
   "outputs": [],
   "source": [
    "from codes import parse_compact_size, parse_input_bytes, parse_output_bytes\n",
    "\n",
    "def parse_tx_bytes_mine(tx_hex):\n",
    "  tx_bytes = bytes.fromhex(tx_hex)\n",
    "\n",
    "  tx = {}\n",
    "  ptr = 0\n",
    "  tx['version'] = tx_bytes[0:4]\n",
    "  ptr += 4\n",
    "\n",
    "  if tx_bytes[ptr] == 0x00:\n",
    "    assert tx_bytes[ptr+1] == 0x01\n",
    "    tx['marker_flag'] = bytes([0x00, 0x01])\n",
    "    ptr += 2\n",
    "\n",
    "  count, size = parse_compact_size(tx_bytes[ptr:])\n",
    "  ptr += size \n",
    "  tx['inputs'] = []\n",
    "  for _ in range(0, count):\n",
    "    inputx, size = parse_input_bytes(tx_bytes[ptr:])\n",
    "    ptr += size\n",
    "    tx['inputs'].append(inputx)\n",
    " \n",
    "  count, size = parse_compact_size(tx_bytes[ptr:])\n",
    "  ptr += size\n",
    "  tx['outputs'] = []\n",
    "  for _ in range(0, count):\n",
    "    outputx, size = parse_output_bytes(tx_bytes[ptr:])\n",
    "    ptr += size\n",
    "    tx['outputs'].append(outputx)\n",
    "\n",
    "  if 'marker_flag' in tx:\n",
    "    tx['witnesses'] = []\n",
    "    for _ in range(0, len(tx['inputs'])):\n",
    "        witness, size = parse_witness_bytes(tx_bytes[ptr:])\n",
    "        ptr += size\n",
    "        tx['witnesses'].append(witness)\n",
    "\n",
    "  tx['locktime'] = tx_bytes[ptr:]\n",
    "  return tx"
   ]
  },
  {
   "cell_type": "code",
   "execution_count": null,
   "id": "9ece766e",
   "metadata": {},
   "outputs": [],
   "source": [
    "tx_bytes = bytes.fromhex(tx)\n",
    "ptr = 4\n",
    "print(tx_bytes.hex())\n",
    "print(tx_bytes[ptr:].hex())"
   ]
  },
  {
   "cell_type": "code",
   "execution_count": null,
   "id": "e1f2fc42",
   "metadata": {
    "scrolled": true
   },
   "outputs": [],
   "source": [
    "pprint(parse_tx_bytes_mine(tx))"
   ]
  },
  {
   "cell_type": "code",
   "execution_count": 20,
   "id": "1bd41d00",
   "metadata": {
    "scrolled": false
   },
   "outputs": [],
   "source": [
    "def parse_witness_bytes(data):\n",
    "    count, size = parse_compact_size(data)\n",
    "    ptr = size\n",
    "    witnesses = []\n",
    "    for _ in range(0, count):\n",
    "        witlen, size = parse_compact_size(data[ptr:])\n",
    "        ptr += size\n",
    "        witnesses.append(data[ptr:ptr+witlen])\n",
    "        ptr += witlen\n",
    "\n",
    "    return witnesses, ptr"
   ]
  },
  {
   "cell_type": "code",
   "execution_count": null,
   "id": "f4c31597",
   "metadata": {},
   "outputs": [],
   "source": [
    "txdata = parse_tx_bytes_mine(tx)"
   ]
  },
  {
   "cell_type": "code",
   "execution_count": null,
   "id": "33cabf50",
   "metadata": {},
   "outputs": [],
   "source": [
    "assert len(txdata['witnesses'][0]) == 1"
   ]
  },
  {
   "cell_type": "code",
   "execution_count": null,
   "id": "fb578b55",
   "metadata": {},
   "outputs": [],
   "source": [
    "print(txdata['witnesses'][0][0].hex())"
   ]
  },
  {
   "cell_type": "code",
   "execution_count": null,
   "id": "f247319d",
   "metadata": {},
   "outputs": [],
   "source": [
    "sig = txdata['witnesses'][0][0]"
   ]
  },
  {
   "cell_type": "code",
   "execution_count": null,
   "id": "f7cdf944",
   "metadata": {},
   "outputs": [],
   "source": [
    "print(sig.hex())"
   ]
  },
  {
   "cell_type": "code",
   "execution_count": null,
   "id": "ef388ecf",
   "metadata": {},
   "outputs": [],
   "source": [
    "print(len(sig))"
   ]
  },
  {
   "cell_type": "markdown",
   "id": "1196a6e6",
   "metadata": {},
   "source": [
    "## Validating a Signature\n",
    "\n",
    "What message did this signature sign?\n",
    "\n",
    "Finding the \"sighash\" of that message. \n",
    "\n",
    "Take the bitcoin transaction that the signature was embedded into. From this transaction, we'll create a hash.\n",
    "\n",
    "That hash of the bitcoin transaction \"message digest\" which is the hash that the signature \"signed\"."
   ]
  },
  {
   "cell_type": "code",
   "execution_count": null,
   "id": "239c41e7",
   "metadata": {},
   "outputs": [],
   "source": [
    "print(tx)"
   ]
  },
  {
   "cell_type": "code",
   "execution_count": null,
   "id": "d3cbd894",
   "metadata": {},
   "outputs": [],
   "source": [
    "pprint(txdata)"
   ]
  },
  {
   "cell_type": "markdown",
   "id": "2392d3d6",
   "metadata": {},
   "source": [
    "## Find the SigMsg for a transaction\n",
    "\n",
    "Here we use the BIP341 Signature Validation Rules (https://github.com/bitcoin/bips/blob/master/bip-0341.mediawiki#user-content-Common_signature_message) Common signature message definition to calculate the SIGHASH_DEFAULT for a given transaction.\n",
    "\n",
    "We'll use this to compute the sighash for this input, which we need to validate the signature."
   ]
  },
  {
   "cell_type": "code",
   "execution_count": 18,
   "id": "72d626d1",
   "metadata": {},
   "outputs": [],
   "source": [
    "from hashlib import sha256\n",
    "from codes import size_compact_size\n",
    "\n",
    "def sigmsg_default(tx_hex, input_index, annex_bytes, amounts_bytes, scriptpubkeys_bytes, ext_flag):\n",
    "    txdata = parse_tx_bytes_mine(tx_hex)\n",
    "    \n",
    "    result = b''\n",
    "    result += bytes([0x00]) # sighash_flag\n",
    "    result += txdata['version']\n",
    "    result += txdata['locktime']\n",
    "\n",
    "    all_input_outpoints = b''\n",
    "    for inp in txdata['inputs']:\n",
    "        # txid || vout\n",
    "        all_input_outpoints += inp['txid'] + inp['vout']    \n",
    "    sha_prevouts = sha256(all_input_outpoints).digest()\n",
    "    result += sha_prevouts\n",
    "    \n",
    "    sha_amounts = sha256(b''.join(amounts_bytes)).digest()        \n",
    "    result += sha_amounts\n",
    "    \n",
    "    spks = b''\n",
    "    for spk in scriptpubkeys_bytes:\n",
    "        spks += size_compact_size(len(spk)) + spk\n",
    "    sha_scriptpubkeys = sha256(spks).digest()\n",
    "    result += sha_scriptpubkeys\n",
    "    \n",
    "    all_sequences = [ i['sequence'] for i in txdata['inputs'] ]\n",
    "    sha_sequences = sha256(b''.join(all_sequences)).digest()\n",
    "    result += sha_sequences\n",
    "    \n",
    "    all_outputs = b''\n",
    "    for o in txdata['outputs']:\n",
    "        # amount || compact_size(scriptpubkey) || scriptpubkey\n",
    "        all_outputs += o['amount']\n",
    "        all_outputs += size_compact_size(len(o['scriptPubKey']))\n",
    "        all_outputs += o['scriptPubKey']\n",
    "    sha_outputs = sha256(all_outputs).digest()\n",
    "    result += sha_outputs\n",
    "    \n",
    "    # data about this input\n",
    "    annex_present = 1 if annex_bytes else 0\n",
    "    spend_type = 2 * ext_flag + annex_present\n",
    "    result += (spend_type).to_bytes(1, 'little')\n",
    "    result += (input_index).to_bytes(4, 'little')\n",
    "    \n",
    "    if (annex_bytes):\n",
    "        size_bytes = size_compact_size(len(annex_bytes))\n",
    "        sha_annex = sha256(size_bytes + annex_bytes).digest()\n",
    "        result += sha_annex\n",
    "    \n",
    "    # data about this output\n",
    "    # noop for SIGHASH_DEFAULT\n",
    "    \n",
    "    assert len(result) <= 206\n",
    "    return result"
   ]
  },
  {
   "cell_type": "code",
   "execution_count": 21,
   "id": "ee7cca7f",
   "metadata": {},
   "outputs": [
    {
     "name": "stdout",
     "output_type": "stream",
     "text": [
      "{'amount': b'\\xdc\\xab\\x0e\\x00\\x00\\x00\\x00\\x00', 'scriptPubKey': b'Q 9\\x05\\xd8\\x1bE{B\\xe8\\xd5\\xeb\\x1a\\xe5(\\x0c\\x83\\xc7O\\xbd\\xd2\\n.@\\x1c\\x00w\\xbc\\xe5Ay\\t\\xc9S'}\n"
     ]
    }
   ],
   "source": [
    "spent_from_tx = parse_tx_bytes_mine(\"02000000000101d79ca7455775b3fc7bf65eae536faa22e6248b863247cee30765fabb4fafadb80100000000ffffffff02dcab0e00000000002251203905d81b457b42e8d5eb1ae5280c83c74fbdd20a2e401c0077bce5417909c953944be70400000000225120dc2e293b7717ece7898fefc8fd7f6da13e8fb56efac0bc3bd75183304da6ad1701409dab8ddd9c703d1acb6736bc5260b23e64999cb130b9b3ca6c2e69aa084073302b66f0ecb5b4a191618951c022da2c429ac3638613c43bbb88a761634c2cb85300000000\")\n",
    "\n",
    "print(spent_from_tx['outputs'][0])"
   ]
  },
  {
   "cell_type": "code",
   "execution_count": 22,
   "id": "2a09786e",
   "metadata": {},
   "outputs": [
    {
     "name": "stdout",
     "output_type": "stream",
     "text": [
      "amounts: ['dcab0e0000000000']\n",
      "scriptpubkeys: ['51203905d81b457b42e8d5eb1ae5280c83c74fbdd20a2e401c0077bce5417909c953'] \n",
      "\n",
      "sigmsg: 000200000000000000002b9b64a25d11192d251c2e088e7cbc65889963ff67244102b5fc7cb1b4feb51c4eb25d1adc8a44ed6dd54bca7d3d790a7b9e66ef9a8416836882124ad71bb507d41f17121f975dfae4cb8a052b3e34576e1c272bf7e17dfe484be8d1f96317ad95131bc0b799c0b1af477fb14fcf26a6a9f76079e48bf090acb7e8367bfd0e5cdaded8d0fdd6bcb42703ac71156c5d658a47acaa0b90924087e48059d5f1c30000000000\n"
     ]
    }
   ],
   "source": [
    "amounts_bytes = [spent_from_tx['outputs'][0]['amount']]\n",
    "print(\"amounts:\", [x.hex() for x in amounts_bytes])\n",
    "\n",
    "scriptpubkeys_bytes = [spent_from_tx['outputs'][0]['scriptPubKey']]\n",
    "print(\"scriptpubkeys:\", [x.hex() for x in scriptpubkeys_bytes], \"\\n\")\n",
    "\n",
    "ext_flag = 0\n",
    "annex_bytes = None\n",
    "input_index = 0\n",
    "\n",
    "sigmsg = sigmsg_default(tx, input_index, annex_bytes, amounts_bytes, scriptpubkeys_bytes, ext_flag)\n",
    "\n",
    "print(\"sigmsg:\", sigmsg.hex())"
   ]
  },
  {
   "cell_type": "markdown",
   "id": "47d1da59",
   "metadata": {},
   "source": [
    "## Computing the Sighash\n",
    "\n",
    "Now that we have the sighash message, we can calculate the actual \"sighash\" for the signature.\n",
    "\n",
    "The `sighash` for Taproot key path spending signature valdiation is as follows:\n",
    "\n",
    "```\n",
    "sighash = tag_hash(b'TapSighash', bytes([0x00]) + sigmsg)\n",
    "```\n",
    "\n",
    "We'll need to implement the `tag_hash` function, then pass our `sigmsg` into this to find the `sighash`."
   ]
  },
  {
   "cell_type": "code",
   "execution_count": 23,
   "id": "ed4d48f4",
   "metadata": {},
   "outputs": [],
   "source": [
    "from hashlib import sha256\n",
    "\n",
    "def tag_hash(tag, data_bytes):\n",
    "    taghash = sha256(tag).digest()\n",
    "    return sha256(taghash + taghash + data_bytes).digest()"
   ]
  },
  {
   "cell_type": "code",
   "execution_count": 24,
   "id": "82cce04a",
   "metadata": {},
   "outputs": [
    {
     "name": "stdout",
     "output_type": "stream",
     "text": [
      "c09a12ac690db9c044c0df972aec9f574cf12677b80b1b82e910bf9e16f3b115\n"
     ]
    }
   ],
   "source": [
    "sighash = tag_hash(b'TapSighash', bytes([0x00]) + sigmsg)\n",
    "print(sighash.hex())"
   ]
  },
  {
   "cell_type": "markdown",
   "id": "84d5158d",
   "metadata": {},
   "source": [
    "## Verifying the Sighash\n",
    "\n",
    "Now that we've got the `sighash` we're finally ready to verify the signature.\n",
    "\n",
    "For this, we'll need the `verify` function, which is defined in BIP340."
   ]
  },
  {
   "cell_type": "code",
   "execution_count": null,
   "id": "f7bac652",
   "metadata": {},
   "outputs": [],
   "source": [
    "# there are three inputs to the verify function: pubkey, message, signature\n",
    "pk = x_val\n",
    "m = sighash\n",
    "sig = sig\n",
    "\n",
    "print(x_val)"
   ]
  },
  {
   "cell_type": "code",
   "execution_count": 25,
   "id": "1d0470e4",
   "metadata": {},
   "outputs": [],
   "source": [
    "from codes import n\n",
    "\n",
    "def verify(x_val, m, sig):\n",
    "    P = lift_x(x_val)\n",
    "    assert len(sig) == 64\n",
    "    r = int.from_bytes(sig[:32], 'big')\n",
    "    if r >= p:\n",
    "        return False\n",
    "    s = int.from_bytes(sig[32:], 'big')\n",
    "    if s >= n:\n",
    "        return False\n",
    "    \n",
    "    P_bytes = (x_val).to_bytes(32, 'big')\n",
    "    challenge_hash = tag_hash(b'BIP0340/challenge', sig[:32] + P_bytes + m)\n",
    "    e = int.from_bytes(challenge_hash, 'big') % n\n",
    "    \n",
    "    # e * P\n",
    "    eP = P.multiply(e.to_bytes(32, 'big'))\n",
    "    # s * G\n",
    "    sG = coincurve.PrivateKey.from_int(s).public_key\n",
    "    neg_eP = invert_point(eP)\n",
    "    \n",
    "    # R = sG - eP = sG + -eP\n",
    "    R = coincurve.PublicKey.combine_keys([sG, neg_eP])\n",
    "    \n",
    "    if not has_even_y(R):\n",
    "        return False\n",
    "    \n",
    "    return R.point()[0] == r"
   ]
  },
  {
   "cell_type": "code",
   "execution_count": 26,
   "id": "67aebbc6",
   "metadata": {},
   "outputs": [],
   "source": [
    "def invert_point(pt):\n",
    "    x, y = pt.point()\n",
    "    yneg = p - y\n",
    "    return coincurve.PublicKey.from_point(x, yneg)"
   ]
  },
  {
   "cell_type": "code",
   "execution_count": 27,
   "id": "23ccac8d",
   "metadata": {},
   "outputs": [],
   "source": [
    "def has_even_y(pt):\n",
    "    return pt.point()[1] % 2 == 0"
   ]
  },
  {
   "cell_type": "code",
   "execution_count": 28,
   "id": "a0cccf83",
   "metadata": {},
   "outputs": [
    {
     "ename": "NameError",
     "evalue": "name 'txdata' is not defined",
     "output_type": "error",
     "traceback": [
      "\u001b[0;31m---------------------------------------------------------------------------\u001b[0m",
      "\u001b[0;31mNameError\u001b[0m                                 Traceback (most recent call last)",
      "Input \u001b[0;32mIn [28]\u001b[0m, in \u001b[0;36m<cell line: 1>\u001b[0;34m()\u001b[0m\n\u001b[0;32m----> 1\u001b[0m sig \u001b[38;5;241m=\u001b[39m txdata[\u001b[38;5;124m'\u001b[39m\u001b[38;5;124mwitnesses\u001b[39m\u001b[38;5;124m'\u001b[39m][\u001b[38;5;241m0\u001b[39m][\u001b[38;5;241m0\u001b[39m]\n\u001b[1;32m      2\u001b[0m verify(x_val, m, sig)\n",
      "\u001b[0;31mNameError\u001b[0m: name 'txdata' is not defined"
     ]
    }
   ],
   "source": [
    "sig = txdata['witnesses'][0][0]\n",
    "verify(x_val, m, sig)"
   ]
  },
  {
   "cell_type": "markdown",
   "id": "a6678a0c",
   "metadata": {},
   "source": [
    "## Signing a message\n",
    "\n",
    "Now that we've been able to successfully verify a message, let's finish implementing the second method for Schnorr: the Sign method.\n",
    "\n",
    "This takes a private key and a message and returns a valid signature.\n",
    "\n",
    "```\n",
    "sig = Sign(privkey, msg)\n",
    "```"
   ]
  },
  {
   "cell_type": "code",
   "execution_count": 29,
   "id": "148a3819",
   "metadata": {},
   "outputs": [],
   "source": [
    "def scalar_to_pubkey(scalar_val):\n",
    "    assert scalar_val != 0 and scalar_val < n\n",
    "    P = coincurve.PrivateKey.from_int(scalar_val).public_key\n",
    "    result = scalar_val if has_even_y(P) else n - scalar_val\n",
    "    \n",
    "    return result, P\n",
    "\n",
    "\n",
    "def sign_msg(privkey_int, msg, nonce_int):\n",
    "    d, P = scalar_to_pubkey(privkey_int)\n",
    "    k, R = scalar_to_pubkey(nonce_int)\n",
    "    \n",
    "    bytes_R = (R.point()[0].to_bytes(32, 'big'))\n",
    "    bytes_P = (P.point()[0].to_bytes(32, 'big'))\n",
    "    challenge_hash = tag_hash(b'BIP0340/challenge', bytes_R + bytes_P + msg)\n",
    "    e = int.from_bytes(challenge_hash, 'big') % n\n",
    "    \n",
    "    # ~~~BEGIN SCHNORR PART~~~\n",
    "    s = (k + e * d) % n\n",
    "    # ~~~ END SCHNORR PART ~~~\n",
    "    \n",
    "    sig = bytes_R + s.to_bytes(32, 'big')\n",
    "    assert verify(P.point()[0], m, sig)\n",
    "    return sig"
   ]
  },
  {
   "cell_type": "code",
   "execution_count": 30,
   "id": "35c80e57",
   "metadata": {},
   "outputs": [
    {
     "ename": "NameError",
     "evalue": "name 'm' is not defined",
     "output_type": "error",
     "traceback": [
      "\u001b[0;31m---------------------------------------------------------------------------\u001b[0m",
      "\u001b[0;31mNameError\u001b[0m                                 Traceback (most recent call last)",
      "Input \u001b[0;32mIn [30]\u001b[0m, in \u001b[0;36m<cell line: 3>\u001b[0;34m()\u001b[0m\n\u001b[1;32m      1\u001b[0m privkey \u001b[38;5;241m=\u001b[39m \u001b[38;5;241m10\u001b[39m\n\u001b[1;32m      2\u001b[0m nonce \u001b[38;5;241m=\u001b[39m \u001b[38;5;241m5\u001b[39m\n\u001b[0;32m----> 3\u001b[0m sig \u001b[38;5;241m=\u001b[39m sign_msg(privkey, m, nonce)\n\u001b[1;32m      5\u001b[0m \u001b[38;5;28mprint\u001b[39m(sig\u001b[38;5;241m.\u001b[39mhex())\n",
      "\u001b[0;31mNameError\u001b[0m: name 'm' is not defined"
     ]
    }
   ],
   "source": [
    "privkey = 10\n",
    "nonce = 5\n",
    "sig = sign_msg(privkey, m, nonce)\n",
    "\n",
    "print(sig.hex())"
   ]
  },
  {
   "cell_type": "markdown",
   "id": "5ef09244",
   "metadata": {},
   "source": [
    "## Taproot: Exploring the Depths\n",
    "\n",
    "We've just done a Taproot keypath spend verification (~P2PK)\n",
    "\n",
    "Now we're going to look at how to build out scripts for taproot!\n",
    "\n",
    "We're going to make our first taproot script. (~P2WSH)\n",
    "\n",
    "What are the steps we need to do for this:\n",
    "\n",
    "- figure out what scripts can spend our bitcoin\n",
    "- make a tree out of them (just like christmas!)\n",
    "- build a merkle root\n",
    "- pick a internal pubkey\n",
    "- make a tweak from the merkle root\n",
    "- add the tweak to the internal pubkey to get our external pubkey\n",
    "- lock money up to external pubkey"
   ]
  },
  {
   "cell_type": "markdown",
   "id": "26975a5e",
   "metadata": {},
   "source": [
    "### Step 1: Figure out what scripts can spend our bitcoin\n",
    "\n",
    "- Everyone in class should make a script!\n",
    "- Each individually lock up coins to the script (single script spend)\n",
    "- Send all the scripts to Lisa, and then we'll build a tree out of them\n",
    "\n",
    "#### Writing a taproot script\n",
    "\n",
    "nifty's script: OP_4 OP_ADD OP_8 OP_EQUAL  (requires OP_4 to unlock)\n",
    "\n",
    "Convert to script: \n",
    "        OP_4 OP_ADD OP_8 OP_EQUAL\n",
    "        54935887\n",
    "        \n",
    "        "
   ]
  },
  {
   "cell_type": "code",
   "execution_count": 114,
   "id": "a2f023ad",
   "metadata": {},
   "outputs": [],
   "source": [
    "nifty = '54935887'\n",
    "casey =  'AA201ccf6c5e6212f524600fb6b20275cd6ae26dc6b812cd1f84dd3ff7d86b1937d187'\n",
    "jose = '54935887'\n",
    "dpp = '930200088763a820150faa5b485225f681b179f710cb169b92b401f954392eb30e677624135233f08768'\n",
    "mk = '76769393010987'\n",
    "damian = 'a820528f99cd13f2d438556c6f6a803458a963519d2419a40dd685597c0919d81f588754935587'\n",
    "chris = '53935987'\n",
    "nate = 'a82041ef4bb0b23661e66301aac36066912dac037827b4ae63a7b1165a5aa93ed4eb87'"
   ]
  },
  {
   "cell_type": "code",
   "execution_count": 108,
   "id": "80cc4c7a",
   "metadata": {},
   "outputs": [],
   "source": [
    "scripts = [('nifty', nifty), ('casey', casey), ('jose', jose), ('dpp', dpp), ('mk', mk), ('damian', damian), ('chris', chris), ('nate', nate)]"
   ]
  },
  {
   "cell_type": "markdown",
   "id": "83ff2029",
   "metadata": {},
   "source": [
    "### Step 2: Make a tree out of your scripts\n",
    "\n",
    "For this first round, we're just going to use a single script!\n",
    "\n",
    "Every tree has leaves! Every script in our tree is a leaf.\n",
    "\n",
    "Our tree is just [nifty]"
   ]
  },
  {
   "cell_type": "code",
   "execution_count": 116,
   "id": "d3642782",
   "metadata": {},
   "outputs": [],
   "source": [
    "tree = [nifty]"
   ]
  },
  {
   "cell_type": "code",
   "execution_count": 42,
   "id": "9f5c0f78",
   "metadata": {},
   "outputs": [],
   "source": [
    "## Step 3: Build a Merkle root"
   ]
  },
  {
   "cell_type": "code",
   "execution_count": 44,
   "id": "76659e08",
   "metadata": {},
   "outputs": [],
   "source": [
    "### Step 3a: Write a function to compute a leaf (hash)"
   ]
  },
  {
   "cell_type": "code",
   "execution_count": 115,
   "id": "67ff1a06",
   "metadata": {},
   "outputs": [],
   "source": [
    "def make_leaf(script_bytes):\n",
    "    leaf_version = 0xc0\n",
    "    # leaf version + len script + script\n",
    "    data = bytes([leaf_version]) + size_compact_size(len(script_bytes)) + script_bytes\n",
    "    return tag_hash(b'TapLeaf', data)"
   ]
  },
  {
   "cell_type": "code",
   "execution_count": 35,
   "id": "03f4d9f0",
   "metadata": {},
   "outputs": [],
   "source": [
    "tree_bytes = [ bytes.fromhex(x) for x in tree ]"
   ]
  },
  {
   "cell_type": "code",
   "execution_count": 117,
   "id": "db7ca033",
   "metadata": {},
   "outputs": [
    {
     "name": "stdout",
     "output_type": "stream",
     "text": [
      "7ce84a5b9c296529029e07e014ffdfb9bb11d201bd84e4528d4ae46d6160ead6\n"
     ]
    }
   ],
   "source": [
    "leaf = make_leaf(tree_bytes[0])\n",
    "print(leaf.hex())"
   ]
  },
  {
   "cell_type": "code",
   "execution_count": 109,
   "id": "6110d5b8",
   "metadata": {},
   "outputs": [
    {
     "name": "stdout",
     "output_type": "stream",
     "text": [
      "nifty 7ce84a5b9c296529029e07e014ffdfb9bb11d201bd84e4528d4ae46d6160ead6\n",
      "casey bcf0ffea8d704f70610ddffb14a2cd74cbde7b4bf116605143f43fcdac862858\n",
      "jose 7ce84a5b9c296529029e07e014ffdfb9bb11d201bd84e4528d4ae46d6160ead6\n",
      "dpp 7199c3d01803160ae132c34a5aaa9e5ba44725b0e6a483caa4de6804e77e2b01\n",
      "mk fa2b5d06e6fdf4ce947e00511fa6dd92294996846ec8a3b0b80d9363f0dec93a\n",
      "damian 5f305f38bd7306856e35ac66b1f0c528a76af3ecfb777c4afef45bb80b2a0a6a\n",
      "chris 8ddbf7add8c35b385346ea0f1c3fa93bbfd9583c75ee097fe0c03c64cceccd0a\n",
      "nate 002a01ee216a40f3d68710b87d7fb0654a7d540e9baa3f5ba5a06170b82ed08d\n"
     ]
    }
   ],
   "source": [
    "for name, script in [ (a,bytes.fromhex(x)) for a,x in scripts]:\n",
    "    int_leaf = make_leaf(script)\n",
    "    print(name, int_leaf.hex())"
   ]
  },
  {
   "cell_type": "markdown",
   "id": "c370a08d",
   "metadata": {},
   "source": [
    "In this first example, where we only have one script, the \"merkle root\" is the leaf of the single script.\n",
    "\n",
    "Our root = leaf."
   ]
  },
  {
   "cell_type": "code",
   "execution_count": 118,
   "id": "b1f1d730",
   "metadata": {},
   "outputs": [
    {
     "name": "stdout",
     "output_type": "stream",
     "text": [
      "7ce84a5b9c296529029e07e014ffdfb9bb11d201bd84e4528d4ae46d6160ead6\n"
     ]
    }
   ],
   "source": [
    "root = leaf\n",
    "print(leaf.hex())"
   ]
  },
  {
   "cell_type": "markdown",
   "id": "8e5d80f2",
   "metadata": {},
   "source": [
    "### Step 4: Pick an internal pubkey\n",
    "\n",
    "Considerations to make when picking an *internal* pubkey:\n",
    "\n",
    "- Does it need to be spendable?\n",
    "- If yes, who has the keys to it?\n",
    "- If no, how can I prove it's unspendable?\n"
   ]
  },
  {
   "cell_type": "markdown",
   "id": "b82b528b",
   "metadata": {},
   "source": [
    "In our case, our key needs to be unspendable. We need to pick a point that we don't know the private key to.\n",
    "\n",
    "The spec (BIP341) recommends using the following algorithm (or something like it) to pick a point where the private key is unknowns.\n",
    "\n",
    "> One example of such a point is H = lift_x(0x50929b74c1a04954b78b4b6035e97a5e078a5a0f28ec96d547bfee9ace803ac0) which is constructed by taking the hash of the standard uncompressed encoding of the secp256k1 base point G as X coordinate. In order to avoid leaking the information that key path spending is not possible it is recommended to pick a fresh integer r in the range 0...n-1 uniformly at random and use H + rG as internal key. It is possible to prove that this internal key does not have a known discrete logarithm with respect to G by revealing r to a verifier who can then reconstruct how the internal key was created."
   ]
  },
  {
   "cell_type": "code",
   "execution_count": 112,
   "id": "4ba264fa",
   "metadata": {},
   "outputs": [],
   "source": [
    "# We define the nums_point as\n",
    "# H(G) => sha256(uncompressed)\n",
    "def nums_point(r=0):\n",
    "    Gx, Gy = coincurve.PrivateKey.from_int(1).public_key.point()\n",
    "    data = bytes([0x04]) + Gx.to_bytes(32, 'big') + Gy.to_bytes(32, 'big')\n",
    "    h = sha256(data).digest()\n",
    "    h_int = int.from_bytes(h, 'big')\n",
    "    H = lift_x(h_int)\n",
    "    if r > 0:\n",
    "        assert r < n\n",
    "        rG = coincurve.PrivateKey.from_int(r).public_key\n",
    "        return coincurve.PublicKey.combine_keys([rG, H])\n",
    "    return H"
   ]
  },
  {
   "cell_type": "code",
   "execution_count": 113,
   "id": "b3aa9c31",
   "metadata": {},
   "outputs": [
    {
     "name": "stdout",
     "output_type": "stream",
     "text": [
      "0250929b74c1a04954b78b4b6035e97a5e078a5a0f28ec96d547bfee9ace803ac0\n"
     ]
    }
   ],
   "source": [
    "internal_pubkey = nums_point()\n",
    "print(internal_pubkey.format().hex())\n",
    "\n",
    "pubkey_bytes = internal_pubkey.point()[0].to_bytes(32, 'big')"
   ]
  },
  {
   "cell_type": "markdown",
   "id": "e690169e",
   "metadata": {},
   "source": [
    "### Step 5: Make a tweak from the Merkle Root\n",
    "\n",
    "What is a tweak? Ideally, a tweak is really just a number (scalar).\n",
    "\n",
    "We're gonna take the root and a pubkey, make a hash out of both of them and then convert this hash to a number.\n",
    "\n",
    "We'll then use that number (scalar) as if it were a private key and find the curve point at that value."
   ]
  },
  {
   "cell_type": "code",
   "execution_count": 62,
   "id": "814dac66",
   "metadata": {},
   "outputs": [],
   "source": [
    "def make_tweak_pubkey(pubkey, merkle_root_bytes):\n",
    "    # Find the bytes for the x-value of the internal pubkey\n",
    "    pubkey_bytes = pubkey.point()[0].to_bytes(32, 'big')\n",
    "    \n",
    "    # Compute the tweak hash (TapTweak tag + pubkey + merkle root)\n",
    "    tweak_bytes = tag_hash(b'TapTweak', pubkey_bytes + merkle_root_bytes)\n",
    "    # Convert that hash into a scalar (so we can make it a point)\n",
    "    tweak_int = int.from_bytes(tweak_bytes, 'big')\n",
    "    # Make sure our tweak is inside the \"point range (n)\"\n",
    "    assert tweak_int < n\n",
    "    \n",
    "    # Multiply the tweak by the Generator Point (G) which gives us T\n",
    "    T = coincurve.PrivateKey.from_int(tweak_int).public_key\n",
    "    \n",
    "    return T"
   ]
  },
  {
   "cell_type": "code",
   "execution_count": 76,
   "id": "7bfcd0e5",
   "metadata": {},
   "outputs": [
    {
     "name": "stdout",
     "output_type": "stream",
     "text": [
      "03276d6adba4bf408222b0923821f9d6286d7d2e0750f99fab541e199c224e2b74\n"
     ]
    }
   ],
   "source": [
    "T = make_tweak_pubkey(internal_pubkey, root)\n",
    "print(T.format().hex())"
   ]
  },
  {
   "cell_type": "code",
   "execution_count": 77,
   "id": "1ed4d497",
   "metadata": {},
   "outputs": [
    {
     "name": "stdout",
     "output_type": "stream",
     "text": [
      "nifty 03276d6adba4bf408222b0923821f9d6286d7d2e0750f99fab541e199c224e2b74\n",
      "casey 02d50363f23b5712ddaf1e2f1ddbb754f95607e99e26a8983da8c44c7525c43434\n",
      "jose 0341eaf5244e37c5bdf0b779a5d641cbbe0c0c5b681601e6da490e9213b940c274\n",
      "dpp 02e134c26d8e2e52f1339507d00c698a840bf8dd8e6480b9b6fdc2d803805e4b50\n",
      "mk 03154f265ff85914f6d7e8506663d89cf12fa2ac167946cfe97f5eec3f4a934420\n",
      "damian 031dd4af1b86eae0f26b5235f33e121b82af19d25827a4b79432a3c9d52424129d\n",
      "chris 0214decaa772191bdd99d46bf9ba0578f9dd97a900baf49aa55300c87cbfdd9223\n",
      "nate 021410525faa15e71bb2290bb425043f220639ae89815e768ff9fcef55f017386b\n"
     ]
    }
   ],
   "source": [
    "for name, script in [ (a,bytes.fromhex(x)) for a,x in scripts]:\n",
    "    root = make_leaf(script)\n",
    "    T = make_tweak_pubkey(internal_pubkey, root)\n",
    "    print(name, T.format().hex())"
   ]
  },
  {
   "cell_type": "markdown",
   "id": "5c1853d0",
   "metadata": {},
   "source": [
    "Now we have our Tweak as a point. All we need to do is combine it with the internal pubkey to get an external pubkey."
   ]
  },
  {
   "cell_type": "markdown",
   "id": "c2be1cc6",
   "metadata": {},
   "source": [
    "### Step 6: Add Internal Pubkey to Tweak Pubkey\n",
    "\n",
    "For some reason the spec makes everything more fancy that it needs to be.\n",
    "\n",
    "The biggest difference is that we \"promote\" the internal pubkey to a x-only pubkey (even) before we add it to the tweak."
   ]
  },
  {
   "cell_type": "code",
   "execution_count": 82,
   "id": "fd506493",
   "metadata": {},
   "outputs": [],
   "source": [
    "def make_external_pubkey(pubkey, T):    \n",
    "    P = lift_x(pubkey.point()[0])\n",
    "    Q = coincurve.PublicKey.combine_keys([P, T])\n",
    "    return Q"
   ]
  },
  {
   "cell_type": "code",
   "execution_count": 104,
   "id": "5d5c96a1",
   "metadata": {},
   "outputs": [
    {
     "name": "stdout",
     "output_type": "stream",
     "text": [
      "0250929b74c1a04954b78b4b6035e97a5e078a5a0f28ec96d547bfee9ace803ac0\n",
      "nifty root: 7ce84a5b9c296529029e07e014ffdfb9bb11d201bd84e4528d4ae46d6160ead6\n",
      "nifty tweak 03276d6adba4bf408222b0923821f9d6286d7d2e0750f99fab541e199c224e2b74\n",
      "nifty! 029970f40840ae66e7f420877f2b48d331eda1da215d05ec1de6bd6cd4ea45ab9f\n"
     ]
    }
   ],
   "source": [
    "nifty\n",
    "\n",
    "nifty_leaf = make_leaf(bytes.fromhex(nifty))\n",
    "print(internal_pubkey.format().hex())\n",
    "print('nifty root:', nifty_leaf.hex())\n",
    "nifty_T = make_tweak_pubkey(internal_pubkey, nifty_leaf)\n",
    "print('nifty tweak', nifty_T.format().hex())\n",
    "nifty_Q = make_external_pubkey(internal_pubkey, nifty_T)\n",
    "print('nifty!', nifty_Q.format().hex())"
   ]
  },
  {
   "cell_type": "code",
   "execution_count": 162,
   "id": "616eb83a",
   "metadata": {},
   "outputs": [
    {
     "name": "stdout",
     "output_type": "stream",
     "text": [
      "nifty 029970f40840ae66e7f420877f2b48d331eda1da215d05ec1de6bd6cd4ea45ab9f\n",
      "c0\n",
      "casey 025a62e8ead0b9f60f5a91fd69d4044b531e086823cbab7b67ccbb312509eb9fb5\n",
      "c0\n",
      "jose 029970f40840ae66e7f420877f2b48d331eda1da215d05ec1de6bd6cd4ea45ab9f\n",
      "c0\n",
      "dpp 028df34c51844750dc133f9521285ec78c92a8ba336d435951e8f1dc68611aca58\n",
      "c0\n",
      "mk 03311eb2f7a8ca651980285fb6bbf2c3d548191cdb9e6ba902562fffe35fa28aab\n",
      "c1\n",
      "damian 03f933d817c628bb0e249a44138753de965d271fb2b347daf54b24225cac8bb1a3\n",
      "c1\n",
      "chris 030c2d7cf15ed86872eb9957326fe706ec54e2d100e03505538c54cae5919453ee\n",
      "c1\n",
      "nate 02806750c9417bbb6b017bd96a47bcf1372120310d0cee67e5eeff5cd5bf28bd0e\n",
      "c0\n"
     ]
    }
   ],
   "source": [
    "for name, script in [ (a, bytes.fromhex(x)) for a,x in scripts]:\n",
    "    root = make_leaf(script)\n",
    "    T = make_tweak_pubkey(internal_pubkey, root)\n",
    "    Q = make_external_pubkey(internal_pubkey, T)\n",
    "    print(name, Q.format().hex())"
   ]
  },
  {
   "cell_type": "markdown",
   "id": "0187b71d",
   "metadata": {},
   "source": [
    "### Step 7: Lock bitcoin up to your external pubkey! (but first make a P2TR script)\n",
    "\n",
    "We'll take Q, drop the parity byte at the front and make this into a P2TR script."
   ]
  },
  {
   "cell_type": "code",
   "execution_count": 125,
   "id": "89a59b16",
   "metadata": {},
   "outputs": [
    {
     "name": "stdout",
     "output_type": "stream",
     "text": [
      "51209970f40840ae66e7f420877f2b48d331eda1da215d05ec1de6bd6cd4ea45ab9f\n"
     ]
    }
   ],
   "source": [
    "def make_p2tr(Q):\n",
    "    Qx_bytes = Q.point()[0].to_bytes(32, 'big')\n",
    "    witness_version = 0x51\n",
    "    return bytes([witness_version]) + size_compact_size(len(Qx_bytes)) + Qx_bytes\n",
    "\n",
    "\n",
    "print(make_p2tr(nifty_Q).hex())\n",
    "nifty_script = make_p2tr(nifty_Q).hex()"
   ]
  },
  {
   "cell_type": "code",
   "execution_count": 140,
   "id": "74e80ccf",
   "metadata": {},
   "outputs": [
    {
     "name": "stdout",
     "output_type": "stream",
     "text": [
      "bcrt1pn9c0gzzq4enw0apqsaljkjxnx8k6rk3pt5z7c80xh4kdf6j94w0s4fwuky\n"
     ]
    }
   ],
   "source": [
    "# FIXME: add `jq` to nix-shell\n",
    "address_arr = !bitcoin-cli -regtest decodescript \"$nifty_script\" | jq -r .address\n",
    "print(address_arr[0])\n",
    "address = address_arr[0]"
   ]
  },
  {
   "cell_type": "code",
   "execution_count": 128,
   "id": "ad393799",
   "metadata": {
    "collapsed": true
   },
   "outputs": [
    {
     "name": "stdout",
     "output_type": "stream",
     "text": [
      "{\r\n",
      "  \"name\": \"base58\",\r\n",
      "  \"warning\": \"\"\r\n",
      "}\r\n"
     ]
    }
   ],
   "source": [
    "!bitcoin-cli -regtest createwallet base58"
   ]
  },
  {
   "cell_type": "code",
   "execution_count": 143,
   "id": "aafc2b8e",
   "metadata": {
    "collapsed": true
   },
   "outputs": [
    {
     "name": "stdout",
     "output_type": "stream",
     "text": [
      "{\r\n",
      "  \"address\": \"bcrt1q96dx4r0kp2edmy68wh36m2wgr5k9atp9t5ur0p\",\r\n",
      "  \"blocks\": [\r\n",
      "    \"1823d76e00da3dd3c6ace4093cdde2e5645d90a05b62b917a8ffbb37a62cc487\",\r\n",
      "    \"115a3572f4c2c759badd0c34b193d4cd876e6a548da50a57ff491736be57b3f0\",\r\n",
      "    \"34b1cbbd9018febe10e281282843a2cc97f3a2ead4983225997a15b024a436d0\",\r\n",
      "    \"6ad02c4ab7a73645dd200cb7e196bc10d1c612f15cde5d2b63775adb33773e90\",\r\n",
      "    \"5c61b32fb5c8c693a9272f5975235e38da2597778605d35326d780f3f840530f\",\r\n",
      "    \"4203beed047c64453e2d89baab6bff045e14a241ce748fda1016b07721a376d9\",\r\n",
      "    \"14c92870fba44c5ab33f61d237d7a6db0546397239df721f317f381134da589b\",\r\n",
      "    \"76f4a9b2d8576d40e22825843789f6480d6c7e362994f2b67d11f86b5c527c74\",\r\n",
      "    \"3237d66b384737982a0a68d7c894f7c1ec8416fdf13f908a43dc55ccb2e37287\",\r\n",
      "    \"4c3760cd9213bbc7b662340d4e27292c619e7de56f6eb7921896eda9011754e4\",\r\n",
      "    \"026a861028c20b309338008be87dfab00ba6ff699c368cea82def202bf73c7e5\",\r\n",
      "    \"660220648bcb964359c93950c4e79ba8d4cafd8691b667f13afd8166bfd3be1e\",\r\n",
      "    \"3015351960bb4fe7074146e69f070d37647d128073caa53566f19b1f5a17297f\",\r\n",
      "    \"08b77ee14c6e1358be4dc909a2a679a470a75296ed1fa77ce0bb20157bec50c9\",\r\n",
      "    \"7fc408577bb6169f17f22ad75c8cce18d54e72e00f22ed250d08cde261767a5a\",\r\n",
      "    \"3bcf80804a41255b797c197577c52ad9f6fd439843b81ff628799cb19cdd4a06\",\r\n",
      "    \"63709a4433a60ec05d55b07cc6fd558765ec2f7a907065129702f29f7b93551f\",\r\n",
      "    \"67597ca904ead0f6a53ce74d8499d4af28fa729d03f957c886b396298a4580db\",\r\n",
      "    \"5cf7754d4461687d4232433de1b731456ad23f2b4935d8e4589f552f9b46586f\",\r\n",
      "    \"273eacbc0d060e8a1645d39d51b596821271d7d46113304cd0d04d326ade7906\",\r\n",
      "    \"7b8cf27d97ff01cc021e14436fdc303dd881147da9064a8fd0a7caa586191228\",\r\n",
      "    \"657e3d5d1101656c67aa1eb4a0f7a22d009c696ef9bb7309b985f29c8ab8971a\",\r\n",
      "    \"11f7bae8ede669bbaab351a7d7140a84aab389233e9dd6a011f5271ac2ff334b\",\r\n",
      "    \"432c4c3234e5aca4925943d4e01a8d4c592895cd9e2056b698b67b2f1df37299\",\r\n",
      "    \"4eb897c3e3f6ace9ab2f76d0c1c6f1f356a2f3a6909e745fbd253823d315918e\",\r\n",
      "    \"405bdd00872c1b9689487894ffd2c0f9388005d671956cc5d77abdb9d05ca62c\",\r\n",
      "    \"3cdd528b9da100ef3e8a39859ed98d35b6ecb9191ed88d784db97b42b8961d1d\",\r\n",
      "    \"32bd38264d1813d4aa31d5667a9a4ab047bd1b94bc9455005c3b31b70916e78a\",\r\n",
      "    \"5239c26c7915e330741ab39a8cdfc83921d5de6c6d13abad99520318a43539ed\",\r\n",
      "    \"22eefd4568bda90be4ada08a7b576a373b02998111c6bfe704402cf3cba18fd5\",\r\n",
      "    \"5a4f978d2c23cbfeb147725fd27f8cdf43198661cc25847d82de63ae7c7b8035\",\r\n",
      "    \"0398c1d4d177ca733d50b3be794bd20d6af5e731cdb3cfc381693878247f31a0\",\r\n",
      "    \"1e2e5a54412af4272bdee701721db0f1a17b01a191bda7a907b6e8a589eadab9\",\r\n",
      "    \"407645ac6cb535d08765650e6da0b2941f62bd02476c218a8a33c32392ec377e\",\r\n",
      "    \"118e0784e4f6481167d4efd731a98e122b371a61e71895ab39767f663f18ccd6\",\r\n",
      "    \"65d66675cb77a0713fb35228b08e43df69181118dfe35678934a48b4853097d7\",\r\n",
      "    \"1df7cda39ef99effd01ea976844d6d3ab0acae49440f41025fdfb29e28e1c6a7\",\r\n",
      "    \"3247851c915c97fa344e621eca7026966a5e0444d0004924680703cfa1ba039e\",\r\n",
      "    \"089dc2296428d858227f924bfdf74c314b56711227254d62adf8e70f62abce54\",\r\n",
      "    \"3466f40f89f58b31f70c73a1ed4b734e37d1d9c1bd099c455ee328f3c96cede9\",\r\n",
      "    \"3bd0ee1b091a1a707aeff52988a2276deb0cd1aec29c3607738b39715b5c7b82\",\r\n",
      "    \"0be0ae233175bdb6b6caf0095d0aefe10bf67552b7253027444d186da60ba1e1\",\r\n",
      "    \"412da6d3466fb2b229332793d2e9985e8a954f1f4c13291ca8e43317a89ed1e9\",\r\n",
      "    \"59b16550b1b1ada57a123ea9e29e7e4c303bd7ab85295aba2447c76aa9628e9d\",\r\n",
      "    \"749ac4f78821a63d44ad3a29e04a472a4a2f179968dfe2a1e8797e42c1e41046\",\r\n",
      "    \"3d7a724773a9aad4ca567c9bad1a5775cffa59238084bbce0158bce59046d8ad\",\r\n",
      "    \"622fbf121ba62af7575f63696e6102aae614d7126924423b039eed973ef2e9e4\",\r\n",
      "    \"271c7a5288cd82c8d297007eade11dcf96cd6f9e499ee69ca23d485d7c5a66bb\",\r\n",
      "    \"14b90334d8ff55a6689d2f533f425df88a27daf6f1f68627a22d0235b753a7f5\",\r\n",
      "    \"70ae8cf7a9f6f48ba5d4210b5af37df56104537e28e520a85d8224df3618597f\",\r\n",
      "    \"4be0b2e7f7de6309af6bbef6d6abfc7cc75c846b04b2f4d143913368bfd5557d\",\r\n",
      "    \"4359e0352da0de1f4b4937b5950e85e869138baf453e451b06675fbe0e0de3df\",\r\n",
      "    \"02a86c71fedaf5263fcd4a6832faabe67a0a29f58b3b0f6da3a432aa0aee0d96\",\r\n",
      "    \"641c89163e8be70f3a5b9053657beb1e6ae8a616a421830c60865961cf3e68c4\",\r\n",
      "    \"00610bfb5d2dac38a45d6c3cf1d1e54fc1ece826c15dfb4f78ca4362336e22e3\",\r\n",
      "    \"0906d71fafe1d50691a8c3ce127b4419bedfba7da32b678e05c36cd7b61015d7\",\r\n",
      "    \"468dac837f0cce511fb96c0711c28f8e001408ae77db176bc4dd7c387e1ba04d\",\r\n",
      "    \"7dbec11998986479fb2458e9f8666ce56c6d51ccfe3e9ca748b0d6915cb473ae\",\r\n",
      "    \"2d0e390bb067496683504986b27ca3944d2dd5e7b375eee915cee9297fcd5989\",\r\n",
      "    \"2ce13475c5875b066426b1ab4201c280e98e9e90e76191db6868fcd2e141112f\",\r\n",
      "    \"361db9deb241d304820664fcfb98d171cb010c4b7a69fca6c60416689dc588ba\",\r\n",
      "    \"14f595ef473aca83339599adde16f01bc660d162d3bf548ba48a7c695faaf553\",\r\n",
      "    \"0f584027cbabd8f1c2df4c7cc6e91f17e6ae8cdb87b5c21e39924bf4764d4420\",\r\n",
      "    \"329f37cbfc166c626ab9851592cbf6b15bd81edda1f745dd7b736fecfa70dbd2\",\r\n",
      "    \"158b5ae4dfd40fd4d984d7e93623bf645289cd2ed50b0e9f349fdbbb1c79c4e9\",\r\n",
      "    \"418ea5389856c9d15cf881254fbf8f818292713f5dfecdab63be6fffd501949a\",\r\n",
      "    \"272e41c97507c80840b1bcfb9e4a0c5c827465f17c3a68c20d376a72cda1d46e\",\r\n",
      "    \"45ae5f81a140e8fdb2180842921cfb43437564189868f1f197e990d76b7158db\",\r\n",
      "    \"0dc9e137387360932fea417cc3cd174d00b016e8862f0da7f791fb3f6f3288a4\",\r\n",
      "    \"1d844352533c7395869cbd13149cd8ef63ff42ebe9e77005f97d680b46bdcae1\",\r\n",
      "    \"7cc2ef1d8f45e217cd114c4bbe953fb4e18a745170d6780d50207cd912265d15\",\r\n",
      "    \"7f4d568c80bb1e90f667c8b2329552be3eeb1d44562f0dda482f7a186cf07184\",\r\n",
      "    \"09678bd3fa6a445cb387f633d0566f95336e2a9cd72b6953cc8bde814adaf16e\",\r\n",
      "    \"10b06c61f15105e4ffca0873a0af80866bb9352cc6ce205b6432a6494aa6d3d5\",\r\n",
      "    \"2941f1e938f3a163e3d89ceb1399378f1f907d6b0123078ea4d74c5ef74f266f\",\r\n",
      "    \"3a26f4e04eeb905fadd19e3cd881374d983ae068b44ef66789add80112d38cd9\",\r\n",
      "    \"13c1eb4a8456398033da8568de7d91b56bf464dd5d18d7cf156feb89bf50de46\",\r\n",
      "    \"2e848d13456cc98f755dacb036b7147121179dfef1e8f7ba41f6509830a23e51\",\r\n",
      "    \"5b1124da59abae09056baffe29298971d45da540fc61f74ddb52fa28cf52eed0\",\r\n",
      "    \"3da5d5133da0471b03fed75494bdbf2deb7e843705b442c242f78419927bb580\",\r\n",
      "    \"63fe1487b9a1d6517e0826e4e3fe0e7915f08e7e244c057fced5b232efafdb52\",\r\n",
      "    \"1812aac45fa11f95f04d63c3f324fef670e2655cd6082385b41e768fd91d6de4\",\r\n",
      "    \"76a9ceb83fb09ba3b83c743edfac1fd1fa14876445a529754e9cbf35a2284f75\",\r\n",
      "    \"2b557ec3276965a84a46dcdb363a1dd13f536d61421d72c1f80eaf164630cc0a\",\r\n",
      "    \"7ddcda51137555d60983c82e5e689efd6812ade1d7fbbc2aa716e6d600c62e3f\",\r\n",
      "    \"58a5bf6ae5af91e4ec801f654d5c3d71af7e4b6717209574d4888dfab110e5fb\",\r\n",
      "    \"6218f583656544d5f825110259ec83db7ef46d6108438fe50bda950c259f5ce2\",\r\n",
      "    \"3b8667bf1d06569c0eb232826bc856787e9b415f8834224a72b1ca0710af3318\",\r\n",
      "    \"547fb03a359c2e3473a0e21cd17bf0c59088de099e59f77adc7873a2d2f61f10\",\r\n",
      "    \"6b6152a6ce433fb582c910f3171f3f32c856f552de4bec55fd147350b8e0de32\",\r\n",
      "    \"5c2cb1f5e33364cc014c8ccce3821d3b2681304ca221b054ca36c16b2ee6035c\",\r\n",
      "    \"56f807f19323c02e271773627a0f192666b59a4e863eedb9ff0541c2363b8ed3\",\r\n",
      "    \"54055a600b588b660b8654f82478b581678d1cafeacd76fdb923b6645d05f052\",\r\n",
      "    \"7b44429e92539cc66e2ad3c78b14523c71075ce853979d6efd095b36d030f010\",\r\n",
      "    \"2d2e2960cdbc10c642c4ebaf4aecad60c3fdadeea27f1b3d5eab3a3704b8a429\",\r\n",
      "    \"0ebc3663e7044076e809b19e36394d38b32bf8073802ed25504d1066ec7dbf43\",\r\n",
      "    \"2441aeb4290ccaf3bcb20cb7b538f981250dea69121be0081460ea2a016181f8\",\r\n",
      "    \"7e21fd48cecd2ec6f078f175dde176275fef54cfa31d190a8eeeda313d2b7f6d\",\r\n",
      "    \"422600392b6d737586be09efd992a81d754510637f805f91743f67cc224e10df\",\r\n",
      "    \"22f32a8e084d54019e20064022e91f640e618b8838a2faba0c1af41056cf7a6c\"\r\n",
      "  ]\r\n",
      "}\r\n"
     ]
    }
   ],
   "source": [
    "!bitcoin-cli -regtest -generate 101"
   ]
  },
  {
   "cell_type": "code",
   "execution_count": 145,
   "id": "497c3809",
   "metadata": {},
   "outputs": [
    {
     "name": "stdout",
     "output_type": "stream",
     "text": [
      "d57032ce2ac09efc013ed6786d508e8912e3486d4fddab5e4982fcdb161155a4\r\n"
     ]
    }
   ],
   "source": [
    "!bitcoin-cli -regtest sendtoaddress \"$address\" 1.0"
   ]
  },
  {
   "cell_type": "code",
   "execution_count": 147,
   "id": "4059285c",
   "metadata": {
    "collapsed": true
   },
   "outputs": [
    {
     "name": "stdout",
     "output_type": "stream",
     "text": [
      "{\r\n",
      "  \"txid\": \"d57032ce2ac09efc013ed6786d508e8912e3486d4fddab5e4982fcdb161155a4\",\r\n",
      "  \"hash\": \"28b19d397de496236909ea2d2a3eb70802b31c309c4297d0ebc21d02b9273e09\",\r\n",
      "  \"version\": 2,\r\n",
      "  \"size\": 246,\r\n",
      "  \"vsize\": 165,\r\n",
      "  \"weight\": 657,\r\n",
      "  \"locktime\": 204,\r\n",
      "  \"vin\": [\r\n",
      "    {\r\n",
      "      \"txid\": \"2036ba3318a97d1afc4c5928ed207bd0338c0e0fe9f1e5f9d3a449c4999da442\",\r\n",
      "      \"vout\": 0,\r\n",
      "      \"scriptSig\": {\r\n",
      "        \"asm\": \"\",\r\n",
      "        \"hex\": \"\"\r\n",
      "      },\r\n",
      "      \"txinwitness\": [\r\n",
      "        \"304402207209c8815fd3682acc1e56c2b31ce81424465fea29eb5c05db11bd47260470fd02204173b179b4895ac7f4a7a5ab5811520e19e9dde41e4023e2e16a5ae211c4bc3301\",\r\n",
      "        \"031cd06e632be8477b8d48ec12fa2a3658026c494976591fe013f27852a9b55cea\"\r\n",
      "      ],\r\n",
      "      \"sequence\": 4294967294\r\n",
      "    }\r\n",
      "  ],\r\n",
      "  \"vout\": [\r\n",
      "    {\r\n",
      "      \"value\": 48.99999835,\r\n",
      "      \"n\": 0,\r\n",
      "      \"scriptPubKey\": {\r\n",
      "        \"asm\": \"1 9486f5da82a06bbdea6d1534f4f700bba1265440d95d2b9f5967fadef5324a59\",\r\n",
      "        \"desc\": \"addr(bcrt1pjjr0tk5z5p4mm6ndz560facqhwsjv4zqm9wjh86evladaafjffvsdf36rd)#3fvjrr30\",\r\n",
      "        \"hex\": \"51209486f5da82a06bbdea6d1534f4f700bba1265440d95d2b9f5967fadef5324a59\",\r\n",
      "        \"address\": \"bcrt1pjjr0tk5z5p4mm6ndz560facqhwsjv4zqm9wjh86evladaafjffvsdf36rd\",\r\n",
      "        \"type\": \"witness_v1_taproot\"\r\n",
      "      }\r\n",
      "    },\r\n",
      "    {\r\n",
      "      \"value\": 1.00000000,\r\n",
      "      \"n\": 1,\r\n",
      "      \"scriptPubKey\": {\r\n",
      "        \"asm\": \"1 9970f40840ae66e7f420877f2b48d331eda1da215d05ec1de6bd6cd4ea45ab9f\",\r\n",
      "        \"desc\": \"addr(bcrt1pn9c0gzzq4enw0apqsaljkjxnx8k6rk3pt5z7c80xh4kdf6j94w0s4fwuky)#xyz9s8py\",\r\n",
      "        \"hex\": \"51209970f40840ae66e7f420877f2b48d331eda1da215d05ec1de6bd6cd4ea45ab9f\",\r\n",
      "        \"address\": \"bcrt1pn9c0gzzq4enw0apqsaljkjxnx8k6rk3pt5z7c80xh4kdf6j94w0s4fwuky\",\r\n",
      "        \"type\": \"witness_v1_taproot\"\r\n",
      "      }\r\n",
      "    }\r\n",
      "  ],\r\n",
      "  \"hex\": \"0200000000010142a49d99c449a4d3f9e5f1e90f0e8c33d07b20ed28594cfc1a7da91833ba36200000000000feffffff025b101024010000002251209486f5da82a06bbdea6d1534f4f700bba1265440d95d2b9f5967fadef5324a5900e1f505000000002251209970f40840ae66e7f420877f2b48d331eda1da215d05ec1de6bd6cd4ea45ab9f0247304402207209c8815fd3682acc1e56c2b31ce81424465fea29eb5c05db11bd47260470fd02204173b179b4895ac7f4a7a5ab5811520e19e9dde41e4023e2e16a5ae211c4bc330121031cd06e632be8477b8d48ec12fa2a3658026c494976591fe013f27852a9b55ceacc000000\"\r\n",
      "}\r\n"
     ]
    }
   ],
   "source": [
    "!bitcoin-cli -regtest getrawtransaction d57032ce2ac09efc013ed6786d508e8912e3486d4fddab5e4982fcdb161155a4 true"
   ]
  },
  {
   "cell_type": "markdown",
   "id": "00012dcc",
   "metadata": {},
   "source": [
    "## Spending a Tapscript!\n",
    "\n",
    "We should have a transaction output with bitcoin in it that's locked to your custom written script.\n",
    "\n",
    "Now we want to create a transaction that spends that output.\n",
    "\n",
    "My output is in transaction d57032ce2ac09efc013ed6786d508e8912e3486d4fddab5e4982fcdb161155a4 and the index is 1\n",
    "\n",
    "In other words the outpoint for my bitcoins is `d57032ce2ac09efc013ed6786d508e8912e3486d4fddab5e4982fcdb161155a4:1`\n",
    "\n",
    "Let's a build a transaction that spends this!"
   ]
  },
  {
   "cell_type": "code",
   "execution_count": 149,
   "id": "89435d1d",
   "metadata": {},
   "outputs": [
    {
     "name": "stdout",
     "output_type": "stream",
     "text": [
      "a4551116dbfc82495eabdd4f6d48e312898e506d78d63e01fc9ec02ace3270d5\n",
      "70dff50500000000\n"
     ]
    }
   ],
   "source": [
    "txid = 'd57032ce2ac09efc013ed6786d508e8912e3486d4fddab5e4982fcdb161155a4'\n",
    "reverse_txid = bytes.fromhex(txid)[::-1].hex()\n",
    "print(reverse_txid)\n",
    "\n",
    "amount = (1 * 10 ** 8 - 400).to_bytes(8, 'little')\n",
    "print(amount.hex())"
   ]
  },
  {
   "cell_type": "code",
   "execution_count": 150,
   "id": "3a0da9ab",
   "metadata": {},
   "outputs": [
    {
     "name": "stdout",
     "output_type": "stream",
     "text": [
      "bcrt1pywat5mnqc4pyvajq3hdmujza9dwzl3lefq26w6sdhtxfgk4wyyqqsvx823\r\n"
     ]
    }
   ],
   "source": [
    "!bitcoin-cli -regtest getnewaddress \"\" bech32m"
   ]
  },
  {
   "cell_type": "code",
   "execution_count": 152,
   "id": "2fb31a78",
   "metadata": {},
   "outputs": [
    {
     "name": "stdout",
     "output_type": "stream",
     "text": [
      "512023baba6e60c5424676408ddbbe485d2b5c2fc7f94815a76a0dbacc945aae2100\r\n"
     ]
    }
   ],
   "source": [
    "!bitcoin-cli -regtest getaddressinfo bcrt1pywat5mnqc4pyvajq3hdmujza9dwzl3lefq26w6sdhtxfgk4wyyqqsvx823 | jq -r .scriptPubKey"
   ]
  },
  {
   "cell_type": "markdown",
   "id": "d23389d3",
   "metadata": {},
   "source": [
    "version: 02000000\n",
    "marker+flag: 0001\n",
    "inputs: 01\n",
    "    txid: a4551116dbfc82495eabdd4f6d48e312898e506d78d63e01fc9ec02ace3270d5\n",
    "    vout: 01000000\n",
    "    scriptSig: 00\n",
    "    sequence: ffffffff\n",
    "outputs: 01\n",
    "    amounts: 70dff50500000000\n",
    "    scriptPubKey: 22 512023baba6e60c5424676408ddbbe485d2b5c2fc7f94815a76a0dbacc945aae2100\n",
    "witnesses:\n",
    "    ........ unsolved problem ........\n",
    "locktime: 00000000"
   ]
  },
  {
   "cell_type": "code",
   "execution_count": 153,
   "id": "e6f937c3",
   "metadata": {
    "collapsed": true
   },
   "outputs": [
    {
     "name": "stdout",
     "output_type": "stream",
     "text": [
      "{\r\n",
      "  \"txid\": \"65c5ee8463feeb72112a458216e8600e5f386a685cba5b63dcaa4a18d6c51327\",\r\n",
      "  \"hash\": \"65c5ee8463feeb72112a458216e8600e5f386a685cba5b63dcaa4a18d6c51327\",\r\n",
      "  \"version\": 2,\r\n",
      "  \"size\": 94,\r\n",
      "  \"vsize\": 94,\r\n",
      "  \"weight\": 376,\r\n",
      "  \"locktime\": 0,\r\n",
      "  \"vin\": [\r\n",
      "    {\r\n",
      "      \"txid\": \"d57032ce2ac09efc013ed6786d508e8912e3486d4fddab5e4982fcdb161155a4\",\r\n",
      "      \"vout\": 1,\r\n",
      "      \"scriptSig\": {\r\n",
      "        \"asm\": \"\",\r\n",
      "        \"hex\": \"\"\r\n",
      "      },\r\n",
      "      \"sequence\": 4294967295\r\n",
      "    }\r\n",
      "  ],\r\n",
      "  \"vout\": [\r\n",
      "    {\r\n",
      "      \"value\": 0.99999600,\r\n",
      "      \"n\": 0,\r\n",
      "      \"scriptPubKey\": {\r\n",
      "        \"asm\": \"1 23baba6e60c5424676408ddbbe485d2b5c2fc7f94815a76a0dbacc945aae2100\",\r\n",
      "        \"desc\": \"addr(bcrt1pywat5mnqc4pyvajq3hdmujza9dwzl3lefq26w6sdhtxfgk4wyyqqsvx823)#rlge0tkx\",\r\n",
      "        \"hex\": \"512023baba6e60c5424676408ddbbe485d2b5c2fc7f94815a76a0dbacc945aae2100\",\r\n",
      "        \"address\": \"bcrt1pywat5mnqc4pyvajq3hdmujza9dwzl3lefq26w6sdhtxfgk4wyyqqsvx823\",\r\n",
      "        \"type\": \"witness_v1_taproot\"\r\n",
      "      }\r\n",
      "    }\r\n",
      "  ]\r\n",
      "}\r\n"
     ]
    }
   ],
   "source": [
    "tx = \"0200000001a4551116dbfc82495eabdd4f6d48e312898e506d78d63e01fc9ec02ace3270d50100000000ffffffff0170dff5050000000022512023baba6e60c5424676408ddbbe485d2b5c2fc7f94815a76a0dbacc945aae210000000000\"\n",
    "!bitcoin-cli -regtest decoderawtransaction \"$tx\""
   ]
  },
  {
   "cell_type": "markdown",
   "id": "e790bdaa",
   "metadata": {},
   "source": [
    "### What's in the witness stack for a leaf spend?\n",
    "\n",
    "We need to put into the witness stack:\n",
    " - the unlocking script\n",
    " - original leaf script\n",
    " - \"control block\": this has all the data you need to verify the external public key\n",
    " \n",
    " #### Nifty's Unlock Script is...\n",
    " \n",
    " Well my original leaf script"
   ]
  },
  {
   "cell_type": "code",
   "execution_count": 156,
   "id": "f04f0f96",
   "metadata": {},
   "outputs": [
    {
     "name": "stdout",
     "output_type": "stream",
     "text": [
      "\u001b[0;32m\"4 OP_ADD 8 OP_EQUAL\"\u001b[0m\r\n"
     ]
    }
   ],
   "source": [
    "!bitcoin-cli -regtest decodescript \"$nifty\" | jq .asm"
   ]
  },
  {
   "cell_type": "markdown",
   "id": "c805d364",
   "metadata": {},
   "source": [
    "How do I unlock this? Great question.\n",
    "\n",
    "asm: OP_4\n",
    "unlock script: 54"
   ]
  },
  {
   "cell_type": "code",
   "execution_count": 157,
   "id": "1a70868f",
   "metadata": {
    "collapsed": true
   },
   "outputs": [
    {
     "name": "stdout",
     "output_type": "stream",
     "text": [
      "{\r\n",
      "  \"asm\": \"4\",\r\n",
      "  \"desc\": \"raw(54)#w6hewaxw\",\r\n",
      "  \"type\": \"nonstandard\",\r\n",
      "  \"p2sh\": \"2N4Jgqd2vSSERhUqVKPoSSK7rutzZboETGf\",\r\n",
      "  \"segwit\": {\r\n",
      "    \"asm\": \"0 e632b7095b0bf32c260fa4c539e9fd7b852d0de454e9be26f24d0d6f91d069d3\",\r\n",
      "    \"desc\": \"addr(bcrt1qucetwz2mp0ejcfs05nznn60a0wzj6r0y2n5mufhjf5xklywsd8fsqfghky)#ay3ukd7a\",\r\n",
      "    \"hex\": \"0020e632b7095b0bf32c260fa4c539e9fd7b852d0de454e9be26f24d0d6f91d069d3\",\r\n",
      "    \"address\": \"bcrt1qucetwz2mp0ejcfs05nznn60a0wzj6r0y2n5mufhjf5xklywsd8fsqfghky\",\r\n",
      "    \"type\": \"witness_v0_scripthash\",\r\n",
      "    \"p2sh-segwit\": \"2MszUBtiXGfCHF64e2SXBA1EDFJyauhYAzH\"\r\n",
      "  }\r\n",
      "}\r\n"
     ]
    }
   ],
   "source": [
    "!bitcoin-cli -regtest decodescript 54"
   ]
  },
  {
   "cell_type": "markdown",
   "id": "11b564f5",
   "metadata": {},
   "source": [
    "1) Unlocking script: 54\n",
    "2) Original leaf data??: c0 + len(nifty) + 54935887 (variable: nifty)\n",
    "3) Control block"
   ]
  },
  {
   "cell_type": "markdown",
   "id": "44ca41ff",
   "metadata": {},
   "source": [
    "#### How do we figure out a control block?\n",
    "\n",
    "\n",
    "A control block has three parts.\n",
    "\n",
    "1) version byte\n",
    "2) the x-only pubkey of the internal key\n",
    "3) proof of inclusion"
   ]
  },
  {
   "cell_type": "markdown",
   "id": "edb0d3c9",
   "metadata": {},
   "source": [
    "##### Version Byte\n",
    "\n",
    "We're going to need Q to figure this out.\n",
    "\n",
    "The base value for the version byte is `c0`.\n",
    "With the following modification: if Q is odd, add 1 to the base value.\n",
    "\n",
    "If Q is even (02): 0xc0\n",
    "If Q is odd (03):  0xc1"
   ]
  },
  {
   "cell_type": "code",
   "execution_count": 161,
   "id": "552bb732",
   "metadata": {},
   "outputs": [
    {
     "name": "stdout",
     "output_type": "stream",
     "text": [
      "c0\n"
     ]
    }
   ],
   "source": [
    "def control_block_version_byte(Q):\n",
    "    val = 0xc0\n",
    "    if Q.point()[1] % 2 != 0:\n",
    "        val += 1\n",
    "    return bytes([val])\n",
    "\n",
    "print(control_block_version_byte(nifty_Q).hex())"
   ]
  },
  {
   "cell_type": "markdown",
   "id": "a6f1b3a5",
   "metadata": {},
   "source": [
    "##### The x-only pubkey of the internal key\n",
    "\n",
    "This should just be the internal pubkey, 32 bytes."
   ]
  },
  {
   "cell_type": "code",
   "execution_count": 164,
   "id": "03df5e42",
   "metadata": {},
   "outputs": [
    {
     "name": "stdout",
     "output_type": "stream",
     "text": [
      "0250929b74c1a04954b78b4b6035e97a5e078a5a0f28ec96d547bfee9ace803ac0\n",
      "50929b74c1a04954b78b4b6035e97a5e078a5a0f28ec96d547bfee9ace803ac0\n"
     ]
    }
   ],
   "source": [
    "print(internal_pubkey.format()[1:].hex())"
   ]
  },
  {
   "cell_type": "markdown",
   "id": "2fe45f8b",
   "metadata": {},
   "source": [
    "###### Proof of Inclusioh\n",
    "\n",
    "The proof of inclusion for a leaf-only spend is empty."
   ]
  },
  {
   "cell_type": "code",
   "execution_count": 194,
   "id": "9e7113c4",
   "metadata": {
    "scrolled": true
   },
   "outputs": [
    {
     "name": "stdout",
     "output_type": "stream",
     "text": [
      "witness data!\n",
      "03\n",
      "01 04\n",
      "04 54935887\n",
      "21 c050929b74c1a04954b78b4b6035e97a5e078a5a0f28ec96d547bfee9ace803ac0\n"
     ]
    }
   ],
   "source": [
    "control_block = control_block_version_byte(nifty_Q) + internal_pubkey.format()[1:]\n",
    "\n",
    "print('witness data!')\n",
    "print('03')\n",
    "print('01 04')\n",
    "print('04 ' + nifty)\n",
    "print('21 ' + control_block.hex())"
   ]
  },
  {
   "cell_type": "markdown",
   "id": "7a5d652f",
   "metadata": {},
   "source": [
    "version: 02000000\n",
    "marker+flag: 0001\n",
    "inputs: 01\n",
    "    txid: a4551116dbfc82495eabdd4f6d48e312898e506d78d63e01fc9ec02ace3270d5\n",
    "    vout: 01000000\n",
    "    scriptSig: 00\n",
    "    sequence: ffffffff\n",
    "outputs: 01\n",
    "    amounts: 70dff50500000000\n",
    "    scriptPubKey: 22 512023baba6e60c5424676408ddbbe485d2b5c2fc7f94815a76a0dbacc945aae2100\n",
    "witnesses:\n",
    "03\n",
    "    01 04\n",
    "    04 54935887\n",
    "    21 c050929b74c1a04954b78b4b6035e97a5e078a5a0f28ec96d547bfee9ace803ac0\n",
    "locktime: 00000000"
   ]
  },
  {
   "cell_type": "code",
   "execution_count": 195,
   "id": "439b3d24",
   "metadata": {},
   "outputs": [],
   "source": [
    "spend_tx = '02000000000101a4551116dbfc82495eabdd4f6d48e312898e506d78d63e01fc9ec02ace3270d50100000000ffffffff0170dff5050000000022512023baba6e60c5424676408ddbbe485d2b5c2fc7f94815a76a0dbacc945aae2100030104045493588721c050929b74c1a04954b78b4b6035e97a5e078a5a0f28ec96d547bfee9ace803ac000000000'\n",
    "#!bitcoin-cli -regtest decoderawtransaction \"$spend_tx\""
   ]
  },
  {
   "cell_type": "code",
   "execution_count": 196,
   "id": "96da8ec6",
   "metadata": {},
   "outputs": [
    {
     "name": "stdout",
     "output_type": "stream",
     "text": [
      "02000000000101a4551116dbfc82495eabdd4f6d48e312898e506d78d63e01fc9ec02ace3270d50100000000ffffffff0170dff5050000000022512023baba6e60c5424676408ddbbe485d2b5c2fc7f94815a76a0dbacc945aae2100030104045493588721c050929b74c1a04954b78b4b6035e97a5e078a5a0f28ec96d547bfee9ace803ac000000000\n"
     ]
    }
   ],
   "source": [
    "print(spend_tx)"
   ]
  },
  {
   "cell_type": "code",
   "execution_count": 197,
   "id": "db665354",
   "metadata": {},
   "outputs": [
    {
     "name": "stdout",
     "output_type": "stream",
     "text": [
      "[\r\n",
      "  {\r\n",
      "    \"txid\": \"65c5ee8463feeb72112a458216e8600e5f386a685cba5b63dcaa4a18d6c51327\",\r\n",
      "    \"wtxid\": \"7b50f74e105ac8a955af55172c263b0807b946a79a54120a1380b195d148b469\",\r\n",
      "    \"allowed\": true,\r\n",
      "    \"vsize\": 105,\r\n",
      "    \"fees\": {\r\n",
      "      \"base\": 0.00000400\r\n",
      "    }\r\n",
      "  }\r\n",
      "]\r\n"
     ]
    }
   ],
   "source": [
    "!bitcoin-cli -regtest testmempoolaccept '[\"02000000000101a4551116dbfc82495eabdd4f6d48e312898e506d78d63e01fc9ec02ace3270d50100000000ffffffff0170dff5050000000022512023baba6e60c5424676408ddbbe485d2b5c2fc7f94815a76a0dbacc945aae2100030104045493588721c050929b74c1a04954b78b4b6035e97a5e078a5a0f28ec96d547bfee9ace803ac000000000\"]'"
   ]
  },
  {
   "cell_type": "code",
   "execution_count": null,
   "id": "7a4e3d17",
   "metadata": {},
   "outputs": [],
   "source": []
  }
 ],
 "metadata": {
  "kernelspec": {
   "display_name": "Python 3 (ipykernel)",
   "language": "python",
   "name": "python3"
  },
  "language_info": {
   "codemirror_mode": {
    "name": "ipython",
    "version": 3
   },
   "file_extension": ".py",
   "mimetype": "text/x-python",
   "name": "python",
   "nbconvert_exporter": "python",
   "pygments_lexer": "ipython3",
   "version": "3.10.5"
  }
 },
 "nbformat": 4,
 "nbformat_minor": 5
}
