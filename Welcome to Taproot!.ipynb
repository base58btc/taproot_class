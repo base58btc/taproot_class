{
 "cells": [
  {
   "cell_type": "markdown",
   "id": "2afb669f",
   "metadata": {},
   "source": [
    "# Background on Taproot\n",
    "\n",
    "## Where does \"taproot\" come from?\n",
    "\n",
    "Taproot is a series of bitcoin BIPS (bitcoin improvement proposals) that were merged into bitcoin-core in 2021.\n",
    "\n",
    "It was most recent bitcoin soft-fork and it went live in November 2021.\n",
    "\n",
    "The BIPS can be found on github. They are as follows:\n",
    "\n",
    "- BIP340, Schnorr Signatures https://github.com/bitcoin/bips/blob/master/bip-0340.mediawiki\n",
    "- BIP341, Taproot Segwit v1 https://github.com/bitcoin/bips/blob/master/bip-0341.mediawiki\n",
    "- BIP342, Validating Taproot Spends https://github.com/bitcoin/bips/blob/master/bip-0342.mediawiki\n",
    "- BIP350, Bech32m https://github.com/bitcoin/bips/blob/master/bip-0350.mediawiki"
   ]
  },
  {
   "cell_type": "markdown",
   "id": "14a02606",
   "metadata": {},
   "source": [
    "## What did \"taproot\" change?\n",
    "\n",
    "Taproot added and modified many things in bitcoin. Including\n",
    "\n",
    "- A new signature algorithm (Schnorr)\n",
    "- A new version of Script opcodes (Segwit v1)\n",
    "- A new bitcoin address checksum (bech32m)\n",
    "- Removed some opcodes we know and love (OP_CHECKMULTISIG)\n",
    "- Added a new opcode (OP_CHECKSIGADD)\n",
    "- Added a new scripthash algorithm"
   ]
  },
  {
   "cell_type": "markdown",
   "id": "59c11a6f",
   "metadata": {},
   "source": [
    "# Finding Taproot in the Wild\n",
    "\n",
    "Let's go to mempool.space and find some taproot addresses in the wild!\n",
    "\n",
    "\n",
    "\n",
    "## How to spot a taproot address\n",
    "\n",
    "The bech32 address has a `p` immediately following the `1`\n",
    "\n",
    "Find a taproot address on mempool dot space.\n",
    "\n",
    "What's the \"Type\" for this address?\n",
    "\n",
    "\n",
    "Copy paste the \"ScriptPubKey (HEX)\" for the address you found into the pyblock below."
   ]
  },
  {
   "cell_type": "code",
   "execution_count": null,
   "id": "1fbc845c",
   "metadata": {},
   "outputs": [],
   "source": [
    "scriptpubkey = \"51203905d81b457b42e8d5eb1ae5280c83c74fbdd20a2e401c0077bce5417909c953\""
   ]
  },
  {
   "cell_type": "code",
   "execution_count": null,
   "id": "a482867e",
   "metadata": {},
   "outputs": [],
   "source": [
    "print(scriptpubkey)"
   ]
  },
  {
   "cell_type": "code",
   "execution_count": null,
   "id": "9576aa40",
   "metadata": {},
   "outputs": [],
   "source": [
    "len(scriptpubkey) // 2"
   ]
  },
  {
   "cell_type": "markdown",
   "id": "b3faafb0",
   "metadata": {},
   "source": [
    "This is a series of opcodes. If you pass this to `bitcoin-cli decodescript` what does it print back as the asm?"
   ]
  },
  {
   "cell_type": "code",
   "execution_count": null,
   "id": "d0ae6734",
   "metadata": {},
   "outputs": [],
   "source": [
    "!bitcoin-cli -regtest decodescript 51203905d81b457b42e8d5eb1ae5280c83c74fbdd20a2e401c0077bce5417909c953"
   ]
  },
  {
   "cell_type": "code",
   "execution_count": null,
   "id": "bc473f18",
   "metadata": {},
   "outputs": [],
   "source": [
    "output = {\n",
    "  \"asm\": \"1 3905d81b457b42e8d5eb1ae5280c83c74fbdd20a2e401c0077bce5417909c953\",\n",
    "  \"desc\": \"addr(bcrt1p8yzasx690dpw340trtjjsryrca8mm5s29eqpcqrhhnj5z7gfe9fsysf0jl)#95u636fj\",\n",
    "  \"address\": \"bcrt1p8yzasx690dpw340trtjjsryrca8mm5s29eqpcqrhhnj5z7gfe9fsysf0jl\",\n",
    "  \"type\": \"witness_v1_taproot\"\n",
    "}"
   ]
  },
  {
   "cell_type": "code",
   "execution_count": null,
   "id": "87353851",
   "metadata": {},
   "outputs": [],
   "source": [
    "print(output['asm'])"
   ]
  },
  {
   "cell_type": "code",
   "execution_count": null,
   "id": "0501c7e3",
   "metadata": {},
   "outputs": [],
   "source": [
    "output['asm'].split(\" \")"
   ]
  },
  {
   "cell_type": "code",
   "execution_count": null,
   "id": "7c26788b",
   "metadata": {},
   "outputs": [],
   "source": [
    "len(output['asm'].split(\" \")[1]) // 2"
   ]
  },
  {
   "cell_type": "code",
   "execution_count": null,
   "id": "c6b080c6",
   "metadata": {
    "scrolled": true
   },
   "outputs": [],
   "source": [
    "print(output['type'])"
   ]
  },
  {
   "cell_type": "code",
   "execution_count": null,
   "id": "271d89d2",
   "metadata": {},
   "outputs": [],
   "source": [
    "x_bytes = bytes.fromhex(output['asm'].split(' ')[1])\n",
    "print('hex:\\t\\t', x_bytes.hex())\n",
    "\n",
    "x_val = int.from_bytes(x_bytes, 'big')\n",
    "print('int val:\\t', x_val)"
   ]
  },
  {
   "cell_type": "markdown",
   "id": "2d05ced0",
   "metadata": {},
   "source": [
    "## Finding the secp256k1 pubkey from a P2TR address\n",
    "\n",
    "Now that we have the x-only pubkey, let's figure out what point that is on the secp256k1 curve.\n",
    "\n",
    "We can do that using `lift_x_pubkey`. This takes an integer and returns a point.\n",
    "\n",
    "In my case, I'll use `coincurve`, a python library for expressing + doing math with public keys."
   ]
  },
  {
   "cell_type": "code",
   "execution_count": null,
   "id": "4344e1f7",
   "metadata": {},
   "outputs": [],
   "source": [
    "p = 115792089237316195423570985008687907853269984665640564039457584007908834671663\n",
    "def lift_x(x_value):\n",
    "    assert x_value < p\n",
    "    # find y squared (y2 = x^3 + 7)\n",
    "    y2 = (x_value ** 3 + 7) % p\n",
    "    # find the square root of y\n",
    "    y = pow(y2, (p+1)//4, p)\n",
    "    assert (y ** 2 % p) == y2\n",
    "    # if y is odd, find even y\n",
    "    if y % 2 != 0:\n",
    "        y = p - y\n",
    "    return coincurve.PublicKey.from_point(x_value, y)"
   ]
  },
  {
   "cell_type": "code",
   "execution_count": null,
   "id": "759f7fdc",
   "metadata": {},
   "outputs": [],
   "source": [
    "import coincurve\n",
    "\n",
    "point = lift_x(x_val)\n",
    "print(point.format().hex())\n",
    "print(point.point())"
   ]
  },
  {
   "cell_type": "markdown",
   "id": "f1993a06",
   "metadata": {},
   "source": [
    "## Let's Get Familiar With The Tools!"
   ]
  },
  {
   "cell_type": "code",
   "execution_count": null,
   "id": "7981b44b",
   "metadata": {},
   "outputs": [],
   "source": [
    "from codes import parse_tx_bytes\n",
    "\n",
    "tx = \"020000000001013c29211e2e6b9a594f28fd9e8b650dd2f64e7024d398fbc4c98f3b8800cef1350000000000ffffffff0358020000000000002251203905d81b457b42e8d5eb1ae5280c83c74fbdd20a2e401c0077bce5417909c95358020000000000002251203905d81b457b42e8d5eb1ae5280c83c74fbdd20a2e401c0077bce5417909c953eba60d00000000002251203905d81b457b42e8d5eb1ae5280c83c74fbdd20a2e401c0077bce5417909c9530140bc93e2b4ae198c6326737b3e1525715109b6fa65cac52be9c1889408ba2d3ddeac9af8c944513905275280c9e8ac5fb6c83a7100137173c3e6a402857cb4c6de00000000\""
   ]
  },
  {
   "cell_type": "markdown",
   "id": "ee733acc",
   "metadata": {},
   "source": [
    "First things first, let's update the `parse_tx_bytes` method to be able to handle segwit (any version) transactions."
   ]
  },
  {
   "cell_type": "code",
   "execution_count": null,
   "id": "1bd41d00",
   "metadata": {
    "scrolled": false
   },
   "outputs": [],
   "source": [
    "def parse_witness_bytes(data):\n",
    "    count, size = parse_compact_size(data)\n",
    "    ptr = size\n",
    "    witnesses = []\n",
    "    for _ in range(0, count):\n",
    "        witlen, size = parse_compact_size(data[ptr:])\n",
    "        ptr += size\n",
    "        witnesses.append(data[ptr:ptr+witlen])\n",
    "        ptr += witlen\n",
    "\n",
    "    return witnesses, ptr"
   ]
  },
  {
   "cell_type": "code",
   "execution_count": null,
   "id": "020ab911",
   "metadata": {},
   "outputs": [],
   "source": [
    "from codes import parse_compact_size, parse_input_bytes, parse_output_bytes\n",
    "\n",
    "def parse_tx_bytes_mine(tx_hex):\n",
    "  tx_bytes = bytes.fromhex(tx_hex)\n",
    "  tx = {}\n",
    "  ptr = 0\n",
    "  tx['version'] = tx_bytes[0:4]\n",
    "  ptr += 4\n",
    "\n",
    "  if tx_bytes[ptr] == 0x00:\n",
    "    assert tx_bytes[ptr+1] == 0x01\n",
    "    tx['marker_flag'] = bytes([0x00, 0x01])\n",
    "    ptr += 2\n",
    "\n",
    "  count, size = parse_compact_size(tx_bytes[ptr:])\n",
    "  ptr += size \n",
    "  tx['inputs'] = []\n",
    "  for _ in range(0, count):\n",
    "    inputx, size = parse_input_bytes(tx_bytes[ptr:])\n",
    "    ptr += size\n",
    "    tx['inputs'].append(inputx)\n",
    " \n",
    "  count, size = parse_compact_size(tx_bytes[ptr:])\n",
    "  ptr += size\n",
    "  tx['outputs'] = []\n",
    "  for _ in range(0, count):\n",
    "    outputx, size = parse_output_bytes(tx_bytes[ptr:])\n",
    "    ptr += size\n",
    "    tx['outputs'].append(outputx)\n",
    "\n",
    "  if 'marker_flag' in tx:\n",
    "    tx['witnesses'] = []\n",
    "    for _ in range(0, len(tx['inputs'])):\n",
    "        witness, size = parse_witness_bytes(tx_bytes[ptr:])\n",
    "        ptr += size\n",
    "        tx['witnesses'].append(witness)\n",
    "\n",
    "  tx['locktime'] = tx_bytes[ptr:]\n",
    "  return tx"
   ]
  },
  {
   "cell_type": "code",
   "execution_count": null,
   "id": "9ece766e",
   "metadata": {},
   "outputs": [],
   "source": [
    "tx_bytes = bytes.fromhex(tx)\n",
    "ptr = 4\n",
    "print(tx_bytes.hex())\n",
    "print(tx_bytes[ptr:].hex())"
   ]
  },
  {
   "cell_type": "code",
   "execution_count": null,
   "id": "e1f2fc42",
   "metadata": {
    "scrolled": true
   },
   "outputs": [],
   "source": [
    "pprint(parse_tx_bytes_mine(tx))"
   ]
  },
  {
   "cell_type": "code",
   "execution_count": null,
   "id": "f4c31597",
   "metadata": {},
   "outputs": [],
   "source": [
    "txdata = parse_tx_bytes_mine(tx)"
   ]
  },
  {
   "cell_type": "code",
   "execution_count": null,
   "id": "33cabf50",
   "metadata": {},
   "outputs": [],
   "source": [
    "assert len(txdata['witnesses'][0]) == 1"
   ]
  },
  {
   "cell_type": "code",
   "execution_count": null,
   "id": "fb578b55",
   "metadata": {},
   "outputs": [],
   "source": [
    "print(txdata['witnesses'][0][0].hex())"
   ]
  },
  {
   "cell_type": "code",
   "execution_count": null,
   "id": "f247319d",
   "metadata": {},
   "outputs": [],
   "source": [
    "sig = txdata['witnesses'][0][0]"
   ]
  },
  {
   "cell_type": "code",
   "execution_count": null,
   "id": "f7cdf944",
   "metadata": {},
   "outputs": [],
   "source": [
    "print(sig.hex())"
   ]
  },
  {
   "cell_type": "code",
   "execution_count": null,
   "id": "ef388ecf",
   "metadata": {},
   "outputs": [],
   "source": [
    "print(len(sig))"
   ]
  },
  {
   "cell_type": "markdown",
   "id": "1196a6e6",
   "metadata": {},
   "source": [
    "## Validating a Signature\n",
    "\n",
    "What message did this signature sign?\n",
    "\n",
    "Finding the \"sighash\" of that message. \n",
    "\n",
    "Take the bitcoin transaction that the signature was embedded into. From this transaction, we'll create a hash.\n",
    "\n",
    "That hash of the bitcoin transaction \"message digest\" which is the hash that the signature \"signed\"."
   ]
  },
  {
   "cell_type": "code",
   "execution_count": null,
   "id": "239c41e7",
   "metadata": {},
   "outputs": [],
   "source": [
    "print(tx)"
   ]
  },
  {
   "cell_type": "code",
   "execution_count": null,
   "id": "d3cbd894",
   "metadata": {},
   "outputs": [],
   "source": [
    "pprint(txdata)"
   ]
  },
  {
   "cell_type": "markdown",
   "id": "2392d3d6",
   "metadata": {},
   "source": [
    "## Find the SigMsg for a transaction\n",
    "\n",
    "Here we use the BIP341 Signature Validation Rules (https://github.com/bitcoin/bips/blob/master/bip-0341.mediawiki#user-content-Common_signature_message) Common signature message definition to calculate the SIGHASH_DEFAULT for a given transaction.\n",
    "\n",
    "We'll use this to compute the sighash for this input, which we need to validate the signature."
   ]
  },
  {
   "cell_type": "code",
   "execution_count": null,
   "id": "72d626d1",
   "metadata": {},
   "outputs": [],
   "source": [
    "from hashlib import sha256\n",
    "from codes import size_compact_size\n",
    "\n",
    "def sigmsg_default(tx_hex, input_index, annex_bytes, amounts_bytes, scriptpubkeys_bytes, ext_flag):\n",
    "    txdata = parse_tx_bytes_mine(tx_hex)\n",
    "    \n",
    "    result = b''\n",
    "    result += bytes([0x00]) # sighash_flag\n",
    "    result += txdata['version']\n",
    "    result += txdata['locktime']\n",
    "\n",
    "    all_input_outpoints = b''\n",
    "    for inp in txdata['inputs']:\n",
    "        # txid || vout\n",
    "        all_input_outpoints += inp['txid'] + inp['vout']    \n",
    "    sha_prevouts = sha256(all_input_outpoints).digest()\n",
    "    result += sha_prevouts\n",
    "    \n",
    "    sha_amounts = sha256(b''.join(amounts_bytes)).digest()        \n",
    "    result += sha_amounts\n",
    "    \n",
    "    spks = b''\n",
    "    for spk in scriptpubkeys_bytes:\n",
    "        spks += size_compact_size(len(spk)) + spk\n",
    "    sha_scriptpubkeys = sha256(spks).digest()\n",
    "    result += sha_scriptpubkeys\n",
    "    \n",
    "    all_sequences = [ i['sequence'] for i in txdata['inputs'] ]\n",
    "    sha_sequences = sha256(b''.join(all_sequences)).digest()\n",
    "    result += sha_sequences\n",
    "    \n",
    "    all_outputs = b''\n",
    "    for o in txdata['outputs']:\n",
    "        # amount || compact_size(scriptpubkey) || scriptpubkey\n",
    "        all_outputs += o['amount']\n",
    "        all_outputs += size_compact_size(len(o['scriptPubKey']))\n",
    "        all_outputs += o['scriptPubKey']\n",
    "    sha_outputs = sha256(all_outputs).digest()\n",
    "    result += sha_outputs\n",
    "    \n",
    "    # data about this input\n",
    "    annex_present = 1 if annex_bytes else 0\n",
    "    spend_type = 2 * ext_flag + annex_present\n",
    "    result += (spend_type).to_bytes(1, 'little')\n",
    "    result += (input_index).to_bytes(4, 'little')\n",
    "    \n",
    "    if (annex_bytes):\n",
    "        size_bytes = size_compact_size(len(annex_bytes))\n",
    "        sha_annex = sha256(size_bytes + annex_bytes).digest()\n",
    "        result += sha_annex\n",
    "    \n",
    "    # data about this output\n",
    "    # noop for SIGHASH_DEFAULT\n",
    "    \n",
    "    assert len(result) <= 206\n",
    "    return result"
   ]
  },
  {
   "cell_type": "code",
   "execution_count": null,
   "id": "ee7cca7f",
   "metadata": {},
   "outputs": [],
   "source": [
    "spent_from_tx = parse_tx_bytes_mine(\"02000000000101d79ca7455775b3fc7bf65eae536faa22e6248b863247cee30765fabb4fafadb80100000000ffffffff02dcab0e00000000002251203905d81b457b42e8d5eb1ae5280c83c74fbdd20a2e401c0077bce5417909c953944be70400000000225120dc2e293b7717ece7898fefc8fd7f6da13e8fb56efac0bc3bd75183304da6ad1701409dab8ddd9c703d1acb6736bc5260b23e64999cb130b9b3ca6c2e69aa084073302b66f0ecb5b4a191618951c022da2c429ac3638613c43bbb88a761634c2cb85300000000\")\n",
    "\n",
    "print(spent_from_tx['outputs'][0])"
   ]
  },
  {
   "cell_type": "code",
   "execution_count": null,
   "id": "2a09786e",
   "metadata": {},
   "outputs": [],
   "source": [
    "amounts_bytes = [spent_from_tx['outputs'][0]['amount']]\n",
    "print(\"amounts:\", [x.hex() for x in amounts_bytes])\n",
    "\n",
    "scriptpubkeys_bytes = [spent_from_tx['outputs'][0]['scriptPubKey']]\n",
    "print(\"scriptpubkeys:\", [x.hex() for x in scriptpubkeys_bytes], \"\\n\")\n",
    "\n",
    "ext_flag = 0\n",
    "annex_bytes = None\n",
    "input_index = 0\n",
    "\n",
    "sigmsg = sigmsg_default(tx, input_index, annex_bytes, amounts_bytes, scriptpubkeys_bytes, ext_flag)\n",
    "\n",
    "print(\"sigmsg:\", sigmsg.hex())"
   ]
  },
  {
   "cell_type": "markdown",
   "id": "47d1da59",
   "metadata": {},
   "source": [
    "## Computing the Sighash\n",
    "\n",
    "Now that we have the sighash message, we can calculate the actual \"sighash\" for the signature.\n",
    "\n",
    "The `sighash` for Taproot key path spending signature valdiation is as follows:\n",
    "\n",
    "```\n",
    "sighash = tag_hash(b'TapSighash', bytes([0x00]) + sigmsg)\n",
    "```\n",
    "\n",
    "We'll need to implement the `tag_hash` function, then pass our `sigmsg` into this to find the `sighash`."
   ]
  },
  {
   "cell_type": "code",
   "execution_count": null,
   "id": "ed4d48f4",
   "metadata": {},
   "outputs": [],
   "source": [
    "from hashlib import sha256\n",
    "\n",
    "def tag_hash(tag, data_bytes):\n",
    "    taghash = sha256(tag).digest()\n",
    "    return sha256(taghash + taghash + data_bytes).digest()"
   ]
  },
  {
   "cell_type": "code",
   "execution_count": null,
   "id": "82cce04a",
   "metadata": {},
   "outputs": [],
   "source": [
    "sighash = tag_hash(b'TapSighash', bytes([0x00]) + sigmsg)\n",
    "print(sighash.hex())"
   ]
  },
  {
   "cell_type": "markdown",
   "id": "84d5158d",
   "metadata": {},
   "source": [
    "## Verifying the Sighash\n",
    "\n",
    "Now that we've got the `sighash` we're finally ready to verify the signature.\n",
    "\n",
    "For this, we'll need the `verify` function, which is defined in BIP340."
   ]
  },
  {
   "cell_type": "code",
   "execution_count": null,
   "id": "f7bac652",
   "metadata": {},
   "outputs": [],
   "source": [
    "# there are three inputs to the verify function: pubkey, message, signature\n",
    "pk = x_val\n",
    "m = sighash\n",
    "sig = sig\n",
    "\n",
    "print(x_val)"
   ]
  },
  {
   "cell_type": "code",
   "execution_count": null,
   "id": "1d0470e4",
   "metadata": {},
   "outputs": [],
   "source": [
    "from codes import n\n",
    "\n",
    "def verify(x_val, m, sig):\n",
    "    P = lift_x(x_val)\n",
    "    assert len(sig) == 64\n",
    "    r = int.from_bytes(sig[:32], 'big')\n",
    "    if r >= p:\n",
    "        return False\n",
    "    s = int.from_bytes(sig[32:], 'big')\n",
    "    if s >= n:\n",
    "        return False\n",
    "    \n",
    "    P_bytes = (x_val).to_bytes(32, 'big')\n",
    "    challenge_hash = tag_hash(b'BIP0340/challenge', sig[:32] + P_bytes + m)\n",
    "    e = int.from_bytes(challenge_hash, 'big') % n\n",
    "    \n",
    "    # e * P\n",
    "    eP = P.multiply(e.to_bytes(32, 'big'))\n",
    "    # s * G\n",
    "    sG = coincurve.PrivateKey.from_int(s).public_key\n",
    "    neg_eP = invert_point(eP)\n",
    "    \n",
    "    # R = sG - eP = sG + -eP\n",
    "    R = coincurve.PublicKey.combine_keys([sG, neg_eP])\n",
    "    \n",
    "    if not has_even_y(R):\n",
    "        return False\n",
    "    \n",
    "    return R.point()[0] == r"
   ]
  },
  {
   "cell_type": "code",
   "execution_count": null,
   "id": "67aebbc6",
   "metadata": {},
   "outputs": [],
   "source": [
    "def invert_point(pt):\n",
    "    x, y = pt.point()\n",
    "    yneg = p - y\n",
    "    return coincurve.PublicKey.from_point(x, yneg)"
   ]
  },
  {
   "cell_type": "code",
   "execution_count": null,
   "id": "23ccac8d",
   "metadata": {},
   "outputs": [],
   "source": [
    "def has_even_y(pt):\n",
    "    return pt.point()[1] % 2 == 0"
   ]
  },
  {
   "cell_type": "code",
   "execution_count": null,
   "id": "a0cccf83",
   "metadata": {},
   "outputs": [],
   "source": [
    "sig = txdata['witnesses'][0][0]\n",
    "verify(x_val, m, sig)"
   ]
  },
  {
   "cell_type": "markdown",
   "id": "a6678a0c",
   "metadata": {},
   "source": [
    "## Signing a message\n",
    "\n",
    "Now that we've been able to successfully verify a message, let's finish implementing the second method for Schnorr: the Sign method.\n",
    "\n",
    "This takes a private key and a message and returns a valid signature.\n",
    "\n",
    "```\n",
    "sig = Sign(privkey, msg)\n",
    "```"
   ]
  },
  {
   "cell_type": "code",
   "execution_count": null,
   "id": "148a3819",
   "metadata": {},
   "outputs": [],
   "source": [
    "def scalar_to_pubkey(scalar_val):\n",
    "    assert scalar_val != 0 and scalar_val < n\n",
    "    P = coincurve.PrivateKey.from_int(scalar_val).public_key\n",
    "    result = scalar_val if has_even_y(P) else n - scalar_val\n",
    "    \n",
    "    return result, P\n",
    "\n",
    "\n",
    "def sign_msg(privkey_int, msg, nonce_int):\n",
    "    d, P = scalar_to_pubkey(privkey_int)\n",
    "    k, R = scalar_to_pubkey(nonce_int)\n",
    "    \n",
    "    bytes_R = (R.point()[0].to_bytes(32, 'big'))\n",
    "    bytes_P = (P.point()[0].to_bytes(32, 'big'))\n",
    "    challenge_hash = tag_hash(b'BIP0340/challenge', bytes_R + bytes_P + msg)\n",
    "    e = int.from_bytes(challenge_hash, 'big') % n\n",
    "    \n",
    "    # ~~~BEGIN SCHNORR PART~~~\n",
    "    s = (k + e * d) % n\n",
    "    # ~~~ END SCHNORR PART ~~~\n",
    "    \n",
    "    sig = bytes_R + s.to_bytes(32, 'big')\n",
    "    assert verify(P.point()[0], m, sig)\n",
    "    return sig"
   ]
  },
  {
   "cell_type": "code",
   "execution_count": null,
   "id": "35c80e57",
   "metadata": {},
   "outputs": [],
   "source": [
    "privkey = 10\n",
    "nonce = 5\n",
    "sig = sign_msg(privkey, m, nonce)\n",
    "\n",
    "print(sig.hex())"
   ]
  },
  {
   "cell_type": "markdown",
   "id": "5ef09244",
   "metadata": {},
   "source": [
    "## Taproot: Exploring the Depths\n",
    "\n",
    "We've just done a Taproot keypath spend verification (~P2PK)\n",
    "\n",
    "Now we're going to look at how to build out scripts for taproot!\n",
    "\n",
    "We're going to make our first taproot script. (~P2WSH)\n",
    "\n",
    "What are the steps we need to do for this:\n",
    "\n",
    "- figure out what scripts can spend our bitcoin\n",
    "- make a tree out of them (just like christmas!)\n",
    "- build a merkle root\n",
    "- pick a internal pubkey\n",
    "- make a tweak from the merkle root\n",
    "- add the tweak to the internal pubkey to get our external pubkey\n",
    "- lock money up to external pubkey"
   ]
  },
  {
   "cell_type": "markdown",
   "id": "26975a5e",
   "metadata": {},
   "source": [
    "### Step 1: Figure out what scripts can spend our bitcoin\n",
    "\n",
    "- Everyone in class should make a script!\n",
    "- Each individually lock up coins to the script (single script spend)\n",
    "- Send all the scripts to Lisa, and then we'll build a tree out of them\n",
    "\n",
    "#### Writing a taproot script\n",
    "\n",
    "nifty's script: OP_4 OP_ADD OP_8 OP_EQUAL  (requires OP_4 to unlock)\n",
    "\n",
    "Convert to script: \n",
    "        OP_4 OP_ADD OP_8 OP_EQUAL\n",
    "        54935887\n",
    "        \n",
    "        "
   ]
  },
  {
   "cell_type": "code",
   "execution_count": null,
   "id": "a2f023ad",
   "metadata": {},
   "outputs": [],
   "source": [
    "nifty = '54935887'\n",
    "casey =  'AA201ccf6c5e6212f524600fb6b20275cd6ae26dc6b812cd1f84dd3ff7d86b1937d187'\n",
    "jose = '54935887'\n",
    "dpp = '930200088763a820150faa5b485225f681b179f710cb169b92b401f954392eb30e677624135233f08768'\n",
    "mk = '76769393010987'\n",
    "damian = 'a820528f99cd13f2d438556c6f6a803458a963519d2419a40dd685597c0919d81f588754935587'\n",
    "chris = '53935987'\n",
    "nate = 'a82041ef4bb0b23661e66301aac36066912dac037827b4ae63a7b1165a5aa93ed4eb87'"
   ]
  },
  {
   "cell_type": "code",
   "execution_count": null,
   "id": "80cc4c7a",
   "metadata": {},
   "outputs": [],
   "source": [
    "scripts = [('nifty', nifty), ('casey', casey), ('jose', jose), ('dpp', dpp), ('mk', mk), ('damian', damian), ('chris', chris), ('nate', nate)]"
   ]
  },
  {
   "cell_type": "markdown",
   "id": "83ff2029",
   "metadata": {},
   "source": [
    "### Step 2: Make a tree out of your scripts\n",
    "\n",
    "For this first round, we're just going to use a single script!\n",
    "\n",
    "Every tree has leaves! Every script in our tree is a leaf.\n",
    "\n",
    "Our tree is just [nifty]"
   ]
  },
  {
   "cell_type": "code",
   "execution_count": null,
   "id": "d3642782",
   "metadata": {},
   "outputs": [],
   "source": [
    "tree = [nifty]"
   ]
  },
  {
   "cell_type": "code",
   "execution_count": null,
   "id": "9f5c0f78",
   "metadata": {},
   "outputs": [],
   "source": [
    "## Step 3: Build a Merkle root"
   ]
  },
  {
   "cell_type": "code",
   "execution_count": null,
   "id": "76659e08",
   "metadata": {},
   "outputs": [],
   "source": [
    "### Step 3a: Write a function to compute a leaf (hash)"
   ]
  },
  {
   "cell_type": "code",
   "execution_count": null,
   "id": "67ff1a06",
   "metadata": {},
   "outputs": [],
   "source": [
    "def make_leaf(script_bytes):\n",
    "    leaf_version = 0xc0\n",
    "    # leaf version + len script + script\n",
    "    data = bytes([leaf_version]) + size_compact_size(len(script_bytes)) + script_bytes\n",
    "    return tag_hash(b'TapLeaf', data)"
   ]
  },
  {
   "cell_type": "code",
   "execution_count": null,
   "id": "03f4d9f0",
   "metadata": {},
   "outputs": [],
   "source": [
    "tree_bytes = [ bytes.fromhex(x) for x in tree ]"
   ]
  },
  {
   "cell_type": "code",
   "execution_count": null,
   "id": "db7ca033",
   "metadata": {},
   "outputs": [],
   "source": [
    "leaf = make_leaf(tree_bytes[0])\n",
    "print(leaf.hex())"
   ]
  },
  {
   "cell_type": "code",
   "execution_count": null,
   "id": "6110d5b8",
   "metadata": {},
   "outputs": [],
   "source": [
    "for name, script in [ (a,bytes.fromhex(x)) for a,x in scripts]:\n",
    "    int_leaf = make_leaf(script)\n",
    "    print(name, int_leaf.hex())"
   ]
  },
  {
   "cell_type": "markdown",
   "id": "c370a08d",
   "metadata": {},
   "source": [
    "In this first example, where we only have one script, the \"merkle root\" is the leaf of the single script.\n",
    "\n",
    "Our root = leaf."
   ]
  },
  {
   "cell_type": "code",
   "execution_count": null,
   "id": "b1f1d730",
   "metadata": {},
   "outputs": [],
   "source": [
    "root = leaf\n",
    "print(leaf.hex())"
   ]
  },
  {
   "cell_type": "markdown",
   "id": "8e5d80f2",
   "metadata": {},
   "source": [
    "### Step 4: Pick an internal pubkey\n",
    "\n",
    "Considerations to make when picking an *internal* pubkey:\n",
    "\n",
    "- Does it need to be spendable?\n",
    "- If yes, who has the keys to it?\n",
    "- If no, how can I prove it's unspendable?\n"
   ]
  },
  {
   "cell_type": "markdown",
   "id": "b82b528b",
   "metadata": {},
   "source": [
    "In our case, our key needs to be unspendable. We need to pick a point that we don't know the private key to.\n",
    "\n",
    "The spec (BIP341) recommends using the following algorithm (or something like it) to pick a point where the private key is unknowns.\n",
    "\n",
    "> One example of such a point is H = lift_x(0x50929b74c1a04954b78b4b6035e97a5e078a5a0f28ec96d547bfee9ace803ac0) which is constructed by taking the hash of the standard uncompressed encoding of the secp256k1 base point G as X coordinate. In order to avoid leaking the information that key path spending is not possible it is recommended to pick a fresh integer r in the range 0...n-1 uniformly at random and use H + rG as internal key. It is possible to prove that this internal key does not have a known discrete logarithm with respect to G by revealing r to a verifier who can then reconstruct how the internal key was created."
   ]
  },
  {
   "cell_type": "code",
   "execution_count": null,
   "id": "4ba264fa",
   "metadata": {},
   "outputs": [],
   "source": [
    "# We define the nums_point as\n",
    "# H(G) => sha256(uncompressed)\n",
    "def nums_point(r=0):\n",
    "    Gx, Gy = coincurve.PrivateKey.from_int(1).public_key.point()\n",
    "    data = bytes([0x04]) + Gx.to_bytes(32, 'big') + Gy.to_bytes(32, 'big')\n",
    "    h = sha256(data).digest()\n",
    "    h_int = int.from_bytes(h, 'big')\n",
    "    H = lift_x(h_int)\n",
    "    if r > 0:\n",
    "        assert r < n\n",
    "        rG = coincurve.PrivateKey.from_int(r).public_key\n",
    "        return coincurve.PublicKey.combine_keys([rG, H])\n",
    "    return H"
   ]
  },
  {
   "cell_type": "code",
   "execution_count": null,
   "id": "b3aa9c31",
   "metadata": {},
   "outputs": [],
   "source": [
    "internal_pubkey = nums_point()\n",
    "print(internal_pubkey.format().hex())\n",
    "\n",
    "pubkey_bytes = internal_pubkey.point()[0].to_bytes(32, 'big')"
   ]
  },
  {
   "cell_type": "markdown",
   "id": "e690169e",
   "metadata": {},
   "source": [
    "### Step 5: Make a tweak from the Merkle Root\n",
    "\n",
    "What is a tweak? Ideally, a tweak is really just a number (scalar).\n",
    "\n",
    "We're gonna take the root and a pubkey, make a hash out of both of them and then convert this hash to a number.\n",
    "\n",
    "We'll then use that number (scalar) as if it were a private key and find the curve point at that value."
   ]
  },
  {
   "cell_type": "code",
   "execution_count": null,
   "id": "814dac66",
   "metadata": {},
   "outputs": [],
   "source": [
    "def make_tweak_pubkey(pubkey, merkle_root_bytes):\n",
    "    # Find the bytes for the x-value of the internal pubkey\n",
    "    pubkey_bytes = pubkey.point()[0].to_bytes(32, 'big')\n",
    "    \n",
    "    # Compute the tweak hash (TapTweak tag + pubkey + merkle root)\n",
    "    tweak_bytes = tag_hash(b'TapTweak', pubkey_bytes + merkle_root_bytes)\n",
    "    # Convert that hash into a scalar (so we can make it a point)\n",
    "    tweak_int = int.from_bytes(tweak_bytes, 'big')\n",
    "    # Make sure our tweak is inside the \"point range (n)\"\n",
    "    assert tweak_int < n\n",
    "    \n",
    "    # Multiply the tweak by the Generator Point (G) which gives us T\n",
    "    T = coincurve.PrivateKey.from_int(tweak_int).public_key\n",
    "    \n",
    "    return T"
   ]
  },
  {
   "cell_type": "code",
   "execution_count": null,
   "id": "7bfcd0e5",
   "metadata": {},
   "outputs": [],
   "source": [
    "T = make_tweak_pubkey(internal_pubkey, root)\n",
    "print(T.format().hex())"
   ]
  },
  {
   "cell_type": "code",
   "execution_count": null,
   "id": "1ed4d497",
   "metadata": {},
   "outputs": [],
   "source": [
    "for name, script in [ (a,bytes.fromhex(x)) for a,x in scripts]:\n",
    "    root = make_leaf(script)\n",
    "    T = make_tweak_pubkey(internal_pubkey, root)\n",
    "    print(name, T.format().hex())"
   ]
  },
  {
   "cell_type": "markdown",
   "id": "5c1853d0",
   "metadata": {},
   "source": [
    "Now we have our Tweak as a point. All we need to do is combine it with the internal pubkey to get an external pubkey."
   ]
  },
  {
   "cell_type": "markdown",
   "id": "c2be1cc6",
   "metadata": {},
   "source": [
    "### Step 6: Add Internal Pubkey to Tweak Pubkey\n",
    "\n",
    "For some reason the spec makes everything more fancy that it needs to be.\n",
    "\n",
    "The biggest difference is that we \"promote\" the internal pubkey to a x-only pubkey (even) before we add it to the tweak."
   ]
  },
  {
   "cell_type": "code",
   "execution_count": null,
   "id": "fd506493",
   "metadata": {},
   "outputs": [],
   "source": [
    "def make_external_pubkey(pubkey, T):    \n",
    "    P = lift_x(pubkey.point()[0])\n",
    "    Q = coincurve.PublicKey.combine_keys([P, T])\n",
    "    return Q"
   ]
  },
  {
   "cell_type": "code",
   "execution_count": null,
   "id": "5d5c96a1",
   "metadata": {},
   "outputs": [],
   "source": [
    "nifty\n",
    "\n",
    "nifty_leaf = make_leaf(bytes.fromhex(nifty))\n",
    "print(internal_pubkey.format().hex())\n",
    "print('nifty root:', nifty_leaf.hex())\n",
    "nifty_T = make_tweak_pubkey(internal_pubkey, nifty_leaf)\n",
    "print('nifty tweak', nifty_T.format().hex())\n",
    "nifty_Q = make_external_pubkey(internal_pubkey, nifty_T)\n",
    "print('nifty!', nifty_Q.format().hex())"
   ]
  },
  {
   "cell_type": "code",
   "execution_count": null,
   "id": "616eb83a",
   "metadata": {},
   "outputs": [],
   "source": [
    "for name, script in [ (a, bytes.fromhex(x)) for a,x in scripts]:\n",
    "    root = make_leaf(script)\n",
    "    T = make_tweak_pubkey(internal_pubkey, root)\n",
    "    Q = make_external_pubkey(internal_pubkey, T)\n",
    "    print(name, Q.format().hex())"
   ]
  },
  {
   "cell_type": "markdown",
   "id": "0187b71d",
   "metadata": {},
   "source": [
    "### Step 7: Lock bitcoin up to your external pubkey! (but first make a P2TR script)\n",
    "\n",
    "We'll take Q, drop the parity byte at the front and make this into a P2TR script."
   ]
  },
  {
   "cell_type": "code",
   "execution_count": null,
   "id": "89a59b16",
   "metadata": {},
   "outputs": [],
   "source": [
    "def make_p2tr(Q):\n",
    "    Qx_bytes = Q.point()[0].to_bytes(32, 'big')\n",
    "    witness_version = 0x51\n",
    "    return bytes([witness_version]) + size_compact_size(len(Qx_bytes)) + Qx_bytes\n",
    "\n",
    "\n",
    "print(make_p2tr(nifty_Q).hex())\n",
    "nifty_script = make_p2tr(nifty_Q).hex()"
   ]
  },
  {
   "cell_type": "code",
   "execution_count": null,
   "id": "74e80ccf",
   "metadata": {},
   "outputs": [],
   "source": [
    "# FIXME: add `jq` to nix-shell\n",
    "address_arr = !bitcoin-cli -regtest decodescript \"$nifty_script\" | jq -r .address\n",
    "print(address_arr[0])\n",
    "address = address_arr[0]"
   ]
  },
  {
   "cell_type": "code",
   "execution_count": null,
   "id": "ad393799",
   "metadata": {},
   "outputs": [],
   "source": [
    "!bitcoin-cli -regtest createwallet base58"
   ]
  },
  {
   "cell_type": "code",
   "execution_count": null,
   "id": "aafc2b8e",
   "metadata": {},
   "outputs": [],
   "source": [
    "!bitcoin-cli -regtest -generate 101"
   ]
  },
  {
   "cell_type": "code",
   "execution_count": null,
   "id": "497c3809",
   "metadata": {},
   "outputs": [],
   "source": [
    "!bitcoin-cli -regtest sendtoaddress \"$address\" 1.0"
   ]
  },
  {
   "cell_type": "code",
   "execution_count": null,
   "id": "4059285c",
   "metadata": {},
   "outputs": [],
   "source": [
    "!bitcoin-cli -regtest getrawtransaction d57032ce2ac09efc013ed6786d508e8912e3486d4fddab5e4982fcdb161155a4 true"
   ]
  },
  {
   "cell_type": "markdown",
   "id": "00012dcc",
   "metadata": {},
   "source": [
    "## Spending a Tapscript!\n",
    "\n",
    "We should have a transaction output with bitcoin in it that's locked to your custom written script.\n",
    "\n",
    "Now we want to create a transaction that spends that output.\n",
    "\n",
    "My output is in transaction d57032ce2ac09efc013ed6786d508e8912e3486d4fddab5e4982fcdb161155a4 and the index is 1\n",
    "\n",
    "In other words the outpoint for my bitcoins is `d57032ce2ac09efc013ed6786d508e8912e3486d4fddab5e4982fcdb161155a4:1`\n",
    "\n",
    "Let's a build a transaction that spends this!"
   ]
  },
  {
   "cell_type": "code",
   "execution_count": null,
   "id": "89435d1d",
   "metadata": {},
   "outputs": [],
   "source": [
    "txid = 'd57032ce2ac09efc013ed6786d508e8912e3486d4fddab5e4982fcdb161155a4'\n",
    "reverse_txid = bytes.fromhex(txid)[::-1].hex()\n",
    "print(reverse_txid)\n",
    "\n",
    "amount = (1 * 10 ** 8 - 400).to_bytes(8, 'little')\n",
    "print(amount.hex())"
   ]
  },
  {
   "cell_type": "code",
   "execution_count": null,
   "id": "3a0da9ab",
   "metadata": {},
   "outputs": [],
   "source": [
    "!bitcoin-cli -regtest getnewaddress \"\" bech32m"
   ]
  },
  {
   "cell_type": "code",
   "execution_count": null,
   "id": "2fb31a78",
   "metadata": {},
   "outputs": [],
   "source": [
    "!bitcoin-cli -regtest getaddressinfo bcrt1pywat5mnqc4pyvajq3hdmujza9dwzl3lefq26w6sdhtxfgk4wyyqqsvx823 | jq -r .scriptPubKey"
   ]
  },
  {
   "cell_type": "markdown",
   "id": "d23389d3",
   "metadata": {},
   "source": [
    "version: 02000000\n",
    "marker+flag: 0001\n",
    "inputs: 01\n",
    "    txid: a4551116dbfc82495eabdd4f6d48e312898e506d78d63e01fc9ec02ace3270d5\n",
    "    vout: 01000000\n",
    "    scriptSig: 00\n",
    "    sequence: ffffffff\n",
    "outputs: 01\n",
    "    amounts: 70dff50500000000\n",
    "    scriptPubKey: 22 512023baba6e60c5424676408ddbbe485d2b5c2fc7f94815a76a0dbacc945aae2100\n",
    "witnesses:\n",
    "    ........ unsolved problem ........\n",
    "locktime: 00000000"
   ]
  },
  {
   "cell_type": "code",
   "execution_count": null,
   "id": "e6f937c3",
   "metadata": {},
   "outputs": [],
   "source": [
    "tx = \"0200000001a4551116dbfc82495eabdd4f6d48e312898e506d78d63e01fc9ec02ace3270d50100000000ffffffff0170dff5050000000022512023baba6e60c5424676408ddbbe485d2b5c2fc7f94815a76a0dbacc945aae210000000000\"\n",
    "!bitcoin-cli -regtest decoderawtransaction \"$tx\""
   ]
  },
  {
   "cell_type": "markdown",
   "id": "e790bdaa",
   "metadata": {},
   "source": [
    "### What's in the witness stack for a leaf spend?\n",
    "\n",
    "We need to put into the witness stack:\n",
    " - the unlocking script\n",
    " - original leaf script\n",
    " - \"control block\": this has all the data you need to verify the external public key\n",
    " \n",
    " #### Nifty's Unlock Script is...\n",
    " \n",
    " Well my original leaf script"
   ]
  },
  {
   "cell_type": "code",
   "execution_count": null,
   "id": "f04f0f96",
   "metadata": {},
   "outputs": [],
   "source": [
    "!bitcoin-cli -regtest decodescript \"$nifty\" | jq .asm"
   ]
  },
  {
   "cell_type": "markdown",
   "id": "c805d364",
   "metadata": {},
   "source": [
    "Q: How do I unlock this? Great question.\n",
    "\n",
    "Short A: 04\n",
    "Long A: The number \"4\". In script, we'd use the opcode 'OP_4'\n",
    "but in witnesses we can't use opcodes, so we just do a \"push of the byte 04\"."
   ]
  },
  {
   "cell_type": "code",
   "execution_count": null,
   "id": "1a70868f",
   "metadata": {},
   "outputs": [],
   "source": [
    "!bitcoin-cli -regtest decodescript 0104"
   ]
  },
  {
   "cell_type": "markdown",
   "id": "11b564f5",
   "metadata": {},
   "source": [
    "- Unlocking script: 04\n",
    "- Original leaf data??: c0 + len(nifty) + 54935887 (variable: nifty)\n",
    "- Control block"
   ]
  },
  {
   "cell_type": "markdown",
   "id": "44ca41ff",
   "metadata": {},
   "source": [
    "#### How do we figure out a control block?\n",
    "\n",
    "\n",
    "A control block has three parts.\n",
    "\n",
    "- version byte\n",
    "- the x-only pubkey of the internal key\n",
    "- proof of inclusion"
   ]
  },
  {
   "cell_type": "markdown",
   "id": "edb0d3c9",
   "metadata": {},
   "source": [
    "##### Version Byte\n",
    "\n",
    "We're going to need Q to figure this out.\n",
    "\n",
    "The base value for the version byte is `c0`.\n",
    "With the following modification: if Q is odd, add 1 to the base value.\n",
    "\n",
    "If Q is even (02): 0xc0\n",
    "\n",
    "If Q is odd (03):  0xc1"
   ]
  },
  {
   "cell_type": "code",
   "execution_count": null,
   "id": "552bb732",
   "metadata": {},
   "outputs": [],
   "source": [
    "def control_block_version_byte(Q):\n",
    "    val = 0xc0\n",
    "    if Q.point()[1] % 2 != 0:\n",
    "        val += 1\n",
    "    return bytes([val])\n",
    "\n",
    "print(control_block_version_byte(nifty_Q).hex())"
   ]
  },
  {
   "cell_type": "markdown",
   "id": "a6f1b3a5",
   "metadata": {},
   "source": [
    "##### The x-only pubkey of the internal key\n",
    "\n",
    "This should just be the internal pubkey, 32 bytes."
   ]
  },
  {
   "cell_type": "code",
   "execution_count": null,
   "id": "03df5e42",
   "metadata": {},
   "outputs": [],
   "source": [
    "print(internal_pubkey.format()[1:].hex())"
   ]
  },
  {
   "cell_type": "markdown",
   "id": "2fe45f8b",
   "metadata": {},
   "source": [
    "###### Proof of Inclusion\n",
    "\n",
    "The proof of inclusion for a leaf-only spend is empty."
   ]
  },
  {
   "cell_type": "code",
   "execution_count": null,
   "id": "9e7113c4",
   "metadata": {
    "scrolled": true
   },
   "outputs": [],
   "source": [
    "control_block = control_block_version_byte(nifty_Q) + internal_pubkey.format()[1:]\n",
    "\n",
    "print('witness data!')\n",
    "print('03')\n",
    "print('01 04')\n",
    "print('04 ' + nifty)\n",
    "print('21 ' + control_block.hex())"
   ]
  },
  {
   "cell_type": "markdown",
   "id": "7a5d652f",
   "metadata": {},
   "source": [
    "version: 02000000\n",
    "marker+flag: 0001\n",
    "inputs: 01\n",
    "    txid: a4551116dbfc82495eabdd4f6d48e312898e506d78d63e01fc9ec02ace3270d5\n",
    "    vout: 01000000\n",
    "    scriptSig: 00\n",
    "    sequence: ffffffff\n",
    "outputs: 01\n",
    "    amounts: 70dff50500000000\n",
    "    scriptPubKey: 22 512023baba6e60c5424676408ddbbe485d2b5c2fc7f94815a76a0dbacc945aae2100\n",
    "witnesses:\n",
    "03\n",
    "    01 04\n",
    "    04 54935887\n",
    "    21 c050929b74c1a04954b78b4b6035e97a5e078a5a0f28ec96d547bfee9ace803ac0\n",
    "locktime: 00000000"
   ]
  },
  {
   "cell_type": "code",
   "execution_count": null,
   "id": "439b3d24",
   "metadata": {},
   "outputs": [],
   "source": [
    "spend_tx = '02000000000101a4551116dbfc82495eabdd4f6d48e312898e506d78d63e01fc9ec02ace3270d50100000000ffffffff0170dff5050000000022512023baba6e60c5424676408ddbbe485d2b5c2fc7f94815a76a0dbacc945aae2100030104045493588721c050929b74c1a04954b78b4b6035e97a5e078a5a0f28ec96d547bfee9ace803ac000000000'\n",
    "#!bitcoin-cli -regtest decoderawtransaction \"$spend_tx\""
   ]
  },
  {
   "cell_type": "code",
   "execution_count": null,
   "id": "96da8ec6",
   "metadata": {},
   "outputs": [],
   "source": [
    "spend_tx"
   ]
  },
  {
   "cell_type": "code",
   "execution_count": null,
   "id": "db665354",
   "metadata": {},
   "outputs": [],
   "source": [
    "!bitcoin-cli -regtest testmempoolaccept '[\"02000000000101a4551116dbfc82495eabdd4f6d48e312898e506d78d63e01fc9ec02ace3270d50100000000ffffffff0170dff5050000000022512023baba6e60c5424676408ddbbe485d2b5c2fc7f94815a76a0dbacc945aae2100030104045493588721c050929b74c1a04954b78b4b6035e97a5e078a5a0f28ec96d547bfee9ace803ac000000000\"]'"
   ]
  },
  {
   "cell_type": "markdown",
   "id": "f5c773e1",
   "metadata": {},
   "source": [
    "### Let's build a taproot with mulitple leaves\n",
    "\n",
    "Let's make a taproot with a bunch of leaves!\n",
    "\n",
    "We have a set of scripts that we want to allow any one of them to spend this bitcoin.\n",
    "\n",
    "Build a tree of the scripts, and then compute the merkle root."
   ]
  },
  {
   "cell_type": "code",
   "execution_count": null,
   "id": "d5b02fd1",
   "metadata": {},
   "outputs": [],
   "source": [
    "scripts"
   ]
  },
  {
   "cell_type": "code",
   "execution_count": null,
   "id": "5a5f25d8",
   "metadata": {},
   "outputs": [],
   "source": [
    "balanced_tree = [[[nifty, jose], [casey, dpp]], [[mk, damian], [chris, nate]]]\n",
    "unbalanced_tree = [ nifty, [ chris, [ jose, [ casey, [ dpp, [ mk, [ damian , nate ]]]]]]]"
   ]
  },
  {
   "cell_type": "code",
   "execution_count": null,
   "id": "e2efee40",
   "metadata": {},
   "outputs": [],
   "source": [
    "balanced_tree"
   ]
  },
  {
   "cell_type": "code",
   "execution_count": null,
   "id": "d31b4f35",
   "metadata": {},
   "outputs": [],
   "source": [
    "unbalanced_tree"
   ]
  },
  {
   "cell_type": "markdown",
   "id": "7e4b9d26",
   "metadata": {},
   "source": [
    "### Now that our tree(s) are defined, we need to calculate the merkle root\n",
    "\n",
    "We need a function that given our tree, will return a merkle root."
   ]
  },
  {
   "cell_type": "code",
   "execution_count": null,
   "id": "e81e5c7a",
   "metadata": {},
   "outputs": [],
   "source": [
    "def make_leaf(script_bytes):\n",
    "    leaf_version = 0xc0\n",
    "    # leaf version + len script + script\n",
    "    data = bytes([leaf_version]) + size_compact_size(len(script_bytes)) + script_bytes\n",
    "    return tag_hash(b'TapLeaf', data)"
   ]
  },
  {
   "cell_type": "code",
   "execution_count": null,
   "id": "d9350eb6",
   "metadata": {},
   "outputs": [],
   "source": [
    "def taptree_builder(tree):\n",
    "    if isinstance(tree, str):\n",
    "        script_bytes = bytes.fromhex(tree)\n",
    "        leaf_hash = make_leaf(script_bytes)\n",
    "        print(\"leaf:\", leaf_hash.hex())\n",
    "        return leaf_hash\n",
    "    \n",
    "    # calculate the branch hash. \n",
    "    assert len(tree) == 2\n",
    "    left = taptree_builder(tree[0])\n",
    "    right = taptree_builder(tree[1])\n",
    "    \n",
    "    # we have to order the left + right \"alphabetically\"\n",
    "    # thank you arik :)\n",
    "    if left > right:\n",
    "        right, left = left, right\n",
    "    \n",
    "    branch_hash = tag_hash(b'TapBranch', left + right)\n",
    "    print(\"branch:\", branch_hash.hex())\n",
    "    return branch_hash\n",
    "    "
   ]
  },
  {
   "cell_type": "code",
   "execution_count": null,
   "id": "2c5e446a",
   "metadata": {
    "scrolled": false
   },
   "outputs": [],
   "source": [
    "balanced_root = taptree_builder(balanced_tree)\n",
    "balanced_root.hex()"
   ]
  },
  {
   "cell_type": "code",
   "execution_count": null,
   "id": "9d4bcb3a",
   "metadata": {},
   "outputs": [],
   "source": [
    "unbalanced_root = taptree_builder(unbalanced_tree)\n",
    "unbalanced_tree"
   ]
  },
  {
   "cell_type": "code",
   "execution_count": null,
   "id": "48f26863",
   "metadata": {},
   "outputs": [],
   "source": [
    "internal_pubkey.format().hex()"
   ]
  },
  {
   "cell_type": "code",
   "execution_count": null,
   "id": "b3d5b0d0",
   "metadata": {},
   "outputs": [],
   "source": [
    "balanced_tweak_key = make_tweak_pubkey(internal_pubkey, balanced_root)\n",
    "balanced_tweak_key.format().hex()"
   ]
  },
  {
   "cell_type": "code",
   "execution_count": null,
   "id": "2a0fda76",
   "metadata": {},
   "outputs": [],
   "source": [
    "unbalanced_tweak_key = make_tweak_pubkey(internal_pubkey, unbalanced_root)\n",
    "unbalanced_tweak_key.format().hex()"
   ]
  },
  {
   "cell_type": "code",
   "execution_count": null,
   "id": "174e5919",
   "metadata": {},
   "outputs": [],
   "source": [
    "Q_balanced = make_external_pubkey(internal_pubkey, balanced_tweak_key)\n",
    "Q_unbalanced = make_external_pubkey(internal_pubkey, unbalanced_tweak_key)"
   ]
  },
  {
   "cell_type": "code",
   "execution_count": null,
   "id": "d26cd7db",
   "metadata": {},
   "outputs": [],
   "source": [
    "p2tr_balanced = make_p2tr(Q_balanced).hex()\n",
    "p2tr_balanced"
   ]
  },
  {
   "cell_type": "code",
   "execution_count": null,
   "id": "91c5fd95",
   "metadata": {},
   "outputs": [],
   "source": [
    "p2tr_unbalanced = make_p2tr(Q_unbalanced).hex()\n",
    "p2tr_unbalanced"
   ]
  },
  {
   "cell_type": "code",
   "execution_count": null,
   "id": "d192e0ca",
   "metadata": {},
   "outputs": [],
   "source": [
    "!bitcoin-cli -regtest decodescript \"$p2tr_balanced\" | jq -r .address"
   ]
  },
  {
   "cell_type": "code",
   "execution_count": null,
   "id": "c4a3593a",
   "metadata": {},
   "outputs": [],
   "source": [
    "!bitcoin-cli -regtest decodescript \"$p2tr_unbalanced\" | jq -r .address"
   ]
  },
  {
   "cell_type": "code",
   "execution_count": null,
   "id": "49cbb4a2",
   "metadata": {},
   "outputs": [],
   "source": [
    "# Balanced Tree Address Lock Up\n",
    "#!bitcoin-cli -regtest sendtoaddress bcrt1p6hlf4czaqztqnzyhz02rwmscr9xwh4s3q4f9l3fd209yntqu5xvqh797tq 1.1\n",
    "\"3f4e1ffcb93fae8f1101b321616b1d9ca18cb909d02668bbfd76c062075fa01c\""
   ]
  },
  {
   "cell_type": "code",
   "execution_count": null,
   "id": "ce721101",
   "metadata": {},
   "outputs": [],
   "source": [
    "# Unbalanced Tree Address Lock Up\n",
    "!bitcoin-cli -regtest sendtoaddress bcrt1pnznuz6xlejyj3ym2888rwjtfacfplusskg6sefcycu5nmypuzlxspdv3ku 1.2"
   ]
  },
  {
   "cell_type": "code",
   "execution_count": null,
   "id": "59613bdd",
   "metadata": {},
   "outputs": [],
   "source": [
    "!bitcoin-cli -regtest getrawtransaction 821c72b0a18427be1d80a8980057291e47f502ee0687e66ca5861f499449d567 true"
   ]
  },
  {
   "cell_type": "code",
   "execution_count": null,
   "id": "d54be1ed",
   "metadata": {},
   "outputs": [],
   "source": [
    "balanced_outpoint = (\"821c72b0a18427be1d80a8980057291e47f502ee0687e66ca5861f499449d567\", 1)\n",
    "unbalanced_outpoint = (\"3e1075a2dbd8f13e67d9944b464420a67e0bcd1db476b8e50a9d50aae27c76f3\", 0)\n",
    "\n",
    "txid_balanced = bytes.fromhex(balanced_outpoint[0])[::-1].hex()\n",
    "txid_unbal = bytes.fromhex(unbalanced_outpoint[0])[::-1].hex()\n",
    "\n",
    "print(txid_balanced)\n",
    "print(txid_unbal)"
   ]
  },
  {
   "cell_type": "markdown",
   "id": "5f8087e3",
   "metadata": {},
   "source": [
    "## Let's Spend Some Things!"
   ]
  },
  {
   "cell_type": "code",
   "execution_count": null,
   "id": "c012ba2d",
   "metadata": {},
   "outputs": [],
   "source": [
    "# amount unbalanced\n",
    "(12 * 10 ** 7 - 400).to_bytes(8, 'little').hex()"
   ]
  },
  {
   "cell_type": "code",
   "execution_count": null,
   "id": "28951499",
   "metadata": {},
   "outputs": [],
   "source": [
    "# amount balanced\n",
    "(11 * 10 ** 7 - 400).to_bytes(8, 'little').hex()"
   ]
  },
  {
   "cell_type": "markdown",
   "id": "3a8dac1e",
   "metadata": {},
   "source": [
    "### Balanced Spend Transaction\n",
    "\n",
    "```\n",
    "version: 02000000\n",
    "marker+flag: 0001\n",
    "inputs: 01\n",
    "    txid: 67d54994491f86a56ce68706ee02f5471e29570098a8801dbe2784a1b0721c82\n",
    "    vout: 01000000\n",
    "    scriptSig: 00\n",
    "    sequence: ffffffff\n",
    "outputs: 01\n",
    "    amounts: f0758e0600000000\n",
    "    scriptPubKey: 22 512023baba6e60c5424676408ddbbe485d2b5c2fc7f94815a76a0dbacc945aae2100\n",
    "witnesses:\n",
    "    03\n",
    "        <unlock script>\n",
    "        <leaf script>\n",
    "        <control block!>\n",
    "locktime: 00000000\n",
    "```"
   ]
  },
  {
   "cell_type": "code",
   "execution_count": null,
   "id": "20d5c1c6",
   "metadata": {},
   "outputs": [],
   "source": [
    "leaf_script = bytes.fromhex(damian)\n",
    "leaf_script.hex()"
   ]
  },
  {
   "cell_type": "code",
   "execution_count": null,
   "id": "df7f95e2",
   "metadata": {},
   "outputs": [],
   "source": [
    "unlock_script = b'Taproot Rocks!'\n",
    "unlock_script.hex()"
   ]
  },
  {
   "cell_type": "code",
   "execution_count": null,
   "id": "745aac70",
   "metadata": {},
   "outputs": [],
   "source": [
    "def build_proof_of_inclusion(tree, script):\n",
    "    if isinstance(tree, str):\n",
    "        script_bytes = bytes.fromhex(tree)\n",
    "        leaf_hash = make_leaf(script_bytes)\n",
    "        return leaf_hash, [], script == tree\n",
    "    \n",
    "    # calculate the branch hash. \n",
    "    assert len(tree) == 2\n",
    "    left_hash, left_proof, left_target = build_proof_of_inclusion(tree[0], script)\n",
    "    right_hash, right_proof, right_target = build_proof_of_inclusion(tree[1], script)\n",
    "    \n",
    "    proof = []\n",
    "    if left_target:\n",
    "        left_proof.append(right_hash)\n",
    "        proof = left_proof\n",
    "    elif right_target:\n",
    "        right_proof.append(left_hash)\n",
    "        proof = right_proof\n",
    "        \n",
    "    # we have to order the left + right \"alphabetically\"\n",
    "    # thank you arik :)\n",
    "    if left_hash > right_hash:\n",
    "        right_hash, left_hash = left_hash, right_hash\n",
    "    branch_hash = tag_hash(b'TapBranch', left_hash + right_hash)\n",
    "    return branch_hash, proof, left_target or right_target\n",
    "\n",
    "\n",
    "_, proof_of_inclusion, _ = build_proof_of_inclusion(balanced_tree, damian)\n",
    "\n",
    "print('proof', [ x.hex() for x in proof_of_inclusion])"
   ]
  },
  {
   "cell_type": "code",
   "execution_count": null,
   "id": "6c94710c",
   "metadata": {},
   "outputs": [],
   "source": [
    "print(b''.join(proof_of_inclusion).hex())\n",
    "\n",
    "control_block = control_block_version_byte(Q_balanced) + internal_pubkey.format()[1:] + b''.join(proof_of_inclusion)"
   ]
  },
  {
   "cell_type": "code",
   "execution_count": null,
   "id": "ebc0e37c",
   "metadata": {},
   "outputs": [],
   "source": [
    "control_block.hex()"
   ]
  },
  {
   "cell_type": "code",
   "execution_count": null,
   "id": "73223505",
   "metadata": {},
   "outputs": [],
   "source": [
    "wits = [size_compact_size(len(unlock_script)) + unlock_script, \n",
    "        size_compact_size(len(leaf_script)) + leaf_script,\n",
    "        size_compact_size(len(control_block)) + control_block]\n",
    "\n",
    "print(size_compact_size(len(wits)).hex())\n",
    "for witness in wits:\n",
    "    print(witness.hex())"
   ]
  },
  {
   "cell_type": "markdown",
   "id": "9e6e1850",
   "metadata": {},
   "source": [
    "### Balanced Spend Transaction\n",
    "\n",
    "```\n",
    "version: 02000000\n",
    "marker+flag: 0001\n",
    "inputs: 01\n",
    "    txid: 67d54994491f86a56ce68706ee02f5471e29570098a8801dbe2784a1b0721c82\n",
    "    vout: 01000000\n",
    "    scriptSig: 00\n",
    "    sequence: ffffffff\n",
    "outputs: 01\n",
    "    amounts: f0758e0600000000\n",
    "    scriptPubKey: 22 512023baba6e60c5424676408ddbbe485d2b5c2fc7f94815a76a0dbacc945aae2100\n",
    "witnesses:\n",
    "    03\n",
    "        0e546170726f6f7420526f636b7321\n",
    "        27a820528f99cd13f2d438556c6f6a803458a963519d2419a40dd685597c0919d81f588754935587\n",
    "        81c050929b74c1a04954b78b4b6035e97a5e078a5a0f28ec96d547bfee9ace803ac0fa2b5d06e6fdf4ce947e00511fa6dd92294996846ec8a3b0b80d9363f0dec93ab95df7c5373a203b605e4c4773579b51f853078ba1a5f9db35df6527566c0c6d111fbd5ec2591327c312c7db37a0722205156310354d11783777f41ceff2fe96\n",
    "locktime: 00000000\n",
    "```"
   ]
  },
  {
   "cell_type": "code",
   "execution_count": null,
   "id": "b7e67445",
   "metadata": {},
   "outputs": [],
   "source": [
    "tx = '0200000000010167d54994491f86a56ce68706ee02f5471e29570098a8801dbe2784a1b0721c820100000000ffffffff01f0758e060000000022512023baba6e60c5424676408ddbbe485d2b5c2fc7f94815a76a0dbacc945aae2100030e546170726f6f7420526f636b732127a820528f99cd13f2d438556c6f6a803458a963519d2419a40dd685597c0919d81f58875493558781c050929b74c1a04954b78b4b6035e97a5e078a5a0f28ec96d547bfee9ace803ac0fa2b5d06e6fdf4ce947e00511fa6dd92294996846ec8a3b0b80d9363f0dec93ab95df7c5373a203b605e4c4773579b51f853078ba1a5f9db35df6527566c0c6d111fbd5ec2591327c312c7db37a0722205156310354d11783777f41ceff2fe9600000000'"
   ]
  },
  {
   "cell_type": "code",
   "execution_count": null,
   "id": "ba8366d9",
   "metadata": {},
   "outputs": [],
   "source": [
    "!bitcoin-cli -regtest decoderawtransaction \"$tx\""
   ]
  },
  {
   "cell_type": "code",
   "execution_count": null,
   "id": "6a5a4a6e",
   "metadata": {},
   "outputs": [],
   "source": [
    "!bitcoin-cli -regtest testmempoolaccept '[\"0200000000010167d54994491f86a56ce68706ee02f5471e29570098a8801dbe2784a1b0721c820100000000ffffffff01f0758e060000000022512023baba6e60c5424676408ddbbe485d2b5c2fc7f94815a76a0dbacc945aae2100030e546170726f6f7420526f636b732127a820528f99cd13f2d438556c6f6a803458a963519d2419a40dd685597c0919d81f58875493558781c050929b74c1a04954b78b4b6035e97a5e078a5a0f28ec96d547bfee9ace803ac0fa2b5d06e6fdf4ce947e00511fa6dd92294996846ec8a3b0b80d9363f0dec93ab95df7c5373a203b605e4c4773579b51f853078ba1a5f9db35df6527566c0c6d111fbd5ec2591327c312c7db37a0722205156310354d11783777f41ceff2fe9600000000\"]'"
   ]
  },
  {
   "cell_type": "markdown",
   "id": "329753e0",
   "metadata": {},
   "source": [
    "### Unbalanced Spend Transaction\n",
    "\n",
    "```\n",
    "version: 02000000\n",
    "marker+flag: 0001\n",
    "inputs: 01\n",
    "    txid: f3767ce2aa509d0ae5b876b41dcd0b7ea62044464b94d9673ef1d8dba275103e\n",
    "    vout: 00000000\n",
    "    scriptSig: 00\n",
    "    sequence: ffffffff\n",
    "outputs: 01\n",
    "    amounts: 700c270700000000\n",
    "    scriptPubKey: 22 512023baba6e60c5424676408ddbbe485d2b5c2fc7f94815a76a0dbacc945aae2100\n",
    "witnesses:\n",
    "03\n",
    "0e546170726f6f7420526f636b7321\n",
    "27a820528f99cd13f2d438556c6f6a803458a963519d2419a40dd685597c0919d81f588754935587\n",
    "fd01010c050929b74c1a04954b78b4b6035e97a5e078a5a0f28ec96d547bfee9ace803ac0002a01ee216a40f3d68710b87d7fb0654a7d540e9baa3f5ba5a06170b82ed08dfa2b5d06e6fdf4ce947e00511fa6dd92294996846ec8a3b0b80d9363f0dec93a7199c3d01803160ae132c34a5aaa9e5ba44725b0e6a483caa4de6804e77e2b01bcf0ffea8d704f70610ddffb14a2cd74cbde7b4bf116605143f43fcdac8628587ce84a5b9c296529029e07e014ffdfb9bb11d201bd84e4528d4ae46d6160ead68ddbf7add8c35b385346ea0f1c3fa93bbfd9583c75ee097fe0c03c64cceccd0a7ce84a5b9c296529029e07e014ffdfb9bb11d201bd84e4528d4ae46d6160ead6\n",
    "locktime: 00000000\n",
    "```"
   ]
  },
  {
   "cell_type": "code",
   "execution_count": null,
   "id": "16c16274",
   "metadata": {},
   "outputs": [],
   "source": [
    "leaf_script = bytes.fromhex(damian)\n",
    "leaf_script.hex()"
   ]
  },
  {
   "cell_type": "code",
   "execution_count": null,
   "id": "cf973530",
   "metadata": {},
   "outputs": [],
   "source": [
    "unlock_script = b'Taproot Rocks!'\n",
    "unlock_script.hex()"
   ]
  },
  {
   "cell_type": "code",
   "execution_count": null,
   "id": "b8ad3f6b",
   "metadata": {},
   "outputs": [],
   "source": [
    "_, proof_of_inclusion, _ = build_proof_of_inclusion(unbalanced_tree, damian)\n",
    "\n",
    "print([ x.hex() for x in proof_of_inclusion])"
   ]
  },
  {
   "cell_type": "code",
   "execution_count": null,
   "id": "0c61fef0",
   "metadata": {},
   "outputs": [],
   "source": [
    "control_block = control_block_version_byte(Q_unbalanced) + internal_pubkey.format()[1:] + b''.join(proof_of_inclusion)\n",
    "control_block.hex()"
   ]
  },
  {
   "cell_type": "code",
   "execution_count": null,
   "id": "49ad3f85",
   "metadata": {},
   "outputs": [],
   "source": [
    "from codes import size_compact_size\n",
    "\n",
    "\n",
    "wits = [size_compact_size(len(unlock_script)) + unlock_script, \n",
    "        size_compact_size(len(leaf_script)) + leaf_script,\n",
    "        size_compact_size(len(control_block)) + control_block]\n",
    "\n",
    "print(size_compact_size(len(wits)).hex())\n",
    "for witness in wits:\n",
    "    print(witness.hex())"
   ]
  },
  {
   "cell_type": "code",
   "execution_count": null,
   "id": "15a9b5e0",
   "metadata": {},
   "outputs": [],
   "source": [
    "unbal_tx = '02000000000101f3767ce2aa509d0ae5b876b41dcd0b7ea62044464b94d9673ef1d8dba275103e0000000000ffffffff01700c27070000000022512023baba6e60c5424676408ddbbe485d2b5c2fc7f94815a76a0dbacc945aae2100030e546170726f6f7420526f636b732127a820528f99cd13f2d438556c6f6a803458a963519d2419a40dd685597c0919d81f588754935587fd0101c050929b74c1a04954b78b4b6035e97a5e078a5a0f28ec96d547bfee9ace803ac0002a01ee216a40f3d68710b87d7fb0654a7d540e9baa3f5ba5a06170b82ed08dfa2b5d06e6fdf4ce947e00511fa6dd92294996846ec8a3b0b80d9363f0dec93a7199c3d01803160ae132c34a5aaa9e5ba44725b0e6a483caa4de6804e77e2b01bcf0ffea8d704f70610ddffb14a2cd74cbde7b4bf116605143f43fcdac8628587ce84a5b9c296529029e07e014ffdfb9bb11d201bd84e4528d4ae46d6160ead68ddbf7add8c35b385346ea0f1c3fa93bbfd9583c75ee097fe0c03c64cceccd0a7ce84a5b9c296529029e07e014ffdfb9bb11d201bd84e4528d4ae46d6160ead600000000'"
   ]
  },
  {
   "cell_type": "code",
   "execution_count": null,
   "id": "58759da0",
   "metadata": {},
   "outputs": [],
   "source": [
    "!bitcoin-cli -regtest decoderawtransaction \"$unbal_tx\""
   ]
  },
  {
   "cell_type": "code",
   "execution_count": null,
   "id": "a0622951",
   "metadata": {},
   "outputs": [],
   "source": [
    "!bitcoin-cli -regtest testmempoolaccept '[\"02000000000101f3767ce2aa509d0ae5b876b41dcd0b7ea62044464b94d9673ef1d8dba275103e0000000000ffffffff01700c27070000000022512023baba6e60c5424676408ddbbe485d2b5c2fc7f94815a76a0dbacc945aae2100030e546170726f6f7420526f636b732127a820528f99cd13f2d438556c6f6a803458a963519d2419a40dd685597c0919d81f588754935587fd0101c050929b74c1a04954b78b4b6035e97a5e078a5a0f28ec96d547bfee9ace803ac0002a01ee216a40f3d68710b87d7fb0654a7d540e9baa3f5ba5a06170b82ed08dfa2b5d06e6fdf4ce947e00511fa6dd92294996846ec8a3b0b80d9363f0dec93a7199c3d01803160ae132c34a5aaa9e5ba44725b0e6a483caa4de6804e77e2b01bcf0ffea8d704f70610ddffb14a2cd74cbde7b4bf116605143f43fcdac8628587ce84a5b9c296529029e07e014ffdfb9bb11d201bd84e4528d4ae46d6160ead68ddbf7add8c35b385346ea0f1c3fa93bbfd9583c75ee097fe0c03c64cceccd0a7ce84a5b9c296529029e07e014ffdfb9bb11d201bd84e4528d4ae46d6160ead600000000\"]'"
   ]
  },
  {
   "cell_type": "markdown",
   "id": "23d7c4bd",
   "metadata": {},
   "source": [
    "# Multisig on Taproot"
   ]
  },
  {
   "cell_type": "code",
   "execution_count": null,
   "id": "aedad28a",
   "metadata": {},
   "outputs": [],
   "source": [
    "privkey = 8589393459493948599858588583933824757589382718181271727004040303\n",
    "assert privkey < n\n",
    "pubkey = coincurve.PrivateKey.from_int(privkey).public_key\n",
    "pubkey.format().hex()"
   ]
  },
  {
   "cell_type": "code",
   "execution_count": null,
   "id": "e80a139c",
   "metadata": {},
   "outputs": [],
   "source": [
    "!pwd"
   ]
  },
  {
   "cell_type": "code",
   "execution_count": null,
   "id": "03f6d1d1",
   "metadata": {},
   "outputs": [],
   "source": []
  }
 ],
 "metadata": {
  "kernelspec": {
   "display_name": "Python 3 (ipykernel)",
   "language": "python",
   "name": "python3"
  },
  "language_info": {
   "codemirror_mode": {
    "name": "ipython",
    "version": 3
   },
   "file_extension": ".py",
   "mimetype": "text/x-python",
   "name": "python",
   "nbconvert_exporter": "python",
   "pygments_lexer": "ipython3",
   "version": "3.10.5"
  }
 },
 "nbformat": 4,
 "nbformat_minor": 5
}
