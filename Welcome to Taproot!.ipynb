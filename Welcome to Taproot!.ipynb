{
 "cells": [
  {
   "cell_type": "raw",
   "id": "0578544d",
   "metadata": {},
   "source": [
    "# Background on Taproot\n",
    "\n",
    "## Where does \"taproot\" come from?\n",
    "\n",
    "Taproot is a series of bitcoin BIPS (bitcoin improvement proposals) that were merged into bitcoin-core in 2021.\n",
    "\n",
    "It was most recent bitcoin soft-fork and it went live in November 2021.\n",
    "\n",
    "The BIPS can be found on github. They are as follows:\n",
    "\n",
    "- BIP340, Schnorr Signatures https://github.com/bitcoin/bips/blob/master/bip-0340.mediawiki\n",
    "- BIP341, Taproot Segwit v1 https://github.com/bitcoin/bips/blob/master/bip-0341.mediawiki\n",
    "- BIP342, Validating Taproot Spends https://github.com/bitcoin/bips/blob/master/bip-0342.mediawiki\n",
    "- BIP350, Bech32m https://github.com/bitcoin/bips/blob/master/bip-0350.mediawiki"
   ]
  },
  {
   "cell_type": "markdown",
   "id": "14a02606",
   "metadata": {},
   "source": [
    "## What did \"taproot\" change?\n",
    "\n",
    "Taproot added and modified many things in bitcoin. Including\n",
    "\n",
    "- A new signature algorithm (Schnorr)\n",
    "- A new version of Script opcodes (Segwit v1)\n",
    "- A new bitcoin address checksum (bech32m)\n",
    "- Removed some opcodes we know and love (OP_CHECKMULTISIG)\n",
    "- Added a new opcode (OP_CHECKSIGADD)\n",
    "- Added a new scripthash algorithm"
   ]
  },
  {
   "cell_type": "markdown",
   "id": "59c11a6f",
   "metadata": {},
   "source": [
    "# Finding Taproot in the Wild\n",
    "\n",
    "Let's go to mempool.space and find some taproot addresses in the wild!\n",
    "\n",
    "\n",
    "\n",
    "## How to spot a taproot address\n",
    "\n",
    "The bech32 address has a `p` immediately following the `1`\n",
    "\n",
    "Find a taproot address on mempool dot space.\n",
    "\n",
    "What's the \"Type\" for this address?\n",
    "\n",
    "\n",
    "Copy paste the \"ScriptPubKey (HEX)\" for the address you found into the pyblock below."
   ]
  },
  {
   "cell_type": "code",
   "execution_count": 5,
   "id": "1fbc845c",
   "metadata": {},
   "outputs": [],
   "source": [
    "scriptpubkey = \"51203905d81b457b42e8d5eb1ae5280c83c74fbdd20a2e401c0077bce5417909c953\""
   ]
  },
  {
   "cell_type": "code",
   "execution_count": 6,
   "id": "a482867e",
   "metadata": {},
   "outputs": [
    {
     "name": "stdout",
     "output_type": "stream",
     "text": [
      "51203905d81b457b42e8d5eb1ae5280c83c74fbdd20a2e401c0077bce5417909c953\n"
     ]
    }
   ],
   "source": [
    "print(scriptpubkey)"
   ]
  },
  {
   "cell_type": "code",
   "execution_count": 7,
   "id": "9576aa40",
   "metadata": {},
   "outputs": [
    {
     "data": {
      "text/plain": [
       "34"
      ]
     },
     "execution_count": 7,
     "metadata": {},
     "output_type": "execute_result"
    }
   ],
   "source": [
    "len(scriptpubkey) // 2"
   ]
  },
  {
   "cell_type": "markdown",
   "id": "b3faafb0",
   "metadata": {},
   "source": [
    "This is a series of opcodes. If you pass this to `bitcoin-cli decodescript` what does it print back as the asm?"
   ]
  },
  {
   "cell_type": "code",
   "execution_count": 8,
   "id": "d0ae6734",
   "metadata": {},
   "outputs": [
    {
     "name": "stdout",
     "output_type": "stream",
     "text": [
      "{\r\n",
      "  \"asm\": \"1 3905d81b457b42e8d5eb1ae5280c83c74fbdd20a2e401c0077bce5417909c953\",\r\n",
      "  \"desc\": \"addr(bcrt1p8yzasx690dpw340trtjjsryrca8mm5s29eqpcqrhhnj5z7gfe9fsysf0jl)#95u636fj\",\r\n",
      "  \"address\": \"bcrt1p8yzasx690dpw340trtjjsryrca8mm5s29eqpcqrhhnj5z7gfe9fsysf0jl\",\r\n",
      "  \"type\": \"witness_v1_taproot\"\r\n",
      "}\r\n"
     ]
    }
   ],
   "source": [
    "!bitcoin-cli -regtest decodescript 51203905d81b457b42e8d5eb1ae5280c83c74fbdd20a2e401c0077bce5417909c953"
   ]
  },
  {
   "cell_type": "code",
   "execution_count": 16,
   "id": "bc473f18",
   "metadata": {},
   "outputs": [],
   "source": [
    "output = {\n",
    "  \"asm\": \"1 3905d81b457b42e8d5eb1ae5280c83c74fbdd20a2e401c0077bce5417909c953\",\n",
    "  \"desc\": \"addr(bcrt1p8yzasx690dpw340trtjjsryrca8mm5s29eqpcqrhhnj5z7gfe9fsysf0jl)#95u636fj\",\n",
    "  \"address\": \"bcrt1p8yzasx690dpw340trtjjsryrca8mm5s29eqpcqrhhnj5z7gfe9fsysf0jl\",\n",
    "  \"type\": \"witness_v1_taproot\"\n",
    "}"
   ]
  },
  {
   "cell_type": "code",
   "execution_count": 17,
   "id": "87353851",
   "metadata": {},
   "outputs": [
    {
     "name": "stdout",
     "output_type": "stream",
     "text": [
      "1 3905d81b457b42e8d5eb1ae5280c83c74fbdd20a2e401c0077bce5417909c953\n"
     ]
    }
   ],
   "source": [
    "print(output['asm'])"
   ]
  },
  {
   "cell_type": "code",
   "execution_count": 18,
   "id": "0501c7e3",
   "metadata": {},
   "outputs": [
    {
     "data": {
      "text/plain": [
       "['1', '3905d81b457b42e8d5eb1ae5280c83c74fbdd20a2e401c0077bce5417909c953']"
      ]
     },
     "execution_count": 18,
     "metadata": {},
     "output_type": "execute_result"
    }
   ],
   "source": [
    "output['asm'].split(\" \")"
   ]
  },
  {
   "cell_type": "code",
   "execution_count": 19,
   "id": "7c26788b",
   "metadata": {},
   "outputs": [
    {
     "data": {
      "text/plain": [
       "32"
      ]
     },
     "execution_count": 19,
     "metadata": {},
     "output_type": "execute_result"
    }
   ],
   "source": [
    "len(output['asm'].split(\" \")[1]) // 2"
   ]
  },
  {
   "cell_type": "code",
   "execution_count": 20,
   "id": "c6b080c6",
   "metadata": {
    "scrolled": true
   },
   "outputs": [
    {
     "name": "stdout",
     "output_type": "stream",
     "text": [
      "witness_v1_taproot\n"
     ]
    }
   ],
   "source": [
    "print(output['type'])"
   ]
  },
  {
   "cell_type": "code",
   "execution_count": 21,
   "id": "271d89d2",
   "metadata": {},
   "outputs": [
    {
     "name": "stdout",
     "output_type": "stream",
     "text": [
      "hex:\t\t 3905d81b457b42e8d5eb1ae5280c83c74fbdd20a2e401c0077bce5417909c953\n",
      "int val:\t 25792158117016797743484614046835601668965634494428223733945610235101691103571\n"
     ]
    }
   ],
   "source": [
    "x_bytes = bytes.fromhex(output['asm'].split(' ')[1])\n",
    "print('hex:\\t\\t', x_bytes.hex())\n",
    "\n",
    "x_val = int.from_bytes(x_bytes, 'big')\n",
    "print('int val:\\t', x_val)"
   ]
  },
  {
   "cell_type": "markdown",
   "id": "2d05ced0",
   "metadata": {},
   "source": [
    "## Finding the secp256k1 pubkey from a P2TR address\n",
    "\n",
    "Now that we have the x-only pubkey, let's figure out what point that is on the secp256k1 curve.\n",
    "\n",
    "We can do that using `lift_x_pubkey`. This takes an integer and returns a point.\n",
    "\n",
    "In my case, I'll use `coincurve`, a python library for expressing + doing math with public keys."
   ]
  },
  {
   "cell_type": "code",
   "execution_count": 22,
   "id": "4344e1f7",
   "metadata": {},
   "outputs": [],
   "source": [
    "p = 115792089237316195423570985008687907853269984665640564039457584007908834671663\n",
    "def lift_x(x_value):\n",
    "    assert x_value < p\n",
    "    # find y squared (y2 = x^3 + 7)\n",
    "    y2 = (x_value ** 3 + 7) % p\n",
    "    # find the square root of y\n",
    "    y = pow(y2, (p+1)//4, p)\n",
    "    assert (y ** 2 % p) == y2\n",
    "    # if y is odd, find even y\n",
    "    if y % 2 != 0:\n",
    "        y = p - y\n",
    "    return coincurve.PublicKey.from_point(x_value, y)"
   ]
  },
  {
   "cell_type": "code",
   "execution_count": 23,
   "id": "759f7fdc",
   "metadata": {},
   "outputs": [
    {
     "name": "stdout",
     "output_type": "stream",
     "text": [
      "023905d81b457b42e8d5eb1ae5280c83c74fbdd20a2e401c0077bce5417909c953\n",
      "(25792158117016797743484614046835601668965634494428223733945610235101691103571, 4191453718700008539754125939901750860298491226938149986069530358203844164198)\n"
     ]
    }
   ],
   "source": [
    "import coincurve\n",
    "\n",
    "point = lift_x(x_val)\n",
    "print(point.format().hex())\n",
    "print(point.point())"
   ]
  },
  {
   "cell_type": "markdown",
   "id": "f1993a06",
   "metadata": {},
   "source": [
    "## Let's Get Familiar With The Tools!"
   ]
  },
  {
   "cell_type": "code",
   "execution_count": 24,
   "id": "7981b44b",
   "metadata": {},
   "outputs": [],
   "source": [
    "from codes import parse_tx_bytes\n",
    "\n",
    "tx = \"020000000001013c29211e2e6b9a594f28fd9e8b650dd2f64e7024d398fbc4c98f3b8800cef1350000000000ffffffff0358020000000000002251203905d81b457b42e8d5eb1ae5280c83c74fbdd20a2e401c0077bce5417909c95358020000000000002251203905d81b457b42e8d5eb1ae5280c83c74fbdd20a2e401c0077bce5417909c953eba60d00000000002251203905d81b457b42e8d5eb1ae5280c83c74fbdd20a2e401c0077bce5417909c9530140bc93e2b4ae198c6326737b3e1525715109b6fa65cac52be9c1889408ba2d3ddeac9af8c944513905275280c9e8ac5fb6c83a7100137173c3e6a402857cb4c6de00000000\""
   ]
  },
  {
   "cell_type": "markdown",
   "id": "ee733acc",
   "metadata": {},
   "source": [
    "First things first, let's update the `parse_tx_bytes` method to be able to handle segwit (any version) transactions."
   ]
  },
  {
   "cell_type": "code",
   "execution_count": 25,
   "id": "1bd41d00",
   "metadata": {},
   "outputs": [],
   "source": [
    "def parse_witness_bytes(data):\n",
    "    count, size = parse_compact_size(data)\n",
    "    ptr = size\n",
    "    witnesses = []\n",
    "    for _ in range(0, count):\n",
    "        witlen, size = parse_compact_size(data[ptr:])\n",
    "        ptr += size\n",
    "        witnesses.append(data[ptr:ptr+witlen])\n",
    "        ptr += witlen\n",
    "\n",
    "    return witnesses, ptr"
   ]
  },
  {
   "cell_type": "code",
   "execution_count": 26,
   "id": "020ab911",
   "metadata": {},
   "outputs": [],
   "source": [
    "from codes import parse_compact_size, parse_input_bytes, parse_output_bytes\n",
    "\n",
    "def parse_tx_bytes_mine(tx_hex):\n",
    "  tx_bytes = bytes.fromhex(tx_hex)\n",
    "  tx = {}\n",
    "  ptr = 0\n",
    "  tx['version'] = tx_bytes[0:4]\n",
    "  ptr += 4\n",
    "\n",
    "  if tx_bytes[ptr] == 0x00:\n",
    "    assert tx_bytes[ptr+1] == 0x01\n",
    "    tx['marker_flag'] = bytes([0x00, 0x01])\n",
    "    ptr += 2\n",
    "\n",
    "  count, size = parse_compact_size(tx_bytes[ptr:])\n",
    "  ptr += size \n",
    "  tx['inputs'] = []\n",
    "  for _ in range(0, count):\n",
    "    inputx, size = parse_input_bytes(tx_bytes[ptr:])\n",
    "    ptr += size\n",
    "    tx['inputs'].append(inputx)\n",
    " \n",
    "  count, size = parse_compact_size(tx_bytes[ptr:])\n",
    "  ptr += size\n",
    "  tx['outputs'] = []\n",
    "  for _ in range(0, count):\n",
    "    outputx, size = parse_output_bytes(tx_bytes[ptr:])\n",
    "    ptr += size\n",
    "    tx['outputs'].append(outputx)\n",
    "\n",
    "  if 'marker_flag' in tx:\n",
    "    tx['witnesses'] = []\n",
    "    for _ in range(0, len(tx['inputs'])):\n",
    "        witness, size = parse_witness_bytes(tx_bytes[ptr:])\n",
    "        ptr += size\n",
    "        tx['witnesses'].append(witness)\n",
    "\n",
    "  tx['locktime'] = tx_bytes[ptr:]\n",
    "  return tx"
   ]
  },
  {
   "cell_type": "code",
   "execution_count": 27,
   "id": "9ece766e",
   "metadata": {},
   "outputs": [
    {
     "name": "stdout",
     "output_type": "stream",
     "text": [
      "020000000001013c29211e2e6b9a594f28fd9e8b650dd2f64e7024d398fbc4c98f3b8800cef1350000000000ffffffff0358020000000000002251203905d81b457b42e8d5eb1ae5280c83c74fbdd20a2e401c0077bce5417909c95358020000000000002251203905d81b457b42e8d5eb1ae5280c83c74fbdd20a2e401c0077bce5417909c953eba60d00000000002251203905d81b457b42e8d5eb1ae5280c83c74fbdd20a2e401c0077bce5417909c9530140bc93e2b4ae198c6326737b3e1525715109b6fa65cac52be9c1889408ba2d3ddeac9af8c944513905275280c9e8ac5fb6c83a7100137173c3e6a402857cb4c6de00000000\n",
      "0001013c29211e2e6b9a594f28fd9e8b650dd2f64e7024d398fbc4c98f3b8800cef1350000000000ffffffff0358020000000000002251203905d81b457b42e8d5eb1ae5280c83c74fbdd20a2e401c0077bce5417909c95358020000000000002251203905d81b457b42e8d5eb1ae5280c83c74fbdd20a2e401c0077bce5417909c953eba60d00000000002251203905d81b457b42e8d5eb1ae5280c83c74fbdd20a2e401c0077bce5417909c9530140bc93e2b4ae198c6326737b3e1525715109b6fa65cac52be9c1889408ba2d3ddeac9af8c944513905275280c9e8ac5fb6c83a7100137173c3e6a402857cb4c6de00000000\n"
     ]
    }
   ],
   "source": [
    "tx_bytes = bytes.fromhex(tx)\n",
    "ptr = 4\n",
    "print(tx_bytes.hex())\n",
    "print(tx_bytes[ptr:].hex())"
   ]
  },
  {
   "cell_type": "code",
   "execution_count": 28,
   "id": "e1f2fc42",
   "metadata": {
    "scrolled": true
   },
   "outputs": [
    {
     "name": "stdout",
     "output_type": "stream",
     "text": [
      "Pretty printing has been turned OFF\n"
     ]
    }
   ],
   "source": [
    "pprint(parse_tx_bytes_mine(tx))"
   ]
  },
  {
   "cell_type": "code",
   "execution_count": 29,
   "id": "f4c31597",
   "metadata": {},
   "outputs": [],
   "source": [
    "txdata = parse_tx_bytes_mine(tx)"
   ]
  },
  {
   "cell_type": "code",
   "execution_count": 30,
   "id": "33cabf50",
   "metadata": {},
   "outputs": [],
   "source": [
    "assert len(txdata['witnesses'][0]) == 1"
   ]
  },
  {
   "cell_type": "code",
   "execution_count": 31,
   "id": "fb578b55",
   "metadata": {},
   "outputs": [
    {
     "name": "stdout",
     "output_type": "stream",
     "text": [
      "bc93e2b4ae198c6326737b3e1525715109b6fa65cac52be9c1889408ba2d3ddeac9af8c944513905275280c9e8ac5fb6c83a7100137173c3e6a402857cb4c6de\n"
     ]
    }
   ],
   "source": [
    "print(txdata['witnesses'][0][0].hex())"
   ]
  },
  {
   "cell_type": "code",
   "execution_count": 32,
   "id": "f247319d",
   "metadata": {},
   "outputs": [],
   "source": [
    "sig = txdata['witnesses'][0][0]"
   ]
  },
  {
   "cell_type": "code",
   "execution_count": 33,
   "id": "f7cdf944",
   "metadata": {},
   "outputs": [
    {
     "name": "stdout",
     "output_type": "stream",
     "text": [
      "bc93e2b4ae198c6326737b3e1525715109b6fa65cac52be9c1889408ba2d3ddeac9af8c944513905275280c9e8ac5fb6c83a7100137173c3e6a402857cb4c6de\n"
     ]
    }
   ],
   "source": [
    "print(sig.hex())"
   ]
  },
  {
   "cell_type": "code",
   "execution_count": 34,
   "id": "ef388ecf",
   "metadata": {},
   "outputs": [
    {
     "name": "stdout",
     "output_type": "stream",
     "text": [
      "64\n"
     ]
    }
   ],
   "source": [
    "print(len(sig))"
   ]
  },
  {
   "cell_type": "markdown",
   "id": "1196a6e6",
   "metadata": {},
   "source": [
    "## Validating a Signature\n",
    "\n",
    "What message did this signature sign?\n",
    "\n",
    "Finding the \"sighash\" of that message. \n",
    "\n",
    "Take the bitcoin transaction that the signature was embedded into. From this transaction, we'll create a hash.\n",
    "\n",
    "That hash of the bitcoin transaction \"message digest\" which is the hash that the signature \"signed\"."
   ]
  },
  {
   "cell_type": "code",
   "execution_count": 35,
   "id": "239c41e7",
   "metadata": {},
   "outputs": [
    {
     "name": "stdout",
     "output_type": "stream",
     "text": [
      "020000000001013c29211e2e6b9a594f28fd9e8b650dd2f64e7024d398fbc4c98f3b8800cef1350000000000ffffffff0358020000000000002251203905d81b457b42e8d5eb1ae5280c83c74fbdd20a2e401c0077bce5417909c95358020000000000002251203905d81b457b42e8d5eb1ae5280c83c74fbdd20a2e401c0077bce5417909c953eba60d00000000002251203905d81b457b42e8d5eb1ae5280c83c74fbdd20a2e401c0077bce5417909c9530140bc93e2b4ae198c6326737b3e1525715109b6fa65cac52be9c1889408ba2d3ddeac9af8c944513905275280c9e8ac5fb6c83a7100137173c3e6a402857cb4c6de00000000\n"
     ]
    }
   ],
   "source": [
    "print(tx)"
   ]
  },
  {
   "cell_type": "code",
   "execution_count": 36,
   "id": "d3cbd894",
   "metadata": {},
   "outputs": [
    {
     "name": "stdout",
     "output_type": "stream",
     "text": [
      "Pretty printing has been turned ON\n"
     ]
    }
   ],
   "source": [
    "pprint(txdata)"
   ]
  },
  {
   "cell_type": "markdown",
   "id": "2392d3d6",
   "metadata": {},
   "source": [
    "## Find the SigMsg for a transaction\n",
    "\n",
    "Here we use the BIP341 Signature Validation Rules (https://github.com/bitcoin/bips/blob/master/bip-0341.mediawiki#user-content-Common_signature_message) Common signature message definition to calculate the SIGHASH_DEFAULT for a given transaction.\n",
    "\n",
    "We'll use this to compute the sighash for this input, which we need to validate the signature."
   ]
  },
  {
   "cell_type": "code",
   "execution_count": 37,
   "id": "72d626d1",
   "metadata": {},
   "outputs": [],
   "source": [
    "from hashlib import sha256\n",
    "from codes import size_compact_size\n",
    "\n",
    "def sigmsg_default(tx_hex, input_index, annex_bytes, amounts_bytes, scriptpubkeys_bytes, ext_flag):\n",
    "    txdata = parse_tx_bytes_mine(tx_hex)\n",
    "    \n",
    "    result = b''\n",
    "    result += bytes([0x00]) # sighash_flag\n",
    "    result += txdata['version']\n",
    "    result += txdata['locktime']\n",
    "\n",
    "    all_input_outpoints = b''\n",
    "    for inp in txdata['inputs']:\n",
    "        # txid || vout\n",
    "        all_input_outpoints += inp['txid'] + inp['vout']    \n",
    "    sha_prevouts = sha256(all_input_outpoints).digest()\n",
    "    result += sha_prevouts\n",
    "    \n",
    "    sha_amounts = sha256(b''.join(amounts_bytes)).digest()        \n",
    "    result += sha_amounts\n",
    "    \n",
    "    spks = b''\n",
    "    for spk in scriptpubkeys_bytes:\n",
    "        spks += size_compact_size(len(spk)) + spk\n",
    "    sha_scriptpubkeys = sha256(spks).digest()\n",
    "    result += sha_scriptpubkeys\n",
    "    \n",
    "    all_sequences = [ i['sequence'] for i in txdata['inputs'] ]\n",
    "    sha_sequences = sha256(b''.join(all_sequences)).digest()\n",
    "    result += sha_sequences\n",
    "    \n",
    "    all_outputs = b''\n",
    "    for o in txdata['outputs']:\n",
    "        # amount || compact_size(scriptpubkey) || scriptpubkey\n",
    "        all_outputs += o['amount']\n",
    "        all_outputs += size_compact_size(len(o['scriptPubKey']))\n",
    "        all_outputs += o['scriptPubKey']\n",
    "    sha_outputs = sha256(all_outputs).digest()\n",
    "    result += sha_outputs\n",
    "    \n",
    "    # data about this input\n",
    "    annex_present = 1 if annex_bytes else 0\n",
    "    spend_type = 2 * ext_flag + annex_present\n",
    "    result += (spend_type).to_bytes(1, 'little')\n",
    "    result += (input_index).to_bytes(4, 'little')\n",
    "    \n",
    "    if (annex_bytes):\n",
    "        size_bytes = size_compact_size(len(annex_bytes))\n",
    "        sha_annex = sha256(size_bytes + annex_bytes).digest()\n",
    "        result += sha_annex\n",
    "    \n",
    "    # data about this output\n",
    "    # noop for SIGHASH_DEFAULT\n",
    "    \n",
    "    assert len(result) <= 206\n",
    "    return result"
   ]
  },
  {
   "cell_type": "code",
   "execution_count": 38,
   "id": "ee7cca7f",
   "metadata": {},
   "outputs": [
    {
     "name": "stdout",
     "output_type": "stream",
     "text": [
      "{'amount': b'\\xdc\\xab\\x0e\\x00\\x00\\x00\\x00\\x00', 'scriptPubKey': b'Q 9\\x05\\xd8\\x1bE{B\\xe8\\xd5\\xeb\\x1a\\xe5(\\x0c\\x83\\xc7O\\xbd\\xd2\\n.@\\x1c\\x00w\\xbc\\xe5Ay\\t\\xc9S'}\n"
     ]
    }
   ],
   "source": [
    "spent_from_tx = parse_tx_bytes_mine(\"02000000000101d79ca7455775b3fc7bf65eae536faa22e6248b863247cee30765fabb4fafadb80100000000ffffffff02dcab0e00000000002251203905d81b457b42e8d5eb1ae5280c83c74fbdd20a2e401c0077bce5417909c953944be70400000000225120dc2e293b7717ece7898fefc8fd7f6da13e8fb56efac0bc3bd75183304da6ad1701409dab8ddd9c703d1acb6736bc5260b23e64999cb130b9b3ca6c2e69aa084073302b66f0ecb5b4a191618951c022da2c429ac3638613c43bbb88a761634c2cb85300000000\")\n",
    "\n",
    "print(spent_from_tx['outputs'][0])"
   ]
  },
  {
   "cell_type": "code",
   "execution_count": 39,
   "id": "2a09786e",
   "metadata": {
    "scrolled": true
   },
   "outputs": [
    {
     "name": "stdout",
     "output_type": "stream",
     "text": [
      "amounts: ['dcab0e0000000000']\n",
      "scriptpubkeys: ['51203905d81b457b42e8d5eb1ae5280c83c74fbdd20a2e401c0077bce5417909c953'] \n",
      "\n",
      "sigmsg: 000200000000000000002b9b64a25d11192d251c2e088e7cbc65889963ff67244102b5fc7cb1b4feb51c4eb25d1adc8a44ed6dd54bca7d3d790a7b9e66ef9a8416836882124ad71bb507d41f17121f975dfae4cb8a052b3e34576e1c272bf7e17dfe484be8d1f96317ad95131bc0b799c0b1af477fb14fcf26a6a9f76079e48bf090acb7e8367bfd0e5cdaded8d0fdd6bcb42703ac71156c5d658a47acaa0b90924087e48059d5f1c30000000000\n"
     ]
    }
   ],
   "source": [
    "amounts_bytes = [spent_from_tx['outputs'][0]['amount']]\n",
    "print(\"amounts:\", [x.hex() for x in amounts_bytes])\n",
    "\n",
    "scriptpubkeys_bytes = [spent_from_tx['outputs'][0]['scriptPubKey']]\n",
    "print(\"scriptpubkeys:\", [x.hex() for x in scriptpubkeys_bytes], \"\\n\")\n",
    "\n",
    "ext_flag = 0\n",
    "annex_bytes = None\n",
    "input_index = 0\n",
    "\n",
    "sigmsg = sigmsg_default(tx, input_index, annex_bytes, amounts_bytes, scriptpubkeys_bytes, ext_flag)\n",
    "\n",
    "print(\"sigmsg:\", sigmsg.hex())"
   ]
  },
  {
   "cell_type": "markdown",
   "id": "47d1da59",
   "metadata": {},
   "source": [
    "## Computing the Sighash\n",
    "\n",
    "Now that we have the sighash message, we can calculate the actual \"sighash\" for the signature.\n",
    "\n",
    "The `sighash` for Taproot key path spending signature valdiation is as follows:\n",
    "\n",
    "```\n",
    "sighash = tag_hash(b'TapSighash', bytes([0x00]) + sigmsg)\n",
    "```\n",
    "\n",
    "We'll need to implement the `tag_hash` function, then pass our `sigmsg` into this to find the `sighash`."
   ]
  },
  {
   "cell_type": "code",
   "execution_count": 40,
   "id": "ed4d48f4",
   "metadata": {},
   "outputs": [],
   "source": [
    "from hashlib import sha256\n",
    "\n",
    "def tag_hash(tag, data_bytes):\n",
    "    taghash = sha256(tag).digest()\n",
    "    return sha256(taghash + taghash + data_bytes).digest()"
   ]
  },
  {
   "cell_type": "code",
   "execution_count": 41,
   "id": "82cce04a",
   "metadata": {},
   "outputs": [
    {
     "name": "stdout",
     "output_type": "stream",
     "text": [
      "c09a12ac690db9c044c0df972aec9f574cf12677b80b1b82e910bf9e16f3b115\n"
     ]
    }
   ],
   "source": [
    "sighash = tag_hash(b'TapSighash', bytes([0x00]) + sigmsg)\n",
    "print(sighash.hex())"
   ]
  },
  {
   "cell_type": "markdown",
   "id": "84d5158d",
   "metadata": {},
   "source": [
    "## Verifying the Sighash\n",
    "\n",
    "Now that we've got the `sighash` we're finally ready to verify the signature.\n",
    "\n",
    "For this, we'll need the `verify` function, which is defined in BIP340."
   ]
  },
  {
   "cell_type": "code",
   "execution_count": 42,
   "id": "f7bac652",
   "metadata": {},
   "outputs": [
    {
     "name": "stdout",
     "output_type": "stream",
     "text": [
      "25792158117016797743484614046835601668965634494428223733945610235101691103571\n"
     ]
    }
   ],
   "source": [
    "# there are three inputs to the verify function: pubkey, message, signature\n",
    "pk = x_val\n",
    "m = sighash\n",
    "sig = sig\n",
    "\n",
    "print(x_val)"
   ]
  },
  {
   "cell_type": "code",
   "execution_count": 43,
   "id": "1d0470e4",
   "metadata": {},
   "outputs": [],
   "source": [
    "from codes import n\n",
    "\n",
    "def verify(x_val, m, sig):\n",
    "    P = lift_x(x_val)\n",
    "    assert len(sig) == 64\n",
    "    r = int.from_bytes(sig[:32], 'big')\n",
    "    if r >= p:\n",
    "        return False\n",
    "    s = int.from_bytes(sig[32:], 'big')\n",
    "    if s >= n:\n",
    "        return False\n",
    "    \n",
    "    P_bytes = (x_val).to_bytes(32, 'big')\n",
    "    challenge_hash = tag_hash(b'BIP0340/challenge', sig[:32] + P_bytes + m)\n",
    "    e = int.from_bytes(challenge_hash, 'big') % n\n",
    "    \n",
    "    # e * P\n",
    "    eP = P.multiply(e.to_bytes(32, 'big'))\n",
    "    # s * G\n",
    "    sG = coincurve.PrivateKey.from_int(s).public_key\n",
    "    neg_eP = invert_point(eP)\n",
    "    \n",
    "    # R = sG - eP = sG + -eP\n",
    "    R = coincurve.PublicKey.combine_keys([sG, neg_eP])\n",
    "    \n",
    "    if not has_even_y(R):\n",
    "        return False\n",
    "    \n",
    "    return R.point()[0] == r"
   ]
  },
  {
   "cell_type": "code",
   "execution_count": 44,
   "id": "67aebbc6",
   "metadata": {},
   "outputs": [],
   "source": [
    "def invert_point(pt):\n",
    "    x, y = pt.point()\n",
    "    yneg = p - y\n",
    "    return coincurve.PublicKey.from_point(x, yneg)"
   ]
  },
  {
   "cell_type": "code",
   "execution_count": 45,
   "id": "23ccac8d",
   "metadata": {},
   "outputs": [],
   "source": [
    "def has_even_y(pt):\n",
    "    return pt.point()[1] % 2 == 0"
   ]
  },
  {
   "cell_type": "code",
   "execution_count": 46,
   "id": "a0cccf83",
   "metadata": {},
   "outputs": [
    {
     "data": {
      "text/plain": [
       "True"
      ]
     },
     "execution_count": 46,
     "metadata": {},
     "output_type": "execute_result"
    }
   ],
   "source": [
    "sig = txdata['witnesses'][0][0]\n",
    "verify(x_val, m, sig)"
   ]
  },
  {
   "cell_type": "markdown",
   "id": "a6678a0c",
   "metadata": {},
   "source": [
    "## Signing a message\n",
    "\n",
    "Now that we've been able to successfully verify a message, let's finish implementing the second method for Schnorr: the Sign method.\n",
    "\n",
    "This takes a private key and a message and returns a valid signature.\n",
    "\n",
    "```\n",
    "sig = Sign(privkey, msg)\n",
    "```"
   ]
  },
  {
   "cell_type": "code",
   "execution_count": 47,
   "id": "148a3819",
   "metadata": {},
   "outputs": [],
   "source": [
    "def scalar_to_pubkey(scalar_val):\n",
    "    assert scalar_val != 0 and scalar_val < n\n",
    "    P = coincurve.PrivateKey.from_int(scalar_val).public_key\n",
    "    result = scalar_val if has_even_y(P) else n - scalar_val\n",
    "    \n",
    "    return result, P\n",
    "\n",
    "\n",
    "def sign_msg(privkey_int, msg, nonce_int):\n",
    "    d, P = scalar_to_pubkey(privkey_int)\n",
    "    k, R = scalar_to_pubkey(nonce_int)\n",
    "    \n",
    "    bytes_R = (R.point()[0].to_bytes(32, 'big'))\n",
    "    bytes_P = (P.point()[0].to_bytes(32, 'big'))\n",
    "    challenge_hash = tag_hash(b'BIP0340/challenge', bytes_R + bytes_P + msg)\n",
    "    e = int.from_bytes(challenge_hash, 'big') % n\n",
    "    \n",
    "    # ~~~BEGIN SCHNORR PART~~~\n",
    "    s = (k + e * d) % n\n",
    "    # ~~~ END SCHNORR PART ~~~\n",
    "    \n",
    "    sig = bytes_R + s.to_bytes(32, 'big')\n",
    "    assert verify(P.point()[0], msg, sig)\n",
    "    return sig"
   ]
  },
  {
   "cell_type": "code",
   "execution_count": 48,
   "id": "35c80e57",
   "metadata": {},
   "outputs": [
    {
     "name": "stdout",
     "output_type": "stream",
     "text": [
      "2f8bde4d1a07209355b4a7250a5c5128e88b84bddc619ab7cba8d569b240efe4de48d2d7d8f794b7e45e4701c5385b94d87543365be474d9941f15d4ecf211a2\n"
     ]
    }
   ],
   "source": [
    "privkey = 10\n",
    "nonce = 5\n",
    "sig = sign_msg(privkey, m, nonce)\n",
    "\n",
    "print(sig.hex())"
   ]
  },
  {
   "cell_type": "markdown",
   "id": "5ef09244",
   "metadata": {},
   "source": [
    "## Taproot: Exploring the Depths\n",
    "\n",
    "We've just done a Taproot keypath spend verification (~P2PK)\n",
    "\n",
    "Now we're going to look at how to build out scripts for taproot!\n",
    "\n",
    "We're going to make our first taproot script. (~P2WSH)\n",
    "\n",
    "What are the steps we need to do for this:\n",
    "\n",
    "- figure out what scripts can spend our bitcoin\n",
    "- make a tree out of them (just like christmas!)\n",
    "- build a merkle root\n",
    "- pick a internal pubkey\n",
    "- make a tweak from the merkle root\n",
    "- add the tweak to the internal pubkey to get our external pubkey\n",
    "- lock money up to external pubkey"
   ]
  },
  {
   "cell_type": "markdown",
   "id": "26975a5e",
   "metadata": {},
   "source": [
    "### Step 1: Figure out what scripts can spend our bitcoin\n",
    "\n",
    "- Everyone in class should make a script!\n",
    "- Each individually lock up coins to the script (single script spend)\n",
    "- Send all the scripts to Lisa, and then we'll build a tree out of them\n",
    "\n",
    "#### Writing a taproot script\n",
    "\n",
    "nifty's script: OP_4 OP_ADD OP_8 OP_EQUAL  (requires OP_4 to unlock)\n",
    "\n",
    "Convert to script: \n",
    "        OP_4 OP_ADD OP_8 OP_EQUAL\n",
    "        54935887\n",
    "        \n",
    "        "
   ]
  },
  {
   "cell_type": "code",
   "execution_count": 49,
   "id": "a2f023ad",
   "metadata": {},
   "outputs": [],
   "source": [
    "nifty = '54935887'\n",
    "c_nym =  'AA201ccf6c5e6212f524600fb6b20275cd6ae26dc6b812cd1f84dd3ff7d86b1937d187'\n",
    "j_nym = '54935887'\n",
    "d_nym = '930200088763a820150faa5b485225f681b179f710cb169b92b401f954392eb30e677624135233f08768'\n",
    "m_nym = '76769393010987'\n",
    "da_nym = 'a820528f99cd13f2d438556c6f6a803458a963519d2419a40dd685597c0919d81f588754935587'\n",
    "ch_nym = '53935987'\n",
    "n_nym = 'a82041ef4bb0b23661e66301aac36066912dac037827b4ae63a7b1165a5aa93ed4eb87'"
   ]
  },
  {
   "cell_type": "code",
   "execution_count": 50,
   "id": "80cc4c7a",
   "metadata": {},
   "outputs": [],
   "source": [
    "scripts = [('nifty', nifty), ('c_nym', c_nym), ('j_nym', j_nym), ('d_nym', d_nym), ('m_nym', m_nym), ('da_nym', da_nym), ('ch_nym', ch_nym), ('n_nym', n_nym)]"
   ]
  },
  {
   "cell_type": "markdown",
   "id": "83ff2029",
   "metadata": {},
   "source": [
    "### Step 2: Make a tree out of your scripts\n",
    "\n",
    "For this first round, we're just going to use a single script!\n",
    "\n",
    "Every tree has leaves! Every script in our tree is a leaf.\n",
    "\n",
    "Our tree is just [nifty]"
   ]
  },
  {
   "cell_type": "code",
   "execution_count": 51,
   "id": "d3642782",
   "metadata": {},
   "outputs": [],
   "source": [
    "tree = [nifty]"
   ]
  },
  {
   "cell_type": "code",
   "execution_count": 52,
   "id": "9f5c0f78",
   "metadata": {},
   "outputs": [],
   "source": [
    "## Step 3: Build a Merkle root"
   ]
  },
  {
   "cell_type": "code",
   "execution_count": 53,
   "id": "76659e08",
   "metadata": {},
   "outputs": [],
   "source": [
    "### Step 3a: Write a function to compute a leaf (hash)"
   ]
  },
  {
   "cell_type": "code",
   "execution_count": null,
   "id": "67ff1a06",
   "metadata": {},
   "outputs": [],
   "source": [
    "\n",
    "\n"
   ]
  },
  {
   "cell_type": "code",
   "execution_count": 54,
   "id": "03f4d9f0",
   "metadata": {},
   "outputs": [],
   "source": [
    "tree_bytes = [ bytes.fromhex(x) for x in tree ]"
   ]
  },
  {
   "cell_type": "code",
   "execution_count": 55,
   "id": "db7ca033",
   "metadata": {},
   "outputs": [
    {
     "name": "stdout",
     "output_type": "stream",
     "text": [
      "7ce84a5b9c296529029e07e014ffdfb9bb11d201bd84e4528d4ae46d6160ead6\n"
     ]
    }
   ],
   "source": [
    "from codes import size_compact_size\n",
    "leaf = make_leaf(tree_bytes[0])\n",
    "print(leaf.hex())"
   ]
  },
  {
   "cell_type": "code",
   "execution_count": 56,
   "id": "6110d5b8",
   "metadata": {},
   "outputs": [
    {
     "name": "stdout",
     "output_type": "stream",
     "text": [
      "nifty 7ce84a5b9c296529029e07e014ffdfb9bb11d201bd84e4528d4ae46d6160ead6\n",
      "c_nym bcf0ffea8d704f70610ddffb14a2cd74cbde7b4bf116605143f43fcdac862858\n",
      "j_nym 7ce84a5b9c296529029e07e014ffdfb9bb11d201bd84e4528d4ae46d6160ead6\n",
      "d_nym 7199c3d01803160ae132c34a5aaa9e5ba44725b0e6a483caa4de6804e77e2b01\n",
      "m_nym fa2b5d06e6fdf4ce947e00511fa6dd92294996846ec8a3b0b80d9363f0dec93a\n",
      "da_nym 5f305f38bd7306856e35ac66b1f0c528a76af3ecfb777c4afef45bb80b2a0a6a\n",
      "ch_nym 8ddbf7add8c35b385346ea0f1c3fa93bbfd9583c75ee097fe0c03c64cceccd0a\n",
      "n_nym 002a01ee216a40f3d68710b87d7fb0654a7d540e9baa3f5ba5a06170b82ed08d\n"
     ]
    }
   ],
   "source": [
    "for name, script in [ (a,bytes.fromhex(x)) for a,x in scripts]:\n",
    "    int_leaf = make_leaf(script)\n",
    "    print(name, int_leaf.hex())"
   ]
  },
  {
   "cell_type": "markdown",
   "id": "c370a08d",
   "metadata": {},
   "source": [
    "In this first example, where we only have one script, the \"merkle root\" is the leaf of the single script.\n",
    "\n",
    "Our root = leaf."
   ]
  },
  {
   "cell_type": "code",
   "execution_count": 57,
   "id": "b1f1d730",
   "metadata": {},
   "outputs": [
    {
     "name": "stdout",
     "output_type": "stream",
     "text": [
      "7ce84a5b9c296529029e07e014ffdfb9bb11d201bd84e4528d4ae46d6160ead6\n"
     ]
    }
   ],
   "source": [
    "root = leaf\n",
    "print(leaf.hex())"
   ]
  },
  {
   "cell_type": "markdown",
   "id": "8e5d80f2",
   "metadata": {},
   "source": [
    "### Step 4: Pick an internal pubkey\n",
    "\n",
    "Considerations to make when picking an *internal* pubkey:\n",
    "\n",
    "- Does it need to be spendable?\n",
    "- If yes, who has the keys to it?\n",
    "- If no, how can I prove it's unspendable?\n"
   ]
  },
  {
   "cell_type": "markdown",
   "id": "b82b528b",
   "metadata": {},
   "source": [
    "In our case, our key needs to be unspendable. We need to pick a point that we don't know the private key to.\n",
    "\n",
    "The spec (BIP341) recommends using the following algorithm (or something like it) to pick a point where the private key is unknowns.\n",
    "\n",
    "> One example of such a point is H = lift_x(0x50929b74c1a04954b78b4b6035e97a5e078a5a0f28ec96d547bfee9ace803ac0) which is constructed by taking the hash of the standard uncompressed encoding of the secp256k1 base point G as X coordinate. In order to avoid leaking the information that key path spending is not possible it is recommended to pick a fresh integer r in the range 0...n-1 uniformly at random and use H + rG as internal key. It is possible to prove that this internal key does not have a known discrete logarithm with respect to G by revealing r to a verifier who can then reconstruct how the internal key was created."
   ]
  },
  {
   "cell_type": "code",
   "execution_count": 58,
   "id": "4ba264fa",
   "metadata": {},
   "outputs": [],
   "source": [
    "# We define the nums_point as\n",
    "# H(G) => sha256(uncompressed)\n",
    "def nums_point(r=0):\n",
    "    Gx, Gy = coincurve.PrivateKey.from_int(1).public_key.point()\n",
    "    data = bytes([0x04]) + Gx.to_bytes(32, 'big') + Gy.to_bytes(32, 'big')\n",
    "    h = sha256(data).digest()\n",
    "    h_int = int.from_bytes(h, 'big')\n",
    "    H = lift_x(h_int)\n",
    "    if r > 0:\n",
    "        assert r < n\n",
    "        rG = coincurve.PrivateKey.from_int(r).public_key\n",
    "        return coincurve.PublicKey.combine_keys([rG, H])\n",
    "    return H"
   ]
  },
  {
   "cell_type": "code",
   "execution_count": 59,
   "id": "b3aa9c31",
   "metadata": {},
   "outputs": [
    {
     "name": "stdout",
     "output_type": "stream",
     "text": [
      "0250929b74c1a04954b78b4b6035e97a5e078a5a0f28ec96d547bfee9ace803ac0\n"
     ]
    }
   ],
   "source": [
    "internal_pubkey = nums_point()\n",
    "print(internal_pubkey.format().hex())\n",
    "\n",
    "pubkey_bytes = internal_pubkey.point()[0].to_bytes(32, 'big')"
   ]
  },
  {
   "cell_type": "markdown",
   "id": "e690169e",
   "metadata": {},
   "source": [
    "### Step 5: Make a tweak from the Merkle Root\n",
    "\n",
    "What is a tweak? Ideally, a tweak is really just a number (scalar).\n",
    "\n",
    "We're gonna take the root and a pubkey, make a hash out of both of them and then convert this hash to a number.\n",
    "\n",
    "We'll then use that number (scalar) as if it were a private key and find the curve point at that value."
   ]
  },
  {
   "cell_type": "code",
   "execution_count": 60,
   "id": "814dac66",
   "metadata": {},
   "outputs": [],
   "source": [
    "def make_tweak_pubkey(pubkey, merkle_root_bytes):\n",
    "    # Find the bytes for the x-value of the internal pubkey\n",
    "    pubkey_bytes = pubkey.point()[0].to_bytes(32, 'big')\n",
    "    \n",
    "    # Compute the tweak hash (TapTweak tag + pubkey + merkle root)\n",
    "    tweak_bytes = tag_hash(b'TapTweak', pubkey_bytes + merkle_root_bytes)\n",
    "    # Convert that hash into a scalar (so we can make it a point)\n",
    "    tweak_int = int.from_bytes(tweak_bytes, 'big')\n",
    "    # Make sure our tweak is inside the \"point range (n)\"\n",
    "    assert tweak_int < n\n",
    "    \n",
    "    # Multiply the tweak by the Generator Point (G) which gives us T\n",
    "    T = coincurve.PrivateKey.from_int(tweak_int).public_key\n",
    "    \n",
    "    return T"
   ]
  },
  {
   "cell_type": "code",
   "execution_count": 61,
   "id": "7bfcd0e5",
   "metadata": {},
   "outputs": [
    {
     "name": "stdout",
     "output_type": "stream",
     "text": [
      "03276d6adba4bf408222b0923821f9d6286d7d2e0750f99fab541e199c224e2b74\n"
     ]
    }
   ],
   "source": [
    "T = make_tweak_pubkey(internal_pubkey, root)\n",
    "print(T.format().hex())"
   ]
  },
  {
   "cell_type": "code",
   "execution_count": 62,
   "id": "1ed4d497",
   "metadata": {},
   "outputs": [
    {
     "name": "stdout",
     "output_type": "stream",
     "text": [
      "nifty 03276d6adba4bf408222b0923821f9d6286d7d2e0750f99fab541e199c224e2b74\n",
      "c_nym 02d50363f23b5712ddaf1e2f1ddbb754f95607e99e26a8983da8c44c7525c43434\n",
      "j_nym 03276d6adba4bf408222b0923821f9d6286d7d2e0750f99fab541e199c224e2b74\n",
      "d_nym 02e134c26d8e2e52f1339507d00c698a840bf8dd8e6480b9b6fdc2d803805e4b50\n",
      "m_nym 03154f265ff85914f6d7e8506663d89cf12fa2ac167946cfe97f5eec3f4a934420\n",
      "da_nym 031dd4af1b86eae0f26b5235f33e121b82af19d25827a4b79432a3c9d52424129d\n",
      "ch_nym 0214decaa772191bdd99d46bf9ba0578f9dd97a900baf49aa55300c87cbfdd9223\n",
      "n_nym 021410525faa15e71bb2290bb425043f220639ae89815e768ff9fcef55f017386b\n"
     ]
    }
   ],
   "source": [
    "for name, script in [ (a,bytes.fromhex(x)) for a,x in scripts]:\n",
    "    root = make_leaf(script)\n",
    "    T = make_tweak_pubkey(internal_pubkey, root)\n",
    "    print(name, T.format().hex())"
   ]
  },
  {
   "cell_type": "markdown",
   "id": "5c1853d0",
   "metadata": {},
   "source": [
    "Now we have our Tweak as a point. All we need to do is combine it with the internal pubkey to get an external pubkey."
   ]
  },
  {
   "cell_type": "markdown",
   "id": "c2be1cc6",
   "metadata": {},
   "source": [
    "### Step 6: Add Internal Pubkey to Tweak Pubkey\n",
    "\n",
    "For some reason the spec makes everything more fancy that it needs to be.\n",
    "\n",
    "The biggest difference is that we \"promote\" the internal pubkey to a x-only pubkey (even) before we add it to the tweak."
   ]
  },
  {
   "cell_type": "code",
   "execution_count": 63,
   "id": "fd506493",
   "metadata": {},
   "outputs": [],
   "source": [
    "def make_external_pubkey(pubkey, T):    \n",
    "    P = lift_x(pubkey.point()[0])\n",
    "    Q = coincurve.PublicKey.combine_keys([P, T])\n",
    "    return Q"
   ]
  },
  {
   "cell_type": "code",
   "execution_count": 64,
   "id": "5d5c96a1",
   "metadata": {},
   "outputs": [
    {
     "name": "stdout",
     "output_type": "stream",
     "text": [
      "0250929b74c1a04954b78b4b6035e97a5e078a5a0f28ec96d547bfee9ace803ac0\n",
      "nifty root: 7ce84a5b9c296529029e07e014ffdfb9bb11d201bd84e4528d4ae46d6160ead6\n",
      "nifty tweak 03276d6adba4bf408222b0923821f9d6286d7d2e0750f99fab541e199c224e2b74\n",
      "nifty! 029970f40840ae66e7f420877f2b48d331eda1da215d05ec1de6bd6cd4ea45ab9f\n"
     ]
    }
   ],
   "source": [
    "nifty\n",
    "\n",
    "nifty_leaf = make_leaf(bytes.fromhex(nifty))\n",
    "print(internal_pubkey.format().hex())\n",
    "print('nifty root:', nifty_leaf.hex())\n",
    "nifty_T = make_tweak_pubkey(internal_pubkey, nifty_leaf)\n",
    "print('nifty tweak', nifty_T.format().hex())\n",
    "nifty_Q = make_external_pubkey(internal_pubkey, nifty_T)\n",
    "print('nifty!', nifty_Q.format().hex())"
   ]
  },
  {
   "cell_type": "code",
   "execution_count": 65,
   "id": "616eb83a",
   "metadata": {
    "scrolled": true
   },
   "outputs": [
    {
     "name": "stdout",
     "output_type": "stream",
     "text": [
      "nifty 029970f40840ae66e7f420877f2b48d331eda1da215d05ec1de6bd6cd4ea45ab9f\n",
      "c_nym 025a62e8ead0b9f60f5a91fd69d4044b531e086823cbab7b67ccbb312509eb9fb5\n",
      "j_nym 029970f40840ae66e7f420877f2b48d331eda1da215d05ec1de6bd6cd4ea45ab9f\n",
      "d_nym 028df34c51844750dc133f9521285ec78c92a8ba336d435951e8f1dc68611aca58\n",
      "m_nym 03311eb2f7a8ca651980285fb6bbf2c3d548191cdb9e6ba902562fffe35fa28aab\n",
      "da_nym 03f933d817c628bb0e249a44138753de965d271fb2b347daf54b24225cac8bb1a3\n",
      "ch_nym 030c2d7cf15ed86872eb9957326fe706ec54e2d100e03505538c54cae5919453ee\n",
      "n_nym 02806750c9417bbb6b017bd96a47bcf1372120310d0cee67e5eeff5cd5bf28bd0e\n"
     ]
    }
   ],
   "source": [
    "for name, script in [ (a, bytes.fromhex(x)) for a,x in scripts]:\n",
    "    root = make_leaf(script)\n",
    "    T = make_tweak_pubkey(internal_pubkey, root)\n",
    "    Q = make_external_pubkey(internal_pubkey, T)\n",
    "    print(name, Q.format().hex())"
   ]
  },
  {
   "cell_type": "markdown",
   "id": "0187b71d",
   "metadata": {},
   "source": [
    "### Step 7: Lock bitcoin up to your external pubkey! (but first make a P2TR script)\n",
    "\n",
    "We'll take Q, drop the parity byte at the front and make this into a P2TR script."
   ]
  },
  {
   "cell_type": "code",
   "execution_count": 66,
   "id": "89a59b16",
   "metadata": {},
   "outputs": [
    {
     "name": "stdout",
     "output_type": "stream",
     "text": [
      "51209970f40840ae66e7f420877f2b48d331eda1da215d05ec1de6bd6cd4ea45ab9f\n"
     ]
    }
   ],
   "source": [
    "def make_p2tr(Q):\n",
    "    Qx_bytes = Q.point()[0].to_bytes(32, 'big')\n",
    "    witness_version = 0x51\n",
    "    return bytes([witness_version]) + size_compact_size(len(Qx_bytes)) + Qx_bytes\n",
    "\n",
    "\n",
    "print(make_p2tr(nifty_Q).hex())\n",
    "nifty_script = make_p2tr(nifty_Q).hex()"
   ]
  },
  {
   "cell_type": "code",
   "execution_count": 67,
   "id": "74e80ccf",
   "metadata": {},
   "outputs": [
    {
     "name": "stdout",
     "output_type": "stream",
     "text": [
      "bcrt1pn9c0gzzq4enw0apqsaljkjxnx8k6rk3pt5z7c80xh4kdf6j94w0s4fwuky\n"
     ]
    }
   ],
   "source": [
    "# FIXME: add `jq` to nix-shell\n",
    "address_arr = !bitcoin-cli -regtest decodescript \"$nifty_script\" | jq -r .address\n",
    "print(address_arr[0])\n",
    "address = address_arr[0]"
   ]
  },
  {
   "cell_type": "code",
   "execution_count": 68,
   "id": "ad393799",
   "metadata": {},
   "outputs": [
    {
     "name": "stdout",
     "output_type": "stream",
     "text": [
      "error code: -4\n",
      "error message:\n",
      "Wallet file verification failed. Failed to create database path '/home/niftynei/.bitcoin/regtest/wallets/base58'. Database already exists.\n"
     ]
    }
   ],
   "source": [
    "!bitcoin-cli -regtest createwallet base58"
   ]
  },
  {
   "cell_type": "code",
   "execution_count": 69,
   "id": "aafc2b8e",
   "metadata": {},
   "outputs": [
    {
     "name": "stdout",
     "output_type": "stream",
     "text": [
      "{\n",
      "  \"address\": \"bcrt1q6fk3wd5nuuluz6493mwgzvglfatq9kgtu0pm2y\",\n",
      "  \"blocks\": [\n",
      "    \"0ff8028cb1c2b9c880ce796948efe79dbd37b43d2bf295a64063a8a3d65a036d\",\n",
      "    \"61aa413dceed6fec371c5d35539a1d7304345048d5166c016ef598d6122241ae\",\n",
      "    \"1cc1ffb92c2e6b6a09831efd58760a3b53d1bfaebaebee12dbe0b7ca0a3812c6\",\n",
      "    \"5c104cb017986d803a7878682289bf11802c8847830d9ff5f7d77d35d7724dad\",\n",
      "    \"63c12565c7403f5ac00a5a1861b613d2825fe93d62c1eb487a03621f24007f6c\",\n",
      "    \"6c61874373ffec9d788446e54dca190e0e768376d68c361ee9b5665a9725e8dc\",\n",
      "    \"08d9f6be36b38caf64cced910ae9a452b39789625a07bdd5985c2c3fe7891f00\",\n",
      "    \"0665072aca3ac45e247cee2581e16826a5eb04ed1fefe7ad6df83be6ff2cc0eb\",\n",
      "    \"51424c2d32f9206c30c95d351a2bf46cd47632a80012cad76df4c3e0899356d5\",\n",
      "    \"65d650cb3c3bcaaf499a960b3f879f673d40029e70d2a5d32cce54e1ccdca9b1\",\n",
      "    \"331ec93386a72c5bf819559f5785db6735e624d7e274e8f50a1d480cf900f0f4\",\n",
      "    \"1cc8cbdff3fa6e99883321f60d6ad966cd6680090121a695a30cf2b38fb50488\",\n",
      "    \"362030fc0f4aa2cd78e9b234f595f30b71ff339d6d3a7946478dc92c4befd40d\",\n",
      "    \"05c624fb3e7a31a14821ab784b380c6dde07cea30efc53ed0079e1049d88410f\",\n",
      "    \"33aacb452bccc2d43d6ab363b138c5ed13b1c2eab73ffc43e5c21d411fe9b577\",\n",
      "    \"20c229d78e8ce34bf6bc259bef27ece40bae0629f1c0a72712c5fc08d6f1793d\",\n",
      "    \"7635695a674c974b61f534fe14517bc9af0cfbaa8b3b7bd19e901cd5753a5480\",\n",
      "    \"6db6a46b3f8af4bb428f4e010a55a4b7cb2ecf6cb7a6b15bc736d8adc9428513\",\n",
      "    \"756bdf7a8412cf4f0dc81f64d252d8d6346db009f57323aa53733cf164fafdf6\",\n",
      "    \"2babb6ce64b4a2ee625eebd7bfe4e292ed084a5f84d6b786669ff7b817237af6\",\n",
      "    \"7bc877fcf6ca738b62656eeaadc498cdd01f251d8802c439333a937f559e2443\",\n",
      "    \"3031663e094d5d858ed7c7b9727edb23971181aa523f339ee45262b4f4393b60\",\n",
      "    \"22dde948c6706292839c3a2a6ff787b542e48461f48f5d502037c731128c33d3\",\n",
      "    \"4e004aad3db21165c633a5cc49078bdd53bbdad4353e130095f285da6dfca96f\",\n",
      "    \"134a1f18fbcbed871b78ed4ec57a532c8a570be9a061842cffdbba5aff54c691\",\n",
      "    \"1a1184d2c94699a90a4f1ee116b1f5fd89a2bb3ef8af70d2bac5156663053b4f\",\n",
      "    \"4f78366f76823576e0168172dc3902922a0a99857a326311c9b21caab329ec3c\",\n",
      "    \"088b76c59768a1fc505f91c54638519d9c65a17e8bd1f6d768708ce172d2063c\",\n",
      "    \"09c04d76ae620d3958b59534c6654ef7305fa343d7bc1a716fc7bf8bdd78622c\",\n",
      "    \"7769ebd60a71322c09f56e7877911e995fdd416b11ca5ce0abed9e8e40033c1e\",\n",
      "    \"64e2ae937e09d42d6858f3d4c60155dac0b9db8b57a9831c6b2fa9cff73b8887\",\n",
      "    \"0c99a3f2ee0b170edca8790c6bde01ee3281380acfebf99078d7fcabd3bb97f6\",\n",
      "    \"763f5c58fe677a5fcbe776b9b5a75b3b3bc7bea11ad6c526ea7c0794681170a8\",\n",
      "    \"3336146f6d04c3c5c86974d4dff2fe8d2e689525e97b3cf102a3e15658582dc7\",\n",
      "    \"317ad528e964e16aad3d9a9f697907305de3a0a1b8524c9af91d7a744b3996c4\",\n",
      "    \"19091e071ca3ff627798508934eedfd6fbf8d678603a1184c04591ba8d243c94\",\n",
      "    \"4a0eace4f4d3c6a2549bb0d841965b3cbe86267d94f5610292f6e70904b409d4\",\n",
      "    \"3a2ac3292f43436a9e41685650c8ea22538527fdc7c90e58c06109c4dd63ad3d\",\n",
      "    \"40b29567807d39ba5ad05b8fa590c33973ca875421c05434e7f3a81b5dbf2f26\",\n",
      "    \"30c83c22c5c83f39876c53aae0649c4ed08b4846d2fb9450cd68ba0cbec523b5\",\n",
      "    \"6a516dd28b9387145d5a011875988b311b23517e3839d68530579a98bad6743d\",\n",
      "    \"789989fd23ed80c3f7aaad3780a95955cbe77fe6a6e1cb8e78265a9ec6b983d1\",\n",
      "    \"353a4af3e73c60ad76bb627f3e6dd641247a273015ebcce88e9491858b41e3c9\",\n",
      "    \"4ab4370ad2825fc7a37754f8fbf31595f70365afc01388303468d62e288564d6\",\n",
      "    \"14e2351339e882584f7ab12aac5463526a9c1df58d21cfe9ea01bae007cdf2d4\",\n",
      "    \"7666009dd9c752df86f8caf325bbdfbb003500f4594f1d203c070b551ddd1dec\",\n",
      "    \"2575f2efaf01c4e4bde52f49dc2d632615b4b21cf892267ef47ac3a727f8cd72\",\n",
      "    \"748589728305878d9c349c7dfcc73933bdf1fa537badb13f2f65e9a57464a1f8\",\n",
      "    \"4cc2db6853db7ce3a694212bb668f80f5262a35c24567cf50279f0d8e6088eeb\",\n",
      "    \"4efd5ac61c51b218dafcec5699d47d5882e59728854262683d163ce30154b176\",\n",
      "    \"229acbf2556fc5abc4c15e3a30b8643f4f6ccb45c86978454c0cc180c792ca16\",\n",
      "    \"54b66c8c6b73ca071d2d5a60a391c3d0a0e95dcd0be3a6ed3be9b8c82d84fd32\",\n",
      "    \"5fe3d4e5e123a551bffdf3cfb80ab978b6dbc0c40aec2dd4738e37d81ee6a028\",\n",
      "    \"448801ee1010c7da61838b0815641e79326ac3bc5ef43f687d65e37e3ef73796\",\n",
      "    \"6e4f5a56a0178fde072188e248042c4f6ab71974a951b0abeaa42a60b95b8ac1\",\n",
      "    \"7ff09f55afbdacd90915f0588639281b943e6737853d70f015ef652a05d6beed\",\n",
      "    \"6f498f1d5df03e65c853607720dc4e87f6e3f3edc504ee4a828011b9c653defc\",\n",
      "    \"5d53bf0a4c86ed5edfdfbe8dfecb1c605a9fe8e00c2a44095068caa4913d7f2f\",\n",
      "    \"78ff8f6faa433889b43a7d957b475515f26e7d5d54449df1f0eb841fd448249e\",\n",
      "    \"778372a934195e9624ead2ad9c4ec2cf3c308af82d6182cb30b7f7aa4f7f8553\",\n",
      "    \"522f6730ff4427103eafef7b1fdc676ceff264d217e03928fdbb7749b0c4432d\",\n",
      "    \"3b65153bc2c26266305979b4d14f336be8887de4b861ff9e6c8bcae3a0ad180d\",\n",
      "    \"60d4bce3e6f1205cbc3ac50b5cc57460d328242fcfbe99757d21601344014783\",\n",
      "    \"7abaa32bf1a33dea249ddb40d55b015e49605355bf7ad988c41fd7f93ebd091f\",\n",
      "    \"17f8ceba978b29813c4c8b2a497d591be7b985c84637ebb1590aa61db5a53c1f\",\n",
      "    \"2fec49235905846b30829b985ba9185822b587214fa04f716878608dca88a067\",\n",
      "    \"1df1d6587c454851c83a2ce6edf986b9d194c4b2bba14a8759c9556fad71b88f\",\n",
      "    \"518510bc588aa1654864ee01ad01e05a980901d55d30242af14605987f3229e7\",\n",
      "    \"4cd0bf657dafea438c83101d1db5994a12f71fb700f208d1fbc4ddf014e5826b\",\n",
      "    \"13711b867b3f2db5ef55228115af3dba74688f6f48ff34d0b2fe90aeb62e1fe5\",\n",
      "    \"547ae182f1b1a500fb4adaeaaddd6a66f4f767917f86cc7b38603428a603c6db\",\n",
      "    \"3f4148482b67770a8f1079099cfe95ae6d05aab81ae80a76f0c8770230fcca50\",\n",
      "    \"3c21b0a2792192ba03c059befa5fcb3fc955cfd472490c3f56f290b480c420ab\",\n",
      "    \"1ce6f7c37b1ea501e71d32a6139c017e4a607d4dea723ed10d9c7c9df6116b4d\",\n",
      "    \"07e81b0f053d4e50229730212f908b4701f5e174ce22b463f880aeb2e34a7a45\",\n",
      "    \"70e6c3f61d1462e78c742c706f5f4a30df2aeb0a2c72f41dd78958380f740b54\",\n",
      "    \"5c86090c975d8c6a87d2b543858f1c6a95ebf5b5a9f884f5f229d5b2a9a95787\",\n",
      "    \"27e3bad879f1ca148ad552a53e24a1d736e2390e403ef6c1e62617e3fe148e31\",\n",
      "    \"174390cd1262eedbf6c8b867ce198d1cfa08a7e0a1cad1f1b3577992c2fc2902\",\n",
      "    \"7196c41d1fcdb4870de1aa85d6016be4e4bb43423327299026a0830b49dbf15e\",\n",
      "    \"555c8d0ab2007f6d3f332867fa51e161e48a36b4a6d37321d630aa2f2d3f57b7\",\n",
      "    \"37b2ddbb355c16765a94bdfd5ec989970cf482b7dad05eb467cb5cf759c31c51\",\n",
      "    \"3a61991a95fad9749243a7d90032017c465d0a475d67ca361bfbe7c34d9799d2\",\n",
      "    \"423dce8d7838b7105f57c27c35600aa528f2062fe68f5d5c86311cc8fb4c9fb9\",\n",
      "    \"35b55e315ff39bb8d4cb527ed3d5e68d9b6c2bb9d46630eb665e0a2123bf6d7b\",\n",
      "    \"401f933980caf70d3b2bfc39a78a17bcc57e935d85da9bae574a9ced4b2d5a02\",\n",
      "    \"276cb6d6086dd96a63b8ba03dbc6e3a6cec0fff40c2a0e94cd68a3fff198bce6\",\n",
      "    \"5a9eea602579ab27c1a1a7f5c4e1c26bb998ade4af08adadf6e2198240c8877b\",\n",
      "    \"00644a1e1c56d651e2fba7f3f14bbbc3b4807c0ad2c671c41389632cf94dabb9\",\n",
      "    \"467153a466ef113a83793e128f37f83e89f3b66dd5c1f4ebc3be6e0785eb9719\",\n",
      "    \"2155779c70a834c371c0f433cc3dc4c16c83344430384fd01131b06fb15bb19e\",\n",
      "    \"53bc5799c2ed789b611beb04aec470c508161e0a64895039ee73329ed72ac2cd\",\n",
      "    \"39bc41fafe3eb787f3cb1715c01be548426e6c35325a3e6c301daed02fd98bb9\",\n",
      "    \"31e89e5220235eb95bd86d10fc4fbb850603e417f5ce8f4639699646b7dc534a\",\n",
      "    \"718944d9ff47fbda7c700d26286ea6ee22cc4f6d9780627f42f438402eee90a3\",\n",
      "    \"55cf3c8643e5406088e25db7a4458699f42d52971774d03712eed6a2c1e78671\",\n",
      "    \"36dcf4b7e3208b82a94805b821886af88b156717989d05f6c2051db5ebe47298\",\n",
      "    \"00030f25e210405d00c36c69a76027de5e65144c90947f55830c4f16dde9991e\",\n",
      "    \"2852384b812bb8ad00610c2589923ad5ab198677c6e4775406de56e6de4cb8f2\",\n",
      "    \"41065891934ed2e28fe46f80596bff3135352bd82788b3d974cab1da5d54cad5\",\n",
      "    \"2cad4b3d013b9ee80448128313c38ac8a1408fee576a5fea7598d47ac9b4bc4e\"\n",
      "  ]\n",
      "}\n"
     ]
    }
   ],
   "source": [
    "!bitcoin-cli -regtest -generate 101"
   ]
  },
  {
   "cell_type": "code",
   "execution_count": 70,
   "id": "497c3809",
   "metadata": {},
   "outputs": [
    {
     "name": "stdout",
     "output_type": "stream",
     "text": [
      "f1f718e318b37cb997212ae247e6280a72f2eb731f2c44bd9af53861c665246e\n"
     ]
    }
   ],
   "source": [
    "!bitcoin-cli -regtest sendtoaddress \"$address\" 1.0"
   ]
  },
  {
   "cell_type": "code",
   "execution_count": 71,
   "id": "4059285c",
   "metadata": {
    "scrolled": true
   },
   "outputs": [
    {
     "name": "stdout",
     "output_type": "stream",
     "text": [
      "{\n",
      "  \"txid\": \"d57032ce2ac09efc013ed6786d508e8912e3486d4fddab5e4982fcdb161155a4\",\n",
      "  \"hash\": \"28b19d397de496236909ea2d2a3eb70802b31c309c4297d0ebc21d02b9273e09\",\n",
      "  \"version\": 2,\n",
      "  \"size\": 246,\n",
      "  \"vsize\": 165,\n",
      "  \"weight\": 657,\n",
      "  \"locktime\": 204,\n",
      "  \"vin\": [\n",
      "    {\n",
      "      \"txid\": \"2036ba3318a97d1afc4c5928ed207bd0338c0e0fe9f1e5f9d3a449c4999da442\",\n",
      "      \"vout\": 0,\n",
      "      \"scriptSig\": {\n",
      "        \"asm\": \"\",\n",
      "        \"hex\": \"\"\n",
      "      },\n",
      "      \"txinwitness\": [\n",
      "        \"304402207209c8815fd3682acc1e56c2b31ce81424465fea29eb5c05db11bd47260470fd02204173b179b4895ac7f4a7a5ab5811520e19e9dde41e4023e2e16a5ae211c4bc3301\",\n",
      "        \"031cd06e632be8477b8d48ec12fa2a3658026c494976591fe013f27852a9b55cea\"\n",
      "      ],\n",
      "      \"sequence\": 4294967294\n",
      "    }\n",
      "  ],\n",
      "  \"vout\": [\n",
      "    {\n",
      "      \"value\": 48.99999835,\n",
      "      \"n\": 0,\n",
      "      \"scriptPubKey\": {\n",
      "        \"asm\": \"1 9486f5da82a06bbdea6d1534f4f700bba1265440d95d2b9f5967fadef5324a59\",\n",
      "        \"desc\": \"rawtr(9486f5da82a06bbdea6d1534f4f700bba1265440d95d2b9f5967fadef5324a59)#rs4nmeaf\",\n",
      "        \"hex\": \"51209486f5da82a06bbdea6d1534f4f700bba1265440d95d2b9f5967fadef5324a59\",\n",
      "        \"address\": \"bcrt1pjjr0tk5z5p4mm6ndz560facqhwsjv4zqm9wjh86evladaafjffvsdf36rd\",\n",
      "        \"type\": \"witness_v1_taproot\"\n",
      "      }\n",
      "    },\n",
      "    {\n",
      "      \"value\": 1.00000000,\n",
      "      \"n\": 1,\n",
      "      \"scriptPubKey\": {\n",
      "        \"asm\": \"1 9970f40840ae66e7f420877f2b48d331eda1da215d05ec1de6bd6cd4ea45ab9f\",\n",
      "        \"desc\": \"rawtr(9970f40840ae66e7f420877f2b48d331eda1da215d05ec1de6bd6cd4ea45ab9f)#46707ncr\",\n",
      "        \"hex\": \"51209970f40840ae66e7f420877f2b48d331eda1da215d05ec1de6bd6cd4ea45ab9f\",\n",
      "        \"address\": \"bcrt1pn9c0gzzq4enw0apqsaljkjxnx8k6rk3pt5z7c80xh4kdf6j94w0s4fwuky\",\n",
      "        \"type\": \"witness_v1_taproot\"\n",
      "      }\n",
      "    }\n",
      "  ],\n",
      "  \"hex\": \"0200000000010142a49d99c449a4d3f9e5f1e90f0e8c33d07b20ed28594cfc1a7da91833ba36200000000000feffffff025b101024010000002251209486f5da82a06bbdea6d1534f4f700bba1265440d95d2b9f5967fadef5324a5900e1f505000000002251209970f40840ae66e7f420877f2b48d331eda1da215d05ec1de6bd6cd4ea45ab9f0247304402207209c8815fd3682acc1e56c2b31ce81424465fea29eb5c05db11bd47260470fd02204173b179b4895ac7f4a7a5ab5811520e19e9dde41e4023e2e16a5ae211c4bc330121031cd06e632be8477b8d48ec12fa2a3658026c494976591fe013f27852a9b55ceacc000000\",\n",
      "  \"blockhash\": \"1e3d9ecb1dae24506e626033231358f1f136d266f2a3f2872de0b0499db92f6f\",\n",
      "  \"confirmations\": 3019,\n",
      "  \"time\": 1699992933,\n",
      "  \"blocktime\": 1699992933\n",
      "}\n"
     ]
    }
   ],
   "source": [
    "!bitcoin-cli -regtest getrawtransaction d57032ce2ac09efc013ed6786d508e8912e3486d4fddab5e4982fcdb161155a4 true"
   ]
  },
  {
   "cell_type": "markdown",
   "id": "00012dcc",
   "metadata": {},
   "source": [
    "## Spending a Tapscript!\n",
    "\n",
    "We should have a transaction output with bitcoin in it that's locked to your custom written script.\n",
    "\n",
    "Now we want to create a transaction that spends that output.\n",
    "\n",
    "My output is in transaction d57032ce2ac09efc013ed6786d508e8912e3486d4fddab5e4982fcdb161155a4 and the index is 1\n",
    "\n",
    "In other words the outpoint for my bitcoins is `d57032ce2ac09efc013ed6786d508e8912e3486d4fddab5e4982fcdb161155a4:1`\n",
    "\n",
    "Let's a build a transaction that spends this!"
   ]
  },
  {
   "cell_type": "code",
   "execution_count": 72,
   "id": "89435d1d",
   "metadata": {},
   "outputs": [
    {
     "name": "stdout",
     "output_type": "stream",
     "text": [
      "a4551116dbfc82495eabdd4f6d48e312898e506d78d63e01fc9ec02ace3270d5\n",
      "70dff50500000000\n"
     ]
    }
   ],
   "source": [
    "txid = 'd57032ce2ac09efc013ed6786d508e8912e3486d4fddab5e4982fcdb161155a4'\n",
    "reverse_txid = bytes.fromhex(txid)[::-1].hex()\n",
    "print(reverse_txid)\n",
    "\n",
    "amount = (1 * 10 ** 8 - 400).to_bytes(8, 'little')\n",
    "print(amount.hex())"
   ]
  },
  {
   "cell_type": "code",
   "execution_count": 73,
   "id": "3a0da9ab",
   "metadata": {},
   "outputs": [
    {
     "name": "stdout",
     "output_type": "stream",
     "text": [
      "bcrt1ph4et233hhmqtw4v87a36ngenezpxery22k5a60tnn7x7arlhlvtq8u668f\n"
     ]
    }
   ],
   "source": [
    "!bitcoin-cli -regtest getnewaddress \"\" bech32m"
   ]
  },
  {
   "cell_type": "code",
   "execution_count": 74,
   "id": "2fb31a78",
   "metadata": {},
   "outputs": [
    {
     "name": "stdout",
     "output_type": "stream",
     "text": [
      "512023baba6e60c5424676408ddbbe485d2b5c2fc7f94815a76a0dbacc945aae2100\n"
     ]
    }
   ],
   "source": [
    "!bitcoin-cli -regtest getaddressinfo bcrt1pywat5mnqc4pyvajq3hdmujza9dwzl3lefq26w6sdhtxfgk4wyyqqsvx823 | jq -r .scriptPubKey"
   ]
  },
  {
   "cell_type": "markdown",
   "id": "d23389d3",
   "metadata": {},
   "source": [
    "version: 02000000\n",
    "marker+flag: 0001\n",
    "inputs: 01\n",
    "    txid: a4551116dbfc82495eabdd4f6d48e312898e506d78d63e01fc9ec02ace3270d5\n",
    "    vout: 01000000\n",
    "    scriptSig: 00\n",
    "    sequence: ffffffff\n",
    "outputs: 01\n",
    "    amounts: 70dff50500000000\n",
    "    scriptPubKey: 22 512023baba6e60c5424676408ddbbe485d2b5c2fc7f94815a76a0dbacc945aae2100\n",
    "witnesses:\n",
    "    ........ unsolved problem ........\n",
    "locktime: 00000000"
   ]
  },
  {
   "cell_type": "code",
   "execution_count": 75,
   "id": "e6f937c3",
   "metadata": {},
   "outputs": [
    {
     "name": "stdout",
     "output_type": "stream",
     "text": [
      "{\n",
      "  \"txid\": \"65c5ee8463feeb72112a458216e8600e5f386a685cba5b63dcaa4a18d6c51327\",\n",
      "  \"hash\": \"65c5ee8463feeb72112a458216e8600e5f386a685cba5b63dcaa4a18d6c51327\",\n",
      "  \"version\": 2,\n",
      "  \"size\": 94,\n",
      "  \"vsize\": 94,\n",
      "  \"weight\": 376,\n",
      "  \"locktime\": 0,\n",
      "  \"vin\": [\n",
      "    {\n",
      "      \"txid\": \"d57032ce2ac09efc013ed6786d508e8912e3486d4fddab5e4982fcdb161155a4\",\n",
      "      \"vout\": 1,\n",
      "      \"scriptSig\": {\n",
      "        \"asm\": \"\",\n",
      "        \"hex\": \"\"\n",
      "      },\n",
      "      \"sequence\": 4294967295\n",
      "    }\n",
      "  ],\n",
      "  \"vout\": [\n",
      "    {\n",
      "      \"value\": 0.99999600,\n",
      "      \"n\": 0,\n",
      "      \"scriptPubKey\": {\n",
      "        \"asm\": \"1 23baba6e60c5424676408ddbbe485d2b5c2fc7f94815a76a0dbacc945aae2100\",\n",
      "        \"desc\": \"rawtr(23baba6e60c5424676408ddbbe485d2b5c2fc7f94815a76a0dbacc945aae2100)#a5cmxh3d\",\n",
      "        \"hex\": \"512023baba6e60c5424676408ddbbe485d2b5c2fc7f94815a76a0dbacc945aae2100\",\n",
      "        \"address\": \"bcrt1pywat5mnqc4pyvajq3hdmujza9dwzl3lefq26w6sdhtxfgk4wyyqqsvx823\",\n",
      "        \"type\": \"witness_v1_taproot\"\n",
      "      }\n",
      "    }\n",
      "  ]\n",
      "}\n"
     ]
    }
   ],
   "source": [
    "tx = \"0200000001a4551116dbfc82495eabdd4f6d48e312898e506d78d63e01fc9ec02ace3270d50100000000ffffffff0170dff5050000000022512023baba6e60c5424676408ddbbe485d2b5c2fc7f94815a76a0dbacc945aae210000000000\"\n",
    "!bitcoin-cli -regtest decoderawtransaction \"$tx\""
   ]
  },
  {
   "cell_type": "markdown",
   "id": "e790bdaa",
   "metadata": {},
   "source": [
    "### What's in the witness stack for a leaf spend?\n",
    "\n",
    "We need to put into the witness stack:\n",
    " - the unlocking script\n",
    " - original leaf script\n",
    " - \"control block\": this has all the data you need to verify the external public key\n",
    " \n",
    " #### Nifty's Unlock Script is...\n",
    " \n",
    " Well my original leaf script"
   ]
  },
  {
   "cell_type": "code",
   "execution_count": 76,
   "id": "f04f0f96",
   "metadata": {},
   "outputs": [
    {
     "name": "stdout",
     "output_type": "stream",
     "text": [
      "\u001b[0;32m\"4 OP_ADD 8 OP_EQUAL\"\u001b[0m\n"
     ]
    }
   ],
   "source": [
    "!bitcoin-cli -regtest decodescript \"$nifty\" | jq .asm"
   ]
  },
  {
   "cell_type": "markdown",
   "id": "c805d364",
   "metadata": {},
   "source": [
    "Q: How do I unlock this? Great question.\n",
    "\n",
    "Short A: 04\n",
    "Long A: The number \"4\". In script, we'd use the opcode 'OP_4'\n",
    "but in witnesses we can't use opcodes, so we just do a \"push of the byte 04\"."
   ]
  },
  {
   "cell_type": "code",
   "execution_count": 77,
   "id": "1a70868f",
   "metadata": {},
   "outputs": [
    {
     "name": "stdout",
     "output_type": "stream",
     "text": [
      "{\n",
      "  \"asm\": \"4\",\n",
      "  \"desc\": \"raw(0104)#0k50a3tq\",\n",
      "  \"type\": \"nonstandard\",\n",
      "  \"p2sh\": \"2Mw9gEB6BJmmzgiWRsRQn7qoRFMC4nRuDjj\",\n",
      "  \"segwit\": {\n",
      "    \"asm\": \"0 a8d5dd63fba471ebcb1f3e8f7c1e1879b7152a6e7298a91ce119a63400ade7c5\",\n",
      "    \"desc\": \"addr(bcrt1q4r2a6clm53c7hjcl868hc8sc0xm322nww2v2j88prxnrgq9dulzsg4kzpw)#u5jrne5w\",\n",
      "    \"hex\": \"0020a8d5dd63fba471ebcb1f3e8f7c1e1879b7152a6e7298a91ce119a63400ade7c5\",\n",
      "    \"address\": \"bcrt1q4r2a6clm53c7hjcl868hc8sc0xm322nww2v2j88prxnrgq9dulzsg4kzpw\",\n",
      "    \"type\": \"witness_v0_scripthash\",\n",
      "    \"p2sh-segwit\": \"2Mzgw3Nrw3zeyZ4b7FHESXmhtmfRtaveC97\"\n",
      "  }\n",
      "}\n"
     ]
    }
   ],
   "source": [
    "!bitcoin-cli -regtest decodescript 0104"
   ]
  },
  {
   "cell_type": "markdown",
   "id": "11b564f5",
   "metadata": {},
   "source": [
    "- Unlocking script: 04\n",
    "- Original leaf data??: c0 + len(nifty) + 54935887 (variable: nifty)\n",
    "- Control block"
   ]
  },
  {
   "cell_type": "markdown",
   "id": "44ca41ff",
   "metadata": {},
   "source": [
    "#### How do we figure out a control block?\n",
    "\n",
    "\n",
    "A control block has three parts.\n",
    "\n",
    "- version byte\n",
    "- the x-only pubkey of the internal key\n",
    "- proof of inclusion"
   ]
  },
  {
   "cell_type": "markdown",
   "id": "edb0d3c9",
   "metadata": {},
   "source": [
    "##### Version Byte\n",
    "\n",
    "We're going to need Q to figure this out.\n",
    "\n",
    "The base value for the version byte is `c0`.\n",
    "With the following modification: if Q is odd, add 1 to the base value.\n",
    "\n",
    "If Q is even (02): 0xc0\n",
    "\n",
    "If Q is odd (03):  0xc1"
   ]
  },
  {
   "cell_type": "code",
   "execution_count": null,
   "id": "86ccc9b8",
   "metadata": {},
   "outputs": [],
   "source": []
  },
  {
   "cell_type": "code",
   "execution_count": 78,
   "id": "552bb732",
   "metadata": {},
   "outputs": [
    {
     "name": "stdout",
     "output_type": "stream",
     "text": [
      "c0\n"
     ]
    }
   ],
   "source": [
    "def control_block_version_byte(Q):\n",
    "    val = 0xc0\n",
    "    if Q.point()[1] % 2 != 0:\n",
    "        val += 1\n",
    "    return bytes([val])\n",
    "\n",
    "print(control_block_version_byte(nifty_Q).hex())"
   ]
  },
  {
   "cell_type": "markdown",
   "id": "a6f1b3a5",
   "metadata": {},
   "source": [
    "##### The x-only pubkey of the internal key\n",
    "\n",
    "This should just be the internal pubkey, 32 bytes."
   ]
  },
  {
   "cell_type": "code",
   "execution_count": 79,
   "id": "03df5e42",
   "metadata": {},
   "outputs": [
    {
     "name": "stdout",
     "output_type": "stream",
     "text": [
      "50929b74c1a04954b78b4b6035e97a5e078a5a0f28ec96d547bfee9ace803ac0\n"
     ]
    }
   ],
   "source": [
    "print(internal_pubkey.format()[1:].hex())"
   ]
  },
  {
   "cell_type": "markdown",
   "id": "2fe45f8b",
   "metadata": {},
   "source": [
    "###### Proof of Inclusion\n",
    "\n",
    "The proof of inclusion for a leaf-only spend is empty."
   ]
  },
  {
   "cell_type": "code",
   "execution_count": 80,
   "id": "9e7113c4",
   "metadata": {
    "scrolled": true
   },
   "outputs": [
    {
     "name": "stdout",
     "output_type": "stream",
     "text": [
      "witness data!\n",
      "03\n",
      "01 04\n",
      "04 54935887\n",
      "21 c050929b74c1a04954b78b4b6035e97a5e078a5a0f28ec96d547bfee9ace803ac0\n"
     ]
    }
   ],
   "source": [
    "control_block = control_block_version_byte(nifty_Q) + internal_pubkey.format()[1:]\n",
    "\n",
    "print('witness data!')\n",
    "print('03')\n",
    "print('01 04')\n",
    "print('04 ' + nifty)\n",
    "print('21 ' + control_block.hex())"
   ]
  },
  {
   "cell_type": "markdown",
   "id": "7a5d652f",
   "metadata": {},
   "source": [
    "version: 02000000\n",
    "marker+flag: 0001\n",
    "inputs: 01\n",
    "    txid: a4551116dbfc82495eabdd4f6d48e312898e506d78d63e01fc9ec02ace3270d5\n",
    "    vout: 01000000\n",
    "    scriptSig: 00\n",
    "    sequence: ffffffff\n",
    "outputs: 01\n",
    "    amounts: 70dff50500000000\n",
    "    scriptPubKey: 22 512023baba6e60c5424676408ddbbe485d2b5c2fc7f94815a76a0dbacc945aae2100\n",
    "witnesses:\n",
    "03\n",
    "    01 04\n",
    "    04 54935887\n",
    "    21 c050929b74c1a04954b78b4b6035e97a5e078a5a0f28ec96d547bfee9ace803ac0\n",
    "locktime: 00000000"
   ]
  },
  {
   "cell_type": "code",
   "execution_count": 81,
   "id": "439b3d24",
   "metadata": {},
   "outputs": [],
   "source": [
    "spend_tx = '02000000000101a4551116dbfc82495eabdd4f6d48e312898e506d78d63e01fc9ec02ace3270d50100000000ffffffff0170dff5050000000022512023baba6e60c5424676408ddbbe485d2b5c2fc7f94815a76a0dbacc945aae2100030104045493588721c050929b74c1a04954b78b4b6035e97a5e078a5a0f28ec96d547bfee9ace803ac000000000'\n",
    "#!bitcoin-cli -regtest decoderawtransaction \"$spend_tx\""
   ]
  },
  {
   "cell_type": "code",
   "execution_count": 82,
   "id": "96da8ec6",
   "metadata": {},
   "outputs": [
    {
     "data": {
      "text/plain": [
       "'02000000000101a4551116dbfc82495eabdd4f6d48e312898e506d78d63e01fc9ec02ace3270d50100000000ffffffff0170dff5050000000022512023baba6e60c5424676408ddbbe485d2b5c2fc7f94815a76a0dbacc945aae2100030104045493588721c050929b74c1a04954b78b4b6035e97a5e078a5a0f28ec96d547bfee9ace803ac000000000'"
      ]
     },
     "execution_count": 82,
     "metadata": {},
     "output_type": "execute_result"
    }
   ],
   "source": [
    "spend_tx"
   ]
  },
  {
   "cell_type": "code",
   "execution_count": 83,
   "id": "db665354",
   "metadata": {},
   "outputs": [
    {
     "name": "stdout",
     "output_type": "stream",
     "text": [
      "[\n",
      "  {\n",
      "    \"txid\": \"65c5ee8463feeb72112a458216e8600e5f386a685cba5b63dcaa4a18d6c51327\",\n",
      "    \"wtxid\": \"7b50f74e105ac8a955af55172c263b0807b946a79a54120a1380b195d148b469\",\n",
      "    \"allowed\": true,\n",
      "    \"vsize\": 105,\n",
      "    \"fees\": {\n",
      "      \"base\": 0.00000400,\n",
      "      \"effective-feerate\": 0.00003809,\n",
      "      \"effective-includes\": [\n",
      "        \"7b50f74e105ac8a955af55172c263b0807b946a79a54120a1380b195d148b469\"\n",
      "      ]\n",
      "    }\n",
      "  }\n",
      "]\n"
     ]
    }
   ],
   "source": [
    "!bitcoin-cli -regtest testmempoolaccept '[\"02000000000101a4551116dbfc82495eabdd4f6d48e312898e506d78d63e01fc9ec02ace3270d50100000000ffffffff0170dff5050000000022512023baba6e60c5424676408ddbbe485d2b5c2fc7f94815a76a0dbacc945aae2100030104045493588721c050929b74c1a04954b78b4b6035e97a5e078a5a0f28ec96d547bfee9ace803ac000000000\"]'"
   ]
  },
  {
   "cell_type": "markdown",
   "id": "f5c773e1",
   "metadata": {},
   "source": [
    "### Let's build a taproot with mulitple leaves\n",
    "\n",
    "Let's make a taproot with a bunch of leaves!\n",
    "\n",
    "We have a set of scripts that we want to allow any one of them to spend this bitcoin.\n",
    "\n",
    "Build a tree of the scripts, and then compute the merkle root."
   ]
  },
  {
   "cell_type": "code",
   "execution_count": 84,
   "id": "d5b02fd1",
   "metadata": {},
   "outputs": [
    {
     "data": {
      "text/plain": [
       "[('nifty', '54935887'),\n",
       " ('c_nym',\n",
       "  'AA201ccf6c5e6212f524600fb6b20275cd6ae26dc6b812cd1f84dd3ff7d86b1937d187'),\n",
       " ('j_nym', '54935887'),\n",
       " ('d_nym',\n",
       "  '930200088763a820150faa5b485225f681b179f710cb169b92b401f954392eb30e677624135233f08768'),\n",
       " ('m_nym', '76769393010987'),\n",
       " ('da_nym',\n",
       "  'a820528f99cd13f2d438556c6f6a803458a963519d2419a40dd685597c0919d81f588754935587'),\n",
       " ('ch_nym', '53935987'),\n",
       " ('n_nym',\n",
       "  'a82041ef4bb0b23661e66301aac36066912dac037827b4ae63a7b1165a5aa93ed4eb87')]"
      ]
     },
     "execution_count": 84,
     "metadata": {},
     "output_type": "execute_result"
    }
   ],
   "source": [
    "scripts"
   ]
  },
  {
   "cell_type": "code",
   "execution_count": 85,
   "id": "5a5f25d8",
   "metadata": {},
   "outputs": [],
   "source": [
    "balanced_tree = [[[nifty, j_nym], [c_nym, d_nym]], [[m_nym, da_nym], [ch_nym, n_nym]]]\n",
    "unbalanced_tree = [ nifty, [ ch_nym, [ j_nym, [ c_nym, [ d_nym, [ m_nym, [ da_nym , n_nym ]]]]]]]"
   ]
  },
  {
   "cell_type": "code",
   "execution_count": 86,
   "id": "e2efee40",
   "metadata": {},
   "outputs": [
    {
     "data": {
      "text/plain": [
       "[[['54935887', '54935887'],\n",
       "  ['AA201ccf6c5e6212f524600fb6b20275cd6ae26dc6b812cd1f84dd3ff7d86b1937d187',\n",
       "   '930200088763a820150faa5b485225f681b179f710cb169b92b401f954392eb30e677624135233f08768']],\n",
       " [['76769393010987',\n",
       "   'a820528f99cd13f2d438556c6f6a803458a963519d2419a40dd685597c0919d81f588754935587'],\n",
       "  ['53935987',\n",
       "   'a82041ef4bb0b23661e66301aac36066912dac037827b4ae63a7b1165a5aa93ed4eb87']]]"
      ]
     },
     "execution_count": 86,
     "metadata": {},
     "output_type": "execute_result"
    }
   ],
   "source": [
    "balanced_tree"
   ]
  },
  {
   "cell_type": "code",
   "execution_count": 87,
   "id": "d31b4f35",
   "metadata": {},
   "outputs": [
    {
     "data": {
      "text/plain": [
       "['54935887',\n",
       " ['53935987',\n",
       "  ['54935887',\n",
       "   ['AA201ccf6c5e6212f524600fb6b20275cd6ae26dc6b812cd1f84dd3ff7d86b1937d187',\n",
       "    ['930200088763a820150faa5b485225f681b179f710cb169b92b401f954392eb30e677624135233f08768',\n",
       "     ['76769393010987',\n",
       "      ['a820528f99cd13f2d438556c6f6a803458a963519d2419a40dd685597c0919d81f588754935587',\n",
       "       'a82041ef4bb0b23661e66301aac36066912dac037827b4ae63a7b1165a5aa93ed4eb87']]]]]]]"
      ]
     },
     "execution_count": 87,
     "metadata": {},
     "output_type": "execute_result"
    }
   ],
   "source": [
    "unbalanced_tree"
   ]
  },
  {
   "cell_type": "markdown",
   "id": "7e4b9d26",
   "metadata": {},
   "source": [
    "### Now that our tree(s) are defined, we need to calculate the merkle root\n",
    "\n",
    "We need a function that given our tree, will return a merkle root."
   ]
  },
  {
   "cell_type": "code",
   "execution_count": 88,
   "id": "e81e5c7a",
   "metadata": {},
   "outputs": [],
   "source": [
    "def make_leaf(script_bytes):\n",
    "    leaf_version = 0xc0\n",
    "    # leaf version + len script + script\n",
    "    data = bytes([leaf_version]) + size_compact_size(len(script_bytes)) + script_bytes\n",
    "    return tag_hash(b'TapLeaf', data)"
   ]
  },
  {
   "cell_type": "code",
   "execution_count": 89,
   "id": "d9350eb6",
   "metadata": {},
   "outputs": [],
   "source": [
    "def taptree_builder(tree):\n",
    "    if isinstance(tree, str):\n",
    "        script_bytes = bytes.fromhex(tree)\n",
    "        leaf_hash = make_leaf(script_bytes)\n",
    "        print(\"leaf:\", leaf_hash.hex())\n",
    "        return leaf_hash\n",
    "    \n",
    "    # calculate the branch hash. \n",
    "    assert len(tree) == 2\n",
    "    left = taptree_builder(tree[0])\n",
    "    right = taptree_builder(tree[1])\n",
    "    \n",
    "    # we have to order the left + right \"alphabetically\"\n",
    "    # thank you arik :)\n",
    "    if left > right:\n",
    "        right, left = left, right\n",
    "    \n",
    "    branch_hash = tag_hash(b'TapBranch', left + right)\n",
    "    print(\"branch:\", branch_hash.hex())\n",
    "    return branch_hash\n",
    "    "
   ]
  },
  {
   "cell_type": "code",
   "execution_count": 90,
   "id": "2c5e446a",
   "metadata": {},
   "outputs": [
    {
     "name": "stdout",
     "output_type": "stream",
     "text": [
      "leaf: 7ce84a5b9c296529029e07e014ffdfb9bb11d201bd84e4528d4ae46d6160ead6\n",
      "leaf: 7ce84a5b9c296529029e07e014ffdfb9bb11d201bd84e4528d4ae46d6160ead6\n",
      "branch: c6f6f180831c02d2c477a6baa1e34fb0b49897543f149ae83fbd3deb89c8ae80\n",
      "leaf: bcf0ffea8d704f70610ddffb14a2cd74cbde7b4bf116605143f43fcdac862858\n",
      "leaf: 7199c3d01803160ae132c34a5aaa9e5ba44725b0e6a483caa4de6804e77e2b01\n",
      "branch: 9542ca2491c786b840b98222e18c58ef4eda480755b4ee3424fced25c58150a5\n",
      "branch: 111fbd5ec2591327c312c7db37a0722205156310354d11783777f41ceff2fe96\n",
      "leaf: fa2b5d06e6fdf4ce947e00511fa6dd92294996846ec8a3b0b80d9363f0dec93a\n",
      "leaf: 5f305f38bd7306856e35ac66b1f0c528a76af3ecfb777c4afef45bb80b2a0a6a\n",
      "branch: 2869d5d001b985f60582de5e96d27d49bf19e111de5908b70a75d4c1c4354700\n",
      "leaf: 8ddbf7add8c35b385346ea0f1c3fa93bbfd9583c75ee097fe0c03c64cceccd0a\n",
      "leaf: 002a01ee216a40f3d68710b87d7fb0654a7d540e9baa3f5ba5a06170b82ed08d\n",
      "branch: b95df7c5373a203b605e4c4773579b51f853078ba1a5f9db35df6527566c0c6d\n",
      "branch: 8903a87b4aa61a20cc352975eab9ed92f780a37313c823561af3947002154886\n",
      "branch: bf9d5551696d290b9b8cb134fef97bcc3e8a4e7812c9719fc8c3140947cd12cf\n"
     ]
    },
    {
     "data": {
      "text/plain": [
       "'bf9d5551696d290b9b8cb134fef97bcc3e8a4e7812c9719fc8c3140947cd12cf'"
      ]
     },
     "execution_count": 90,
     "metadata": {},
     "output_type": "execute_result"
    }
   ],
   "source": [
    "balanced_root = taptree_builder(balanced_tree)\n",
    "balanced_root.hex()"
   ]
  },
  {
   "cell_type": "code",
   "execution_count": 91,
   "id": "9d4bcb3a",
   "metadata": {},
   "outputs": [
    {
     "name": "stdout",
     "output_type": "stream",
     "text": [
      "leaf: 7ce84a5b9c296529029e07e014ffdfb9bb11d201bd84e4528d4ae46d6160ead6\n",
      "leaf: 8ddbf7add8c35b385346ea0f1c3fa93bbfd9583c75ee097fe0c03c64cceccd0a\n",
      "leaf: 7ce84a5b9c296529029e07e014ffdfb9bb11d201bd84e4528d4ae46d6160ead6\n",
      "leaf: bcf0ffea8d704f70610ddffb14a2cd74cbde7b4bf116605143f43fcdac862858\n",
      "leaf: 7199c3d01803160ae132c34a5aaa9e5ba44725b0e6a483caa4de6804e77e2b01\n",
      "leaf: fa2b5d06e6fdf4ce947e00511fa6dd92294996846ec8a3b0b80d9363f0dec93a\n",
      "leaf: 5f305f38bd7306856e35ac66b1f0c528a76af3ecfb777c4afef45bb80b2a0a6a\n",
      "leaf: 002a01ee216a40f3d68710b87d7fb0654a7d540e9baa3f5ba5a06170b82ed08d\n",
      "branch: f1da90107484360f6a99c3dd6bf46e0a9981881588e4210f59dc45bb923c87f0\n",
      "branch: e54d0e57313111b88e0c4ce1a579b7fde0352e6aa8403d79c0ee9ca50c389bbb\n",
      "branch: 2a67515502ffea3c0703a0479be3949c9947800b21d39e685e7e98ebdbab657b\n",
      "branch: 84186ded4ee597659c81a86e361a566259430fc71415c4b17b362a95c5ab243a\n",
      "branch: 2a2af5481b5651304abeb64328c6ee695a34a486ddfa36f39e56995c9da1747a\n",
      "branch: 13eed6c9107796176054fa81be4bd6f6ec878cb3a918de1bc911be4c8e9b0566\n",
      "branch: 302c45b0602c4f8941e8729cdf11b619fec284bdd9359db998dcb066cd6a382b\n"
     ]
    },
    {
     "data": {
      "text/plain": [
       "['54935887',\n",
       " ['53935987',\n",
       "  ['54935887',\n",
       "   ['AA201ccf6c5e6212f524600fb6b20275cd6ae26dc6b812cd1f84dd3ff7d86b1937d187',\n",
       "    ['930200088763a820150faa5b485225f681b179f710cb169b92b401f954392eb30e677624135233f08768',\n",
       "     ['76769393010987',\n",
       "      ['a820528f99cd13f2d438556c6f6a803458a963519d2419a40dd685597c0919d81f588754935587',\n",
       "       'a82041ef4bb0b23661e66301aac36066912dac037827b4ae63a7b1165a5aa93ed4eb87']]]]]]]"
      ]
     },
     "execution_count": 91,
     "metadata": {},
     "output_type": "execute_result"
    }
   ],
   "source": [
    "unbalanced_root = taptree_builder(unbalanced_tree)\n",
    "unbalanced_tree"
   ]
  },
  {
   "cell_type": "code",
   "execution_count": 92,
   "id": "48f26863",
   "metadata": {},
   "outputs": [
    {
     "data": {
      "text/plain": [
       "'0250929b74c1a04954b78b4b6035e97a5e078a5a0f28ec96d547bfee9ace803ac0'"
      ]
     },
     "execution_count": 92,
     "metadata": {},
     "output_type": "execute_result"
    }
   ],
   "source": [
    "internal_pubkey.format().hex()"
   ]
  },
  {
   "cell_type": "code",
   "execution_count": 93,
   "id": "b3d5b0d0",
   "metadata": {},
   "outputs": [
    {
     "data": {
      "text/plain": [
       "'022a78497e11a16bfd866a87b6d09ed953a07988e10626f9313e27bb5cf51d9161'"
      ]
     },
     "execution_count": 93,
     "metadata": {},
     "output_type": "execute_result"
    }
   ],
   "source": [
    "balanced_tweak_key = make_tweak_pubkey(internal_pubkey, balanced_root)\n",
    "balanced_tweak_key.format().hex()"
   ]
  },
  {
   "cell_type": "code",
   "execution_count": 94,
   "id": "2a0fda76",
   "metadata": {},
   "outputs": [
    {
     "data": {
      "text/plain": [
       "'026524dcd9efddc696215edd34f6e9d96428a67f04208a5cb7e5b33187b9d01897'"
      ]
     },
     "execution_count": 94,
     "metadata": {},
     "output_type": "execute_result"
    }
   ],
   "source": [
    "unbalanced_tweak_key = make_tweak_pubkey(internal_pubkey, unbalanced_root)\n",
    "unbalanced_tweak_key.format().hex()"
   ]
  },
  {
   "cell_type": "code",
   "execution_count": 95,
   "id": "174e5919",
   "metadata": {},
   "outputs": [],
   "source": [
    "Q_balanced = make_external_pubkey(internal_pubkey, balanced_tweak_key)\n",
    "Q_unbalanced = make_external_pubkey(internal_pubkey, unbalanced_tweak_key)"
   ]
  },
  {
   "cell_type": "code",
   "execution_count": 96,
   "id": "d26cd7db",
   "metadata": {},
   "outputs": [
    {
     "data": {
      "text/plain": [
       "'5120d5fe9ae05d009609889713d4376e18194cebd61105525fc52d53ca49ac1ca198'"
      ]
     },
     "execution_count": 96,
     "metadata": {},
     "output_type": "execute_result"
    }
   ],
   "source": [
    "p2tr_balanced = make_p2tr(Q_balanced).hex()\n",
    "p2tr_balanced"
   ]
  },
  {
   "cell_type": "code",
   "execution_count": 97,
   "id": "91c5fd95",
   "metadata": {},
   "outputs": [
    {
     "data": {
      "text/plain": [
       "'512098a7c168dfcc8928936a39ce374969ee121ff210b2350ca704c7293d903c17cd'"
      ]
     },
     "execution_count": 97,
     "metadata": {},
     "output_type": "execute_result"
    }
   ],
   "source": [
    "p2tr_unbalanced = make_p2tr(Q_unbalanced).hex()\n",
    "p2tr_unbalanced"
   ]
  },
  {
   "cell_type": "code",
   "execution_count": 98,
   "id": "d192e0ca",
   "metadata": {},
   "outputs": [
    {
     "name": "stdout",
     "output_type": "stream",
     "text": [
      "bcrt1p6hlf4czaqztqnzyhz02rwmscr9xwh4s3q4f9l3fd209yntqu5xvqh797tq\n"
     ]
    }
   ],
   "source": [
    "!bitcoin-cli -regtest decodescript \"$p2tr_balanced\" | jq -r .address"
   ]
  },
  {
   "cell_type": "code",
   "execution_count": 99,
   "id": "c4a3593a",
   "metadata": {},
   "outputs": [
    {
     "name": "stdout",
     "output_type": "stream",
     "text": [
      "bcrt1pnznuz6xlejyj3ym2888rwjtfacfplusskg6sefcycu5nmypuzlxspdv3ku\n"
     ]
    }
   ],
   "source": [
    "!bitcoin-cli -regtest decodescript \"$p2tr_unbalanced\" | jq -r .address"
   ]
  },
  {
   "cell_type": "code",
   "execution_count": 100,
   "id": "49cbb4a2",
   "metadata": {},
   "outputs": [
    {
     "data": {
      "text/plain": [
       "'3f4e1ffcb93fae8f1101b321616b1d9ca18cb909d02668bbfd76c062075fa01c'"
      ]
     },
     "execution_count": 100,
     "metadata": {},
     "output_type": "execute_result"
    }
   ],
   "source": [
    "# Balanced Tree Address Lock Up\n",
    "#!bitcoin-cli -regtest sendtoaddress bcrt1p6hlf4czaqztqnzyhz02rwmscr9xwh4s3q4f9l3fd209yntqu5xvqh797tq 1.1\n",
    "\"3f4e1ffcb93fae8f1101b321616b1d9ca18cb909d02668bbfd76c062075fa01c\""
   ]
  },
  {
   "cell_type": "code",
   "execution_count": 101,
   "id": "ce721101",
   "metadata": {},
   "outputs": [
    {
     "name": "stdout",
     "output_type": "stream",
     "text": [
      "b2bd5f351776992af87af18037a76395dd5dff5cd171f21c3922777e323f795b\n"
     ]
    }
   ],
   "source": [
    "# Unbalanced Tree Address Lock Up\n",
    "!bitcoin-cli -regtest sendtoaddress bcrt1pnznuz6xlejyj3ym2888rwjtfacfplusskg6sefcycu5nmypuzlxspdv3ku 1.2"
   ]
  },
  {
   "cell_type": "code",
   "execution_count": 102,
   "id": "59613bdd",
   "metadata": {},
   "outputs": [
    {
     "name": "stdout",
     "output_type": "stream",
     "text": [
      "{\n",
      "  \"txid\": \"821c72b0a18427be1d80a8980057291e47f502ee0687e66ca5861f499449d567\",\n",
      "  \"hash\": \"2cc2dc65bcd8c4a55f59e5c8c9f40431e5c95b885603ae1670cd5cf0b4268c8f\",\n",
      "  \"version\": 2,\n",
      "  \"size\": 246,\n",
      "  \"vsize\": 165,\n",
      "  \"weight\": 657,\n",
      "  \"locktime\": 305,\n",
      "  \"vin\": [\n",
      "    {\n",
      "      \"txid\": \"e46663eb0fb1cd06a02de1597fbbf7126917e7733273345dc3ad2cd15f402761\",\n",
      "      \"vout\": 0,\n",
      "      \"scriptSig\": {\n",
      "        \"asm\": \"\",\n",
      "        \"hex\": \"\"\n",
      "      },\n",
      "      \"txinwitness\": [\n",
      "        \"30440220518adabd1d1703c6551b091c3b68c6bdaf6eb837610867bfe5bd7d60aca8cf0e0220267413adaa2b939faab17d3478e41ebd74fc68c94a90be10eed12a9c590edc6301\",\n",
      "        \"02dd2e5d35d614b83d9319ae83a8a64728be5c8ce9da32a6c159b8fd48f8acc0b1\"\n",
      "      ],\n",
      "      \"sequence\": 4294967294\n",
      "    }\n",
      "  ],\n",
      "  \"vout\": [\n",
      "    {\n",
      "      \"value\": 23.90000000,\n",
      "      \"n\": 0,\n",
      "      \"scriptPubKey\": {\n",
      "        \"asm\": \"1 42cdd0d2869e107b14841859bb6a3141cb3bed2c9f07c3d48b41585d48b044f6\",\n",
      "        \"desc\": \"rawtr(42cdd0d2869e107b14841859bb6a3141cb3bed2c9f07c3d48b41585d48b044f6)#v0mr98c4\",\n",
      "        \"hex\": \"512042cdd0d2869e107b14841859bb6a3141cb3bed2c9f07c3d48b41585d48b044f6\",\n",
      "        \"address\": \"bcrt1pgtxap55xncg8k9yyrpvmk633g89nhmfvnuru84ytg9v96j9sgnmqlcps5q\",\n",
      "        \"type\": \"witness_v1_taproot\"\n",
      "      }\n",
      "    },\n",
      "    {\n",
      "      \"value\": 1.10000000,\n",
      "      \"n\": 1,\n",
      "      \"scriptPubKey\": {\n",
      "        \"asm\": \"1 d5fe9ae05d009609889713d4376e18194cebd61105525fc52d53ca49ac1ca198\",\n",
      "        \"desc\": \"rawtr(d5fe9ae05d009609889713d4376e18194cebd61105525fc52d53ca49ac1ca198)#aza78h6j\",\n",
      "        \"hex\": \"5120d5fe9ae05d009609889713d4376e18194cebd61105525fc52d53ca49ac1ca198\",\n",
      "        \"address\": \"bcrt1p6hlf4czaqztqnzyhz02rwmscr9xwh4s3q4f9l3fd209yntqu5xvqh797tq\",\n",
      "        \"type\": \"witness_v1_taproot\"\n",
      "      }\n",
      "    }\n",
      "  ],\n",
      "  \"hex\": \"020000000001016127405fd12cadc35d34733273e7176912f7bb7f59e12da006cdb10feb6366e40000000000feffffff028081748e0000000022512042cdd0d2869e107b14841859bb6a3141cb3bed2c9f07c3d48b41585d48b044f680778e0600000000225120d5fe9ae05d009609889713d4376e18194cebd61105525fc52d53ca49ac1ca198024730440220518adabd1d1703c6551b091c3b68c6bdaf6eb837610867bfe5bd7d60aca8cf0e0220267413adaa2b939faab17d3478e41ebd74fc68c94a90be10eed12a9c590edc63012102dd2e5d35d614b83d9319ae83a8a64728be5c8ce9da32a6c159b8fd48f8acc0b131010000\",\n",
      "  \"blockhash\": \"2737d7d05844c242d4ea537e2fc215d4309d812d41e6b3594531a11a5707d111\",\n",
      "  \"confirmations\": 2918,\n",
      "  \"time\": 1700002347,\n",
      "  \"blocktime\": 1700002347\n",
      "}\n"
     ]
    }
   ],
   "source": [
    "!bitcoin-cli -regtest getrawtransaction 821c72b0a18427be1d80a8980057291e47f502ee0687e66ca5861f499449d567 true"
   ]
  },
  {
   "cell_type": "code",
   "execution_count": 103,
   "id": "d54be1ed",
   "metadata": {},
   "outputs": [
    {
     "name": "stdout",
     "output_type": "stream",
     "text": [
      "67d54994491f86a56ce68706ee02f5471e29570098a8801dbe2784a1b0721c82\n",
      "f3767ce2aa509d0ae5b876b41dcd0b7ea62044464b94d9673ef1d8dba275103e\n"
     ]
    }
   ],
   "source": [
    "balanced_outpoint = (\"821c72b0a18427be1d80a8980057291e47f502ee0687e66ca5861f499449d567\", 1)\n",
    "unbalanced_outpoint = (\"3e1075a2dbd8f13e67d9944b464420a67e0bcd1db476b8e50a9d50aae27c76f3\", 0)\n",
    "\n",
    "txid_balanced = bytes.fromhex(balanced_outpoint[0])[::-1].hex()\n",
    "txid_unbal = bytes.fromhex(unbalanced_outpoint[0])[::-1].hex()\n",
    "\n",
    "print(txid_balanced)\n",
    "print(txid_unbal)"
   ]
  },
  {
   "cell_type": "markdown",
   "id": "5f8087e3",
   "metadata": {},
   "source": [
    "## Let's Spend Some Things!"
   ]
  },
  {
   "cell_type": "code",
   "execution_count": 104,
   "id": "c012ba2d",
   "metadata": {},
   "outputs": [
    {
     "data": {
      "text/plain": [
       "'700c270700000000'"
      ]
     },
     "execution_count": 104,
     "metadata": {},
     "output_type": "execute_result"
    }
   ],
   "source": [
    "# amount unbalanced\n",
    "(12 * 10 ** 7 - 400).to_bytes(8, 'little').hex()"
   ]
  },
  {
   "cell_type": "code",
   "execution_count": 105,
   "id": "28951499",
   "metadata": {},
   "outputs": [
    {
     "data": {
      "text/plain": [
       "'f0758e0600000000'"
      ]
     },
     "execution_count": 105,
     "metadata": {},
     "output_type": "execute_result"
    }
   ],
   "source": [
    "# amount balanced\n",
    "(11 * 10 ** 7 - 400).to_bytes(8, 'little').hex()"
   ]
  },
  {
   "cell_type": "markdown",
   "id": "3a8dac1e",
   "metadata": {},
   "source": [
    "### Balanced Spend Transaction\n",
    "\n",
    "```\n",
    "version: 02000000\n",
    "marker+flag: 0001\n",
    "inputs: 01\n",
    "    txid: 67d54994491f86a56ce68706ee02f5471e29570098a8801dbe2784a1b0721c82\n",
    "    vout: 01000000\n",
    "    scriptSig: 00\n",
    "    sequence: ffffffff\n",
    "outputs: 01\n",
    "    amounts: f0758e0600000000\n",
    "    scriptPubKey: 22 512023baba6e60c5424676408ddbbe485d2b5c2fc7f94815a76a0dbacc945aae2100\n",
    "witnesses:\n",
    "    03\n",
    "        <unlock script>\n",
    "        <leaf script>\n",
    "        <control block!>\n",
    "locktime: 00000000\n",
    "```"
   ]
  },
  {
   "cell_type": "code",
   "execution_count": 108,
   "id": "20d5c1c6",
   "metadata": {},
   "outputs": [
    {
     "data": {
      "text/plain": [
       "'a820528f99cd13f2d438556c6f6a803458a963519d2419a40dd685597c0919d81f588754935587'"
      ]
     },
     "execution_count": 108,
     "metadata": {},
     "output_type": "execute_result"
    }
   ],
   "source": [
    "leaf_script = bytes.fromhex(da_nym)\n",
    "leaf_script.hex()"
   ]
  },
  {
   "cell_type": "code",
   "execution_count": 109,
   "id": "df7f95e2",
   "metadata": {},
   "outputs": [
    {
     "data": {
      "text/plain": [
       "'546170726f6f7420526f636b7321'"
      ]
     },
     "execution_count": 109,
     "metadata": {},
     "output_type": "execute_result"
    }
   ],
   "source": [
    "unlock_script = b'Taproot Rocks!'\n",
    "unlock_script.hex()"
   ]
  },
  {
   "cell_type": "code",
   "execution_count": 111,
   "id": "745aac70",
   "metadata": {},
   "outputs": [
    {
     "name": "stdout",
     "output_type": "stream",
     "text": [
      "proof ['fa2b5d06e6fdf4ce947e00511fa6dd92294996846ec8a3b0b80d9363f0dec93a', 'b95df7c5373a203b605e4c4773579b51f853078ba1a5f9db35df6527566c0c6d', '111fbd5ec2591327c312c7db37a0722205156310354d11783777f41ceff2fe96']\n"
     ]
    }
   ],
   "source": [
    "def build_proof_of_inclusion(tree, script):\n",
    "    if isinstance(tree, str):\n",
    "        script_bytes = bytes.fromhex(tree)\n",
    "        leaf_hash = make_leaf(script_bytes)\n",
    "        return leaf_hash, [], script == tree\n",
    "    \n",
    "    # calculate the branch hash. \n",
    "    assert len(tree) == 2\n",
    "    left_hash, left_proof, left_target = build_proof_of_inclusion(tree[0], script)\n",
    "    right_hash, right_proof, right_target = build_proof_of_inclusion(tree[1], script)\n",
    "    \n",
    "    proof = []\n",
    "    if left_target:\n",
    "        left_proof.append(right_hash)\n",
    "        proof = left_proof\n",
    "    elif right_target:\n",
    "        right_proof.append(left_hash)\n",
    "        proof = right_proof\n",
    "        \n",
    "    # we have to order the left + right \"alphabetically\"\n",
    "    # thank you arik :)\n",
    "    if left_hash > right_hash:\n",
    "        right_hash, left_hash = left_hash, right_hash\n",
    "    branch_hash = tag_hash(b'TapBranch', left_hash + right_hash)\n",
    "    return branch_hash, proof, left_target or right_target\n",
    "\n",
    "\n",
    "_, proof_of_inclusion, _ = build_proof_of_inclusion(balanced_tree, da_nym)\n",
    "\n",
    "print('proof', [ x.hex() for x in proof_of_inclusion])"
   ]
  },
  {
   "cell_type": "code",
   "execution_count": 112,
   "id": "6c94710c",
   "metadata": {},
   "outputs": [
    {
     "name": "stdout",
     "output_type": "stream",
     "text": [
      "fa2b5d06e6fdf4ce947e00511fa6dd92294996846ec8a3b0b80d9363f0dec93ab95df7c5373a203b605e4c4773579b51f853078ba1a5f9db35df6527566c0c6d111fbd5ec2591327c312c7db37a0722205156310354d11783777f41ceff2fe96\n"
     ]
    }
   ],
   "source": [
    "print(b''.join(proof_of_inclusion).hex())\n",
    "\n",
    "control_block = control_block_version_byte(Q_balanced) + internal_pubkey.format()[1:] + b''.join(proof_of_inclusion)"
   ]
  },
  {
   "cell_type": "code",
   "execution_count": 113,
   "id": "ebc0e37c",
   "metadata": {},
   "outputs": [
    {
     "data": {
      "text/plain": [
       "'c050929b74c1a04954b78b4b6035e97a5e078a5a0f28ec96d547bfee9ace803ac0fa2b5d06e6fdf4ce947e00511fa6dd92294996846ec8a3b0b80d9363f0dec93ab95df7c5373a203b605e4c4773579b51f853078ba1a5f9db35df6527566c0c6d111fbd5ec2591327c312c7db37a0722205156310354d11783777f41ceff2fe96'"
      ]
     },
     "execution_count": 113,
     "metadata": {},
     "output_type": "execute_result"
    }
   ],
   "source": [
    "control_block.hex()"
   ]
  },
  {
   "cell_type": "code",
   "execution_count": 114,
   "id": "73223505",
   "metadata": {},
   "outputs": [
    {
     "name": "stdout",
     "output_type": "stream",
     "text": [
      "03\n",
      "0e546170726f6f7420526f636b7321\n",
      "27a820528f99cd13f2d438556c6f6a803458a963519d2419a40dd685597c0919d81f588754935587\n",
      "81c050929b74c1a04954b78b4b6035e97a5e078a5a0f28ec96d547bfee9ace803ac0fa2b5d06e6fdf4ce947e00511fa6dd92294996846ec8a3b0b80d9363f0dec93ab95df7c5373a203b605e4c4773579b51f853078ba1a5f9db35df6527566c0c6d111fbd5ec2591327c312c7db37a0722205156310354d11783777f41ceff2fe96\n"
     ]
    }
   ],
   "source": [
    "wits = [size_compact_size(len(unlock_script)) + unlock_script, \n",
    "        size_compact_size(len(leaf_script)) + leaf_script,\n",
    "        size_compact_size(len(control_block)) + control_block]\n",
    "\n",
    "print(size_compact_size(len(wits)).hex())\n",
    "for witness in wits:\n",
    "    print(witness.hex())"
   ]
  },
  {
   "cell_type": "markdown",
   "id": "9e6e1850",
   "metadata": {},
   "source": [
    "### Balanced Spend Transaction\n",
    "\n",
    "```\n",
    "version: 02000000\n",
    "marker+flag: 0001\n",
    "inputs: 01\n",
    "    txid: 67d54994491f86a56ce68706ee02f5471e29570098a8801dbe2784a1b0721c82\n",
    "    vout: 01000000\n",
    "    scriptSig: 00\n",
    "    sequence: ffffffff\n",
    "outputs: 01\n",
    "    amounts: f0758e0600000000\n",
    "    scriptPubKey: 22 512023baba6e60c5424676408ddbbe485d2b5c2fc7f94815a76a0dbacc945aae2100\n",
    "witnesses:\n",
    "    03\n",
    "        0e546170726f6f7420526f636b7321\n",
    "        27a820528f99cd13f2d438556c6f6a803458a963519d2419a40dd685597c0919d81f588754935587\n",
    "        81c050929b74c1a04954b78b4b6035e97a5e078a5a0f28ec96d547bfee9ace803ac0fa2b5d06e6fdf4ce947e00511fa6dd92294996846ec8a3b0b80d9363f0dec93ab95df7c5373a203b605e4c4773579b51f853078ba1a5f9db35df6527566c0c6d111fbd5ec2591327c312c7db37a0722205156310354d11783777f41ceff2fe96\n",
    "locktime: 00000000\n",
    "```"
   ]
  },
  {
   "cell_type": "code",
   "execution_count": 115,
   "id": "b7e67445",
   "metadata": {},
   "outputs": [],
   "source": [
    "tx = '0200000000010167d54994491f86a56ce68706ee02f5471e29570098a8801dbe2784a1b0721c820100000000ffffffff01f0758e060000000022512023baba6e60c5424676408ddbbe485d2b5c2fc7f94815a76a0dbacc945aae2100030e546170726f6f7420526f636b732127a820528f99cd13f2d438556c6f6a803458a963519d2419a40dd685597c0919d81f58875493558781c050929b74c1a04954b78b4b6035e97a5e078a5a0f28ec96d547bfee9ace803ac0fa2b5d06e6fdf4ce947e00511fa6dd92294996846ec8a3b0b80d9363f0dec93ab95df7c5373a203b605e4c4773579b51f853078ba1a5f9db35df6527566c0c6d111fbd5ec2591327c312c7db37a0722205156310354d11783777f41ceff2fe9600000000'"
   ]
  },
  {
   "cell_type": "code",
   "execution_count": 116,
   "id": "ba8366d9",
   "metadata": {},
   "outputs": [
    {
     "name": "stdout",
     "output_type": "stream",
     "text": [
      "{\n",
      "  \"txid\": \"429c57e63e6cb1fe85fa665c9210149cb5dd415950e892b9357b39cd0d6cdaf3\",\n",
      "  \"hash\": \"8109fa9970e0422327c6513d2afee32aceab17800faf2ff9a6e5cf5dafe5372d\",\n",
      "  \"version\": 2,\n",
      "  \"size\": 282,\n",
      "  \"vsize\": 141,\n",
      "  \"weight\": 564,\n",
      "  \"locktime\": 0,\n",
      "  \"vin\": [\n",
      "    {\n",
      "      \"txid\": \"821c72b0a18427be1d80a8980057291e47f502ee0687e66ca5861f499449d567\",\n",
      "      \"vout\": 1,\n",
      "      \"scriptSig\": {\n",
      "        \"asm\": \"\",\n",
      "        \"hex\": \"\"\n",
      "      },\n",
      "      \"txinwitness\": [\n",
      "        \"546170726f6f7420526f636b7321\",\n",
      "        \"a820528f99cd13f2d438556c6f6a803458a963519d2419a40dd685597c0919d81f588754935587\",\n",
      "        \"c050929b74c1a04954b78b4b6035e97a5e078a5a0f28ec96d547bfee9ace803ac0fa2b5d06e6fdf4ce947e00511fa6dd92294996846ec8a3b0b80d9363f0dec93ab95df7c5373a203b605e4c4773579b51f853078ba1a5f9db35df6527566c0c6d111fbd5ec2591327c312c7db37a0722205156310354d11783777f41ceff2fe96\"\n",
      "      ],\n",
      "      \"sequence\": 4294967295\n",
      "    }\n",
      "  ],\n",
      "  \"vout\": [\n",
      "    {\n",
      "      \"value\": 1.09999600,\n",
      "      \"n\": 0,\n",
      "      \"scriptPubKey\": {\n",
      "        \"asm\": \"1 23baba6e60c5424676408ddbbe485d2b5c2fc7f94815a76a0dbacc945aae2100\",\n",
      "        \"desc\": \"rawtr(23baba6e60c5424676408ddbbe485d2b5c2fc7f94815a76a0dbacc945aae2100)#a5cmxh3d\",\n",
      "        \"hex\": \"512023baba6e60c5424676408ddbbe485d2b5c2fc7f94815a76a0dbacc945aae2100\",\n",
      "        \"address\": \"bcrt1pywat5mnqc4pyvajq3hdmujza9dwzl3lefq26w6sdhtxfgk4wyyqqsvx823\",\n",
      "        \"type\": \"witness_v1_taproot\"\n",
      "      }\n",
      "    }\n",
      "  ]\n",
      "}\n"
     ]
    }
   ],
   "source": [
    "!bitcoin-cli -regtest decoderawtransaction \"$tx\""
   ]
  },
  {
   "cell_type": "code",
   "execution_count": 117,
   "id": "6a5a4a6e",
   "metadata": {},
   "outputs": [
    {
     "name": "stdout",
     "output_type": "stream",
     "text": [
      "[\n",
      "  {\n",
      "    \"txid\": \"429c57e63e6cb1fe85fa665c9210149cb5dd415950e892b9357b39cd0d6cdaf3\",\n",
      "    \"wtxid\": \"8109fa9970e0422327c6513d2afee32aceab17800faf2ff9a6e5cf5dafe5372d\",\n",
      "    \"allowed\": true,\n",
      "    \"vsize\": 141,\n",
      "    \"fees\": {\n",
      "      \"base\": 0.00000400,\n",
      "      \"effective-feerate\": 0.00002836,\n",
      "      \"effective-includes\": [\n",
      "        \"8109fa9970e0422327c6513d2afee32aceab17800faf2ff9a6e5cf5dafe5372d\"\n",
      "      ]\n",
      "    }\n",
      "  }\n",
      "]\n"
     ]
    }
   ],
   "source": [
    "!bitcoin-cli -regtest testmempoolaccept '[\"0200000000010167d54994491f86a56ce68706ee02f5471e29570098a8801dbe2784a1b0721c820100000000ffffffff01f0758e060000000022512023baba6e60c5424676408ddbbe485d2b5c2fc7f94815a76a0dbacc945aae2100030e546170726f6f7420526f636b732127a820528f99cd13f2d438556c6f6a803458a963519d2419a40dd685597c0919d81f58875493558781c050929b74c1a04954b78b4b6035e97a5e078a5a0f28ec96d547bfee9ace803ac0fa2b5d06e6fdf4ce947e00511fa6dd92294996846ec8a3b0b80d9363f0dec93ab95df7c5373a203b605e4c4773579b51f853078ba1a5f9db35df6527566c0c6d111fbd5ec2591327c312c7db37a0722205156310354d11783777f41ceff2fe9600000000\"]'"
   ]
  },
  {
   "cell_type": "markdown",
   "id": "329753e0",
   "metadata": {},
   "source": [
    "### Unbalanced Spend Transaction\n",
    "\n",
    "```\n",
    "version: 02000000\n",
    "marker+flag: 0001\n",
    "inputs: 01\n",
    "    txid: f3767ce2aa509d0ae5b876b41dcd0b7ea62044464b94d9673ef1d8dba275103e\n",
    "    vout: 00000000\n",
    "    scriptSig: 00\n",
    "    sequence: ffffffff\n",
    "outputs: 01\n",
    "    amounts: 700c270700000000\n",
    "    scriptPubKey: 22 512023baba6e60c5424676408ddbbe485d2b5c2fc7f94815a76a0dbacc945aae2100\n",
    "witnesses:\n",
    "03\n",
    "0e546170726f6f7420526f636b7321\n",
    "27a820528f99cd13f2d438556c6f6a803458a963519d2419a40dd685597c0919d81f588754935587\n",
    "fd01010c050929b74c1a04954b78b4b6035e97a5e078a5a0f28ec96d547bfee9ace803ac0002a01ee216a40f3d68710b87d7fb0654a7d540e9baa3f5ba5a06170b82ed08dfa2b5d06e6fdf4ce947e00511fa6dd92294996846ec8a3b0b80d9363f0dec93a7199c3d01803160ae132c34a5aaa9e5ba44725b0e6a483caa4de6804e77e2b01bcf0ffea8d704f70610ddffb14a2cd74cbde7b4bf116605143f43fcdac8628587ce84a5b9c296529029e07e014ffdfb9bb11d201bd84e4528d4ae46d6160ead68ddbf7add8c35b385346ea0f1c3fa93bbfd9583c75ee097fe0c03c64cceccd0a7ce84a5b9c296529029e07e014ffdfb9bb11d201bd84e4528d4ae46d6160ead6\n",
    "locktime: 00000000\n",
    "```"
   ]
  },
  {
   "cell_type": "code",
   "execution_count": 120,
   "id": "16c16274",
   "metadata": {},
   "outputs": [
    {
     "data": {
      "text/plain": [
       "'a820528f99cd13f2d438556c6f6a803458a963519d2419a40dd685597c0919d81f588754935587'"
      ]
     },
     "execution_count": 120,
     "metadata": {},
     "output_type": "execute_result"
    }
   ],
   "source": [
    "leaf_script = bytes.fromhex(da_nym)\n",
    "leaf_script.hex()"
   ]
  },
  {
   "cell_type": "code",
   "execution_count": 121,
   "id": "cf973530",
   "metadata": {},
   "outputs": [
    {
     "data": {
      "text/plain": [
       "'546170726f6f7420526f636b7321'"
      ]
     },
     "execution_count": 121,
     "metadata": {},
     "output_type": "execute_result"
    }
   ],
   "source": [
    "unlock_script = b'Taproot Rocks!'\n",
    "unlock_script.hex()"
   ]
  },
  {
   "cell_type": "code",
   "execution_count": 124,
   "id": "b8ad3f6b",
   "metadata": {},
   "outputs": [
    {
     "name": "stdout",
     "output_type": "stream",
     "text": [
      "['002a01ee216a40f3d68710b87d7fb0654a7d540e9baa3f5ba5a06170b82ed08d', 'fa2b5d06e6fdf4ce947e00511fa6dd92294996846ec8a3b0b80d9363f0dec93a', '7199c3d01803160ae132c34a5aaa9e5ba44725b0e6a483caa4de6804e77e2b01', 'bcf0ffea8d704f70610ddffb14a2cd74cbde7b4bf116605143f43fcdac862858', '7ce84a5b9c296529029e07e014ffdfb9bb11d201bd84e4528d4ae46d6160ead6', '8ddbf7add8c35b385346ea0f1c3fa93bbfd9583c75ee097fe0c03c64cceccd0a', '7ce84a5b9c296529029e07e014ffdfb9bb11d201bd84e4528d4ae46d6160ead6']\n"
     ]
    }
   ],
   "source": [
    "_, proof_of_inclusion, _ = build_proof_of_inclusion(unbalanced_tree, da_nym)\n",
    "\n",
    "print([ x.hex() for x in proof_of_inclusion])"
   ]
  },
  {
   "cell_type": "code",
   "execution_count": 125,
   "id": "0c61fef0",
   "metadata": {},
   "outputs": [
    {
     "data": {
      "text/plain": [
       "'c050929b74c1a04954b78b4b6035e97a5e078a5a0f28ec96d547bfee9ace803ac0002a01ee216a40f3d68710b87d7fb0654a7d540e9baa3f5ba5a06170b82ed08dfa2b5d06e6fdf4ce947e00511fa6dd92294996846ec8a3b0b80d9363f0dec93a7199c3d01803160ae132c34a5aaa9e5ba44725b0e6a483caa4de6804e77e2b01bcf0ffea8d704f70610ddffb14a2cd74cbde7b4bf116605143f43fcdac8628587ce84a5b9c296529029e07e014ffdfb9bb11d201bd84e4528d4ae46d6160ead68ddbf7add8c35b385346ea0f1c3fa93bbfd9583c75ee097fe0c03c64cceccd0a7ce84a5b9c296529029e07e014ffdfb9bb11d201bd84e4528d4ae46d6160ead6'"
      ]
     },
     "execution_count": 125,
     "metadata": {},
     "output_type": "execute_result"
    }
   ],
   "source": [
    "control_block = control_block_version_byte(Q_unbalanced) + internal_pubkey.format()[1:] + b''.join(proof_of_inclusion)\n",
    "control_block.hex()"
   ]
  },
  {
   "cell_type": "code",
   "execution_count": 126,
   "id": "49ad3f85",
   "metadata": {},
   "outputs": [
    {
     "name": "stdout",
     "output_type": "stream",
     "text": [
      "03\n",
      "0e546170726f6f7420526f636b7321\n",
      "27a820528f99cd13f2d438556c6f6a803458a963519d2419a40dd685597c0919d81f588754935587\n",
      "fd0101c050929b74c1a04954b78b4b6035e97a5e078a5a0f28ec96d547bfee9ace803ac0002a01ee216a40f3d68710b87d7fb0654a7d540e9baa3f5ba5a06170b82ed08dfa2b5d06e6fdf4ce947e00511fa6dd92294996846ec8a3b0b80d9363f0dec93a7199c3d01803160ae132c34a5aaa9e5ba44725b0e6a483caa4de6804e77e2b01bcf0ffea8d704f70610ddffb14a2cd74cbde7b4bf116605143f43fcdac8628587ce84a5b9c296529029e07e014ffdfb9bb11d201bd84e4528d4ae46d6160ead68ddbf7add8c35b385346ea0f1c3fa93bbfd9583c75ee097fe0c03c64cceccd0a7ce84a5b9c296529029e07e014ffdfb9bb11d201bd84e4528d4ae46d6160ead6\n"
     ]
    }
   ],
   "source": [
    "from codes import size_compact_size\n",
    "\n",
    "\n",
    "wits = [size_compact_size(len(unlock_script)) + unlock_script, \n",
    "        size_compact_size(len(leaf_script)) + leaf_script,\n",
    "        size_compact_size(len(control_block)) + control_block]\n",
    "\n",
    "print(size_compact_size(len(wits)).hex())\n",
    "for witness in wits:\n",
    "    print(witness.hex())"
   ]
  },
  {
   "cell_type": "code",
   "execution_count": 127,
   "id": "15a9b5e0",
   "metadata": {},
   "outputs": [],
   "source": [
    "unbal_tx = '02000000000101f3767ce2aa509d0ae5b876b41dcd0b7ea62044464b94d9673ef1d8dba275103e0000000000ffffffff01700c27070000000022512023baba6e60c5424676408ddbbe485d2b5c2fc7f94815a76a0dbacc945aae2100030e546170726f6f7420526f636b732127a820528f99cd13f2d438556c6f6a803458a963519d2419a40dd685597c0919d81f588754935587fd0101c050929b74c1a04954b78b4b6035e97a5e078a5a0f28ec96d547bfee9ace803ac0002a01ee216a40f3d68710b87d7fb0654a7d540e9baa3f5ba5a06170b82ed08dfa2b5d06e6fdf4ce947e00511fa6dd92294996846ec8a3b0b80d9363f0dec93a7199c3d01803160ae132c34a5aaa9e5ba44725b0e6a483caa4de6804e77e2b01bcf0ffea8d704f70610ddffb14a2cd74cbde7b4bf116605143f43fcdac8628587ce84a5b9c296529029e07e014ffdfb9bb11d201bd84e4528d4ae46d6160ead68ddbf7add8c35b385346ea0f1c3fa93bbfd9583c75ee097fe0c03c64cceccd0a7ce84a5b9c296529029e07e014ffdfb9bb11d201bd84e4528d4ae46d6160ead600000000'"
   ]
  },
  {
   "cell_type": "code",
   "execution_count": 128,
   "id": "58759da0",
   "metadata": {},
   "outputs": [
    {
     "name": "stdout",
     "output_type": "stream",
     "text": [
      "{\n",
      "  \"txid\": \"ff4f41787144570f75fc082747a518da0acd3eb5137a67ce382bbab2d6210cfa\",\n",
      "  \"hash\": \"cee47cf5c16f39e32021a0ecdc8359c7e545508d3cd13b2586c09f2feb12febd\",\n",
      "  \"version\": 2,\n",
      "  \"size\": 412,\n",
      "  \"vsize\": 174,\n",
      "  \"weight\": 694,\n",
      "  \"locktime\": 0,\n",
      "  \"vin\": [\n",
      "    {\n",
      "      \"txid\": \"3e1075a2dbd8f13e67d9944b464420a67e0bcd1db476b8e50a9d50aae27c76f3\",\n",
      "      \"vout\": 0,\n",
      "      \"scriptSig\": {\n",
      "        \"asm\": \"\",\n",
      "        \"hex\": \"\"\n",
      "      },\n",
      "      \"txinwitness\": [\n",
      "        \"546170726f6f7420526f636b7321\",\n",
      "        \"a820528f99cd13f2d438556c6f6a803458a963519d2419a40dd685597c0919d81f588754935587\",\n",
      "        \"c050929b74c1a04954b78b4b6035e97a5e078a5a0f28ec96d547bfee9ace803ac0002a01ee216a40f3d68710b87d7fb0654a7d540e9baa3f5ba5a06170b82ed08dfa2b5d06e6fdf4ce947e00511fa6dd92294996846ec8a3b0b80d9363f0dec93a7199c3d01803160ae132c34a5aaa9e5ba44725b0e6a483caa4de6804e77e2b01bcf0ffea8d704f70610ddffb14a2cd74cbde7b4bf116605143f43fcdac8628587ce84a5b9c296529029e07e014ffdfb9bb11d201bd84e4528d4ae46d6160ead68ddbf7add8c35b385346ea0f1c3fa93bbfd9583c75ee097fe0c03c64cceccd0a7ce84a5b9c296529029e07e014ffdfb9bb11d201bd84e4528d4ae46d6160ead6\"\n",
      "      ],\n",
      "      \"sequence\": 4294967295\n",
      "    }\n",
      "  ],\n",
      "  \"vout\": [\n",
      "    {\n",
      "      \"value\": 1.19999600,\n",
      "      \"n\": 0,\n",
      "      \"scriptPubKey\": {\n",
      "        \"asm\": \"1 23baba6e60c5424676408ddbbe485d2b5c2fc7f94815a76a0dbacc945aae2100\",\n",
      "        \"desc\": \"rawtr(23baba6e60c5424676408ddbbe485d2b5c2fc7f94815a76a0dbacc945aae2100)#a5cmxh3d\",\n",
      "        \"hex\": \"512023baba6e60c5424676408ddbbe485d2b5c2fc7f94815a76a0dbacc945aae2100\",\n",
      "        \"address\": \"bcrt1pywat5mnqc4pyvajq3hdmujza9dwzl3lefq26w6sdhtxfgk4wyyqqsvx823\",\n",
      "        \"type\": \"witness_v1_taproot\"\n",
      "      }\n",
      "    }\n",
      "  ]\n",
      "}\n"
     ]
    }
   ],
   "source": [
    "!bitcoin-cli -regtest decoderawtransaction \"$unbal_tx\""
   ]
  },
  {
   "cell_type": "code",
   "execution_count": 129,
   "id": "a0622951",
   "metadata": {},
   "outputs": [
    {
     "name": "stdout",
     "output_type": "stream",
     "text": [
      "[\n",
      "  {\n",
      "    \"txid\": \"ff4f41787144570f75fc082747a518da0acd3eb5137a67ce382bbab2d6210cfa\",\n",
      "    \"wtxid\": \"cee47cf5c16f39e32021a0ecdc8359c7e545508d3cd13b2586c09f2feb12febd\",\n",
      "    \"allowed\": true,\n",
      "    \"vsize\": 174,\n",
      "    \"fees\": {\n",
      "      \"base\": 0.00000400,\n",
      "      \"effective-feerate\": 0.00002298,\n",
      "      \"effective-includes\": [\n",
      "        \"cee47cf5c16f39e32021a0ecdc8359c7e545508d3cd13b2586c09f2feb12febd\"\n",
      "      ]\n",
      "    }\n",
      "  }\n",
      "]\n"
     ]
    }
   ],
   "source": [
    "!bitcoin-cli -regtest testmempoolaccept '[\"02000000000101f3767ce2aa509d0ae5b876b41dcd0b7ea62044464b94d9673ef1d8dba275103e0000000000ffffffff01700c27070000000022512023baba6e60c5424676408ddbbe485d2b5c2fc7f94815a76a0dbacc945aae2100030e546170726f6f7420526f636b732127a820528f99cd13f2d438556c6f6a803458a963519d2419a40dd685597c0919d81f588754935587fd0101c050929b74c1a04954b78b4b6035e97a5e078a5a0f28ec96d547bfee9ace803ac0002a01ee216a40f3d68710b87d7fb0654a7d540e9baa3f5ba5a06170b82ed08dfa2b5d06e6fdf4ce947e00511fa6dd92294996846ec8a3b0b80d9363f0dec93a7199c3d01803160ae132c34a5aaa9e5ba44725b0e6a483caa4de6804e77e2b01bcf0ffea8d704f70610ddffb14a2cd74cbde7b4bf116605143f43fcdac8628587ce84a5b9c296529029e07e014ffdfb9bb11d201bd84e4528d4ae46d6160ead68ddbf7add8c35b385346ea0f1c3fa93bbfd9583c75ee097fe0c03c64cceccd0a7ce84a5b9c296529029e07e014ffdfb9bb11d201bd84e4528d4ae46d6160ead600000000\"]'"
   ]
  },
  {
   "cell_type": "markdown",
   "id": "23d7c4bd",
   "metadata": {},
   "source": [
    "# Multisig Three Ways!\n",
    "\n",
    "Specifically a \"threshold multisig\".  \"2 of 3\" // 5 of 7 etc \n",
    "\n",
    "Why this particular task? \n",
    "    - Highlights the removal of OP_CHECKMULTISIG and its replacement\n",
    "    - Why FROST vs MuSig2\n",
    "    \n",
    "\n",
    "What are the three ways we're going to do a threshold spend?\n",
    "\n",
    "- OP_CHECKSIGADD\n",
    "- MuSig2 + tapscript leaves\n",
    "- FROST (external pubkey // internal pubkey)\n",
    "\n",
    "I'm going to do 2 of 3 for our initial examples."
   ]
  },
  {
   "cell_type": "code",
   "execution_count": 130,
   "id": "aedad28a",
   "metadata": {},
   "outputs": [
    {
     "data": {
      "text/plain": [
       "'034a4bf5e40fb93d0d0eec627ef9b4b86d785074d30b366edcb747526490a4c82d'"
      ]
     },
     "execution_count": 130,
     "metadata": {},
     "output_type": "execute_result"
    }
   ],
   "source": [
    "privkey = 8589393459493948599858588583933824757589382718181271727004040303\n",
    "assert privkey < n\n",
    "pubkey = coincurve.PrivateKey.from_int(privkey).public_key\n",
    "pubkey.format().hex()"
   ]
  },
  {
   "cell_type": "code",
   "execution_count": 131,
   "id": "3bf4a308",
   "metadata": {},
   "outputs": [
    {
     "data": {
      "text/plain": [
       "[444, 555, 666]"
      ]
     },
     "execution_count": 131,
     "metadata": {},
     "output_type": "execute_result"
    }
   ],
   "source": [
    "private_keys = [444, 555, 666]\n",
    "private_keys"
   ]
  },
  {
   "cell_type": "code",
   "execution_count": 132,
   "id": "e80a139c",
   "metadata": {},
   "outputs": [
    {
     "data": {
      "text/plain": [
       "['039e6d1d11b101055620cbf7a8bfda75ac1fac813a96608f9c59eac485c16b9f1f',\n",
       " '03d811d8c4323b43702607c25ade936c0ac2e4a44b2ba51f8320c5179e745a7e29',\n",
       " '037f75c66c45a52c35ead5970bbfaafdfba626a6ddceabc14e0f8a8c7d88a5772b']"
      ]
     },
     "execution_count": 132,
     "metadata": {},
     "output_type": "execute_result"
    }
   ],
   "source": [
    "import coincurve\n",
    "pubkeys = [ coincurve.PrivateKey.from_int(x).public_key for x in private_keys ]\n",
    "[ x.format().hex() for x in pubkeys ]"
   ]
  },
  {
   "cell_type": "markdown",
   "id": "a6cb409f",
   "metadata": {},
   "source": [
    "## OP_CHECKSIGADD\n",
    "\n",
    "<pubkey> OP_CHECKSIG <pubkey2> OP_CHECKSIGADD <pubkey3> OP_CHECKSIGADD OP_2 OP_EQUAL\n",
    "    \n",
    "    \n",
    "#### OP_CHECKSIGADD from `interpeter.cpp`\n",
    "```\n",
    "    const valtype& sig = stacktop(-3);\n",
    "    const CScriptNum num(stacktop(-2), fRequireMinimal);\n",
    "    const valtype& pubkey = stacktop(-1);\n",
    "    EvalChecksig... -> success\n",
    "    ...\n",
    "     stack.push_back((num + (success ? 1 : 0))\n",
    "```"
   ]
  },
  {
   "cell_type": "markdown",
   "id": "510ae6eb",
   "metadata": {},
   "source": [
    "20 9e6d1d11b101055620cbf7a8bfda75ac1fac813a96608f9c59eac485c16b9f1f  OP_CHECKSIG\n",
    "20 d811d8c4323b43702607c25ade936c0ac2e4a44b2ba51f8320c5179e745a7e29  OP_CHECKSIGADD\n",
    "20 7f75c66c45a52c35ead5970bbfaafdfba626a6ddceabc14e0f8a8c7d88a5772b  OP_CHECKSIGADD OP_2 OP_EQUAL"
   ]
  },
  {
   "cell_type": "markdown",
   "id": "3ac05e2c",
   "metadata": {},
   "source": [
    "20 9e6d1d11b101055620cbf7a8bfda75ac1fac813a96608f9c59eac485c16b9f1f  ac\n",
    "20 d811d8c4323b43702607c25ade936c0ac2e4a44b2ba51f8320c5179e745a7e29  ba\n",
    "20 7f75c66c45a52c35ead5970bbfaafdfba626a6ddceabc14e0f8a8c7d88a5772b  ba 52 87"
   ]
  },
  {
   "cell_type": "code",
   "execution_count": 133,
   "id": "d0b3c28a",
   "metadata": {},
   "outputs": [],
   "source": [
    "lock_script = '209e6d1d11b101055620cbf7a8bfda75ac1fac813a96608f9c59eac485c16b9f1fac20d811d8c4323b43702607c25ade936c0ac2e4a44b2ba51f8320c5179e745a7e29ba207f75c66c45a52c35ead5970bbfaafdfba626a6ddceabc14e0f8a8c7d88a5772bba5287'"
   ]
  },
  {
   "cell_type": "code",
   "execution_count": 134,
   "id": "d09ae842",
   "metadata": {},
   "outputs": [
    {
     "name": "stdout",
     "output_type": "stream",
     "text": [
      "{\n",
      "  \"asm\": \"9e6d1d11b101055620cbf7a8bfda75ac1fac813a96608f9c59eac485c16b9f1f OP_CHECKSIG d811d8c4323b43702607c25ade936c0ac2e4a44b2ba51f8320c5179e745a7e29 OP_CHECKSIGADD 7f75c66c45a52c35ead5970bbfaafdfba626a6ddceabc14e0f8a8c7d88a5772b OP_CHECKSIGADD 2 OP_EQUAL\",\n",
      "  \"desc\": \"raw(209e6d1d11b101055620cbf7a8bfda75ac1fac813a96608f9c59eac485c16b9f1fac20d811d8c4323b43702607c25ade936c0ac2e4a44b2ba51f8320c5179e745a7e29ba207f75c66c45a52c35ead5970bbfaafdfba626a6ddceabc14e0f8a8c7d88a5772bba5287)#wtpgq0kg\",\n",
      "  \"type\": \"nonstandard\"\n",
      "}\n"
     ]
    }
   ],
   "source": [
    "!bitcoin-cli -regtest decodescript \"$lock_script\""
   ]
  },
  {
   "cell_type": "code",
   "execution_count": 135,
   "id": "c682fd4e",
   "metadata": {},
   "outputs": [
    {
     "name": "stdout",
     "output_type": "stream",
     "text": [
      "leaf: abcb18eedf7d6857dc29c6b42992befaf46601708c09594d26cc2abc7fb59e26\n"
     ]
    },
    {
     "data": {
      "text/plain": [
       "'abcb18eedf7d6857dc29c6b42992befaf46601708c09594d26cc2abc7fb59e26'"
      ]
     },
     "execution_count": 135,
     "metadata": {},
     "output_type": "execute_result"
    }
   ],
   "source": [
    "# Now that I have a script, I need to get an address for it!\n",
    "\n",
    "tree = lock_script\n",
    "add_root = taptree_builder(tree)\n",
    "add_root.hex()"
   ]
  },
  {
   "cell_type": "code",
   "execution_count": 136,
   "id": "08f984c4",
   "metadata": {},
   "outputs": [],
   "source": [
    "internal_pubkey = nums_point(800)"
   ]
  },
  {
   "cell_type": "code",
   "execution_count": 137,
   "id": "ebbc54b9",
   "metadata": {},
   "outputs": [
    {
     "data": {
      "text/plain": [
       "'51207e2e49a3355f2b81428a6161860f7faf16cc312d18753198a52a78d34c5af4bf'"
      ]
     },
     "execution_count": 137,
     "metadata": {},
     "output_type": "execute_result"
    }
   ],
   "source": [
    "tweak_key = make_tweak_pubkey(internal_pubkey, add_root)\n",
    "external_pubkey = make_external_pubkey(internal_pubkey, tweak_key)\n",
    "v1script = make_p2tr(external_pubkey)\n",
    "external_script = v1script.hex()\n",
    "external_script"
   ]
  },
  {
   "cell_type": "code",
   "execution_count": 138,
   "id": "9bde56d5",
   "metadata": {},
   "outputs": [
    {
     "name": "stdout",
     "output_type": "stream",
     "text": [
      "{\n",
      "  \"asm\": \"1 7e2e49a3355f2b81428a6161860f7faf16cc312d18753198a52a78d34c5af4bf\",\n",
      "  \"desc\": \"rawtr(7e2e49a3355f2b81428a6161860f7faf16cc312d18753198a52a78d34c5af4bf)#qs5vqky3\",\n",
      "  \"address\": \"bcrt1p0chynge4tu4czs52v9scvrml4utvcvfdrp6nrx999fudxnz67jlsajln37\",\n",
      "  \"type\": \"witness_v1_taproot\"\n",
      "}\n"
     ]
    }
   ],
   "source": [
    "!bitcoin-cli -regtest decodescript \"$external_script\""
   ]
  },
  {
   "cell_type": "code",
   "execution_count": 139,
   "id": "798e8044",
   "metadata": {},
   "outputs": [
    {
     "name": "stdout",
     "output_type": "stream",
     "text": [
      "b09bd6fb16e32c91d90c2a77a01417b6a56ebfefb09b2198cda20fa2c01fb3f7\n"
     ]
    }
   ],
   "source": [
    "!bitcoin-cli -regtest sendtoaddress bcrt1p0chynge4tu4czs52v9scvrml4utvcvfdrp6nrx999fudxnz67jlsajln37 1.0"
   ]
  },
  {
   "cell_type": "code",
   "execution_count": 140,
   "id": "fe41c805",
   "metadata": {},
   "outputs": [
    {
     "name": "stdout",
     "output_type": "stream",
     "text": [
      "\u001b[1;37m[\n",
      "  \u001b[1;37m{\n",
      "    \u001b[0m\u001b[1;34m\"value\"\u001b[0m\u001b[1;37m: \u001b[0m\u001b[0;37m1.12499681\u001b[0m\u001b[1;37m,\n",
      "    \u001b[0m\u001b[1;34m\"n\"\u001b[0m\u001b[1;37m: \u001b[0m\u001b[0;37m0\u001b[0m\u001b[1;37m,\n",
      "    \u001b[0m\u001b[1;34m\"scriptPubKey\"\u001b[0m\u001b[1;37m: \u001b[0m\u001b[1;37m{\n",
      "      \u001b[0m\u001b[1;34m\"asm\"\u001b[0m\u001b[1;37m: \u001b[0m\u001b[0;32m\"1 dee167673a45a838fdb0aca3a8a4b0144d9add4df06bdd1505b0468317433e95\"\u001b[0m\u001b[1;37m,\n",
      "      \u001b[0m\u001b[1;34m\"desc\"\u001b[0m\u001b[1;37m: \u001b[0m\u001b[0;32m\"rawtr(dee167673a45a838fdb0aca3a8a4b0144d9add4df06bdd1505b0468317433e95)#cy8a2r2v\"\u001b[0m\u001b[1;37m,\n",
      "      \u001b[0m\u001b[1;34m\"hex\"\u001b[0m\u001b[1;37m: \u001b[0m\u001b[0;32m\"5120dee167673a45a838fdb0aca3a8a4b0144d9add4df06bdd1505b0468317433e95\"\u001b[0m\u001b[1;37m,\n",
      "      \u001b[0m\u001b[1;34m\"address\"\u001b[0m\u001b[1;37m: \u001b[0m\u001b[0;32m\"bcrt1pmmskwee6gk5r3lds4j363f9sz3xe4h2d7p4a69g9kprgx96r862sdl3nwp\"\u001b[0m\u001b[1;37m,\n",
      "      \u001b[0m\u001b[1;34m\"type\"\u001b[0m\u001b[1;37m: \u001b[0m\u001b[0;32m\"witness_v1_taproot\"\u001b[0m\u001b[1;37m\n",
      "    \u001b[1;37m}\u001b[0m\u001b[1;37m\n",
      "  \u001b[1;37m}\u001b[0m\u001b[1;37m,\n",
      "  \u001b[1;37m{\n",
      "    \u001b[0m\u001b[1;34m\"value\"\u001b[0m\u001b[1;37m: \u001b[0m\u001b[0;37m1.00000000\u001b[0m\u001b[1;37m,\n",
      "    \u001b[0m\u001b[1;34m\"n\"\u001b[0m\u001b[1;37m: \u001b[0m\u001b[0;37m1\u001b[0m\u001b[1;37m,\n",
      "    \u001b[0m\u001b[1;34m\"scriptPubKey\"\u001b[0m\u001b[1;37m: \u001b[0m\u001b[1;37m{\n",
      "      \u001b[0m\u001b[1;34m\"asm\"\u001b[0m\u001b[1;37m: \u001b[0m\u001b[0;32m\"1 7e2e49a3355f2b81428a6161860f7faf16cc312d18753198a52a78d34c5af4bf\"\u001b[0m\u001b[1;37m,\n",
      "      \u001b[0m\u001b[1;34m\"desc\"\u001b[0m\u001b[1;37m: \u001b[0m\u001b[0;32m\"rawtr(7e2e49a3355f2b81428a6161860f7faf16cc312d18753198a52a78d34c5af4bf)#qs5vqky3\"\u001b[0m\u001b[1;37m,\n",
      "      \u001b[0m\u001b[1;34m\"hex\"\u001b[0m\u001b[1;37m: \u001b[0m\u001b[0;32m\"51207e2e49a3355f2b81428a6161860f7faf16cc312d18753198a52a78d34c5af4bf\"\u001b[0m\u001b[1;37m,\n",
      "      \u001b[0m\u001b[1;34m\"address\"\u001b[0m\u001b[1;37m: \u001b[0m\u001b[0;32m\"bcrt1p0chynge4tu4czs52v9scvrml4utvcvfdrp6nrx999fudxnz67jlsajln37\"\u001b[0m\u001b[1;37m,\n",
      "      \u001b[0m\u001b[1;34m\"type\"\u001b[0m\u001b[1;37m: \u001b[0m\u001b[0;32m\"witness_v1_taproot\"\u001b[0m\u001b[1;37m\n",
      "    \u001b[1;37m}\u001b[0m\u001b[1;37m\n",
      "  \u001b[1;37m}\u001b[0m\u001b[1;37m\n",
      "\u001b[1;37m]\u001b[0m\n"
     ]
    }
   ],
   "source": [
    "!bitcoin-cli -regtest getrawtransaction babe6a14be40058f9fbe61f9bd30f982754644da6e0951fb3d1ce795eaee3633 true | jq .vout"
   ]
  },
  {
   "cell_type": "code",
   "execution_count": 141,
   "id": "6c5eec26",
   "metadata": {},
   "outputs": [],
   "source": [
    "prev_tx = !bitcoin-cli -regtest getrawtransaction babe6a14be40058f9fbe61f9bd30f982754644da6e0951fb3d1ce795eaee3633\n",
    "spent_from_tx = parse_tx_bytes_mine(prev_tx[0])"
   ]
  },
  {
   "cell_type": "code",
   "execution_count": 142,
   "id": "5317dfa8",
   "metadata": {},
   "outputs": [
    {
     "data": {
      "text/plain": [
       "'3336eeea95e71c3dfb51096eda44467582f930bdf961be9f8f0540be146abeba'"
      ]
     },
     "execution_count": 142,
     "metadata": {},
     "output_type": "execute_result"
    }
   ],
   "source": [
    "txid = 'babe6a14be40058f9fbe61f9bd30f982754644da6e0951fb3d1ce795eaee3633'\n",
    "bckwd_txid = bytes.fromhex(txid)[::-1].hex()\n",
    "bckwd_txid"
   ]
  },
  {
   "cell_type": "code",
   "execution_count": 143,
   "id": "62cd69ad",
   "metadata": {},
   "outputs": [
    {
     "data": {
      "text/plain": [
       "'70dff50500000000'"
      ]
     },
     "execution_count": 143,
     "metadata": {},
     "output_type": "execute_result"
    }
   ],
   "source": [
    "amount = (1 * 10 ** 8 - 400).to_bytes(8, 'little')\n",
    "amount.hex()"
   ]
  },
  {
   "cell_type": "markdown",
   "id": "8ca74631",
   "metadata": {},
   "source": [
    "Now we have a locked up some bitcoin. Let's spend it!"
   ]
  },
  {
   "cell_type": "code",
   "execution_count": 144,
   "id": "fb5ae935",
   "metadata": {},
   "outputs": [],
   "source": [
    "import re\n",
    "def cleanup_tx(hmn_read_tx):\n",
    "    \"\"\" Given a block of text, strip out everything except \n",
    "        the hex strings\n",
    "    \"\"\"\n",
    "    ret_val = []\n",
    "    lines = hmn_read_tx.split('\\n')\n",
    "    for line in lines:\n",
    "        substr = line.split(':')[-1]  # suggested-by @chrisguida + @macaki\n",
    "        ret_val += re.findall(r'[0-9a-fA-F]{2}', substr)\n",
    "    return ''.join(ret_val)"
   ]
  },
  {
   "cell_type": "code",
   "execution_count": 145,
   "id": "b2eaaf10",
   "metadata": {},
   "outputs": [
    {
     "data": {
      "text/plain": [
       "'02000000013336eeea95e71c3dfb51096eda44467582f930bdf961be9f8f0540be146abeba0100000000fdffffff0170dff505000000002251207e2e49a3355f2b81428a6161860f7faf16cc312d18753198a52a78d34c5af4bf00000000'"
      ]
     },
     "execution_count": 145,
     "metadata": {},
     "output_type": "execute_result"
    }
   ],
   "source": [
    "tx_tmp = \"\"\"\n",
    "version: 02000000\n",
    "inputs: 01\n",
    "    txid: 3336eeea95e71c3dfb51096eda44467582f930bdf961be9f8f0540be146abeba\n",
    "    vout: 01000000\n",
    "    scriptSig: 00\n",
    "    sequence: fdffffff\n",
    "outputs: 01\n",
    "    amount: 70dff50500000000\n",
    "    scriptPubKey: 2251207e2e49a3355f2b81428a6161860f7faf16cc312d18753198a52a78d34c5af4bf\n",
    "witnesses:\n",
    "locktime: 00000000\n",
    "\"\"\"\n",
    "tx = cleanup_tx(tx_tmp)\n",
    "tx"
   ]
  },
  {
   "cell_type": "code",
   "execution_count": 146,
   "id": "c6cb49eb",
   "metadata": {},
   "outputs": [
    {
     "name": "stdout",
     "output_type": "stream",
     "text": [
      "{\n",
      "  \"txid\": \"0af9eba1fcf5563225835226c476866049becb1eabb7de3bfc07639cb9c161c5\",\n",
      "  \"hash\": \"0af9eba1fcf5563225835226c476866049becb1eabb7de3bfc07639cb9c161c5\",\n",
      "  \"version\": 2,\n",
      "  \"size\": 94,\n",
      "  \"vsize\": 94,\n",
      "  \"weight\": 376,\n",
      "  \"locktime\": 0,\n",
      "  \"vin\": [\n",
      "    {\n",
      "      \"txid\": \"babe6a14be40058f9fbe61f9bd30f982754644da6e0951fb3d1ce795eaee3633\",\n",
      "      \"vout\": 1,\n",
      "      \"scriptSig\": {\n",
      "        \"asm\": \"\",\n",
      "        \"hex\": \"\"\n",
      "      },\n",
      "      \"sequence\": 4294967293\n",
      "    }\n",
      "  ],\n",
      "  \"vout\": [\n",
      "    {\n",
      "      \"value\": 0.99999600,\n",
      "      \"n\": 0,\n",
      "      \"scriptPubKey\": {\n",
      "        \"asm\": \"1 7e2e49a3355f2b81428a6161860f7faf16cc312d18753198a52a78d34c5af4bf\",\n",
      "        \"desc\": \"rawtr(7e2e49a3355f2b81428a6161860f7faf16cc312d18753198a52a78d34c5af4bf)#qs5vqky3\",\n",
      "        \"hex\": \"51207e2e49a3355f2b81428a6161860f7faf16cc312d18753198a52a78d34c5af4bf\",\n",
      "        \"address\": \"bcrt1p0chynge4tu4czs52v9scvrml4utvcvfdrp6nrx999fudxnz67jlsajln37\",\n",
      "        \"type\": \"witness_v1_taproot\"\n",
      "      }\n",
      "    }\n",
      "  ]\n",
      "}\n"
     ]
    }
   ],
   "source": [
    "!bitcoin-cli -regtest decoderawtransaction \"$tx\""
   ]
  },
  {
   "cell_type": "code",
   "execution_count": 147,
   "id": "c77b00b2",
   "metadata": {},
   "outputs": [
    {
     "data": {
      "text/plain": [
       "'c068b5a4c53400ec14d7959c94861c6ec663f643fd783c49f67a496a9017a5f6c5'"
      ]
     },
     "execution_count": 147,
     "metadata": {},
     "output_type": "execute_result"
    }
   ],
   "source": [
    "proof_of_inclusion = []\n",
    "control_block = control_block_version_byte(external_pubkey) + internal_pubkey.format()[1:] + b''.join(proof_of_inclusion)\n",
    "control_block.hex()"
   ]
  },
  {
   "cell_type": "code",
   "execution_count": 150,
   "id": "b5f0a6c3",
   "metadata": {},
   "outputs": [
    {
     "data": {
      "text/plain": [
       "'abcb18eedf7d6857dc29c6b42992befaf46601708c09594d26cc2abc7fb59e2600ffffffff'"
      ]
     },
     "execution_count": 150,
     "metadata": {},
     "output_type": "execute_result"
    }
   ],
   "source": [
    "lock_script_fr = bytes.fromhex(lock_script)\n",
    "tapleaf_hash = make_leaf(lock_script_fr)\n",
    "key_version = bytes([0x00])\n",
    "codesep_position = bytes([0xff, 0xff, 0xff, 0xff])\n",
    "\n",
    "extension_data = tapleaf_hash + key_version + codesep_position\n",
    "extension_data.hex()"
   ]
  },
  {
   "cell_type": "code",
   "execution_count": 151,
   "id": "e7bea38f",
   "metadata": {},
   "outputs": [
    {
     "name": "stdout",
     "output_type": "stream",
     "text": [
      "amounts: ['00e1f50500000000']\n",
      "scriptpubkeys: ['51207e2e49a3355f2b81428a6161860f7faf16cc312d18753198a52a78d34c5af4bf'] \n",
      "\n"
     ]
    },
    {
     "data": {
      "text/plain": [
       "'a0434d9e47f3c86235477c7b1ae6ae5d3442d49b1943c2b752a68e2a47e247c72fe25357c88ac753ab51ef75588b7a2ed0283a0100187d8ac9c6a674e3ffa21d'"
      ]
     },
     "execution_count": 151,
     "metadata": {},
     "output_type": "execute_result"
    }
   ],
   "source": [
    "vout = 1\n",
    "amounts_bytes = [spent_from_tx['outputs'][vout]['amount']]\n",
    "print(\"amounts:\", [x.hex() for x in amounts_bytes])\n",
    "\n",
    "scriptpubkeys_bytes = [spent_from_tx['outputs'][vout]['scriptPubKey']]\n",
    "print(\"scriptpubkeys:\", [x.hex() for x in scriptpubkeys_bytes], \"\\n\")\n",
    "\n",
    "ext_flag = 1 if extension_data else 0\n",
    "annex_bytes = None\n",
    "input_index = 0\n",
    "\n",
    "sigmsg = sigmsg_default(tx, input_index, annex_bytes, amounts_bytes, scriptpubkeys_bytes, ext_flag)\n",
    "\n",
    "# add extension data to end of what's passed into tag_hash\n",
    "sighash = tag_hash(b'TapSighash', bytes([0x00]) + sigmsg + extension_data)\n",
    "\n",
    "nonce = 10\n",
    "sig1 = sign_msg(private_keys[0], sighash, nonce)\n",
    "assert len(sig1) == 64\n",
    "sig1.hex()"
   ]
  },
  {
   "cell_type": "code",
   "execution_count": 152,
   "id": "1a57d111",
   "metadata": {},
   "outputs": [
    {
     "data": {
      "text/plain": [
       "'774ae7f858a9411e5ef4246b70c65aac5649980be5c17891bbec17895da008cb50f2be29d7810fdd3611c4ae434efa2b916ee85a5df0073c322123fca900b92d'"
      ]
     },
     "execution_count": 152,
     "metadata": {},
     "output_type": "execute_result"
    }
   ],
   "source": [
    "# now we just sign the same message w/ a new key!\n",
    "nonce = 11\n",
    "sig2 = sign_msg(private_keys[1], sighash, nonce)\n",
    "sig2.hex()"
   ]
  },
  {
   "cell_type": "code",
   "execution_count": 153,
   "id": "a4a01f8e",
   "metadata": {},
   "outputs": [],
   "source": [
    "sig3 = b''"
   ]
  },
  {
   "cell_type": "code",
   "execution_count": 154,
   "id": "112ed5a8",
   "metadata": {},
   "outputs": [],
   "source": [
    "lock_script_fr = bytes.fromhex(lock_script)\n",
    "\n",
    "wits = [\n",
    "    sig3,\n",
    "    sig2,\n",
    "    sig1,\n",
    "    lock_script_fr,\n",
    "    control_block\n",
    "]"
   ]
  },
  {
   "cell_type": "code",
   "execution_count": 155,
   "id": "edc44e18",
   "metadata": {},
   "outputs": [
    {
     "name": "stdout",
     "output_type": "stream",
     "text": [
      "05\n",
      "00\n",
      "40774ae7f858a9411e5ef4246b70c65aac5649980be5c17891bbec17895da008cb50f2be29d7810fdd3611c4ae434efa2b916ee85a5df0073c322123fca900b92d\n",
      "40a0434d9e47f3c86235477c7b1ae6ae5d3442d49b1943c2b752a68e2a47e247c72fe25357c88ac753ab51ef75588b7a2ed0283a0100187d8ac9c6a674e3ffa21d\n",
      "68209e6d1d11b101055620cbf7a8bfda75ac1fac813a96608f9c59eac485c16b9f1fac20d811d8c4323b43702607c25ade936c0ac2e4a44b2ba51f8320c5179e745a7e29ba207f75c66c45a52c35ead5970bbfaafdfba626a6ddceabc14e0f8a8c7d88a5772bba5287\n",
      "21c068b5a4c53400ec14d7959c94861c6ec663f643fd783c49f67a496a9017a5f6c5\n"
     ]
    }
   ],
   "source": [
    "def print_witnesses(wits):\n",
    "    print(size_compact_size(len(wits)).hex())\n",
    "    for witness in wits:\n",
    "        print(size_compact_size(len(witness)).hex() + witness.hex())\n",
    "        \n",
    "print_witnesses(wits)"
   ]
  },
  {
   "cell_type": "code",
   "execution_count": 156,
   "id": "d3345016",
   "metadata": {},
   "outputs": [
    {
     "data": {
      "text/plain": [
       "'050040774ae7f858a9411e5ef4246b70c65aac5649980be5c17891bbec17895da008cb50f2be29d7810fdd3611c4ae434efa2b916ee85a5df0073c322123fca900b92d40a0434d9e47f3c86235477c7b1ae6ae5d3442d49b1943c2b752a68e2a47e247c72fe25357c88ac753ab51ef75588b7a2ed0283a0100187d8ac9c6a674e3ffa21d68209e6d1d11b101055620cbf7a8bfda75ac1fac813a96608f9c59eac485c16b9f1fac20d811d8c4323b43702607c25ade936c0ac2e4a44b2ba51f8320c5179e745a7e29ba207f75c66c45a52c35ead5970bbfaafdfba626a6ddceabc14e0f8a8c7d88a5772bba528721c068b5a4c53400ec14d7959c94861c6ec663f643fd783c49f67a496a9017a5f6c5'"
      ]
     },
     "execution_count": 156,
     "metadata": {},
     "output_type": "execute_result"
    }
   ],
   "source": [
    "def build_witness_str(wits):\n",
    "    wit_str = size_compact_size(len(wits)).hex()\n",
    "    for witness in wits:\n",
    "        wit_str += size_compact_size(len(witness)).hex() + witness.hex()\n",
    "    return wit_str\n",
    "\n",
    "build_witness_str(wits)"
   ]
  },
  {
   "cell_type": "code",
   "execution_count": 157,
   "id": "33ef56d8",
   "metadata": {},
   "outputs": [
    {
     "data": {
      "text/plain": [
       "'020000000001013336eeea95e71c3dfb51096eda44467582f930bdf961be9f8f0540be146abeba0100000000fdffffff0170dff505000000002251207e2e49a3355f2b81428a6161860f7faf16cc312d18753198a52a78d34c5af4bf050040774ae7f858a9411e5ef4246b70c65aac5649980be5c17891bbec17895da008cb50f2be29d7810fdd3611c4ae434efa2b916ee85a5df0073c322123fca900b92d40a0434d9e47f3c86235477c7b1ae6ae5d3442d49b1943c2b752a68e2a47e247c72fe25357c88ac753ab51ef75588b7a2ed0283a0100187d8ac9c6a674e3ffa21d68209e6d1d11b101055620cbf7a8bfda75ac1fac813a96608f9c59eac485c16b9f1fac20d811d8c4323b43702607c25ade936c0ac2e4a44b2ba51f8320c5179e745a7e29ba207f75c66c45a52c35ead5970bbfaafdfba626a6ddceabc14e0f8a8c7d88a5772bba528721c068b5a4c53400ec14d7959c94861c6ec663f643fd783c49f67a496a9017a5f6c500000000'"
      ]
     },
     "execution_count": 157,
     "metadata": {},
     "output_type": "execute_result"
    }
   ],
   "source": [
    "block = f\"\"\"\n",
    "version: 02000000\n",
    "marker+flag: 0001\n",
    "inputs: 01\n",
    "    txid: 3336eeea95e71c3dfb51096eda44467582f930bdf961be9f8f0540be146abeba\n",
    "    vout: 01000000\n",
    "    scriptSig: 00\n",
    "    sequence: fdffffff\n",
    "outputs: 01\n",
    "    amount: 70dff50500000000\n",
    "    scriptPubKey: 2251207e2e49a3355f2b81428a6161860f7faf16cc312d18753198a52a78d34c5af4bf\n",
    "witnesses:\n",
    "    {build_witness_str(wits)}\n",
    "locktime: 00000000\n",
    "\"\"\"\n",
    "\n",
    "candidate_tx = cleanup_tx(block)\n",
    "candidate_tx"
   ]
  },
  {
   "cell_type": "code",
   "execution_count": 158,
   "id": "bfbf6e9f",
   "metadata": {},
   "outputs": [
    {
     "name": "stdout",
     "output_type": "stream",
     "text": [
      "{\n",
      "  \"txid\": \"0af9eba1fcf5563225835226c476866049becb1eabb7de3bfc07639cb9c161c5\",\n",
      "  \"hash\": \"86d5c7ba5f24284fe686a8b75a99d05e7ec53b73fab5ff20e7f975f3afff7467\",\n",
      "  \"version\": 2,\n",
      "  \"size\": 367,\n",
      "  \"vsize\": 163,\n",
      "  \"weight\": 649,\n",
      "  \"locktime\": 0,\n",
      "  \"vin\": [\n",
      "    {\n",
      "      \"txid\": \"babe6a14be40058f9fbe61f9bd30f982754644da6e0951fb3d1ce795eaee3633\",\n",
      "      \"vout\": 1,\n",
      "      \"scriptSig\": {\n",
      "        \"asm\": \"\",\n",
      "        \"hex\": \"\"\n",
      "      },\n",
      "      \"txinwitness\": [\n",
      "        \"\",\n",
      "        \"774ae7f858a9411e5ef4246b70c65aac5649980be5c17891bbec17895da008cb50f2be29d7810fdd3611c4ae434efa2b916ee85a5df0073c322123fca900b92d\",\n",
      "        \"a0434d9e47f3c86235477c7b1ae6ae5d3442d49b1943c2b752a68e2a47e247c72fe25357c88ac753ab51ef75588b7a2ed0283a0100187d8ac9c6a674e3ffa21d\",\n",
      "        \"209e6d1d11b101055620cbf7a8bfda75ac1fac813a96608f9c59eac485c16b9f1fac20d811d8c4323b43702607c25ade936c0ac2e4a44b2ba51f8320c5179e745a7e29ba207f75c66c45a52c35ead5970bbfaafdfba626a6ddceabc14e0f8a8c7d88a5772bba5287\",\n",
      "        \"c068b5a4c53400ec14d7959c94861c6ec663f643fd783c49f67a496a9017a5f6c5\"\n",
      "      ],\n",
      "      \"sequence\": 4294967293\n",
      "    }\n",
      "  ],\n",
      "  \"vout\": [\n",
      "    {\n",
      "      \"value\": 0.99999600,\n",
      "      \"n\": 0,\n",
      "      \"scriptPubKey\": {\n",
      "        \"asm\": \"1 7e2e49a3355f2b81428a6161860f7faf16cc312d18753198a52a78d34c5af4bf\",\n",
      "        \"desc\": \"rawtr(7e2e49a3355f2b81428a6161860f7faf16cc312d18753198a52a78d34c5af4bf)#qs5vqky3\",\n",
      "        \"hex\": \"51207e2e49a3355f2b81428a6161860f7faf16cc312d18753198a52a78d34c5af4bf\",\n",
      "        \"address\": \"bcrt1p0chynge4tu4czs52v9scvrml4utvcvfdrp6nrx999fudxnz67jlsajln37\",\n",
      "        \"type\": \"witness_v1_taproot\"\n",
      "      }\n",
      "    }\n",
      "  ]\n",
      "}\n"
     ]
    }
   ],
   "source": [
    "!bitcoin-cli -regtest decoderawtransaction \"$candidate_tx\""
   ]
  },
  {
   "cell_type": "code",
   "execution_count": 159,
   "id": "5817afbe",
   "metadata": {
    "scrolled": true
   },
   "outputs": [
    {
     "name": "stdout",
     "output_type": "stream",
     "text": [
      "[\n",
      "  {\n",
      "    \"txid\": \"0af9eba1fcf5563225835226c476866049becb1eabb7de3bfc07639cb9c161c5\",\n",
      "    \"wtxid\": \"86d5c7ba5f24284fe686a8b75a99d05e7ec53b73fab5ff20e7f975f3afff7467\",\n",
      "    \"allowed\": true,\n",
      "    \"vsize\": 163,\n",
      "    \"fees\": {\n",
      "      \"base\": 0.00000400,\n",
      "      \"effective-feerate\": 0.00002453,\n",
      "      \"effective-includes\": [\n",
      "        \"86d5c7ba5f24284fe686a8b75a99d05e7ec53b73fab5ff20e7f975f3afff7467\"\n",
      "      ]\n",
      "    }\n",
      "  }\n",
      "]\n"
     ]
    }
   ],
   "source": [
    "!bitcoin-cli -regtest testmempoolaccept '[\"'\"$candidate_tx\"'\"]'"
   ]
  },
  {
   "cell_type": "code",
   "execution_count": null,
   "id": "3391521f",
   "metadata": {},
   "outputs": [],
   "source": []
  },
  {
   "cell_type": "code",
   "execution_count": null,
   "id": "6db6125e-cb98-40aa-977d-8a8a2a6f58fc",
   "metadata": {},
   "outputs": [],
   "source": []
  },
  {
   "cell_type": "code",
   "execution_count": null,
   "id": "3f1c0364-bcc2-4938-b86e-69d0692dd8c8",
   "metadata": {},
   "outputs": [],
   "source": []
  }
 ],
 "metadata": {
  "kernelspec": {
   "display_name": "Python 3 (ipykernel)",
   "language": "python",
   "name": "python3"
  },
  "language_info": {
   "codemirror_mode": {
    "name": "ipython",
    "version": 3
   },
   "file_extension": ".py",
   "mimetype": "text/x-python",
   "name": "python",
   "nbconvert_exporter": "python",
   "pygments_lexer": "ipython3",
   "version": "3.11.5"
  }
 },
 "nbformat": 4,
 "nbformat_minor": 5
}
