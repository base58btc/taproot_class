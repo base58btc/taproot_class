{
 "cells": [
  {
   "cell_type": "markdown",
   "id": "2afb669f",
   "metadata": {},
   "source": [
    "# Background on Taproot\n",
    "\n",
    "## Where does \"taproot\" come from?\n",
    "\n",
    "Taproot is a series of bitcoin BIPS (bitcoin improvement proposals) that were merged into bitcoin-core in 2021.\n",
    "\n",
    "It was most recent bitcoin soft-fork and it went live in November 2021.\n",
    "\n",
    "The BIPS can be found on github. They are as follows:\n",
    "\n",
    "- BIP340, Schnorr Signatures https://github.com/bitcoin/bips/blob/master/bip-0340.mediawiki\n",
    "- BIP341, Taproot Segwit v1 https://github.com/bitcoin/bips/blob/master/bip-0341.mediawiki\n",
    "- BIP342, Validating Taproot Spends https://github.com/bitcoin/bips/blob/master/bip-0342.mediawiki\n",
    "- BIP350, Bech32m https://github.com/bitcoin/bips/blob/master/bip-0350.mediawiki"
   ]
  },
  {
   "cell_type": "markdown",
   "id": "14a02606",
   "metadata": {},
   "source": [
    "## What did \"taproot\" change?\n",
    "\n",
    "Taproot added and modified many things in bitcoin. Including\n",
    "\n",
    "- A new signature algorithm (Schnorr)\n",
    "- A new version of Script opcodes (Segwit v1)\n",
    "- A new bitcoin address checksum (bech32m)\n",
    "- Removed some opcodes we know and love (OP_CHECKMULTISIG)\n",
    "- Added a new opcode (OP_CHECKSIGADD)\n",
    "- Added a new scripthash algorithm"
   ]
  },
  {
   "cell_type": "markdown",
   "id": "59c11a6f",
   "metadata": {},
   "source": [
    "# Finding Taproot in the Wild\n",
    "\n",
    "Let's go to mempool.space and find some taproot addresses in the wild!\n",
    "\n",
    "\n",
    "\n",
    "## How to spot a taproot address\n",
    "\n",
    "The bech32 address has a `p` immediately following the `1`\n",
    "\n",
    "Find a taproot address on mempool dot space.\n",
    "\n",
    "What's the \"Type\" for this address?\n",
    "\n",
    "\n",
    "Copy paste the \"ScriptPubKey (HEX)\" for the address you found into the pyblock below."
   ]
  },
  {
   "cell_type": "code",
   "execution_count": 2,
   "id": "1fbc845c",
   "metadata": {},
   "outputs": [],
   "source": [
    "scriptpubkey = \"\""
   ]
  },
  {
   "cell_type": "code",
   "execution_count": 3,
   "id": "a482867e",
   "metadata": {},
   "outputs": [
    {
     "name": "stdout",
     "output_type": "stream",
     "text": [
      "51208fe72845dafd109cefa18fe63c75a3df7c828c2cebd5eb46024dd86ee2ad9b21\n"
     ]
    }
   ],
   "source": [
    "print(scriptpubkey)"
   ]
  },
  {
   "cell_type": "markdown",
   "id": "b3faafb0",
   "metadata": {},
   "source": [
    "This is a series of opcodes. If you pass this to `bitcoin-cli decodescript` what does it print back as the asm?"
   ]
  },
  {
   "cell_type": "code",
   "execution_count": 5,
   "id": "bc473f18",
   "metadata": {},
   "outputs": [],
   "source": [
    "output = {\n",
    "  \"asm\": \"1 8fe72845dafd109cefa18fe63c75a3df7c828c2cebd5eb46024dd86ee2ad9b21\",\n",
    "  \"desc\": \"rawtr(8fe72845dafd109cefa18fe63c75a3df7c828c2cebd5eb46024dd86ee2ad9b21)#3hn678ar\",\n",
    "  \"address\": \"bcrt1p3lnjs3w6l5gfemap3lnrcadrma7g9rpva027k3szfhvxac4dnvss6rwn89\",\n",
    "  \"type\": \"witness_v1_taproot\"\n",
    "}"
   ]
  },
  {
   "cell_type": "code",
   "execution_count": 6,
   "id": "87353851",
   "metadata": {},
   "outputs": [
    {
     "name": "stdout",
     "output_type": "stream",
     "text": [
      "1 8fe72845dafd109cefa18fe63c75a3df7c828c2cebd5eb46024dd86ee2ad9b21\n"
     ]
    }
   ],
   "source": [
    "print(output['asm'])"
   ]
  },
  {
   "cell_type": "code",
   "execution_count": 8,
   "id": "c6b080c6",
   "metadata": {},
   "outputs": [
    {
     "name": "stdout",
     "output_type": "stream",
     "text": [
      "witness_v1_taproot\n"
     ]
    }
   ],
   "source": [
    "print(output['type'])"
   ]
  },
  {
   "cell_type": "markdown",
   "id": "f1993a06",
   "metadata": {},
   "source": [
    "## Let's Get Familiar With The Tools!"
   ]
  },
  {
   "cell_type": "code",
   "execution_count": 30,
   "id": "7981b44b",
   "metadata": {},
   "outputs": [],
   "source": [
    "from codes import parse_tx_bytes\n",
    "\n",
    "tx = \"\""
   ]
  },
  {
   "cell_type": "code",
   "execution_count": 31,
   "id": "a707117c",
   "metadata": {},
   "outputs": [
    {
     "ename": "IndexError",
     "evalue": "index out of range",
     "output_type": "error",
     "traceback": [
      "\u001b[0;31m---------------------------------------------------------------------------\u001b[0m",
      "\u001b[0;31mIndexError\u001b[0m                                Traceback (most recent call last)",
      "Input \u001b[0;32mIn [31]\u001b[0m, in \u001b[0;36m<cell line: 1>\u001b[0;34m()\u001b[0m\n\u001b[0;32m----> 1\u001b[0m \u001b[38;5;28mprint\u001b[39m(parse_tx_bytes(tx))\n",
      "File \u001b[0;32m~/dev/taproots/jupyter/codes.py:71\u001b[0m, in \u001b[0;36mparse_tx_bytes\u001b[0;34m(tx_hex)\u001b[0m\n\u001b[1;32m     68\u001b[0m tx[\u001b[38;5;124m'\u001b[39m\u001b[38;5;124mversion\u001b[39m\u001b[38;5;124m'\u001b[39m] \u001b[38;5;241m=\u001b[39m tx_bytes[\u001b[38;5;241m0\u001b[39m:\u001b[38;5;241m4\u001b[39m]\n\u001b[1;32m     69\u001b[0m ptr \u001b[38;5;241m+\u001b[39m\u001b[38;5;241m=\u001b[39m \u001b[38;5;241m4\u001b[39m\n\u001b[0;32m---> 71\u001b[0m \u001b[38;5;28;01mif\u001b[39;00m \u001b[43mtx_bytes\u001b[49m\u001b[43m[\u001b[49m\u001b[43mptr\u001b[49m\u001b[43m]\u001b[49m \u001b[38;5;241m==\u001b[39m \u001b[38;5;241m0x00\u001b[39m:\n\u001b[1;32m     72\u001b[0m   \u001b[38;5;28;01massert\u001b[39;00m tx_bytes[ptr\u001b[38;5;241m+\u001b[39m\u001b[38;5;241m1\u001b[39m] \u001b[38;5;241m==\u001b[39m \u001b[38;5;241m0x01\u001b[39m\n\u001b[1;32m     73\u001b[0m   tx[\u001b[38;5;124m'\u001b[39m\u001b[38;5;124mmarker_flag\u001b[39m\u001b[38;5;124m'\u001b[39m] \u001b[38;5;241m=\u001b[39m \u001b[38;5;28mbytes\u001b[39m([\u001b[38;5;241m0x00\u001b[39m, \u001b[38;5;241m0x01\u001b[39m])\n",
      "\u001b[0;31mIndexError\u001b[0m: index out of range"
     ]
    }
   ],
   "source": [
    "print(parse_tx_bytes(tx))"
   ]
  },
  {
   "cell_type": "code",
   "execution_count": 32,
   "id": "60495adf",
   "metadata": {},
   "outputs": [],
   "source": [
    "from pprint import pprint"
   ]
  },
  {
   "cell_type": "code",
   "execution_count": 33,
   "id": "e2483209",
   "metadata": {},
   "outputs": [
    {
     "ename": "IndexError",
     "evalue": "index out of range",
     "output_type": "error",
     "traceback": [
      "\u001b[0;31m---------------------------------------------------------------------------\u001b[0m",
      "\u001b[0;31mIndexError\u001b[0m                                Traceback (most recent call last)",
      "Input \u001b[0;32mIn [33]\u001b[0m, in \u001b[0;36m<cell line: 1>\u001b[0;34m()\u001b[0m\n\u001b[0;32m----> 1\u001b[0m pprint(parse_tx_bytes(tx))\n",
      "File \u001b[0;32m~/dev/taproots/jupyter/codes.py:71\u001b[0m, in \u001b[0;36mparse_tx_bytes\u001b[0;34m(tx_hex)\u001b[0m\n\u001b[1;32m     68\u001b[0m tx[\u001b[38;5;124m'\u001b[39m\u001b[38;5;124mversion\u001b[39m\u001b[38;5;124m'\u001b[39m] \u001b[38;5;241m=\u001b[39m tx_bytes[\u001b[38;5;241m0\u001b[39m:\u001b[38;5;241m4\u001b[39m]\n\u001b[1;32m     69\u001b[0m ptr \u001b[38;5;241m+\u001b[39m\u001b[38;5;241m=\u001b[39m \u001b[38;5;241m4\u001b[39m\n\u001b[0;32m---> 71\u001b[0m \u001b[38;5;28;01mif\u001b[39;00m \u001b[43mtx_bytes\u001b[49m\u001b[43m[\u001b[49m\u001b[43mptr\u001b[49m\u001b[43m]\u001b[49m \u001b[38;5;241m==\u001b[39m \u001b[38;5;241m0x00\u001b[39m:\n\u001b[1;32m     72\u001b[0m   \u001b[38;5;28;01massert\u001b[39;00m tx_bytes[ptr\u001b[38;5;241m+\u001b[39m\u001b[38;5;241m1\u001b[39m] \u001b[38;5;241m==\u001b[39m \u001b[38;5;241m0x01\u001b[39m\n\u001b[1;32m     73\u001b[0m   tx[\u001b[38;5;124m'\u001b[39m\u001b[38;5;124mmarker_flag\u001b[39m\u001b[38;5;124m'\u001b[39m] \u001b[38;5;241m=\u001b[39m \u001b[38;5;28mbytes\u001b[39m([\u001b[38;5;241m0x00\u001b[39m, \u001b[38;5;241m0x01\u001b[39m])\n",
      "\u001b[0;31mIndexError\u001b[0m: index out of range"
     ]
    }
   ],
   "source": [
    "pprint(parse_tx_bytes(tx))"
   ]
  },
  {
   "cell_type": "markdown",
   "id": "ee733acc",
   "metadata": {},
   "source": [
    "First things first, let's update the `parse_tx_bytes` method to be able to handle segwit (any version) transactions."
   ]
  },
  {
   "cell_type": "code",
   "execution_count": 28,
   "id": "020ab911",
   "metadata": {},
   "outputs": [],
   "source": [
    "from codes import parse_compact_size, parse_input_bytes, parse_output_bytes\n",
    "\n",
    "def parse_tx_bytes_mine(tx_hex):\n",
    "  tx_bytes = bytes.fromhex(tx_hex)\n",
    "\n",
    "  tx = {}\n",
    "  ptr = 0\n",
    "  tx['version'] = tx_bytes[0:4]\n",
    "  ptr += 4\n",
    "\n",
    "  if tx_bytes[ptr] == 0x00:\n",
    "    assert tx_bytes[ptr+1] == 0x01\n",
    "    tx['marker_flag'] = bytes([0x00, 0x01])\n",
    "    ptr += 2\n",
    "\n",
    "  count, size = parse_compact_size(tx_bytes[ptr:])\n",
    "  ptr += size \n",
    "  tx['inputs'] = []\n",
    "  for _ in range(0, count):\n",
    "    inputx, size = parse_input_bytes(tx_bytes[ptr:])\n",
    "    ptr += size\n",
    "    tx['inputs'].append(inputx)\n",
    " \n",
    "  count, size = parse_compact_size(tx_bytes[ptr:])\n",
    "  ptr += size\n",
    "  tx['outputs'] = []\n",
    "  for _ in range(0, count):\n",
    "    outputx, size = parse_output_bytes(tx_bytes[ptr:])\n",
    "    ptr += size\n",
    "    tx['outputs'].append(outputx)\n",
    "\n",
    "  if 'marker_flag' in tx:\n",
    "    tx['witnesses'] = []\n",
    "    for _ in range(0, len(tx['inputs'])):\n",
    "        witness, size = parse_witness_bytes(tx_bytes[ptr:])\n",
    "        ptr += size\n",
    "        tx['witnesses'].append(witness)\n",
    "\n",
    "  tx['locktime'] = tx_bytes[ptr:]\n",
    "  return tx"
   ]
  },
  {
   "cell_type": "code",
   "execution_count": 23,
   "id": "9ece766e",
   "metadata": {},
   "outputs": [],
   "source": [
    "tx_again = \"02000000000101bcf90bb3d161537bed5a5c2eecbbff1c525acebfc6bd46cfb98573fd49ed06311903000000fffffffd014a010000000000002251208fe72845dafd109cefa18fe63c75a3df7c828c2cebd5eb46024dd86ee2ad9b21034077d25c310bf96107938952de14d80bec0639c158904acd16c6bab8d4bdfbf7f30b25856cbfa79df5f22f1e4f2047cc7840bd5afec6b4fe66a7eef7c9e178a1da6b20b4a6bf508005c4a95fa7494da1d1b756ac225b1ba160bfb4087db71b4bfd779cac0063036f726401010a746578742f706c61696e00337b2270223a226272632d3230222c226f70223a226d696e74222c227469636b223a2262656172222c22616d74223a223130227d6821c1b4a6bf508005c4a95fa7494da1d1b756ac225b1ba160bfb4087db71b4bfd779c00000000\""
   ]
  },
  {
   "cell_type": "code",
   "execution_count": 37,
   "id": "e1f2fc42",
   "metadata": {
    "scrolled": true
   },
   "outputs": [
    {
     "name": "stdout",
     "output_type": "stream",
     "text": [
      "{'inputs': [{'scriptSig': b'',\n",
      "             'sequence': b'\\xff\\xff\\xff\\xfd',\n",
      "             'txid': b'\\xbc\\xf9\\x0b\\xb3\\xd1aS{\\xedZ\\\\.\\xec\\xbb\\xff\\x1c'\n",
      "                     b'RZ\\xce\\xbf\\xc6\\xbdF\\xcf\\xb9\\x85s\\xfdI\\xed\\x061',\n",
      "             'vout': b'\\x19\\x03\\x00\\x00'}],\n",
      " 'locktime': b'@w\\xd2\\\\1\\x0b\\xf9a\\x07\\x93\\x89R\\xde\\x14\\xd8\\x0b\\xec\\x069\\xc1'\n",
      "             b'X\\x90J\\xcd\\x16\\xc6\\xba\\xb8\\xd4\\xbd\\xfb\\xf7\\xf3\\x0b%\\x85'\n",
      "             b'l\\xbf\\xa7\\x9d\\xf5\\xf2/\\x1eO G\\xccx@\\xbdZ\\xfe\\xc6\\xb4\\xfe'\n",
      "             b'f\\xa7\\xee\\xf7\\xc9\\xe1x\\xa1\\xdak \\xb4\\xa6\\xbfP\\x80\\x05\\xc4\\xa9_'\n",
      "             b'\\xa7IM\\xa1\\xd1\\xb7V\\xac\"[\\x1b\\xa1`\\xbf\\xb4\\x08}\\xb7\\x1bK'\n",
      "             b'\\xfdw\\x9c\\xac\\x00c\\x03ord\\x01\\x01\\ntext/plain\\x003{\"p\":\"brc-2'\n",
      "             b'0\",\"op\":\"mint\",\"tick\":\"bear\",\"amt\":\"10\"}h!\\xc1\\xb4\\xa6\\xbfP\\x80'\n",
      "             b'\\x05\\xc4\\xa9_\\xa7IM\\xa1\\xd1\\xb7V\\xac\"[\\x1b\\xa1`\\xbf\\xb4\\x08'\n",
      "             b'}\\xb7\\x1bK\\xfdw\\x9c\\x00\\x00\\x00\\x00',\n",
      " 'marker_flag': b'\\x00\\x01',\n",
      " 'outputs': [{'amount': b'J\\x01\\x00\\x00\\x00\\x00\\x00\\x00',\n",
      "              'scriptPubKey': b'Q \\x8f\\xe7(E\\xda\\xfd\\x10\\x9c\\xef\\xa1\\x8f\\xe6<u'\n",
      "                              b'\\xa3\\xdf|\\x82\\x8c,\\xeb\\xd5\\xebF\\x02M'\n",
      "                              b'\\xd8n\\xe2\\xad\\x9b!'}],\n",
      " 'version': b'\\x02\\x00\\x00\\x00',\n",
      " 'witnesses': [{'elements': []}]}\n"
     ]
    }
   ],
   "source": [
    "pprint(parse_tx_bytes_mine(tx_again))"
   ]
  },
  {
   "cell_type": "code",
   "execution_count": 36,
   "id": "1bd41d00",
   "metadata": {
    "scrolled": false
   },
   "outputs": [],
   "source": [
    "def parse_witness_bytes(data):\n",
    "    return {'elements': []}, 1"
   ]
  },
  {
   "cell_type": "code",
   "execution_count": null,
   "id": "f4c31597",
   "metadata": {},
   "outputs": [],
   "source": []
  }
 ],
 "metadata": {
  "kernelspec": {
   "display_name": "Python 3 (ipykernel)",
   "language": "python",
   "name": "python3"
  },
  "language_info": {
   "codemirror_mode": {
    "name": "ipython",
    "version": 3
   },
   "file_extension": ".py",
   "mimetype": "text/x-python",
   "name": "python",
   "nbconvert_exporter": "python",
   "pygments_lexer": "ipython3",
   "version": "3.10.5"
  }
 },
 "nbformat": 4,
 "nbformat_minor": 5
}
